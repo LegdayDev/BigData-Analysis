{
 "cells": [
  {
   "cell_type": "markdown",
   "metadata": {},
   "source": [
    "## 빅데이터 실습\n",
    "\n",
    "### COVID19, 코로나 바이러스의 영향으로 중국인 관광객이 얼마나 줄었을까?\n",
    "\n",
    "#### 데이터 수집\n",
    "- 한국관광공사, [한국관광 데이터랩](https://datalab.visitkorea.or.kr/datalab/portal/main/getMainForm.do) 데이터 \n",
    "- 수집은 패스, 실습자료로 대체\n",
    "\n",
    "#### 데이터 로드 및 전처리\n",
    "- 분석전에 제일 중요한 단계. 데이터 분석의 8할은 데이터 전처리다.\n",
    "- Data Preprocessing : 분석에 적합하도록 원하는(쉬운) 형태로 데이터를 가공과정\n",
    "    - 결측치(None, Null, Nan) 처리, 이상치 처리, 변수 정규화, 파생변수 생성\n",
    "\n",
    "##### 엑셀파일 로드"
   ]
  },
  {
   "cell_type": "code",
   "execution_count": 1,
   "metadata": {
    "ExecuteTime": {
     "end_time": "2024-03-13T00:14:18.231357Z",
     "start_time": "2024-03-13T00:14:18.229853Z"
    }
   },
   "outputs": [],
   "source": [
    "# 판다스 사용등록\n",
    "import pandas as pd"
   ]
  },
  {
   "cell_type": "code",
   "execution_count": 2,
   "metadata": {
    "ExecuteTime": {
     "end_time": "2024-03-13T00:14:18.345469Z",
     "start_time": "2024-03-13T00:14:18.232026Z"
    }
   },
   "outputs": [
    {
     "data": {
      "text/plain": "         국적      관광     상용    공용  유학/연수      기타       계\n0      아시아주  765082  10837  1423  14087  125521  916950\n1        일본  198805   2233   127    785    4576  206526\n2        대만   86393     74    22    180    1285   87954\n3        홍콩   34653     59     2     90    1092   35896\n4       마카오    2506      2     0     17      45    2570\n..      ...     ...    ...   ...    ...     ...     ...\n62  아프리카 기타     768    718    90    206     908    2690\n63     기타대륙      33      4     0      1      16      54\n64     국적미상      33      4     0      1      16      54\n65     교포소계       0      0     0      0   15526   15526\n66       교포       0      0     0      0   15526   15526\n\n[67 rows x 7 columns]",
      "text/html": "<div>\n<style scoped>\n    .dataframe tbody tr th:only-of-type {\n        vertical-align: middle;\n    }\n\n    .dataframe tbody tr th {\n        vertical-align: top;\n    }\n\n    .dataframe thead th {\n        text-align: right;\n    }\n</style>\n<table border=\"1\" class=\"dataframe\">\n  <thead>\n    <tr style=\"text-align: right;\">\n      <th></th>\n      <th>국적</th>\n      <th>관광</th>\n      <th>상용</th>\n      <th>공용</th>\n      <th>유학/연수</th>\n      <th>기타</th>\n      <th>계</th>\n    </tr>\n  </thead>\n  <tbody>\n    <tr>\n      <th>0</th>\n      <td>아시아주</td>\n      <td>765082</td>\n      <td>10837</td>\n      <td>1423</td>\n      <td>14087</td>\n      <td>125521</td>\n      <td>916950</td>\n    </tr>\n    <tr>\n      <th>1</th>\n      <td>일본</td>\n      <td>198805</td>\n      <td>2233</td>\n      <td>127</td>\n      <td>785</td>\n      <td>4576</td>\n      <td>206526</td>\n    </tr>\n    <tr>\n      <th>2</th>\n      <td>대만</td>\n      <td>86393</td>\n      <td>74</td>\n      <td>22</td>\n      <td>180</td>\n      <td>1285</td>\n      <td>87954</td>\n    </tr>\n    <tr>\n      <th>3</th>\n      <td>홍콩</td>\n      <td>34653</td>\n      <td>59</td>\n      <td>2</td>\n      <td>90</td>\n      <td>1092</td>\n      <td>35896</td>\n    </tr>\n    <tr>\n      <th>4</th>\n      <td>마카오</td>\n      <td>2506</td>\n      <td>2</td>\n      <td>0</td>\n      <td>17</td>\n      <td>45</td>\n      <td>2570</td>\n    </tr>\n    <tr>\n      <th>...</th>\n      <td>...</td>\n      <td>...</td>\n      <td>...</td>\n      <td>...</td>\n      <td>...</td>\n      <td>...</td>\n      <td>...</td>\n    </tr>\n    <tr>\n      <th>62</th>\n      <td>아프리카 기타</td>\n      <td>768</td>\n      <td>718</td>\n      <td>90</td>\n      <td>206</td>\n      <td>908</td>\n      <td>2690</td>\n    </tr>\n    <tr>\n      <th>63</th>\n      <td>기타대륙</td>\n      <td>33</td>\n      <td>4</td>\n      <td>0</td>\n      <td>1</td>\n      <td>16</td>\n      <td>54</td>\n    </tr>\n    <tr>\n      <th>64</th>\n      <td>국적미상</td>\n      <td>33</td>\n      <td>4</td>\n      <td>0</td>\n      <td>1</td>\n      <td>16</td>\n      <td>54</td>\n    </tr>\n    <tr>\n      <th>65</th>\n      <td>교포소계</td>\n      <td>0</td>\n      <td>0</td>\n      <td>0</td>\n      <td>0</td>\n      <td>15526</td>\n      <td>15526</td>\n    </tr>\n    <tr>\n      <th>66</th>\n      <td>교포</td>\n      <td>0</td>\n      <td>0</td>\n      <td>0</td>\n      <td>0</td>\n      <td>15526</td>\n      <td>15526</td>\n    </tr>\n  </tbody>\n</table>\n<p>67 rows × 7 columns</p>\n</div>"
     },
     "execution_count": 2,
     "metadata": {},
     "output_type": "execute_result"
    }
   ],
   "source": [
    "## 1. 엑셀파일 경로지정. 읽어오기\n",
    "kto_201901 = pd.read_excel('./data/kto_201901.xlsx', header=1, usecols='A:G', skipfooter=4)\n",
    "kto_201901"
   ]
  },
  {
   "cell_type": "code",
   "execution_count": 3,
   "metadata": {
    "ExecuteTime": {
     "end_time": "2024-03-13T00:14:18.350150Z",
     "start_time": "2024-03-13T00:14:18.346898Z"
    }
   },
   "outputs": [
    {
     "data": {
      "text/plain": "     국적      관광     상용    공용  유학/연수      기타       계\n0  아시아주  765082  10837  1423  14087  125521  916950\n1    일본  198805   2233   127    785    4576  206526\n2    대만   86393     74    22    180    1285   87954\n3    홍콩   34653     59     2     90    1092   35896\n4   마카오    2506      2     0     17      45    2570",
      "text/html": "<div>\n<style scoped>\n    .dataframe tbody tr th:only-of-type {\n        vertical-align: middle;\n    }\n\n    .dataframe tbody tr th {\n        vertical-align: top;\n    }\n\n    .dataframe thead th {\n        text-align: right;\n    }\n</style>\n<table border=\"1\" class=\"dataframe\">\n  <thead>\n    <tr style=\"text-align: right;\">\n      <th></th>\n      <th>국적</th>\n      <th>관광</th>\n      <th>상용</th>\n      <th>공용</th>\n      <th>유학/연수</th>\n      <th>기타</th>\n      <th>계</th>\n    </tr>\n  </thead>\n  <tbody>\n    <tr>\n      <th>0</th>\n      <td>아시아주</td>\n      <td>765082</td>\n      <td>10837</td>\n      <td>1423</td>\n      <td>14087</td>\n      <td>125521</td>\n      <td>916950</td>\n    </tr>\n    <tr>\n      <th>1</th>\n      <td>일본</td>\n      <td>198805</td>\n      <td>2233</td>\n      <td>127</td>\n      <td>785</td>\n      <td>4576</td>\n      <td>206526</td>\n    </tr>\n    <tr>\n      <th>2</th>\n      <td>대만</td>\n      <td>86393</td>\n      <td>74</td>\n      <td>22</td>\n      <td>180</td>\n      <td>1285</td>\n      <td>87954</td>\n    </tr>\n    <tr>\n      <th>3</th>\n      <td>홍콩</td>\n      <td>34653</td>\n      <td>59</td>\n      <td>2</td>\n      <td>90</td>\n      <td>1092</td>\n      <td>35896</td>\n    </tr>\n    <tr>\n      <th>4</th>\n      <td>마카오</td>\n      <td>2506</td>\n      <td>2</td>\n      <td>0</td>\n      <td>17</td>\n      <td>45</td>\n      <td>2570</td>\n    </tr>\n  </tbody>\n</table>\n</div>"
     },
     "execution_count": 3,
     "metadata": {},
     "output_type": "execute_result"
    }
   ],
   "source": [
    "kto_201901.head()"
   ]
  },
  {
   "cell_type": "code",
   "execution_count": 4,
   "metadata": {
    "ExecuteTime": {
     "end_time": "2024-03-13T00:14:18.354156Z",
     "start_time": "2024-03-13T00:14:18.350745Z"
    }
   },
   "outputs": [
    {
     "data": {
      "text/plain": "         국적   관광   상용  공용  유학/연수     기타      계\n62  아프리카 기타  768  718  90    206    908   2690\n63     기타대륙   33    4   0      1     16     54\n64     국적미상   33    4   0      1     16     54\n65     교포소계    0    0   0      0  15526  15526\n66       교포    0    0   0      0  15526  15526",
      "text/html": "<div>\n<style scoped>\n    .dataframe tbody tr th:only-of-type {\n        vertical-align: middle;\n    }\n\n    .dataframe tbody tr th {\n        vertical-align: top;\n    }\n\n    .dataframe thead th {\n        text-align: right;\n    }\n</style>\n<table border=\"1\" class=\"dataframe\">\n  <thead>\n    <tr style=\"text-align: right;\">\n      <th></th>\n      <th>국적</th>\n      <th>관광</th>\n      <th>상용</th>\n      <th>공용</th>\n      <th>유학/연수</th>\n      <th>기타</th>\n      <th>계</th>\n    </tr>\n  </thead>\n  <tbody>\n    <tr>\n      <th>62</th>\n      <td>아프리카 기타</td>\n      <td>768</td>\n      <td>718</td>\n      <td>90</td>\n      <td>206</td>\n      <td>908</td>\n      <td>2690</td>\n    </tr>\n    <tr>\n      <th>63</th>\n      <td>기타대륙</td>\n      <td>33</td>\n      <td>4</td>\n      <td>0</td>\n      <td>1</td>\n      <td>16</td>\n      <td>54</td>\n    </tr>\n    <tr>\n      <th>64</th>\n      <td>국적미상</td>\n      <td>33</td>\n      <td>4</td>\n      <td>0</td>\n      <td>1</td>\n      <td>16</td>\n      <td>54</td>\n    </tr>\n    <tr>\n      <th>65</th>\n      <td>교포소계</td>\n      <td>0</td>\n      <td>0</td>\n      <td>0</td>\n      <td>0</td>\n      <td>15526</td>\n      <td>15526</td>\n    </tr>\n    <tr>\n      <th>66</th>\n      <td>교포</td>\n      <td>0</td>\n      <td>0</td>\n      <td>0</td>\n      <td>0</td>\n      <td>15526</td>\n      <td>15526</td>\n    </tr>\n  </tbody>\n</table>\n</div>"
     },
     "execution_count": 4,
     "metadata": {},
     "output_type": "execute_result"
    }
   ],
   "source": [
    "kto_201901.tail()"
   ]
  },
  {
   "cell_type": "markdown",
   "metadata": {},
   "source": [
    "##### 데이터 탐색(전처리를 위한)"
   ]
  },
  {
   "cell_type": "code",
   "execution_count": 5,
   "metadata": {
    "ExecuteTime": {
     "end_time": "2024-03-13T00:14:18.358554Z",
     "start_time": "2024-03-13T00:14:18.354765Z"
    }
   },
   "outputs": [
    {
     "name": "stdout",
     "output_type": "stream",
     "text": [
      "<class 'pandas.core.frame.DataFrame'>\n",
      "RangeIndex: 67 entries, 0 to 66\n",
      "Data columns (total 7 columns):\n",
      " #   Column  Non-Null Count  Dtype \n",
      "---  ------  --------------  ----- \n",
      " 0   국적      67 non-null     object\n",
      " 1   관광      67 non-null     int64 \n",
      " 2   상용      67 non-null     int64 \n",
      " 3   공용      67 non-null     int64 \n",
      " 4   유학/연수   67 non-null     int64 \n",
      " 5   기타      67 non-null     int64 \n",
      " 6   계       67 non-null     int64 \n",
      "dtypes: int64(6), object(1)\n",
      "memory usage: 3.8+ KB\n"
     ]
    }
   ],
   "source": [
    "# DF 각 정보개요\n",
    "kto_201901.info()"
   ]
  },
  {
   "cell_type": "code",
   "execution_count": 6,
   "metadata": {
    "ExecuteTime": {
     "end_time": "2024-03-13T00:14:18.367627Z",
     "start_time": "2024-03-13T00:14:18.359188Z"
    }
   },
   "outputs": [
    {
     "data": {
      "text/plain": "                 관광            상용           공용         유학/연수             기타  \\\ncount      67.00000     67.000000    67.000000     67.000000      67.000000   \nmean    26396.80597    408.208955   132.507463    477.462687    5564.208955   \nstd    102954.04969   1416.040302   474.406339   2009.484800   17209.438418   \nmin         0.00000      0.000000     0.000000      0.000000      16.000000   \n25%       505.00000     14.500000     2.500000     17.500000     260.000000   \n50%      1304.00000     45.000000    14.000000     43.000000     912.000000   \n75%      8365.00000    176.500000    38.000000    182.000000    2824.500000   \nmax    765082.00000  10837.000000  2657.000000  14087.000000  125521.000000   \n\n                   계  \ncount      67.000000  \nmean    32979.194030  \nstd    122821.369969  \nmin        54.000000  \n25%       927.000000  \n50%      2695.000000  \n75%     14905.500000  \nmax    916950.000000  ",
      "text/html": "<div>\n<style scoped>\n    .dataframe tbody tr th:only-of-type {\n        vertical-align: middle;\n    }\n\n    .dataframe tbody tr th {\n        vertical-align: top;\n    }\n\n    .dataframe thead th {\n        text-align: right;\n    }\n</style>\n<table border=\"1\" class=\"dataframe\">\n  <thead>\n    <tr style=\"text-align: right;\">\n      <th></th>\n      <th>관광</th>\n      <th>상용</th>\n      <th>공용</th>\n      <th>유학/연수</th>\n      <th>기타</th>\n      <th>계</th>\n    </tr>\n  </thead>\n  <tbody>\n    <tr>\n      <th>count</th>\n      <td>67.00000</td>\n      <td>67.000000</td>\n      <td>67.000000</td>\n      <td>67.000000</td>\n      <td>67.000000</td>\n      <td>67.000000</td>\n    </tr>\n    <tr>\n      <th>mean</th>\n      <td>26396.80597</td>\n      <td>408.208955</td>\n      <td>132.507463</td>\n      <td>477.462687</td>\n      <td>5564.208955</td>\n      <td>32979.194030</td>\n    </tr>\n    <tr>\n      <th>std</th>\n      <td>102954.04969</td>\n      <td>1416.040302</td>\n      <td>474.406339</td>\n      <td>2009.484800</td>\n      <td>17209.438418</td>\n      <td>122821.369969</td>\n    </tr>\n    <tr>\n      <th>min</th>\n      <td>0.00000</td>\n      <td>0.000000</td>\n      <td>0.000000</td>\n      <td>0.000000</td>\n      <td>16.000000</td>\n      <td>54.000000</td>\n    </tr>\n    <tr>\n      <th>25%</th>\n      <td>505.00000</td>\n      <td>14.500000</td>\n      <td>2.500000</td>\n      <td>17.500000</td>\n      <td>260.000000</td>\n      <td>927.000000</td>\n    </tr>\n    <tr>\n      <th>50%</th>\n      <td>1304.00000</td>\n      <td>45.000000</td>\n      <td>14.000000</td>\n      <td>43.000000</td>\n      <td>912.000000</td>\n      <td>2695.000000</td>\n    </tr>\n    <tr>\n      <th>75%</th>\n      <td>8365.00000</td>\n      <td>176.500000</td>\n      <td>38.000000</td>\n      <td>182.000000</td>\n      <td>2824.500000</td>\n      <td>14905.500000</td>\n    </tr>\n    <tr>\n      <th>max</th>\n      <td>765082.00000</td>\n      <td>10837.000000</td>\n      <td>2657.000000</td>\n      <td>14087.000000</td>\n      <td>125521.000000</td>\n      <td>916950.000000</td>\n    </tr>\n  </tbody>\n</table>\n</div>"
     },
     "execution_count": 6,
     "metadata": {},
     "output_type": "execute_result"
    }
   ],
   "source": [
    "# DF의 각 통계치\n",
    "kto_201901.describe()"
   ]
  },
  {
   "cell_type": "code",
   "execution_count": 7,
   "metadata": {
    "ExecuteTime": {
     "end_time": "2024-03-13T00:14:18.370331Z",
     "start_time": "2024-03-13T00:14:18.368230Z"
    }
   },
   "outputs": [],
   "source": [
    "# 한번도 한국에 방문한적이 없는 대륙, 나라(목적별)\n",
    "# 문자열 여러줄, 논리연산 여러줄 작성 시는 \\ 붙여줌\n",
    "condition = (kto_201901['관광'] == 0) | (kto_201901['상용'] == 0) | \\\n",
    "            (kto_201901['공용'] == 0)  | (kto_201901['유학/연수'] == 0)"
   ]
  },
  {
   "cell_type": "code",
   "execution_count": 8,
   "metadata": {
    "ExecuteTime": {
     "end_time": "2024-03-13T00:14:18.410774Z",
     "start_time": "2024-03-13T00:14:18.371060Z"
    }
   },
   "outputs": [
    {
     "data": {
      "text/plain": "<pandas.io.formats.style.Styler at 0x164b22270>",
      "text/html": "<style type=\"text/css\">\n#T_3f741_row0_col1, #T_3f741_row0_col6, #T_3f741_row1_col6, #T_3f741_row18_col1, #T_3f741_row18_col6 {\n  background-color: #081d58;\n  color: #f1f1f1;\n}\n#T_3f741_row0_col2, #T_3f741_row11_col1 {\n  background-color: #f8fcc9;\n  color: #000000;\n}\n#T_3f741_row0_col3, #T_3f741_row1_col4, #T_3f741_row2_col5, #T_3f741_row3_col5, #T_3f741_row9_col5, #T_3f741_row10_col1, #T_3f741_row13_col5, #T_3f741_row13_col6, #T_3f741_row14_col6, #T_3f741_row15_col5, #T_3f741_row15_col6, #T_3f741_row20_col6, #T_3f741_row21_col1, #T_3f741_row21_col5, #T_3f741_row23_col5, #T_3f741_row24_col1, #T_3f741_row25_col1, #T_3f741_row29_col1, #T_3f741_row30_col1, #T_3f741_row31_col1, #T_3f741_row32_col2, #T_3f741_row32_col4, #T_3f741_row34_col5, #T_3f741_row35_col5, #T_3f741_row37_col1, #T_3f741_row37_col6, #T_3f741_row41_col6, #T_3f741_row44_col1, #T_3f741_row44_col6, #T_3f741_row47_col6, #T_3f741_row52_col6, #T_3f741_row54_col6, #T_3f741_row55_col5, #T_3f741_row57_col5, #T_3f741_row60_col1, #T_3f741_row60_col5, #T_3f741_row61_col6, #T_3f741_row62_col5 {\n  background-color: #feffd8;\n  color: #000000;\n}\n#T_3f741_row0_col4, #T_3f741_row7_col1, #T_3f741_row8_col1, #T_3f741_row57_col6 {\n  background-color: #f5fbc2;\n  color: #000000;\n}\n#T_3f741_row0_col5 {\n  background-color: #1d90c0;\n  color: #f1f1f1;\n}\n#T_3f741_row1_col1 {\n  background-color: #091e5a;\n  color: #f1f1f1;\n}\n#T_3f741_row1_col2, #T_3f741_row11_col4, #T_3f741_row12_col1, #T_3f741_row16_col5, #T_3f741_row21_col6, #T_3f741_row22_col1, #T_3f741_row23_col1, #T_3f741_row24_col6, #T_3f741_row29_col6, #T_3f741_row30_col6, #T_3f741_row31_col6, #T_3f741_row33_col5, #T_3f741_row36_col1, #T_3f741_row36_col6, #T_3f741_row39_col1, #T_3f741_row49_col5, #T_3f741_row49_col6, #T_3f741_row55_col1, #T_3f741_row56_col5, #T_3f741_row58_col1 {\n  background-color: #feffd6;\n  color: #000000;\n}\n#T_3f741_row1_col3, #T_3f741_row2_col2, #T_3f741_row2_col3, #T_3f741_row2_col4, #T_3f741_row3_col2, #T_3f741_row3_col3, #T_3f741_row3_col4, #T_3f741_row4_col2, #T_3f741_row4_col3, #T_3f741_row4_col4, #T_3f741_row4_col5, #T_3f741_row5_col2, #T_3f741_row5_col3, #T_3f741_row5_col4, #T_3f741_row6_col2, #T_3f741_row6_col3, #T_3f741_row6_col4, #T_3f741_row7_col2, #T_3f741_row7_col3, #T_3f741_row7_col4, #T_3f741_row8_col2, #T_3f741_row8_col3, #T_3f741_row8_col4, #T_3f741_row9_col2, #T_3f741_row9_col3, #T_3f741_row9_col4, #T_3f741_row10_col2, #T_3f741_row10_col3, #T_3f741_row10_col4, #T_3f741_row11_col2, #T_3f741_row11_col3, #T_3f741_row12_col3, #T_3f741_row12_col4, #T_3f741_row13_col1, #T_3f741_row13_col2, #T_3f741_row13_col3, #T_3f741_row13_col4, #T_3f741_row14_col1, #T_3f741_row14_col2, #T_3f741_row14_col3, #T_3f741_row14_col4, #T_3f741_row14_col5, #T_3f741_row15_col1, #T_3f741_row15_col2, #T_3f741_row15_col3, #T_3f741_row15_col4, #T_3f741_row16_col1, #T_3f741_row16_col2, #T_3f741_row16_col3, #T_3f741_row16_col4, #T_3f741_row17_col2, #T_3f741_row17_col3, #T_3f741_row17_col4, #T_3f741_row17_col5, #T_3f741_row18_col3, #T_3f741_row19_col1, #T_3f741_row19_col2, #T_3f741_row19_col3, #T_3f741_row19_col4, #T_3f741_row19_col5, #T_3f741_row19_col6, #T_3f741_row20_col1, #T_3f741_row20_col2, #T_3f741_row20_col3, #T_3f741_row20_col4, #T_3f741_row20_col5, #T_3f741_row21_col2, #T_3f741_row21_col3, #T_3f741_row21_col4, #T_3f741_row22_col2, #T_3f741_row22_col3, #T_3f741_row22_col4, #T_3f741_row23_col2, #T_3f741_row23_col3, #T_3f741_row23_col4, #T_3f741_row24_col2, #T_3f741_row24_col3, #T_3f741_row24_col4, #T_3f741_row24_col5, #T_3f741_row25_col2, #T_3f741_row25_col3, #T_3f741_row25_col4, #T_3f741_row26_col2, #T_3f741_row26_col4, #T_3f741_row27_col2, #T_3f741_row27_col4, #T_3f741_row28_col2, #T_3f741_row28_col3, #T_3f741_row28_col4, #T_3f741_row29_col2, #T_3f741_row29_col3, #T_3f741_row29_col4, #T_3f741_row29_col5, #T_3f741_row30_col2, #T_3f741_row30_col3, #T_3f741_row30_col4, #T_3f741_row30_col5, #T_3f741_row31_col2, #T_3f741_row31_col3, #T_3f741_row31_col4, #T_3f741_row31_col5, #T_3f741_row32_col3, #T_3f741_row33_col2, #T_3f741_row33_col3, #T_3f741_row33_col4, #T_3f741_row34_col2, #T_3f741_row34_col3, #T_3f741_row34_col4, #T_3f741_row35_col2, #T_3f741_row35_col3, #T_3f741_row35_col4, #T_3f741_row36_col2, #T_3f741_row36_col3, #T_3f741_row36_col4, #T_3f741_row36_col5, #T_3f741_row37_col2, #T_3f741_row37_col3, #T_3f741_row37_col4, #T_3f741_row37_col5, #T_3f741_row38_col1, #T_3f741_row38_col2, #T_3f741_row38_col3, #T_3f741_row38_col4, #T_3f741_row38_col5, #T_3f741_row38_col6, #T_3f741_row39_col2, #T_3f741_row39_col3, #T_3f741_row39_col4, #T_3f741_row39_col5, #T_3f741_row40_col1, #T_3f741_row40_col2, #T_3f741_row40_col3, #T_3f741_row40_col4, #T_3f741_row40_col5, #T_3f741_row40_col6, #T_3f741_row41_col1, #T_3f741_row41_col2, #T_3f741_row41_col3, #T_3f741_row41_col4, #T_3f741_row41_col5, #T_3f741_row42_col1, #T_3f741_row42_col2, #T_3f741_row42_col3, #T_3f741_row42_col4, #T_3f741_row42_col5, #T_3f741_row42_col6, #T_3f741_row43_col1, #T_3f741_row43_col2, #T_3f741_row43_col3, #T_3f741_row43_col4, #T_3f741_row43_col5, #T_3f741_row43_col6, #T_3f741_row44_col2, #T_3f741_row44_col3, #T_3f741_row44_col4, #T_3f741_row44_col5, #T_3f741_row45_col1, #T_3f741_row45_col2, #T_3f741_row45_col3, #T_3f741_row45_col4, #T_3f741_row45_col5, #T_3f741_row45_col6, #T_3f741_row46_col1, #T_3f741_row46_col2, #T_3f741_row46_col3, #T_3f741_row46_col4, #T_3f741_row46_col5, #T_3f741_row46_col6, #T_3f741_row47_col1, #T_3f741_row47_col2, #T_3f741_row47_col3, #T_3f741_row47_col4, #T_3f741_row47_col5, #T_3f741_row48_col1, #T_3f741_row48_col2, #T_3f741_row48_col3, #T_3f741_row48_col4, #T_3f741_row48_col5, #T_3f741_row48_col6, #T_3f741_row49_col1, #T_3f741_row49_col2, #T_3f741_row49_col3, #T_3f741_row49_col4, #T_3f741_row50_col2, #T_3f741_row50_col3, #T_3f741_row50_col4, #T_3f741_row51_col1, #T_3f741_row51_col2, #T_3f741_row51_col3, #T_3f741_row51_col4, #T_3f741_row51_col5, #T_3f741_row51_col6, #T_3f741_row52_col1, #T_3f741_row52_col2, #T_3f741_row52_col3, #T_3f741_row52_col4, #T_3f741_row52_col5, #T_3f741_row53_col1, #T_3f741_row53_col2, #T_3f741_row53_col3, #T_3f741_row53_col4, #T_3f741_row53_col5, #T_3f741_row53_col6, #T_3f741_row54_col1, #T_3f741_row54_col2, #T_3f741_row54_col3, #T_3f741_row54_col4, #T_3f741_row54_col5, #T_3f741_row55_col2, #T_3f741_row55_col3, #T_3f741_row55_col4, #T_3f741_row56_col2, #T_3f741_row56_col3, #T_3f741_row56_col4, #T_3f741_row57_col2, #T_3f741_row57_col3, #T_3f741_row57_col4, #T_3f741_row58_col2, #T_3f741_row58_col3, #T_3f741_row58_col4, #T_3f741_row58_col5, #T_3f741_row59_col1, #T_3f741_row59_col2, #T_3f741_row59_col3, #T_3f741_row59_col4, #T_3f741_row59_col5, #T_3f741_row59_col6, #T_3f741_row60_col2, #T_3f741_row60_col3, #T_3f741_row60_col4, #T_3f741_row61_col1, #T_3f741_row61_col2, #T_3f741_row61_col3, #T_3f741_row61_col4, #T_3f741_row61_col5, #T_3f741_row62_col1, #T_3f741_row62_col2, #T_3f741_row62_col3, #T_3f741_row62_col4, #T_3f741_row63_col1, #T_3f741_row63_col2, #T_3f741_row63_col3, #T_3f741_row63_col4, #T_3f741_row63_col5, #T_3f741_row63_col6, #T_3f741_row64_col1, #T_3f741_row64_col2, #T_3f741_row64_col3, #T_3f741_row64_col4, #T_3f741_row64_col5, #T_3f741_row64_col6, #T_3f741_row65_col1, #T_3f741_row65_col2, #T_3f741_row65_col3, #T_3f741_row65_col4, #T_3f741_row66_col1, #T_3f741_row66_col2, #T_3f741_row66_col3, #T_3f741_row66_col4 {\n  background-color: #ffffd9;\n  color: #000000;\n}\n#T_3f741_row1_col5, #T_3f741_row8_col5, #T_3f741_row25_col6, #T_3f741_row28_col5 {\n  background-color: #fcfed3;\n  color: #000000;\n}\n#T_3f741_row2_col1 {\n  background-color: #63c3bf;\n  color: #000000;\n}\n#T_3f741_row2_col6 {\n  background-color: #5fc1c0;\n  color: #000000;\n}\n#T_3f741_row3_col1 {\n  background-color: #dff2b2;\n  color: #000000;\n}\n#T_3f741_row3_col6 {\n  background-color: #ddf2b2;\n  color: #000000;\n}\n#T_3f741_row4_col1, #T_3f741_row4_col6, #T_3f741_row6_col5, #T_3f741_row12_col2, #T_3f741_row16_col6, #T_3f741_row18_col2, #T_3f741_row22_col5, #T_3f741_row25_col5, #T_3f741_row26_col3, #T_3f741_row27_col3, #T_3f741_row39_col6, #T_3f741_row55_col6, #T_3f741_row58_col6, #T_3f741_row62_col6 {\n  background-color: #fdfed5;\n  color: #000000;\n}\n#T_3f741_row5_col1 {\n  background-color: #e0f3b2;\n  color: #000000;\n}\n#T_3f741_row5_col5, #T_3f741_row11_col5, #T_3f741_row34_col6 {\n  background-color: #fafdcf;\n  color: #000000;\n}\n#T_3f741_row5_col6 {\n  background-color: #d5efb3;\n  color: #000000;\n}\n#T_3f741_row6_col1, #T_3f741_row8_col6, #T_3f741_row32_col5 {\n  background-color: #f1fabb;\n  color: #000000;\n}\n#T_3f741_row6_col6, #T_3f741_row26_col5 {\n  background-color: #eff9b6;\n  color: #000000;\n}\n#T_3f741_row7_col5 {\n  background-color: #f4fbc0;\n  color: #000000;\n}\n#T_3f741_row7_col6 {\n  background-color: #e5f5b2;\n  color: #000000;\n}\n#T_3f741_row9_col1, #T_3f741_row17_col1, #T_3f741_row28_col1, #T_3f741_row33_col1 {\n  background-color: #f9fdcc;\n  color: #000000;\n}\n#T_3f741_row9_col6, #T_3f741_row17_col6, #T_3f741_row33_col6 {\n  background-color: #f8fcca;\n  color: #000000;\n}\n#T_3f741_row10_col5, #T_3f741_row12_col5, #T_3f741_row23_col6, #T_3f741_row35_col1, #T_3f741_row60_col6 {\n  background-color: #fdfed4;\n  color: #000000;\n}\n#T_3f741_row10_col6, #T_3f741_row34_col1 {\n  background-color: #fcfed1;\n  color: #000000;\n}\n#T_3f741_row11_col6 {\n  background-color: #f1faba;\n  color: #000000;\n}\n#T_3f741_row12_col6, #T_3f741_row18_col4 {\n  background-color: #f9fdcb;\n  color: #000000;\n}\n#T_3f741_row18_col5 {\n  background-color: #a9ddb7;\n  color: #000000;\n}\n#T_3f741_row22_col6, #T_3f741_row35_col6 {\n  background-color: #fbfdd0;\n  color: #000000;\n}\n#T_3f741_row26_col1 {\n  background-color: #b9e4b5;\n  color: #000000;\n}\n#T_3f741_row26_col6 {\n  background-color: #71c8bd;\n  color: #000000;\n}\n#T_3f741_row27_col1 {\n  background-color: #d1edb3;\n  color: #000000;\n}\n#T_3f741_row27_col5 {\n  background-color: #f3fabf;\n  color: #000000;\n}\n#T_3f741_row27_col6 {\n  background-color: #a2dbb8;\n  color: #000000;\n}\n#T_3f741_row28_col6 {\n  background-color: #f7fcc6;\n  color: #000000;\n}\n#T_3f741_row32_col1 {\n  background-color: #caeab4;\n  color: #000000;\n}\n#T_3f741_row32_col6 {\n  background-color: #8ed3ba;\n  color: #000000;\n}\n#T_3f741_row50_col1, #T_3f741_row56_col6 {\n  background-color: #f3fabd;\n  color: #000000;\n}\n#T_3f741_row50_col5 {\n  background-color: #fafdce;\n  color: #000000;\n}\n#T_3f741_row50_col6 {\n  background-color: #edf8b1;\n  color: #000000;\n}\n#T_3f741_row56_col1, #T_3f741_row65_col5, #T_3f741_row65_col6, #T_3f741_row66_col5, #T_3f741_row66_col6 {\n  background-color: #f4fbc1;\n  color: #000000;\n}\n#T_3f741_row57_col1 {\n  background-color: #f6fbc5;\n  color: #000000;\n}\n</style>\n<table id=\"T_3f741\">\n  <thead>\n    <tr>\n      <th class=\"blank level0\" >&nbsp;</th>\n      <th id=\"T_3f741_level0_col0\" class=\"col_heading level0 col0\" >국적</th>\n      <th id=\"T_3f741_level0_col1\" class=\"col_heading level0 col1\" >관광</th>\n      <th id=\"T_3f741_level0_col2\" class=\"col_heading level0 col2\" >상용</th>\n      <th id=\"T_3f741_level0_col3\" class=\"col_heading level0 col3\" >공용</th>\n      <th id=\"T_3f741_level0_col4\" class=\"col_heading level0 col4\" >유학/연수</th>\n      <th id=\"T_3f741_level0_col5\" class=\"col_heading level0 col5\" >기타</th>\n      <th id=\"T_3f741_level0_col6\" class=\"col_heading level0 col6\" >계</th>\n    </tr>\n  </thead>\n  <tbody>\n    <tr>\n      <th id=\"T_3f741_level0_row0\" class=\"row_heading level0 row0\" >0</th>\n      <td id=\"T_3f741_row0_col0\" class=\"data row0 col0\" >아시아주</td>\n      <td id=\"T_3f741_row0_col1\" class=\"data row0 col1\" >765082</td>\n      <td id=\"T_3f741_row0_col2\" class=\"data row0 col2\" >10837</td>\n      <td id=\"T_3f741_row0_col3\" class=\"data row0 col3\" >1423</td>\n      <td id=\"T_3f741_row0_col4\" class=\"data row0 col4\" >14087</td>\n      <td id=\"T_3f741_row0_col5\" class=\"data row0 col5\" >125521</td>\n      <td id=\"T_3f741_row0_col6\" class=\"data row0 col6\" >916950</td>\n    </tr>\n    <tr>\n      <th id=\"T_3f741_level0_row1\" class=\"row_heading level0 row1\" >1</th>\n      <td id=\"T_3f741_row1_col0\" class=\"data row1 col0\" >일본</td>\n      <td id=\"T_3f741_row1_col1\" class=\"data row1 col1\" >198805</td>\n      <td id=\"T_3f741_row1_col2\" class=\"data row1 col2\" >2233</td>\n      <td id=\"T_3f741_row1_col3\" class=\"data row1 col3\" >127</td>\n      <td id=\"T_3f741_row1_col4\" class=\"data row1 col4\" >785</td>\n      <td id=\"T_3f741_row1_col5\" class=\"data row1 col5\" >4576</td>\n      <td id=\"T_3f741_row1_col6\" class=\"data row1 col6\" >206526</td>\n    </tr>\n    <tr>\n      <th id=\"T_3f741_level0_row2\" class=\"row_heading level0 row2\" >2</th>\n      <td id=\"T_3f741_row2_col0\" class=\"data row2 col0\" >대만</td>\n      <td id=\"T_3f741_row2_col1\" class=\"data row2 col1\" >86393</td>\n      <td id=\"T_3f741_row2_col2\" class=\"data row2 col2\" >74</td>\n      <td id=\"T_3f741_row2_col3\" class=\"data row2 col3\" >22</td>\n      <td id=\"T_3f741_row2_col4\" class=\"data row2 col4\" >180</td>\n      <td id=\"T_3f741_row2_col5\" class=\"data row2 col5\" >1285</td>\n      <td id=\"T_3f741_row2_col6\" class=\"data row2 col6\" >87954</td>\n    </tr>\n    <tr>\n      <th id=\"T_3f741_level0_row3\" class=\"row_heading level0 row3\" >3</th>\n      <td id=\"T_3f741_row3_col0\" class=\"data row3 col0\" >홍콩</td>\n      <td id=\"T_3f741_row3_col1\" class=\"data row3 col1\" >34653</td>\n      <td id=\"T_3f741_row3_col2\" class=\"data row3 col2\" >59</td>\n      <td id=\"T_3f741_row3_col3\" class=\"data row3 col3\" >2</td>\n      <td id=\"T_3f741_row3_col4\" class=\"data row3 col4\" >90</td>\n      <td id=\"T_3f741_row3_col5\" class=\"data row3 col5\" >1092</td>\n      <td id=\"T_3f741_row3_col6\" class=\"data row3 col6\" >35896</td>\n    </tr>\n    <tr>\n      <th id=\"T_3f741_level0_row4\" class=\"row_heading level0 row4\" >4</th>\n      <td id=\"T_3f741_row4_col0\" class=\"data row4 col0\" >마카오</td>\n      <td id=\"T_3f741_row4_col1\" class=\"data row4 col1\" >2506</td>\n      <td id=\"T_3f741_row4_col2\" class=\"data row4 col2\" >2</td>\n      <td id=\"T_3f741_row4_col3\" class=\"data row4 col3\" >0</td>\n      <td id=\"T_3f741_row4_col4\" class=\"data row4 col4\" >17</td>\n      <td id=\"T_3f741_row4_col5\" class=\"data row4 col5\" >45</td>\n      <td id=\"T_3f741_row4_col6\" class=\"data row4 col6\" >2570</td>\n    </tr>\n    <tr>\n      <th id=\"T_3f741_level0_row5\" class=\"row_heading level0 row5\" >5</th>\n      <td id=\"T_3f741_row5_col0\" class=\"data row5 col0\" >태국</td>\n      <td id=\"T_3f741_row5_col1\" class=\"data row5 col1\" >34004</td>\n      <td id=\"T_3f741_row5_col2\" class=\"data row5 col2\" >37</td>\n      <td id=\"T_3f741_row5_col3\" class=\"data row5 col3\" >199</td>\n      <td id=\"T_3f741_row5_col4\" class=\"data row5 col4\" >96</td>\n      <td id=\"T_3f741_row5_col5\" class=\"data row5 col5\" >6998</td>\n      <td id=\"T_3f741_row5_col6\" class=\"data row5 col6\" >41334</td>\n    </tr>\n    <tr>\n      <th id=\"T_3f741_level0_row6\" class=\"row_heading level0 row6\" >6</th>\n      <td id=\"T_3f741_row6_col0\" class=\"data row6 col0\" >말레이시아</td>\n      <td id=\"T_3f741_row6_col1\" class=\"data row6 col1\" >19043</td>\n      <td id=\"T_3f741_row6_col2\" class=\"data row6 col2\" >95</td>\n      <td id=\"T_3f741_row6_col3\" class=\"data row6 col3\" >7</td>\n      <td id=\"T_3f741_row6_col4\" class=\"data row6 col4\" >99</td>\n      <td id=\"T_3f741_row6_col5\" class=\"data row6 col5\" >2821</td>\n      <td id=\"T_3f741_row6_col6\" class=\"data row6 col6\" >22065</td>\n    </tr>\n    <tr>\n      <th id=\"T_3f741_level0_row7\" class=\"row_heading level0 row7\" >7</th>\n      <td id=\"T_3f741_row7_col0\" class=\"data row7 col0\" >필리핀</td>\n      <td id=\"T_3f741_row7_col1\" class=\"data row7 col1\" >14279</td>\n      <td id=\"T_3f741_row7_col2\" class=\"data row7 col2\" >211</td>\n      <td id=\"T_3f741_row7_col3\" class=\"data row7 col3\" >161</td>\n      <td id=\"T_3f741_row7_col4\" class=\"data row7 col4\" >184</td>\n      <td id=\"T_3f741_row7_col5\" class=\"data row7 col5\" >15638</td>\n      <td id=\"T_3f741_row7_col6\" class=\"data row7 col6\" >30473</td>\n    </tr>\n    <tr>\n      <th id=\"T_3f741_level0_row8\" class=\"row_heading level0 row8\" >8</th>\n      <td id=\"T_3f741_row8_col0\" class=\"data row8 col0\" >인도네시아</td>\n      <td id=\"T_3f741_row8_col1\" class=\"data row8 col1\" >14183</td>\n      <td id=\"T_3f741_row8_col2\" class=\"data row8 col2\" >136</td>\n      <td id=\"T_3f741_row8_col3\" class=\"data row8 col3\" >38</td>\n      <td id=\"T_3f741_row8_col4\" class=\"data row8 col4\" >187</td>\n      <td id=\"T_3f741_row8_col5\" class=\"data row8 col5\" >4298</td>\n      <td id=\"T_3f741_row8_col6\" class=\"data row8 col6\" >18842</td>\n    </tr>\n    <tr>\n      <th id=\"T_3f741_level0_row9\" class=\"row_heading level0 row9\" >9</th>\n      <td id=\"T_3f741_row9_col0\" class=\"data row9 col0\" >싱가포르</td>\n      <td id=\"T_3f741_row9_col1\" class=\"data row9 col1\" >8372</td>\n      <td id=\"T_3f741_row9_col2\" class=\"data row9 col2\" >94</td>\n      <td id=\"T_3f741_row9_col3\" class=\"data row9 col3\" >8</td>\n      <td id=\"T_3f741_row9_col4\" class=\"data row9 col4\" >48</td>\n      <td id=\"T_3f741_row9_col5\" class=\"data row9 col5\" >1333</td>\n      <td id=\"T_3f741_row9_col6\" class=\"data row9 col6\" >9855</td>\n    </tr>\n    <tr>\n      <th id=\"T_3f741_level0_row10\" class=\"row_heading level0 row10\" >10</th>\n      <td id=\"T_3f741_row10_col0\" class=\"data row10 col0\" >미얀마</td>\n      <td id=\"T_3f741_row10_col1\" class=\"data row10 col1\" >1304</td>\n      <td id=\"T_3f741_row10_col2\" class=\"data row10 col2\" >10</td>\n      <td id=\"T_3f741_row10_col3\" class=\"data row10 col3\" >31</td>\n      <td id=\"T_3f741_row10_col4\" class=\"data row10 col4\" >67</td>\n      <td id=\"T_3f741_row10_col5\" class=\"data row10 col5\" >3877</td>\n      <td id=\"T_3f741_row10_col6\" class=\"data row10 col6\" >5289</td>\n    </tr>\n    <tr>\n      <th id=\"T_3f741_level0_row11\" class=\"row_heading level0 row11\" >11</th>\n      <td id=\"T_3f741_row11_col0\" class=\"data row11 col0\" >베트남</td>\n      <td id=\"T_3f741_row11_col1\" class=\"data row11 col1\" >10739</td>\n      <td id=\"T_3f741_row11_col2\" class=\"data row11 col2\" >763</td>\n      <td id=\"T_3f741_row11_col3\" class=\"data row11 col3\" >110</td>\n      <td id=\"T_3f741_row11_col4\" class=\"data row11 col4\" >1667</td>\n      <td id=\"T_3f741_row11_col5\" class=\"data row11 col5\" >6904</td>\n      <td id=\"T_3f741_row11_col6\" class=\"data row11 col6\" >20183</td>\n    </tr>\n    <tr>\n      <th id=\"T_3f741_level0_row12\" class=\"row_heading level0 row12\" >12</th>\n      <td id=\"T_3f741_row12_col0\" class=\"data row12 col0\" >인도</td>\n      <td id=\"T_3f741_row12_col1\" class=\"data row12 col1\" >2318</td>\n      <td id=\"T_3f741_row12_col2\" class=\"data row12 col2\" >2656</td>\n      <td id=\"T_3f741_row12_col3\" class=\"data row12 col3\" >46</td>\n      <td id=\"T_3f741_row12_col4\" class=\"data row12 col4\" >177</td>\n      <td id=\"T_3f741_row12_col5\" class=\"data row12 col5\" >3474</td>\n      <td id=\"T_3f741_row12_col6\" class=\"data row12 col6\" >8671</td>\n    </tr>\n    <tr>\n      <th id=\"T_3f741_level0_row13\" class=\"row_heading level0 row13\" >13</th>\n      <td id=\"T_3f741_row13_col0\" class=\"data row13 col0\" >스리랑카</td>\n      <td id=\"T_3f741_row13_col1\" class=\"data row13 col1\" >157</td>\n      <td id=\"T_3f741_row13_col2\" class=\"data row13 col2\" >54</td>\n      <td id=\"T_3f741_row13_col3\" class=\"data row13 col3\" >5</td>\n      <td id=\"T_3f741_row13_col4\" class=\"data row13 col4\" >28</td>\n      <td id=\"T_3f741_row13_col5\" class=\"data row13 col5\" >1043</td>\n      <td id=\"T_3f741_row13_col6\" class=\"data row13 col6\" >1287</td>\n    </tr>\n    <tr>\n      <th id=\"T_3f741_level0_row14\" class=\"row_heading level0 row14\" >14</th>\n      <td id=\"T_3f741_row14_col0\" class=\"data row14 col0\" >파키스탄</td>\n      <td id=\"T_3f741_row14_col1\" class=\"data row14 col1\" >238</td>\n      <td id=\"T_3f741_row14_col2\" class=\"data row14 col2\" >178</td>\n      <td id=\"T_3f741_row14_col3\" class=\"data row14 col3\" >10</td>\n      <td id=\"T_3f741_row14_col4\" class=\"data row14 col4\" >193</td>\n      <td id=\"T_3f741_row14_col5\" class=\"data row14 col5\" >413</td>\n      <td id=\"T_3f741_row14_col6\" class=\"data row14 col6\" >1032</td>\n    </tr>\n    <tr>\n      <th id=\"T_3f741_level0_row15\" class=\"row_heading level0 row15\" >15</th>\n      <td id=\"T_3f741_row15_col0\" class=\"data row15 col0\" >방글라데시</td>\n      <td id=\"T_3f741_row15_col1\" class=\"data row15 col1\" >149</td>\n      <td id=\"T_3f741_row15_col2\" class=\"data row15 col2\" >126</td>\n      <td id=\"T_3f741_row15_col3\" class=\"data row15 col3\" >27</td>\n      <td id=\"T_3f741_row15_col4\" class=\"data row15 col4\" >97</td>\n      <td id=\"T_3f741_row15_col5\" class=\"data row15 col5\" >848</td>\n      <td id=\"T_3f741_row15_col6\" class=\"data row15 col6\" >1247</td>\n    </tr>\n    <tr>\n      <th id=\"T_3f741_level0_row16\" class=\"row_heading level0 row16\" >16</th>\n      <td id=\"T_3f741_row16_col0\" class=\"data row16 col0\" >캄보디아</td>\n      <td id=\"T_3f741_row16_col1\" class=\"data row16 col1\" >635</td>\n      <td id=\"T_3f741_row16_col2\" class=\"data row16 col2\" >39</td>\n      <td id=\"T_3f741_row16_col3\" class=\"data row16 col3\" >55</td>\n      <td id=\"T_3f741_row16_col4\" class=\"data row16 col4\" >51</td>\n      <td id=\"T_3f741_row16_col5\" class=\"data row16 col5\" >1915</td>\n      <td id=\"T_3f741_row16_col6\" class=\"data row16 col6\" >2695</td>\n    </tr>\n    <tr>\n      <th id=\"T_3f741_level0_row17\" class=\"row_heading level0 row17\" >17</th>\n      <td id=\"T_3f741_row17_col0\" class=\"data row17 col0\" >몽골</td>\n      <td id=\"T_3f741_row17_col1\" class=\"data row17 col1\" >8358</td>\n      <td id=\"T_3f741_row17_col2\" class=\"data row17 col2\" >77</td>\n      <td id=\"T_3f741_row17_col3\" class=\"data row17 col3\" >304</td>\n      <td id=\"T_3f741_row17_col4\" class=\"data row17 col4\" >484</td>\n      <td id=\"T_3f741_row17_col5\" class=\"data row17 col5\" >562</td>\n      <td id=\"T_3f741_row17_col6\" class=\"data row17 col6\" >9785</td>\n    </tr>\n    <tr>\n      <th id=\"T_3f741_level0_row18\" class=\"row_heading level0 row18\" >18</th>\n      <td id=\"T_3f741_row18_col0\" class=\"data row18 col0\" >중국</td>\n      <td id=\"T_3f741_row18_col1\" class=\"data row18 col1\" >320113</td>\n      <td id=\"T_3f741_row18_col2\" class=\"data row18 col2\" >2993</td>\n      <td id=\"T_3f741_row18_col3\" class=\"data row18 col3\" >138</td>\n      <td id=\"T_3f741_row18_col4\" class=\"data row18 col4\" >8793</td>\n      <td id=\"T_3f741_row18_col5\" class=\"data row18 col5\" >60777</td>\n      <td id=\"T_3f741_row18_col6\" class=\"data row18 col6\" >392814</td>\n    </tr>\n    <tr>\n      <th id=\"T_3f741_level0_row19\" class=\"row_heading level0 row19\" >19</th>\n      <td id=\"T_3f741_row19_col0\" class=\"data row19 col0\" >이란</td>\n      <td id=\"T_3f741_row19_col1\" class=\"data row19 col1\" >60</td>\n      <td id=\"T_3f741_row19_col2\" class=\"data row19 col2\" >45</td>\n      <td id=\"T_3f741_row19_col3\" class=\"data row19 col3\" >10</td>\n      <td id=\"T_3f741_row19_col4\" class=\"data row19 col4\" >23</td>\n      <td id=\"T_3f741_row19_col5\" class=\"data row19 col5\" >46</td>\n      <td id=\"T_3f741_row19_col6\" class=\"data row19 col6\" >184</td>\n    </tr>\n    <tr>\n      <th id=\"T_3f741_level0_row20\" class=\"row_heading level0 row20\" >20</th>\n      <td id=\"T_3f741_row20_col0\" class=\"data row20 col0\" >이스라엘</td>\n      <td id=\"T_3f741_row20_col1\" class=\"data row20 col1\" >727</td>\n      <td id=\"T_3f741_row20_col2\" class=\"data row20 col2\" >12</td>\n      <td id=\"T_3f741_row20_col3\" class=\"data row20 col3\" >0</td>\n      <td id=\"T_3f741_row20_col4\" class=\"data row20 col4\" >9</td>\n      <td id=\"T_3f741_row20_col5\" class=\"data row20 col5\" >57</td>\n      <td id=\"T_3f741_row20_col6\" class=\"data row20 col6\" >805</td>\n    </tr>\n    <tr>\n      <th id=\"T_3f741_level0_row21\" class=\"row_heading level0 row21\" >21</th>\n      <td id=\"T_3f741_row21_col0\" class=\"data row21 col0\" >터키</td>\n      <td id=\"T_3f741_row21_col1\" class=\"data row21 col1\" >792</td>\n      <td id=\"T_3f741_row21_col2\" class=\"data row21 col2\" >13</td>\n      <td id=\"T_3f741_row21_col3\" class=\"data row21 col3\" >32</td>\n      <td id=\"T_3f741_row21_col4\" class=\"data row21 col4\" >36</td>\n      <td id=\"T_3f741_row21_col5\" class=\"data row21 col5\" >912</td>\n      <td id=\"T_3f741_row21_col6\" class=\"data row21 col6\" >1785</td>\n    </tr>\n    <tr>\n      <th id=\"T_3f741_level0_row22\" class=\"row_heading level0 row22\" >22</th>\n      <td id=\"T_3f741_row22_col0\" class=\"data row22 col0\" >우즈베키스탄</td>\n      <td id=\"T_3f741_row22_col1\" class=\"data row22 col1\" >1958</td>\n      <td id=\"T_3f741_row22_col2\" class=\"data row22 col2\" >561</td>\n      <td id=\"T_3f741_row22_col3\" class=\"data row22 col3\" >0</td>\n      <td id=\"T_3f741_row22_col4\" class=\"data row22 col4\" >407</td>\n      <td id=\"T_3f741_row22_col5\" class=\"data row22 col5\" >2828</td>\n      <td id=\"T_3f741_row22_col6\" class=\"data row22 col6\" >5754</td>\n    </tr>\n    <tr>\n      <th id=\"T_3f741_level0_row23\" class=\"row_heading level0 row23\" >23</th>\n      <td id=\"T_3f741_row23_col0\" class=\"data row23 col0\" >카자흐스탄</td>\n      <td id=\"T_3f741_row23_col1\" class=\"data row23 col1\" >2185</td>\n      <td id=\"T_3f741_row23_col2\" class=\"data row23 col2\" >24</td>\n      <td id=\"T_3f741_row23_col3\" class=\"data row23 col3\" >7</td>\n      <td id=\"T_3f741_row23_col4\" class=\"data row23 col4\" >92</td>\n      <td id=\"T_3f741_row23_col5\" class=\"data row23 col5\" >1266</td>\n      <td id=\"T_3f741_row23_col6\" class=\"data row23 col6\" >3574</td>\n    </tr>\n    <tr>\n      <th id=\"T_3f741_level0_row24\" class=\"row_heading level0 row24\" >24</th>\n      <td id=\"T_3f741_row24_col0\" class=\"data row24 col0\" >GCC</td>\n      <td id=\"T_3f741_row24_col1\" class=\"data row24 col1\" >1550</td>\n      <td id=\"T_3f741_row24_col2\" class=\"data row24 col2\" >37</td>\n      <td id=\"T_3f741_row24_col3\" class=\"data row24 col3\" >14</td>\n      <td id=\"T_3f741_row24_col4\" class=\"data row24 col4\" >72</td>\n      <td id=\"T_3f741_row24_col5\" class=\"data row24 col5\" >103</td>\n      <td id=\"T_3f741_row24_col6\" class=\"data row24 col6\" >1776</td>\n    </tr>\n    <tr>\n      <th id=\"T_3f741_level0_row25\" class=\"row_heading level0 row25\" >25</th>\n      <td id=\"T_3f741_row25_col0\" class=\"data row25 col0\" >아시아 기타</td>\n      <td id=\"T_3f741_row25_col1\" class=\"data row25 col1\" >1561</td>\n      <td id=\"T_3f741_row25_col2\" class=\"data row25 col2\" >308</td>\n      <td id=\"T_3f741_row25_col3\" class=\"data row25 col3\" >70</td>\n      <td id=\"T_3f741_row25_col4\" class=\"data row25 col4\" >205</td>\n      <td id=\"T_3f741_row25_col5\" class=\"data row25 col5\" >2410</td>\n      <td id=\"T_3f741_row25_col6\" class=\"data row25 col6\" >4554</td>\n    </tr>\n    <tr>\n      <th id=\"T_3f741_level0_row26\" class=\"row_heading level0 row26\" >26</th>\n      <td id=\"T_3f741_row26_col0\" class=\"data row26 col0\" >미주</td>\n      <td id=\"T_3f741_row26_col1\" class=\"data row26 col1\" >54982</td>\n      <td id=\"T_3f741_row26_col2\" class=\"data row26 col2\" >526</td>\n      <td id=\"T_3f741_row26_col3\" class=\"data row26 col3\" >2657</td>\n      <td id=\"T_3f741_row26_col4\" class=\"data row26 col4\" >479</td>\n      <td id=\"T_3f741_row26_col5\" class=\"data row26 col5\" >22277</td>\n      <td id=\"T_3f741_row26_col6\" class=\"data row26 col6\" >80921</td>\n    </tr>\n    <tr>\n      <th id=\"T_3f741_level0_row27\" class=\"row_heading level0 row27\" >27</th>\n      <td id=\"T_3f741_row27_col0\" class=\"data row27 col0\" >미국</td>\n      <td id=\"T_3f741_row27_col1\" class=\"data row27 col1\" >42989</td>\n      <td id=\"T_3f741_row27_col2\" class=\"data row27 col2\" >418</td>\n      <td id=\"T_3f741_row27_col3\" class=\"data row27 col3\" >2578</td>\n      <td id=\"T_3f741_row27_col4\" class=\"data row27 col4\" >229</td>\n      <td id=\"T_3f741_row27_col5\" class=\"data row27 col5\" >16523</td>\n      <td id=\"T_3f741_row27_col6\" class=\"data row27 col6\" >62737</td>\n    </tr>\n    <tr>\n      <th id=\"T_3f741_level0_row28\" class=\"row_heading level0 row28\" >28</th>\n      <td id=\"T_3f741_row28_col0\" class=\"data row28 col0\" >캐나다</td>\n      <td id=\"T_3f741_row28_col1\" class=\"data row28 col1\" >8034</td>\n      <td id=\"T_3f741_row28_col2\" class=\"data row28 col2\" >57</td>\n      <td id=\"T_3f741_row28_col3\" class=\"data row28 col3\" >30</td>\n      <td id=\"T_3f741_row28_col4\" class=\"data row28 col4\" >43</td>\n      <td id=\"T_3f741_row28_col5\" class=\"data row28 col5\" >4296</td>\n      <td id=\"T_3f741_row28_col6\" class=\"data row28 col6\" >12460</td>\n    </tr>\n    <tr>\n      <th id=\"T_3f741_level0_row29\" class=\"row_heading level0 row29\" >29</th>\n      <td id=\"T_3f741_row29_col0\" class=\"data row29 col0\" >멕시코</td>\n      <td id=\"T_3f741_row29_col1\" class=\"data row29 col1\" >1282</td>\n      <td id=\"T_3f741_row29_col2\" class=\"data row29 col2\" >11</td>\n      <td id=\"T_3f741_row29_col3\" class=\"data row29 col3\" >7</td>\n      <td id=\"T_3f741_row29_col4\" class=\"data row29 col4\" >38</td>\n      <td id=\"T_3f741_row29_col5\" class=\"data row29 col5\" >515</td>\n      <td id=\"T_3f741_row29_col6\" class=\"data row29 col6\" >1853</td>\n    </tr>\n    <tr>\n      <th id=\"T_3f741_level0_row30\" class=\"row_heading level0 row30\" >30</th>\n      <td id=\"T_3f741_row30_col0\" class=\"data row30 col0\" >브라질</td>\n      <td id=\"T_3f741_row30_col1\" class=\"data row30 col1\" >1136</td>\n      <td id=\"T_3f741_row30_col2\" class=\"data row30 col2\" >16</td>\n      <td id=\"T_3f741_row30_col3\" class=\"data row30 col3\" >9</td>\n      <td id=\"T_3f741_row30_col4\" class=\"data row30 col4\" >41</td>\n      <td id=\"T_3f741_row30_col5\" class=\"data row30 col5\" >403</td>\n      <td id=\"T_3f741_row30_col6\" class=\"data row30 col6\" >1605</td>\n    </tr>\n    <tr>\n      <th id=\"T_3f741_level0_row31\" class=\"row_heading level0 row31\" >31</th>\n      <td id=\"T_3f741_row31_col0\" class=\"data row31 col0\" >미주 기타</td>\n      <td id=\"T_3f741_row31_col1\" class=\"data row31 col1\" >1541</td>\n      <td id=\"T_3f741_row31_col2\" class=\"data row31 col2\" >24</td>\n      <td id=\"T_3f741_row31_col3\" class=\"data row31 col3\" >33</td>\n      <td id=\"T_3f741_row31_col4\" class=\"data row31 col4\" >128</td>\n      <td id=\"T_3f741_row31_col5\" class=\"data row31 col5\" >540</td>\n      <td id=\"T_3f741_row31_col6\" class=\"data row31 col6\" >2266</td>\n    </tr>\n    <tr>\n      <th id=\"T_3f741_level0_row32\" class=\"row_heading level0 row32\" >32</th>\n      <td id=\"T_3f741_row32_col0\" class=\"data row32 col0\" >구주</td>\n      <td id=\"T_3f741_row32_col1\" class=\"data row32 col1\" >47681</td>\n      <td id=\"T_3f741_row32_col2\" class=\"data row32 col2\" >1465</td>\n      <td id=\"T_3f741_row32_col3\" class=\"data row32 col3\" >230</td>\n      <td id=\"T_3f741_row32_col4\" class=\"data row32 col4\" >1177</td>\n      <td id=\"T_3f741_row32_col5\" class=\"data row32 col5\" >19485</td>\n      <td id=\"T_3f741_row32_col6\" class=\"data row32 col6\" >70038</td>\n    </tr>\n    <tr>\n      <th id=\"T_3f741_level0_row33\" class=\"row_heading level0 row33\" >33</th>\n      <td id=\"T_3f741_row33_col0\" class=\"data row33 col0\" >영국</td>\n      <td id=\"T_3f741_row33_col1\" class=\"data row33 col1\" >7982</td>\n      <td id=\"T_3f741_row33_col2\" class=\"data row33 col2\" >175</td>\n      <td id=\"T_3f741_row33_col3\" class=\"data row33 col3\" >17</td>\n      <td id=\"T_3f741_row33_col4\" class=\"data row33 col4\" >41</td>\n      <td id=\"T_3f741_row33_col5\" class=\"data row33 col5\" >1933</td>\n      <td id=\"T_3f741_row33_col6\" class=\"data row33 col6\" >10148</td>\n    </tr>\n    <tr>\n      <th id=\"T_3f741_level0_row34\" class=\"row_heading level0 row34\" >34</th>\n      <td id=\"T_3f741_row34_col0\" class=\"data row34 col0\" >독일</td>\n      <td id=\"T_3f741_row34_col1\" class=\"data row34 col1\" >4925</td>\n      <td id=\"T_3f741_row34_col2\" class=\"data row34 col2\" >278</td>\n      <td id=\"T_3f741_row34_col3\" class=\"data row34 col3\" >19</td>\n      <td id=\"T_3f741_row34_col4\" class=\"data row34 col4\" >177</td>\n      <td id=\"T_3f741_row34_col5\" class=\"data row34 col5\" >1451</td>\n      <td id=\"T_3f741_row34_col6\" class=\"data row34 col6\" >6850</td>\n    </tr>\n    <tr>\n      <th id=\"T_3f741_level0_row35\" class=\"row_heading level0 row35\" >35</th>\n      <td id=\"T_3f741_row35_col0\" class=\"data row35 col0\" >프랑스</td>\n      <td id=\"T_3f741_row35_col1\" class=\"data row35 col1\" >3773</td>\n      <td id=\"T_3f741_row35_col2\" class=\"data row35 col2\" >297</td>\n      <td id=\"T_3f741_row35_col3\" class=\"data row35 col3\" >48</td>\n      <td id=\"T_3f741_row35_col4\" class=\"data row35 col4\" >288</td>\n      <td id=\"T_3f741_row35_col5\" class=\"data row35 col5\" >1168</td>\n      <td id=\"T_3f741_row35_col6\" class=\"data row35 col6\" >5574</td>\n    </tr>\n    <tr>\n      <th id=\"T_3f741_level0_row36\" class=\"row_heading level0 row36\" >36</th>\n      <td id=\"T_3f741_row36_col0\" class=\"data row36 col0\" >네덜란드</td>\n      <td id=\"T_3f741_row36_col1\" class=\"data row36 col1\" >1592</td>\n      <td id=\"T_3f741_row36_col2\" class=\"data row36 col2\" >47</td>\n      <td id=\"T_3f741_row36_col3\" class=\"data row36 col3\" >16</td>\n      <td id=\"T_3f741_row36_col4\" class=\"data row36 col4\" >77</td>\n      <td id=\"T_3f741_row36_col5\" class=\"data row36 col5\" >537</td>\n      <td id=\"T_3f741_row36_col6\" class=\"data row36 col6\" >2269</td>\n    </tr>\n    <tr>\n      <th id=\"T_3f741_level0_row37\" class=\"row_heading level0 row37\" >37</th>\n      <td id=\"T_3f741_row37_col0\" class=\"data row37 col0\" >스웨덴</td>\n      <td id=\"T_3f741_row37_col1\" class=\"data row37 col1\" >844</td>\n      <td id=\"T_3f741_row37_col2\" class=\"data row37 col2\" >29</td>\n      <td id=\"T_3f741_row37_col3\" class=\"data row37 col3\" >6</td>\n      <td id=\"T_3f741_row37_col4\" class=\"data row37 col4\" >18</td>\n      <td id=\"T_3f741_row37_col5\" class=\"data row37 col5\" >85</td>\n      <td id=\"T_3f741_row37_col6\" class=\"data row37 col6\" >982</td>\n    </tr>\n    <tr>\n      <th id=\"T_3f741_level0_row38\" class=\"row_heading level0 row38\" >38</th>\n      <td id=\"T_3f741_row38_col0\" class=\"data row38 col0\" >스위스</td>\n      <td id=\"T_3f741_row38_col1\" class=\"data row38 col1\" >613</td>\n      <td id=\"T_3f741_row38_col2\" class=\"data row38 col2\" >18</td>\n      <td id=\"T_3f741_row38_col3\" class=\"data row38 col3\" >0</td>\n      <td id=\"T_3f741_row38_col4\" class=\"data row38 col4\" >19</td>\n      <td id=\"T_3f741_row38_col5\" class=\"data row38 col5\" >97</td>\n      <td id=\"T_3f741_row38_col6\" class=\"data row38 col6\" >747</td>\n    </tr>\n    <tr>\n      <th id=\"T_3f741_level0_row39\" class=\"row_heading level0 row39\" >39</th>\n      <td id=\"T_3f741_row39_col0\" class=\"data row39 col0\" >이탈리아</td>\n      <td id=\"T_3f741_row39_col1\" class=\"data row39 col1\" >1968</td>\n      <td id=\"T_3f741_row39_col2\" class=\"data row39 col2\" >83</td>\n      <td id=\"T_3f741_row39_col3\" class=\"data row39 col3\" >17</td>\n      <td id=\"T_3f741_row39_col4\" class=\"data row39 col4\" >40</td>\n      <td id=\"T_3f741_row39_col5\" class=\"data row39 col5\" >623</td>\n      <td id=\"T_3f741_row39_col6\" class=\"data row39 col6\" >2731</td>\n    </tr>\n    <tr>\n      <th id=\"T_3f741_level0_row40\" class=\"row_heading level0 row40\" >40</th>\n      <td id=\"T_3f741_row40_col0\" class=\"data row40 col0\" >덴마크</td>\n      <td id=\"T_3f741_row40_col1\" class=\"data row40 col1\" >520</td>\n      <td id=\"T_3f741_row40_col2\" class=\"data row40 col2\" >21</td>\n      <td id=\"T_3f741_row40_col3\" class=\"data row40 col3\" >6</td>\n      <td id=\"T_3f741_row40_col4\" class=\"data row40 col4\" >16</td>\n      <td id=\"T_3f741_row40_col5\" class=\"data row40 col5\" >188</td>\n      <td id=\"T_3f741_row40_col6\" class=\"data row40 col6\" >751</td>\n    </tr>\n    <tr>\n      <th id=\"T_3f741_level0_row41\" class=\"row_heading level0 row41\" >41</th>\n      <td id=\"T_3f741_row41_col0\" class=\"data row41 col0\" >노르웨이</td>\n      <td id=\"T_3f741_row41_col1\" class=\"data row41 col1\" >552</td>\n      <td id=\"T_3f741_row41_col2\" class=\"data row41 col2\" >66</td>\n      <td id=\"T_3f741_row41_col3\" class=\"data row41 col3\" >4</td>\n      <td id=\"T_3f741_row41_col4\" class=\"data row41 col4\" >28</td>\n      <td id=\"T_3f741_row41_col5\" class=\"data row41 col5\" >151</td>\n      <td id=\"T_3f741_row41_col6\" class=\"data row41 col6\" >801</td>\n    </tr>\n    <tr>\n      <th id=\"T_3f741_level0_row42\" class=\"row_heading level0 row42\" >42</th>\n      <td id=\"T_3f741_row42_col0\" class=\"data row42 col0\" >벨기에</td>\n      <td id=\"T_3f741_row42_col1\" class=\"data row42 col1\" >490</td>\n      <td id=\"T_3f741_row42_col2\" class=\"data row42 col2\" >24</td>\n      <td id=\"T_3f741_row42_col3\" class=\"data row42 col3\" >4</td>\n      <td id=\"T_3f741_row42_col4\" class=\"data row42 col4\" >22</td>\n      <td id=\"T_3f741_row42_col5\" class=\"data row42 col5\" >169</td>\n      <td id=\"T_3f741_row42_col6\" class=\"data row42 col6\" >709</td>\n    </tr>\n    <tr>\n      <th id=\"T_3f741_level0_row43\" class=\"row_heading level0 row43\" >43</th>\n      <td id=\"T_3f741_row43_col0\" class=\"data row43 col0\" >오스트리아</td>\n      <td id=\"T_3f741_row43_col1\" class=\"data row43 col1\" >544</td>\n      <td id=\"T_3f741_row43_col2\" class=\"data row43 col2\" >8</td>\n      <td id=\"T_3f741_row43_col3\" class=\"data row43 col3\" >2</td>\n      <td id=\"T_3f741_row43_col4\" class=\"data row43 col4\" >13</td>\n      <td id=\"T_3f741_row43_col5\" class=\"data row43 col5\" >209</td>\n      <td id=\"T_3f741_row43_col6\" class=\"data row43 col6\" >776</td>\n    </tr>\n    <tr>\n      <th id=\"T_3f741_level0_row44\" class=\"row_heading level0 row44\" >44</th>\n      <td id=\"T_3f741_row44_col0\" class=\"data row44 col0\" >스페인</td>\n      <td id=\"T_3f741_row44_col1\" class=\"data row44 col1\" >1010</td>\n      <td id=\"T_3f741_row44_col2\" class=\"data row44 col2\" >36</td>\n      <td id=\"T_3f741_row44_col3\" class=\"data row44 col3\" >15</td>\n      <td id=\"T_3f741_row44_col4\" class=\"data row44 col4\" >52</td>\n      <td id=\"T_3f741_row44_col5\" class=\"data row44 col5\" >255</td>\n      <td id=\"T_3f741_row44_col6\" class=\"data row44 col6\" >1368</td>\n    </tr>\n    <tr>\n      <th id=\"T_3f741_level0_row45\" class=\"row_heading level0 row45\" >45</th>\n      <td id=\"T_3f741_row45_col0\" class=\"data row45 col0\" >그리스</td>\n      <td id=\"T_3f741_row45_col1\" class=\"data row45 col1\" >481</td>\n      <td id=\"T_3f741_row45_col2\" class=\"data row45 col2\" >17</td>\n      <td id=\"T_3f741_row45_col3\" class=\"data row45 col3\" >4</td>\n      <td id=\"T_3f741_row45_col4\" class=\"data row45 col4\" >0</td>\n      <td id=\"T_3f741_row45_col5\" class=\"data row45 col5\" >273</td>\n      <td id=\"T_3f741_row45_col6\" class=\"data row45 col6\" >775</td>\n    </tr>\n    <tr>\n      <th id=\"T_3f741_level0_row46\" class=\"row_heading level0 row46\" >46</th>\n      <td id=\"T_3f741_row46_col0\" class=\"data row46 col0\" >포르투갈</td>\n      <td id=\"T_3f741_row46_col1\" class=\"data row46 col1\" >416</td>\n      <td id=\"T_3f741_row46_col2\" class=\"data row46 col2\" >14</td>\n      <td id=\"T_3f741_row46_col3\" class=\"data row46 col3\" >0</td>\n      <td id=\"T_3f741_row46_col4\" class=\"data row46 col4\" >13</td>\n      <td id=\"T_3f741_row46_col5\" class=\"data row46 col5\" >121</td>\n      <td id=\"T_3f741_row46_col6\" class=\"data row46 col6\" >564</td>\n    </tr>\n    <tr>\n      <th id=\"T_3f741_level0_row47\" class=\"row_heading level0 row47\" >47</th>\n      <td id=\"T_3f741_row47_col0\" class=\"data row47 col0\" >핀란드</td>\n      <td id=\"T_3f741_row47_col1\" class=\"data row47 col1\" >412</td>\n      <td id=\"T_3f741_row47_col2\" class=\"data row47 col2\" >23</td>\n      <td id=\"T_3f741_row47_col3\" class=\"data row47 col3\" >1</td>\n      <td id=\"T_3f741_row47_col4\" class=\"data row47 col4\" >18</td>\n      <td id=\"T_3f741_row47_col5\" class=\"data row47 col5\" >405</td>\n      <td id=\"T_3f741_row47_col6\" class=\"data row47 col6\" >859</td>\n    </tr>\n    <tr>\n      <th id=\"T_3f741_level0_row48\" class=\"row_heading level0 row48\" >48</th>\n      <td id=\"T_3f741_row48_col0\" class=\"data row48 col0\" >아일랜드</td>\n      <td id=\"T_3f741_row48_col1\" class=\"data row48 col1\" >392</td>\n      <td id=\"T_3f741_row48_col2\" class=\"data row48 col2\" >15</td>\n      <td id=\"T_3f741_row48_col3\" class=\"data row48 col3\" >1</td>\n      <td id=\"T_3f741_row48_col4\" class=\"data row48 col4\" >2</td>\n      <td id=\"T_3f741_row48_col5\" class=\"data row48 col5\" >185</td>\n      <td id=\"T_3f741_row48_col6\" class=\"data row48 col6\" >595</td>\n    </tr>\n    <tr>\n      <th id=\"T_3f741_level0_row49\" class=\"row_heading level0 row49\" >49</th>\n      <td id=\"T_3f741_row49_col0\" class=\"data row49 col0\" >우크라이나</td>\n      <td id=\"T_3f741_row49_col1\" class=\"data row49 col1\" >593</td>\n      <td id=\"T_3f741_row49_col2\" class=\"data row49 col2\" >58</td>\n      <td id=\"T_3f741_row49_col3\" class=\"data row49 col3\" >3</td>\n      <td id=\"T_3f741_row49_col4\" class=\"data row49 col4\" >28</td>\n      <td id=\"T_3f741_row49_col5\" class=\"data row49 col5\" >1580</td>\n      <td id=\"T_3f741_row49_col6\" class=\"data row49 col6\" >2262</td>\n    </tr>\n    <tr>\n      <th id=\"T_3f741_level0_row50\" class=\"row_heading level0 row50\" >50</th>\n      <td id=\"T_3f741_row50_col0\" class=\"data row50 col0\" >러시아</td>\n      <td id=\"T_3f741_row50_col1\" class=\"data row50 col1\" >17260</td>\n      <td id=\"T_3f741_row50_col2\" class=\"data row50 col2\" >181</td>\n      <td id=\"T_3f741_row50_col3\" class=\"data row50 col3\" >37</td>\n      <td id=\"T_3f741_row50_col4\" class=\"data row50 col4\" >191</td>\n      <td id=\"T_3f741_row50_col5\" class=\"data row50 col5\" >7525</td>\n      <td id=\"T_3f741_row50_col6\" class=\"data row50 col6\" >25194</td>\n    </tr>\n    <tr>\n      <th id=\"T_3f741_level0_row51\" class=\"row_heading level0 row51\" >51</th>\n      <td id=\"T_3f741_row51_col0\" class=\"data row51 col0\" >크로아티아</td>\n      <td id=\"T_3f741_row51_col1\" class=\"data row51 col1\" >226</td>\n      <td id=\"T_3f741_row51_col2\" class=\"data row51 col2\" >12</td>\n      <td id=\"T_3f741_row51_col3\" class=\"data row51 col3\" >0</td>\n      <td id=\"T_3f741_row51_col4\" class=\"data row51 col4\" >3</td>\n      <td id=\"T_3f741_row51_col5\" class=\"data row51 col5\" >250</td>\n      <td id=\"T_3f741_row51_col6\" class=\"data row51 col6\" >491</td>\n    </tr>\n    <tr>\n      <th id=\"T_3f741_level0_row52\" class=\"row_heading level0 row52\" >52</th>\n      <td id=\"T_3f741_row52_col0\" class=\"data row52 col0\" >루마니아</td>\n      <td id=\"T_3f741_row52_col1\" class=\"data row52 col1\" >412</td>\n      <td id=\"T_3f741_row52_col2\" class=\"data row52 col2\" >8</td>\n      <td id=\"T_3f741_row52_col3\" class=\"data row52 col3\" >4</td>\n      <td id=\"T_3f741_row52_col4\" class=\"data row52 col4\" >3</td>\n      <td id=\"T_3f741_row52_col5\" class=\"data row52 col5\" >445</td>\n      <td id=\"T_3f741_row52_col6\" class=\"data row52 col6\" >872</td>\n    </tr>\n    <tr>\n      <th id=\"T_3f741_level0_row53\" class=\"row_heading level0 row53\" >53</th>\n      <td id=\"T_3f741_row53_col0\" class=\"data row53 col0\" >불가리아</td>\n      <td id=\"T_3f741_row53_col1\" class=\"data row53 col1\" >154</td>\n      <td id=\"T_3f741_row53_col2\" class=\"data row53 col2\" >1</td>\n      <td id=\"T_3f741_row53_col3\" class=\"data row53 col3\" >1</td>\n      <td id=\"T_3f741_row53_col4\" class=\"data row53 col4\" >10</td>\n      <td id=\"T_3f741_row53_col5\" class=\"data row53 col5\" >265</td>\n      <td id=\"T_3f741_row53_col6\" class=\"data row53 col6\" >431</td>\n    </tr>\n    <tr>\n      <th id=\"T_3f741_level0_row54\" class=\"row_heading level0 row54\" >54</th>\n      <td id=\"T_3f741_row54_col0\" class=\"data row54 col0\" >폴란드</td>\n      <td id=\"T_3f741_row54_col1\" class=\"data row54 col1\" >713</td>\n      <td id=\"T_3f741_row54_col2\" class=\"data row54 col2\" >10</td>\n      <td id=\"T_3f741_row54_col3\" class=\"data row54 col3\" >0</td>\n      <td id=\"T_3f741_row54_col4\" class=\"data row54 col4\" >27</td>\n      <td id=\"T_3f741_row54_col5\" class=\"data row54 col5\" >574</td>\n      <td id=\"T_3f741_row54_col6\" class=\"data row54 col6\" >1324</td>\n    </tr>\n    <tr>\n      <th id=\"T_3f741_level0_row55\" class=\"row_heading level0 row55\" >55</th>\n      <td id=\"T_3f741_row55_col0\" class=\"data row55 col0\" >구주 기타</td>\n      <td id=\"T_3f741_row55_col1\" class=\"data row55 col1\" >1809</td>\n      <td id=\"T_3f741_row55_col2\" class=\"data row55 col2\" >44</td>\n      <td id=\"T_3f741_row55_col3\" class=\"data row55 col3\" >25</td>\n      <td id=\"T_3f741_row55_col4\" class=\"data row55 col4\" >91</td>\n      <td id=\"T_3f741_row55_col5\" class=\"data row55 col5\" >996</td>\n      <td id=\"T_3f741_row55_col6\" class=\"data row55 col6\" >2965</td>\n    </tr>\n    <tr>\n      <th id=\"T_3f741_level0_row56\" class=\"row_heading level0 row56\" >56</th>\n      <td id=\"T_3f741_row56_col0\" class=\"data row56 col0\" >대양주</td>\n      <td id=\"T_3f741_row56_col1\" class=\"data row56 col1\" >15379</td>\n      <td id=\"T_3f741_row56_col2\" class=\"data row56 col2\" >116</td>\n      <td id=\"T_3f741_row56_col3\" class=\"data row56 col3\" >38</td>\n      <td id=\"T_3f741_row56_col4\" class=\"data row56 col4\" >39</td>\n      <td id=\"T_3f741_row56_col5\" class=\"data row56 col5\" >2052</td>\n      <td id=\"T_3f741_row56_col6\" class=\"data row56 col6\" >17624</td>\n    </tr>\n    <tr>\n      <th id=\"T_3f741_level0_row57\" class=\"row_heading level0 row57\" >57</th>\n      <td id=\"T_3f741_row57_col0\" class=\"data row57 col0\" >오스트레일리아</td>\n      <td id=\"T_3f741_row57_col1\" class=\"data row57 col1\" >12795</td>\n      <td id=\"T_3f741_row57_col2\" class=\"data row57 col2\" >93</td>\n      <td id=\"T_3f741_row57_col3\" class=\"data row57 col3\" >17</td>\n      <td id=\"T_3f741_row57_col4\" class=\"data row57 col4\" >34</td>\n      <td id=\"T_3f741_row57_col5\" class=\"data row57 col5\" >1346</td>\n      <td id=\"T_3f741_row57_col6\" class=\"data row57 col6\" >14285</td>\n    </tr>\n    <tr>\n      <th id=\"T_3f741_level0_row58\" class=\"row_heading level0 row58\" >58</th>\n      <td id=\"T_3f741_row58_col0\" class=\"data row58 col0\" >뉴질랜드</td>\n      <td id=\"T_3f741_row58_col1\" class=\"data row58 col1\" >2029</td>\n      <td id=\"T_3f741_row58_col2\" class=\"data row58 col2\" >20</td>\n      <td id=\"T_3f741_row58_col3\" class=\"data row58 col3\" >17</td>\n      <td id=\"T_3f741_row58_col4\" class=\"data row58 col4\" >5</td>\n      <td id=\"T_3f741_row58_col5\" class=\"data row58 col5\" >654</td>\n      <td id=\"T_3f741_row58_col6\" class=\"data row58 col6\" >2725</td>\n    </tr>\n    <tr>\n      <th id=\"T_3f741_level0_row59\" class=\"row_heading level0 row59\" >59</th>\n      <td id=\"T_3f741_row59_col0\" class=\"data row59 col0\" >대양주 기타</td>\n      <td id=\"T_3f741_row59_col1\" class=\"data row59 col1\" >555</td>\n      <td id=\"T_3f741_row59_col2\" class=\"data row59 col2\" >3</td>\n      <td id=\"T_3f741_row59_col3\" class=\"data row59 col3\" >4</td>\n      <td id=\"T_3f741_row59_col4\" class=\"data row59 col4\" >0</td>\n      <td id=\"T_3f741_row59_col5\" class=\"data row59 col5\" >52</td>\n      <td id=\"T_3f741_row59_col6\" class=\"data row59 col6\" >614</td>\n    </tr>\n    <tr>\n      <th id=\"T_3f741_level0_row60\" class=\"row_heading level0 row60\" >60</th>\n      <td id=\"T_3f741_row60_col0\" class=\"data row60 col0\" >아프리카주</td>\n      <td id=\"T_3f741_row60_col1\" class=\"data row60 col1\" >1136</td>\n      <td id=\"T_3f741_row60_col2\" class=\"data row60 col2\" >727</td>\n      <td id=\"T_3f741_row60_col3\" class=\"data row60 col3\" >91</td>\n      <td id=\"T_3f741_row60_col4\" class=\"data row60 col4\" >212</td>\n      <td id=\"T_3f741_row60_col5\" class=\"data row60 col5\" >1524</td>\n      <td id=\"T_3f741_row60_col6\" class=\"data row60 col6\" >3690</td>\n    </tr>\n    <tr>\n      <th id=\"T_3f741_level0_row61\" class=\"row_heading level0 row61\" >61</th>\n      <td id=\"T_3f741_row61_col0\" class=\"data row61 col0\" >남아프리카공화국</td>\n      <td id=\"T_3f741_row61_col1\" class=\"data row61 col1\" >368</td>\n      <td id=\"T_3f741_row61_col2\" class=\"data row61 col2\" >9</td>\n      <td id=\"T_3f741_row61_col3\" class=\"data row61 col3\" >1</td>\n      <td id=\"T_3f741_row61_col4\" class=\"data row61 col4\" >6</td>\n      <td id=\"T_3f741_row61_col5\" class=\"data row61 col5\" >616</td>\n      <td id=\"T_3f741_row61_col6\" class=\"data row61 col6\" >1000</td>\n    </tr>\n    <tr>\n      <th id=\"T_3f741_level0_row62\" class=\"row_heading level0 row62\" >62</th>\n      <td id=\"T_3f741_row62_col0\" class=\"data row62 col0\" >아프리카 기타</td>\n      <td id=\"T_3f741_row62_col1\" class=\"data row62 col1\" >768</td>\n      <td id=\"T_3f741_row62_col2\" class=\"data row62 col2\" >718</td>\n      <td id=\"T_3f741_row62_col3\" class=\"data row62 col3\" >90</td>\n      <td id=\"T_3f741_row62_col4\" class=\"data row62 col4\" >206</td>\n      <td id=\"T_3f741_row62_col5\" class=\"data row62 col5\" >908</td>\n      <td id=\"T_3f741_row62_col6\" class=\"data row62 col6\" >2690</td>\n    </tr>\n    <tr>\n      <th id=\"T_3f741_level0_row63\" class=\"row_heading level0 row63\" >63</th>\n      <td id=\"T_3f741_row63_col0\" class=\"data row63 col0\" >기타대륙</td>\n      <td id=\"T_3f741_row63_col1\" class=\"data row63 col1\" >33</td>\n      <td id=\"T_3f741_row63_col2\" class=\"data row63 col2\" >4</td>\n      <td id=\"T_3f741_row63_col3\" class=\"data row63 col3\" >0</td>\n      <td id=\"T_3f741_row63_col4\" class=\"data row63 col4\" >1</td>\n      <td id=\"T_3f741_row63_col5\" class=\"data row63 col5\" >16</td>\n      <td id=\"T_3f741_row63_col6\" class=\"data row63 col6\" >54</td>\n    </tr>\n    <tr>\n      <th id=\"T_3f741_level0_row64\" class=\"row_heading level0 row64\" >64</th>\n      <td id=\"T_3f741_row64_col0\" class=\"data row64 col0\" >국적미상</td>\n      <td id=\"T_3f741_row64_col1\" class=\"data row64 col1\" >33</td>\n      <td id=\"T_3f741_row64_col2\" class=\"data row64 col2\" >4</td>\n      <td id=\"T_3f741_row64_col3\" class=\"data row64 col3\" >0</td>\n      <td id=\"T_3f741_row64_col4\" class=\"data row64 col4\" >1</td>\n      <td id=\"T_3f741_row64_col5\" class=\"data row64 col5\" >16</td>\n      <td id=\"T_3f741_row64_col6\" class=\"data row64 col6\" >54</td>\n    </tr>\n    <tr>\n      <th id=\"T_3f741_level0_row65\" class=\"row_heading level0 row65\" >65</th>\n      <td id=\"T_3f741_row65_col0\" class=\"data row65 col0\" >교포소계</td>\n      <td id=\"T_3f741_row65_col1\" class=\"data row65 col1\" >0</td>\n      <td id=\"T_3f741_row65_col2\" class=\"data row65 col2\" >0</td>\n      <td id=\"T_3f741_row65_col3\" class=\"data row65 col3\" >0</td>\n      <td id=\"T_3f741_row65_col4\" class=\"data row65 col4\" >0</td>\n      <td id=\"T_3f741_row65_col5\" class=\"data row65 col5\" >15526</td>\n      <td id=\"T_3f741_row65_col6\" class=\"data row65 col6\" >15526</td>\n    </tr>\n    <tr>\n      <th id=\"T_3f741_level0_row66\" class=\"row_heading level0 row66\" >66</th>\n      <td id=\"T_3f741_row66_col0\" class=\"data row66 col0\" >교포</td>\n      <td id=\"T_3f741_row66_col1\" class=\"data row66 col1\" >0</td>\n      <td id=\"T_3f741_row66_col2\" class=\"data row66 col2\" >0</td>\n      <td id=\"T_3f741_row66_col3\" class=\"data row66 col3\" >0</td>\n      <td id=\"T_3f741_row66_col4\" class=\"data row66 col4\" >0</td>\n      <td id=\"T_3f741_row66_col5\" class=\"data row66 col5\" >15526</td>\n      <td id=\"T_3f741_row66_col6\" class=\"data row66 col6\" >15526</td>\n    </tr>\n  </tbody>\n</table>\n"
     },
     "execution_count": 8,
     "metadata": {},
     "output_type": "execute_result"
    }
   ],
   "source": [
    "## cmap 판다스 DF 칼라맵\n",
    "'''\n",
    "'Accent', 'Accent_r', 'Blues', 'Blues_r', \n",
    "'BrBG', 'BrBG_r', 'BuGn', 'BuGn_r', 'BuPu', 'BuPu_r', \n",
    "'CMRmap', 'CMRmap_r', 'Dark2', 'Dark2_r', 'GnBu', 'GnBu_r', \n",
    "'Grays', 'Greens', 'Greens_r', 'Greys', 'Greys_r', 'OrRd', 'OrRd_r', \n",
    "'Oranges', 'Oranges_r', 'PRGn', 'PRGn_r', 'Paired', 'Paired_r', \n",
    "'Pastel1', 'Pastel1_r', 'Pastel2', 'Pastel2_r', \n",
    "'PiYG', 'PiYG_r', 'PuBu', 'PuBuGn', 'PuBuGn_r', 'PuBu_r', \n",
    "'PuOr', 'PuOr_r', 'PuRd', 'PuRd_r', 'Purples', 'Purples_r', \n",
    "'RdBu', 'RdBu_r', 'RdGy', 'RdGy_r', 'RdPu', 'RdPu_r', \n",
    "'RdYlBu', 'RdYlBu_r', 'RdYlGn', 'RdYlGn_r', \n",
    "'Reds', 'Reds_r', 'Set1', 'Set1_r', 'Set2', 'Set2_r', 'Set3', 'Set3_r', \n",
    "'Spectral', 'Spectral_r', 'Wistia', 'Wistia_r', \n",
    "'YlGn', 'YlGnBu', 'YlGnBu_r', 'YlGn_r', 'YlOrBr', 'YlOrBr_r', 'YlOrRd', 'YlOrRd_r', \n",
    "'afmhot', 'afmhot_r', 'autumn', 'autumn_r', 'binary', 'binary_r', \n",
    "'bone', 'bone_r', 'brg', 'brg_r', 'bwr', 'bwr_r', 'cividis', 'cividis_r', \n",
    "'cool', 'cool_r', 'coolwarm', 'coolwarm_r', 'copper', 'copper_r', 'cubehelix', \n",
    "'cubehelix_r', 'flag', 'flag_r', 'gist_earth', 'gist_earth_r', \n",
    "'gist_gray', 'gist_gray_r', 'gist_grey', 'gist_heat', 'gist_heat_r', 'gist_ncar',\n",
    "'gist_ncar_r', 'gist_rainbow', 'gist_rainbow_r', 'gist_stern', 'gist_stern_r', \n",
    "'gist_yarg', 'gist_yarg_r', 'gist_yerg', 'gnuplot', 'gnuplot2', 'gnuplot2_r',\n",
    "'gnuplot_r', 'gray', 'gray_r', 'grey', 'hot', 'hot_r', 'hsv', 'hsv_r', \n",
    "'inferno', 'inferno_r', 'jet', 'jet_r', 'magma', 'magma_r', \n",
    "'nipy_spectral', 'nipy_spectral_r', 'ocean', 'ocean_r', \n",
    "'pink', 'pink_r', 'plasma', 'plasma_r', 'prism', 'prism_r', \n",
    "'rainbow', 'rainbow_r', 'seismic', 'seismic_r', 'spring', 'spring_r', \n",
    "'summer', 'summer_r', 'tab10', 'tab10_r', 'tab20', 'tab20_r', 'tab20b', 'tab20b_r', 'tab20c', 'tab20c_r', \n",
    "'terrain', 'terrain_r', 'turbo', 'turbo_r', \n",
    "'twilight', 'twilight_r', 'twilight_shifted', 'twilight_shifted_r', 'viridis', 'viridis_r', 'winter', 'winter_r'\n",
    "'''\n",
    "kto_201901[condition]\n",
    "kto_201901.style.background_gradient(axis=None, vmin=0, vmax=200_000, cmap='YlGnBu')"
   ]
  },
  {
   "cell_type": "code",
   "execution_count": 9,
   "metadata": {
    "ExecuteTime": {
     "end_time": "2024-03-13T00:14:18.418260Z",
     "start_time": "2024-03-13T00:14:18.413326Z"
    }
   },
   "outputs": [
    {
     "data": {
      "text/plain": "         국적      관광     상용    공용  유학/연수      기타       계     기준년월\n0      아시아주  765082  10837  1423  14087  125521  916950  2019-01\n1        일본  198805   2233   127    785    4576  206526  2019-01\n2        대만   86393     74    22    180    1285   87954  2019-01\n3        홍콩   34653     59     2     90    1092   35896  2019-01\n4       마카오    2506      2     0     17      45    2570  2019-01\n..      ...     ...    ...   ...    ...     ...     ...      ...\n62  아프리카 기타     768    718    90    206     908    2690  2019-01\n63     기타대륙      33      4     0      1      16      54  2019-01\n64     국적미상      33      4     0      1      16      54  2019-01\n65     교포소계       0      0     0      0   15526   15526  2019-01\n66       교포       0      0     0      0   15526   15526  2019-01\n\n[67 rows x 8 columns]",
      "text/html": "<div>\n<style scoped>\n    .dataframe tbody tr th:only-of-type {\n        vertical-align: middle;\n    }\n\n    .dataframe tbody tr th {\n        vertical-align: top;\n    }\n\n    .dataframe thead th {\n        text-align: right;\n    }\n</style>\n<table border=\"1\" class=\"dataframe\">\n  <thead>\n    <tr style=\"text-align: right;\">\n      <th></th>\n      <th>국적</th>\n      <th>관광</th>\n      <th>상용</th>\n      <th>공용</th>\n      <th>유학/연수</th>\n      <th>기타</th>\n      <th>계</th>\n      <th>기준년월</th>\n    </tr>\n  </thead>\n  <tbody>\n    <tr>\n      <th>0</th>\n      <td>아시아주</td>\n      <td>765082</td>\n      <td>10837</td>\n      <td>1423</td>\n      <td>14087</td>\n      <td>125521</td>\n      <td>916950</td>\n      <td>2019-01</td>\n    </tr>\n    <tr>\n      <th>1</th>\n      <td>일본</td>\n      <td>198805</td>\n      <td>2233</td>\n      <td>127</td>\n      <td>785</td>\n      <td>4576</td>\n      <td>206526</td>\n      <td>2019-01</td>\n    </tr>\n    <tr>\n      <th>2</th>\n      <td>대만</td>\n      <td>86393</td>\n      <td>74</td>\n      <td>22</td>\n      <td>180</td>\n      <td>1285</td>\n      <td>87954</td>\n      <td>2019-01</td>\n    </tr>\n    <tr>\n      <th>3</th>\n      <td>홍콩</td>\n      <td>34653</td>\n      <td>59</td>\n      <td>2</td>\n      <td>90</td>\n      <td>1092</td>\n      <td>35896</td>\n      <td>2019-01</td>\n    </tr>\n    <tr>\n      <th>4</th>\n      <td>마카오</td>\n      <td>2506</td>\n      <td>2</td>\n      <td>0</td>\n      <td>17</td>\n      <td>45</td>\n      <td>2570</td>\n      <td>2019-01</td>\n    </tr>\n    <tr>\n      <th>...</th>\n      <td>...</td>\n      <td>...</td>\n      <td>...</td>\n      <td>...</td>\n      <td>...</td>\n      <td>...</td>\n      <td>...</td>\n      <td>...</td>\n    </tr>\n    <tr>\n      <th>62</th>\n      <td>아프리카 기타</td>\n      <td>768</td>\n      <td>718</td>\n      <td>90</td>\n      <td>206</td>\n      <td>908</td>\n      <td>2690</td>\n      <td>2019-01</td>\n    </tr>\n    <tr>\n      <th>63</th>\n      <td>기타대륙</td>\n      <td>33</td>\n      <td>4</td>\n      <td>0</td>\n      <td>1</td>\n      <td>16</td>\n      <td>54</td>\n      <td>2019-01</td>\n    </tr>\n    <tr>\n      <th>64</th>\n      <td>국적미상</td>\n      <td>33</td>\n      <td>4</td>\n      <td>0</td>\n      <td>1</td>\n      <td>16</td>\n      <td>54</td>\n      <td>2019-01</td>\n    </tr>\n    <tr>\n      <th>65</th>\n      <td>교포소계</td>\n      <td>0</td>\n      <td>0</td>\n      <td>0</td>\n      <td>0</td>\n      <td>15526</td>\n      <td>15526</td>\n      <td>2019-01</td>\n    </tr>\n    <tr>\n      <th>66</th>\n      <td>교포</td>\n      <td>0</td>\n      <td>0</td>\n      <td>0</td>\n      <td>0</td>\n      <td>15526</td>\n      <td>15526</td>\n      <td>2019-01</td>\n    </tr>\n  </tbody>\n</table>\n<p>67 rows × 8 columns</p>\n</div>"
     },
     "execution_count": 9,
     "metadata": {},
     "output_type": "execute_result"
    }
   ],
   "source": [
    "## 2. 기준년월 컬럼 추가\n",
    "kto_201901['기준년월'] = '2019-01'\n",
    "kto_201901"
   ]
  },
  {
   "cell_type": "code",
   "execution_count": 10,
   "metadata": {
    "ExecuteTime": {
     "end_time": "2024-03-13T00:14:18.421745Z",
     "start_time": "2024-03-13T00:14:18.419062Z"
    }
   },
   "outputs": [
    {
     "data": {
      "text/plain": "array(['아시아주', '일본', '대만', '홍콩', '마카오', '태국', '말레이시아', '필리핀', '인도네시아',\n       '싱가포르', '미얀마', '베트남', '인도', '스리랑카', '파키스탄', '방글라데시', '캄보디아', '몽골',\n       '중국', '이란', '이스라엘', '터키', '우즈베키스탄', '카자흐스탄', 'GCC', '아시아 기타', '미주',\n       '미국', '캐나다', '멕시코', '브라질', '미주 기타', '구주', '영국', '독일', '프랑스',\n       '네덜란드', '스웨덴', '스위스', '이탈리아', '덴마크', '노르웨이', '벨기에', '오스트리아', '스페인',\n       '그리스', '포르투갈', '핀란드', '아일랜드', '우크라이나', '러시아', '크로아티아', '루마니아',\n       '불가리아', '폴란드', '구주 기타', '대양주', '오스트레일리아', '뉴질랜드', '대양주 기타',\n       '아프리카주', '남아프리카공화국', '아프리카 기타', '기타대륙', '국적미상', '교포소계', '교포'],\n      dtype=object)"
     },
     "execution_count": 10,
     "metadata": {},
     "output_type": "execute_result"
    }
   ],
   "source": [
    "## 3. 국적데이터만 추출\n",
    "kto_201901['국적'].unique()"
   ]
  },
  {
   "cell_type": "code",
   "execution_count": 11,
   "metadata": {
    "ExecuteTime": {
     "end_time": "2024-03-13T00:14:18.424330Z",
     "start_time": "2024-03-13T00:14:18.422486Z"
    }
   },
   "outputs": [
    {
     "name": "stdout",
     "output_type": "stream",
     "text": [
      "아시아주\n",
      "미주\n",
      "구주\n",
      "대양주\n",
      "아프리카주\n"
     ]
    }
   ],
   "source": [
    "## 8개 박에 안되는 데이터를 뽑아낼려고 코딩하는 것은 멍청한 짓(!)\n",
    "for item in kto_201901['국적']:\n",
    "    if item.strip()[-1] == '주':\n",
    "        print(item)"
   ]
  },
  {
   "cell_type": "code",
   "execution_count": 12,
   "metadata": {
    "ExecuteTime": {
     "end_time": "2024-03-13T00:14:18.427459Z",
     "start_time": "2024-03-13T00:14:18.425333Z"
    }
   },
   "outputs": [
    {
     "data": {
      "text/plain": "['아시아주', '미주', '구주', '대양주', '아프리카주', '기타대륙', '교포소계']"
     },
     "execution_count": 12,
     "metadata": {},
     "output_type": "execute_result"
    }
   ],
   "source": [
    "## 대륙 리스트, 총 7개\n",
    "continent_list = ['아시아주', '미주', '구주', '대양주', '아프리카주', '기타대륙', '교포소계']\n",
    "continent_list"
   ]
  },
  {
   "cell_type": "code",
   "execution_count": 13,
   "metadata": {
    "ExecuteTime": {
     "end_time": "2024-03-13T00:14:18.430766Z",
     "start_time": "2024-03-13T00:14:18.428171Z"
    }
   },
   "outputs": [
    {
     "data": {
      "text/plain": "0        아시아주\n1          일본\n2          대만\n3          홍콩\n4         마카오\n       ...   \n62    아프리카 기타\n63       기타대륙\n64       국적미상\n65       교포소계\n66         교포\nName: 국적, Length: 67, dtype: object"
     },
     "execution_count": 13,
     "metadata": {},
     "output_type": "execute_result"
    }
   ],
   "source": [
    "## 대륙을 뺀 국적리스트 일단 보류\n",
    "kto_201901['국적']"
   ]
  },
  {
   "cell_type": "code",
   "execution_count": 14,
   "metadata": {
    "ExecuteTime": {
     "end_time": "2024-03-13T00:14:18.434017Z",
     "start_time": "2024-03-13T00:14:18.431418Z"
    }
   },
   "outputs": [
    {
     "data": {
      "text/plain": "0        아시아주\n1          일본\n2          대만\n3          홍콩\n4         마카오\n       ...   \n62    아프리카 기타\n63       기타대륙\n64       국적미상\n65       교포소계\n66         교포\nName: 국적, Length: 67, dtype: object"
     },
     "execution_count": 14,
     "metadata": {},
     "output_type": "execute_result"
    }
   ],
   "source": [
    "kto_201901.국적"
   ]
  },
  {
   "cell_type": "code",
   "execution_count": 15,
   "metadata": {
    "ExecuteTime": {
     "end_time": "2024-03-13T00:14:18.437673Z",
     "start_time": "2024-03-13T00:14:18.434661Z"
    }
   },
   "outputs": [
    {
     "data": {
      "text/plain": "array(['일본', '대만', '홍콩', '마카오', '태국', '말레이시아', '필리핀', '인도네시아', '싱가포르',\n       '미얀마', '베트남', '인도', '스리랑카', '파키스탄', '방글라데시', '캄보디아', '몽골', '중국',\n       '이란', '이스라엘', '터키', '우즈베키스탄', '카자흐스탄', 'GCC', '아시아 기타', '미국',\n       '캐나다', '멕시코', '브라질', '미주 기타', '영국', '독일', '프랑스', '네덜란드', '스웨덴',\n       '스위스', '이탈리아', '덴마크', '노르웨이', '벨기에', '오스트리아', '스페인', '그리스', '포르투갈',\n       '핀란드', '아일랜드', '우크라이나', '러시아', '크로아티아', '루마니아', '불가리아', '폴란드',\n       '구주 기타', '오스트레일리아', '뉴질랜드', '대양주 기타', '남아프리카공화국', '아프리카 기타',\n       '국적미상', '교포'], dtype=object)"
     },
     "execution_count": 15,
     "metadata": {},
     "output_type": "execute_result"
    }
   ],
   "source": [
    "## 4. 대륙외 국적들만 뽑아내기\n",
    "condition = (kto_201901['국적'].isin(continent_list) == False)\n",
    "kto201901_countries = kto_201901[condition]\n",
    "kto201901_countries['국적'].unique()"
   ]
  },
  {
   "cell_type": "code",
   "execution_count": 16,
   "metadata": {
    "ExecuteTime": {
     "end_time": "2024-03-13T00:14:18.439712Z",
     "start_time": "2024-03-13T00:14:18.438252Z"
    }
   },
   "outputs": [],
   "source": [
    "# 중간에 비는 인덱스없이 다시 지정, inplace=True 기존 데이터를 대체해줌 \n",
    "kto201901_countries.reset_index(drop=True, inplace=True)"
   ]
  },
  {
   "cell_type": "code",
   "execution_count": 17,
   "metadata": {
    "ExecuteTime": {
     "end_time": "2024-03-13T00:14:18.445834Z",
     "start_time": "2024-03-13T00:14:18.440235Z"
    }
   },
   "outputs": [
    {
     "data": {
      "text/plain": "          국적      관광    상용    공용  유학/연수     기타       계     기준년월\n0         일본  198805  2233   127    785   4576  206526  2019-01\n1         대만   86393    74    22    180   1285   87954  2019-01\n2         홍콩   34653    59     2     90   1092   35896  2019-01\n3        마카오    2506     2     0     17     45    2570  2019-01\n4         태국   34004    37   199     96   6998   41334  2019-01\n5      말레이시아   19043    95     7     99   2821   22065  2019-01\n6        필리핀   14279   211   161    184  15638   30473  2019-01\n7      인도네시아   14183   136    38    187   4298   18842  2019-01\n8       싱가포르    8372    94     8     48   1333    9855  2019-01\n9        미얀마    1304    10    31     67   3877    5289  2019-01\n10       베트남   10739   763   110   1667   6904   20183  2019-01\n11        인도    2318  2656    46    177   3474    8671  2019-01\n12      스리랑카     157    54     5     28   1043    1287  2019-01\n13      파키스탄     238   178    10    193    413    1032  2019-01\n14     방글라데시     149   126    27     97    848    1247  2019-01\n15      캄보디아     635    39    55     51   1915    2695  2019-01\n16        몽골    8358    77   304    484    562    9785  2019-01\n17        중국  320113  2993   138   8793  60777  392814  2019-01\n18        이란      60    45    10     23     46     184  2019-01\n19      이스라엘     727    12     0      9     57     805  2019-01\n20        터키     792    13    32     36    912    1785  2019-01\n21    우즈베키스탄    1958   561     0    407   2828    5754  2019-01\n22     카자흐스탄    2185    24     7     92   1266    3574  2019-01\n23       GCC    1550    37    14     72    103    1776  2019-01\n24    아시아 기타    1561   308    70    205   2410    4554  2019-01\n25        미국   42989   418  2578    229  16523   62737  2019-01\n26       캐나다    8034    57    30     43   4296   12460  2019-01\n27       멕시코    1282    11     7     38    515    1853  2019-01\n28       브라질    1136    16     9     41    403    1605  2019-01\n29     미주 기타    1541    24    33    128    540    2266  2019-01\n30        영국    7982   175    17     41   1933   10148  2019-01\n31        독일    4925   278    19    177   1451    6850  2019-01\n32       프랑스    3773   297    48    288   1168    5574  2019-01\n33      네덜란드    1592    47    16     77    537    2269  2019-01\n34       스웨덴     844    29     6     18     85     982  2019-01\n35       스위스     613    18     0     19     97     747  2019-01\n36      이탈리아    1968    83    17     40    623    2731  2019-01\n37       덴마크     520    21     6     16    188     751  2019-01\n38      노르웨이     552    66     4     28    151     801  2019-01\n39       벨기에     490    24     4     22    169     709  2019-01\n40     오스트리아     544     8     2     13    209     776  2019-01\n41       스페인    1010    36    15     52    255    1368  2019-01\n42       그리스     481    17     4      0    273     775  2019-01\n43      포르투갈     416    14     0     13    121     564  2019-01\n44       핀란드     412    23     1     18    405     859  2019-01\n45      아일랜드     392    15     1      2    185     595  2019-01\n46     우크라이나     593    58     3     28   1580    2262  2019-01\n47       러시아   17260   181    37    191   7525   25194  2019-01\n48     크로아티아     226    12     0      3    250     491  2019-01\n49      루마니아     412     8     4      3    445     872  2019-01\n50      불가리아     154     1     1     10    265     431  2019-01\n51       폴란드     713    10     0     27    574    1324  2019-01\n52     구주 기타    1809    44    25     91    996    2965  2019-01\n53   오스트레일리아   12795    93    17     34   1346   14285  2019-01\n54      뉴질랜드    2029    20    17      5    654    2725  2019-01\n55    대양주 기타     555     3     4      0     52     614  2019-01\n56  남아프리카공화국     368     9     1      6    616    1000  2019-01\n57   아프리카 기타     768   718    90    206    908    2690  2019-01\n58      국적미상      33     4     0      1     16      54  2019-01\n59        교포       0     0     0      0  15526   15526  2019-01",
      "text/html": "<div>\n<style scoped>\n    .dataframe tbody tr th:only-of-type {\n        vertical-align: middle;\n    }\n\n    .dataframe tbody tr th {\n        vertical-align: top;\n    }\n\n    .dataframe thead th {\n        text-align: right;\n    }\n</style>\n<table border=\"1\" class=\"dataframe\">\n  <thead>\n    <tr style=\"text-align: right;\">\n      <th></th>\n      <th>국적</th>\n      <th>관광</th>\n      <th>상용</th>\n      <th>공용</th>\n      <th>유학/연수</th>\n      <th>기타</th>\n      <th>계</th>\n      <th>기준년월</th>\n    </tr>\n  </thead>\n  <tbody>\n    <tr>\n      <th>0</th>\n      <td>일본</td>\n      <td>198805</td>\n      <td>2233</td>\n      <td>127</td>\n      <td>785</td>\n      <td>4576</td>\n      <td>206526</td>\n      <td>2019-01</td>\n    </tr>\n    <tr>\n      <th>1</th>\n      <td>대만</td>\n      <td>86393</td>\n      <td>74</td>\n      <td>22</td>\n      <td>180</td>\n      <td>1285</td>\n      <td>87954</td>\n      <td>2019-01</td>\n    </tr>\n    <tr>\n      <th>2</th>\n      <td>홍콩</td>\n      <td>34653</td>\n      <td>59</td>\n      <td>2</td>\n      <td>90</td>\n      <td>1092</td>\n      <td>35896</td>\n      <td>2019-01</td>\n    </tr>\n    <tr>\n      <th>3</th>\n      <td>마카오</td>\n      <td>2506</td>\n      <td>2</td>\n      <td>0</td>\n      <td>17</td>\n      <td>45</td>\n      <td>2570</td>\n      <td>2019-01</td>\n    </tr>\n    <tr>\n      <th>4</th>\n      <td>태국</td>\n      <td>34004</td>\n      <td>37</td>\n      <td>199</td>\n      <td>96</td>\n      <td>6998</td>\n      <td>41334</td>\n      <td>2019-01</td>\n    </tr>\n    <tr>\n      <th>5</th>\n      <td>말레이시아</td>\n      <td>19043</td>\n      <td>95</td>\n      <td>7</td>\n      <td>99</td>\n      <td>2821</td>\n      <td>22065</td>\n      <td>2019-01</td>\n    </tr>\n    <tr>\n      <th>6</th>\n      <td>필리핀</td>\n      <td>14279</td>\n      <td>211</td>\n      <td>161</td>\n      <td>184</td>\n      <td>15638</td>\n      <td>30473</td>\n      <td>2019-01</td>\n    </tr>\n    <tr>\n      <th>7</th>\n      <td>인도네시아</td>\n      <td>14183</td>\n      <td>136</td>\n      <td>38</td>\n      <td>187</td>\n      <td>4298</td>\n      <td>18842</td>\n      <td>2019-01</td>\n    </tr>\n    <tr>\n      <th>8</th>\n      <td>싱가포르</td>\n      <td>8372</td>\n      <td>94</td>\n      <td>8</td>\n      <td>48</td>\n      <td>1333</td>\n      <td>9855</td>\n      <td>2019-01</td>\n    </tr>\n    <tr>\n      <th>9</th>\n      <td>미얀마</td>\n      <td>1304</td>\n      <td>10</td>\n      <td>31</td>\n      <td>67</td>\n      <td>3877</td>\n      <td>5289</td>\n      <td>2019-01</td>\n    </tr>\n    <tr>\n      <th>10</th>\n      <td>베트남</td>\n      <td>10739</td>\n      <td>763</td>\n      <td>110</td>\n      <td>1667</td>\n      <td>6904</td>\n      <td>20183</td>\n      <td>2019-01</td>\n    </tr>\n    <tr>\n      <th>11</th>\n      <td>인도</td>\n      <td>2318</td>\n      <td>2656</td>\n      <td>46</td>\n      <td>177</td>\n      <td>3474</td>\n      <td>8671</td>\n      <td>2019-01</td>\n    </tr>\n    <tr>\n      <th>12</th>\n      <td>스리랑카</td>\n      <td>157</td>\n      <td>54</td>\n      <td>5</td>\n      <td>28</td>\n      <td>1043</td>\n      <td>1287</td>\n      <td>2019-01</td>\n    </tr>\n    <tr>\n      <th>13</th>\n      <td>파키스탄</td>\n      <td>238</td>\n      <td>178</td>\n      <td>10</td>\n      <td>193</td>\n      <td>413</td>\n      <td>1032</td>\n      <td>2019-01</td>\n    </tr>\n    <tr>\n      <th>14</th>\n      <td>방글라데시</td>\n      <td>149</td>\n      <td>126</td>\n      <td>27</td>\n      <td>97</td>\n      <td>848</td>\n      <td>1247</td>\n      <td>2019-01</td>\n    </tr>\n    <tr>\n      <th>15</th>\n      <td>캄보디아</td>\n      <td>635</td>\n      <td>39</td>\n      <td>55</td>\n      <td>51</td>\n      <td>1915</td>\n      <td>2695</td>\n      <td>2019-01</td>\n    </tr>\n    <tr>\n      <th>16</th>\n      <td>몽골</td>\n      <td>8358</td>\n      <td>77</td>\n      <td>304</td>\n      <td>484</td>\n      <td>562</td>\n      <td>9785</td>\n      <td>2019-01</td>\n    </tr>\n    <tr>\n      <th>17</th>\n      <td>중국</td>\n      <td>320113</td>\n      <td>2993</td>\n      <td>138</td>\n      <td>8793</td>\n      <td>60777</td>\n      <td>392814</td>\n      <td>2019-01</td>\n    </tr>\n    <tr>\n      <th>18</th>\n      <td>이란</td>\n      <td>60</td>\n      <td>45</td>\n      <td>10</td>\n      <td>23</td>\n      <td>46</td>\n      <td>184</td>\n      <td>2019-01</td>\n    </tr>\n    <tr>\n      <th>19</th>\n      <td>이스라엘</td>\n      <td>727</td>\n      <td>12</td>\n      <td>0</td>\n      <td>9</td>\n      <td>57</td>\n      <td>805</td>\n      <td>2019-01</td>\n    </tr>\n    <tr>\n      <th>20</th>\n      <td>터키</td>\n      <td>792</td>\n      <td>13</td>\n      <td>32</td>\n      <td>36</td>\n      <td>912</td>\n      <td>1785</td>\n      <td>2019-01</td>\n    </tr>\n    <tr>\n      <th>21</th>\n      <td>우즈베키스탄</td>\n      <td>1958</td>\n      <td>561</td>\n      <td>0</td>\n      <td>407</td>\n      <td>2828</td>\n      <td>5754</td>\n      <td>2019-01</td>\n    </tr>\n    <tr>\n      <th>22</th>\n      <td>카자흐스탄</td>\n      <td>2185</td>\n      <td>24</td>\n      <td>7</td>\n      <td>92</td>\n      <td>1266</td>\n      <td>3574</td>\n      <td>2019-01</td>\n    </tr>\n    <tr>\n      <th>23</th>\n      <td>GCC</td>\n      <td>1550</td>\n      <td>37</td>\n      <td>14</td>\n      <td>72</td>\n      <td>103</td>\n      <td>1776</td>\n      <td>2019-01</td>\n    </tr>\n    <tr>\n      <th>24</th>\n      <td>아시아 기타</td>\n      <td>1561</td>\n      <td>308</td>\n      <td>70</td>\n      <td>205</td>\n      <td>2410</td>\n      <td>4554</td>\n      <td>2019-01</td>\n    </tr>\n    <tr>\n      <th>25</th>\n      <td>미국</td>\n      <td>42989</td>\n      <td>418</td>\n      <td>2578</td>\n      <td>229</td>\n      <td>16523</td>\n      <td>62737</td>\n      <td>2019-01</td>\n    </tr>\n    <tr>\n      <th>26</th>\n      <td>캐나다</td>\n      <td>8034</td>\n      <td>57</td>\n      <td>30</td>\n      <td>43</td>\n      <td>4296</td>\n      <td>12460</td>\n      <td>2019-01</td>\n    </tr>\n    <tr>\n      <th>27</th>\n      <td>멕시코</td>\n      <td>1282</td>\n      <td>11</td>\n      <td>7</td>\n      <td>38</td>\n      <td>515</td>\n      <td>1853</td>\n      <td>2019-01</td>\n    </tr>\n    <tr>\n      <th>28</th>\n      <td>브라질</td>\n      <td>1136</td>\n      <td>16</td>\n      <td>9</td>\n      <td>41</td>\n      <td>403</td>\n      <td>1605</td>\n      <td>2019-01</td>\n    </tr>\n    <tr>\n      <th>29</th>\n      <td>미주 기타</td>\n      <td>1541</td>\n      <td>24</td>\n      <td>33</td>\n      <td>128</td>\n      <td>540</td>\n      <td>2266</td>\n      <td>2019-01</td>\n    </tr>\n    <tr>\n      <th>30</th>\n      <td>영국</td>\n      <td>7982</td>\n      <td>175</td>\n      <td>17</td>\n      <td>41</td>\n      <td>1933</td>\n      <td>10148</td>\n      <td>2019-01</td>\n    </tr>\n    <tr>\n      <th>31</th>\n      <td>독일</td>\n      <td>4925</td>\n      <td>278</td>\n      <td>19</td>\n      <td>177</td>\n      <td>1451</td>\n      <td>6850</td>\n      <td>2019-01</td>\n    </tr>\n    <tr>\n      <th>32</th>\n      <td>프랑스</td>\n      <td>3773</td>\n      <td>297</td>\n      <td>48</td>\n      <td>288</td>\n      <td>1168</td>\n      <td>5574</td>\n      <td>2019-01</td>\n    </tr>\n    <tr>\n      <th>33</th>\n      <td>네덜란드</td>\n      <td>1592</td>\n      <td>47</td>\n      <td>16</td>\n      <td>77</td>\n      <td>537</td>\n      <td>2269</td>\n      <td>2019-01</td>\n    </tr>\n    <tr>\n      <th>34</th>\n      <td>스웨덴</td>\n      <td>844</td>\n      <td>29</td>\n      <td>6</td>\n      <td>18</td>\n      <td>85</td>\n      <td>982</td>\n      <td>2019-01</td>\n    </tr>\n    <tr>\n      <th>35</th>\n      <td>스위스</td>\n      <td>613</td>\n      <td>18</td>\n      <td>0</td>\n      <td>19</td>\n      <td>97</td>\n      <td>747</td>\n      <td>2019-01</td>\n    </tr>\n    <tr>\n      <th>36</th>\n      <td>이탈리아</td>\n      <td>1968</td>\n      <td>83</td>\n      <td>17</td>\n      <td>40</td>\n      <td>623</td>\n      <td>2731</td>\n      <td>2019-01</td>\n    </tr>\n    <tr>\n      <th>37</th>\n      <td>덴마크</td>\n      <td>520</td>\n      <td>21</td>\n      <td>6</td>\n      <td>16</td>\n      <td>188</td>\n      <td>751</td>\n      <td>2019-01</td>\n    </tr>\n    <tr>\n      <th>38</th>\n      <td>노르웨이</td>\n      <td>552</td>\n      <td>66</td>\n      <td>4</td>\n      <td>28</td>\n      <td>151</td>\n      <td>801</td>\n      <td>2019-01</td>\n    </tr>\n    <tr>\n      <th>39</th>\n      <td>벨기에</td>\n      <td>490</td>\n      <td>24</td>\n      <td>4</td>\n      <td>22</td>\n      <td>169</td>\n      <td>709</td>\n      <td>2019-01</td>\n    </tr>\n    <tr>\n      <th>40</th>\n      <td>오스트리아</td>\n      <td>544</td>\n      <td>8</td>\n      <td>2</td>\n      <td>13</td>\n      <td>209</td>\n      <td>776</td>\n      <td>2019-01</td>\n    </tr>\n    <tr>\n      <th>41</th>\n      <td>스페인</td>\n      <td>1010</td>\n      <td>36</td>\n      <td>15</td>\n      <td>52</td>\n      <td>255</td>\n      <td>1368</td>\n      <td>2019-01</td>\n    </tr>\n    <tr>\n      <th>42</th>\n      <td>그리스</td>\n      <td>481</td>\n      <td>17</td>\n      <td>4</td>\n      <td>0</td>\n      <td>273</td>\n      <td>775</td>\n      <td>2019-01</td>\n    </tr>\n    <tr>\n      <th>43</th>\n      <td>포르투갈</td>\n      <td>416</td>\n      <td>14</td>\n      <td>0</td>\n      <td>13</td>\n      <td>121</td>\n      <td>564</td>\n      <td>2019-01</td>\n    </tr>\n    <tr>\n      <th>44</th>\n      <td>핀란드</td>\n      <td>412</td>\n      <td>23</td>\n      <td>1</td>\n      <td>18</td>\n      <td>405</td>\n      <td>859</td>\n      <td>2019-01</td>\n    </tr>\n    <tr>\n      <th>45</th>\n      <td>아일랜드</td>\n      <td>392</td>\n      <td>15</td>\n      <td>1</td>\n      <td>2</td>\n      <td>185</td>\n      <td>595</td>\n      <td>2019-01</td>\n    </tr>\n    <tr>\n      <th>46</th>\n      <td>우크라이나</td>\n      <td>593</td>\n      <td>58</td>\n      <td>3</td>\n      <td>28</td>\n      <td>1580</td>\n      <td>2262</td>\n      <td>2019-01</td>\n    </tr>\n    <tr>\n      <th>47</th>\n      <td>러시아</td>\n      <td>17260</td>\n      <td>181</td>\n      <td>37</td>\n      <td>191</td>\n      <td>7525</td>\n      <td>25194</td>\n      <td>2019-01</td>\n    </tr>\n    <tr>\n      <th>48</th>\n      <td>크로아티아</td>\n      <td>226</td>\n      <td>12</td>\n      <td>0</td>\n      <td>3</td>\n      <td>250</td>\n      <td>491</td>\n      <td>2019-01</td>\n    </tr>\n    <tr>\n      <th>49</th>\n      <td>루마니아</td>\n      <td>412</td>\n      <td>8</td>\n      <td>4</td>\n      <td>3</td>\n      <td>445</td>\n      <td>872</td>\n      <td>2019-01</td>\n    </tr>\n    <tr>\n      <th>50</th>\n      <td>불가리아</td>\n      <td>154</td>\n      <td>1</td>\n      <td>1</td>\n      <td>10</td>\n      <td>265</td>\n      <td>431</td>\n      <td>2019-01</td>\n    </tr>\n    <tr>\n      <th>51</th>\n      <td>폴란드</td>\n      <td>713</td>\n      <td>10</td>\n      <td>0</td>\n      <td>27</td>\n      <td>574</td>\n      <td>1324</td>\n      <td>2019-01</td>\n    </tr>\n    <tr>\n      <th>52</th>\n      <td>구주 기타</td>\n      <td>1809</td>\n      <td>44</td>\n      <td>25</td>\n      <td>91</td>\n      <td>996</td>\n      <td>2965</td>\n      <td>2019-01</td>\n    </tr>\n    <tr>\n      <th>53</th>\n      <td>오스트레일리아</td>\n      <td>12795</td>\n      <td>93</td>\n      <td>17</td>\n      <td>34</td>\n      <td>1346</td>\n      <td>14285</td>\n      <td>2019-01</td>\n    </tr>\n    <tr>\n      <th>54</th>\n      <td>뉴질랜드</td>\n      <td>2029</td>\n      <td>20</td>\n      <td>17</td>\n      <td>5</td>\n      <td>654</td>\n      <td>2725</td>\n      <td>2019-01</td>\n    </tr>\n    <tr>\n      <th>55</th>\n      <td>대양주 기타</td>\n      <td>555</td>\n      <td>3</td>\n      <td>4</td>\n      <td>0</td>\n      <td>52</td>\n      <td>614</td>\n      <td>2019-01</td>\n    </tr>\n    <tr>\n      <th>56</th>\n      <td>남아프리카공화국</td>\n      <td>368</td>\n      <td>9</td>\n      <td>1</td>\n      <td>6</td>\n      <td>616</td>\n      <td>1000</td>\n      <td>2019-01</td>\n    </tr>\n    <tr>\n      <th>57</th>\n      <td>아프리카 기타</td>\n      <td>768</td>\n      <td>718</td>\n      <td>90</td>\n      <td>206</td>\n      <td>908</td>\n      <td>2690</td>\n      <td>2019-01</td>\n    </tr>\n    <tr>\n      <th>58</th>\n      <td>국적미상</td>\n      <td>33</td>\n      <td>4</td>\n      <td>0</td>\n      <td>1</td>\n      <td>16</td>\n      <td>54</td>\n      <td>2019-01</td>\n    </tr>\n    <tr>\n      <th>59</th>\n      <td>교포</td>\n      <td>0</td>\n      <td>0</td>\n      <td>0</td>\n      <td>0</td>\n      <td>15526</td>\n      <td>15526</td>\n      <td>2019-01</td>\n    </tr>\n  </tbody>\n</table>\n</div>"
     },
     "execution_count": 17,
     "metadata": {},
     "output_type": "execute_result"
    }
   ],
   "source": [
    "kto201901_countries"
   ]
  },
  {
   "cell_type": "code",
   "execution_count": 18,
   "metadata": {
    "ExecuteTime": {
     "end_time": "2024-03-13T00:14:18.448312Z",
     "start_time": "2024-03-13T00:14:18.446528Z"
    }
   },
   "outputs": [
    {
     "name": "stdout",
     "output_type": "stream",
     "text": [
      "아시아주\n",
      "미주\n",
      "구주\n",
      "대양주\n",
      "아프리카주\n",
      "기타대륙\n",
      "교포소계\n"
     ]
    }
   ],
   "source": [
    "## 대륙컬럼을 추가 사전작업\n",
    "for i in continent_list:\n",
    "    print(i)"
   ]
  },
  {
   "cell_type": "code",
   "execution_count": 19,
   "metadata": {
    "ExecuteTime": {
     "end_time": "2024-03-13T00:14:18.450258Z",
     "start_time": "2024-03-13T00:14:18.448875Z"
    }
   },
   "outputs": [],
   "source": [
    "# 대륙 리스트 재구성\n",
    "continents = ['아시아']*25 + ['아메리카']*5 + ['유럽']*23 + ['오세아니아']*3 + ['아프리카']*2 + ['기타대륙'] + ['교포']"
   ]
  },
  {
   "cell_type": "code",
   "execution_count": 20,
   "metadata": {
    "ExecuteTime": {
     "end_time": "2024-03-13T00:14:18.452114Z",
     "start_time": "2024-03-13T00:14:18.450850Z"
    }
   },
   "outputs": [],
   "source": [
    "## SettingWithCopyWarning 해제하는 법\n",
    "pd.set_option('mode.chained_assignment', None)"
   ]
  },
  {
   "cell_type": "code",
   "execution_count": 21,
   "metadata": {
    "ExecuteTime": {
     "end_time": "2024-03-13T00:14:18.459129Z",
     "start_time": "2024-03-13T00:14:18.452676Z"
    }
   },
   "outputs": [
    {
     "data": {
      "text/plain": "          국적      관광    상용    공용  유학/연수     기타       계     기준년월     대륙\n0         일본  198805  2233   127    785   4576  206526  2019-01    아시아\n1         대만   86393    74    22    180   1285   87954  2019-01    아시아\n2         홍콩   34653    59     2     90   1092   35896  2019-01    아시아\n3        마카오    2506     2     0     17     45    2570  2019-01    아시아\n4         태국   34004    37   199     96   6998   41334  2019-01    아시아\n5      말레이시아   19043    95     7     99   2821   22065  2019-01    아시아\n6        필리핀   14279   211   161    184  15638   30473  2019-01    아시아\n7      인도네시아   14183   136    38    187   4298   18842  2019-01    아시아\n8       싱가포르    8372    94     8     48   1333    9855  2019-01    아시아\n9        미얀마    1304    10    31     67   3877    5289  2019-01    아시아\n10       베트남   10739   763   110   1667   6904   20183  2019-01    아시아\n11        인도    2318  2656    46    177   3474    8671  2019-01    아시아\n12      스리랑카     157    54     5     28   1043    1287  2019-01    아시아\n13      파키스탄     238   178    10    193    413    1032  2019-01    아시아\n14     방글라데시     149   126    27     97    848    1247  2019-01    아시아\n15      캄보디아     635    39    55     51   1915    2695  2019-01    아시아\n16        몽골    8358    77   304    484    562    9785  2019-01    아시아\n17        중국  320113  2993   138   8793  60777  392814  2019-01    아시아\n18        이란      60    45    10     23     46     184  2019-01    아시아\n19      이스라엘     727    12     0      9     57     805  2019-01    아시아\n20        터키     792    13    32     36    912    1785  2019-01    아시아\n21    우즈베키스탄    1958   561     0    407   2828    5754  2019-01    아시아\n22     카자흐스탄    2185    24     7     92   1266    3574  2019-01    아시아\n23       GCC    1550    37    14     72    103    1776  2019-01    아시아\n24    아시아 기타    1561   308    70    205   2410    4554  2019-01    아시아\n25        미국   42989   418  2578    229  16523   62737  2019-01   아메리카\n26       캐나다    8034    57    30     43   4296   12460  2019-01   아메리카\n27       멕시코    1282    11     7     38    515    1853  2019-01   아메리카\n28       브라질    1136    16     9     41    403    1605  2019-01   아메리카\n29     미주 기타    1541    24    33    128    540    2266  2019-01   아메리카\n30        영국    7982   175    17     41   1933   10148  2019-01     유럽\n31        독일    4925   278    19    177   1451    6850  2019-01     유럽\n32       프랑스    3773   297    48    288   1168    5574  2019-01     유럽\n33      네덜란드    1592    47    16     77    537    2269  2019-01     유럽\n34       스웨덴     844    29     6     18     85     982  2019-01     유럽\n35       스위스     613    18     0     19     97     747  2019-01     유럽\n36      이탈리아    1968    83    17     40    623    2731  2019-01     유럽\n37       덴마크     520    21     6     16    188     751  2019-01     유럽\n38      노르웨이     552    66     4     28    151     801  2019-01     유럽\n39       벨기에     490    24     4     22    169     709  2019-01     유럽\n40     오스트리아     544     8     2     13    209     776  2019-01     유럽\n41       스페인    1010    36    15     52    255    1368  2019-01     유럽\n42       그리스     481    17     4      0    273     775  2019-01     유럽\n43      포르투갈     416    14     0     13    121     564  2019-01     유럽\n44       핀란드     412    23     1     18    405     859  2019-01     유럽\n45      아일랜드     392    15     1      2    185     595  2019-01     유럽\n46     우크라이나     593    58     3     28   1580    2262  2019-01     유럽\n47       러시아   17260   181    37    191   7525   25194  2019-01     유럽\n48     크로아티아     226    12     0      3    250     491  2019-01     유럽\n49      루마니아     412     8     4      3    445     872  2019-01     유럽\n50      불가리아     154     1     1     10    265     431  2019-01     유럽\n51       폴란드     713    10     0     27    574    1324  2019-01     유럽\n52     구주 기타    1809    44    25     91    996    2965  2019-01     유럽\n53   오스트레일리아   12795    93    17     34   1346   14285  2019-01  오세아니아\n54      뉴질랜드    2029    20    17      5    654    2725  2019-01  오세아니아\n55    대양주 기타     555     3     4      0     52     614  2019-01  오세아니아\n56  남아프리카공화국     368     9     1      6    616    1000  2019-01   아프리카\n57   아프리카 기타     768   718    90    206    908    2690  2019-01   아프리카\n58      국적미상      33     4     0      1     16      54  2019-01   기타대륙\n59        교포       0     0     0      0  15526   15526  2019-01     교포",
      "text/html": "<div>\n<style scoped>\n    .dataframe tbody tr th:only-of-type {\n        vertical-align: middle;\n    }\n\n    .dataframe tbody tr th {\n        vertical-align: top;\n    }\n\n    .dataframe thead th {\n        text-align: right;\n    }\n</style>\n<table border=\"1\" class=\"dataframe\">\n  <thead>\n    <tr style=\"text-align: right;\">\n      <th></th>\n      <th>국적</th>\n      <th>관광</th>\n      <th>상용</th>\n      <th>공용</th>\n      <th>유학/연수</th>\n      <th>기타</th>\n      <th>계</th>\n      <th>기준년월</th>\n      <th>대륙</th>\n    </tr>\n  </thead>\n  <tbody>\n    <tr>\n      <th>0</th>\n      <td>일본</td>\n      <td>198805</td>\n      <td>2233</td>\n      <td>127</td>\n      <td>785</td>\n      <td>4576</td>\n      <td>206526</td>\n      <td>2019-01</td>\n      <td>아시아</td>\n    </tr>\n    <tr>\n      <th>1</th>\n      <td>대만</td>\n      <td>86393</td>\n      <td>74</td>\n      <td>22</td>\n      <td>180</td>\n      <td>1285</td>\n      <td>87954</td>\n      <td>2019-01</td>\n      <td>아시아</td>\n    </tr>\n    <tr>\n      <th>2</th>\n      <td>홍콩</td>\n      <td>34653</td>\n      <td>59</td>\n      <td>2</td>\n      <td>90</td>\n      <td>1092</td>\n      <td>35896</td>\n      <td>2019-01</td>\n      <td>아시아</td>\n    </tr>\n    <tr>\n      <th>3</th>\n      <td>마카오</td>\n      <td>2506</td>\n      <td>2</td>\n      <td>0</td>\n      <td>17</td>\n      <td>45</td>\n      <td>2570</td>\n      <td>2019-01</td>\n      <td>아시아</td>\n    </tr>\n    <tr>\n      <th>4</th>\n      <td>태국</td>\n      <td>34004</td>\n      <td>37</td>\n      <td>199</td>\n      <td>96</td>\n      <td>6998</td>\n      <td>41334</td>\n      <td>2019-01</td>\n      <td>아시아</td>\n    </tr>\n    <tr>\n      <th>5</th>\n      <td>말레이시아</td>\n      <td>19043</td>\n      <td>95</td>\n      <td>7</td>\n      <td>99</td>\n      <td>2821</td>\n      <td>22065</td>\n      <td>2019-01</td>\n      <td>아시아</td>\n    </tr>\n    <tr>\n      <th>6</th>\n      <td>필리핀</td>\n      <td>14279</td>\n      <td>211</td>\n      <td>161</td>\n      <td>184</td>\n      <td>15638</td>\n      <td>30473</td>\n      <td>2019-01</td>\n      <td>아시아</td>\n    </tr>\n    <tr>\n      <th>7</th>\n      <td>인도네시아</td>\n      <td>14183</td>\n      <td>136</td>\n      <td>38</td>\n      <td>187</td>\n      <td>4298</td>\n      <td>18842</td>\n      <td>2019-01</td>\n      <td>아시아</td>\n    </tr>\n    <tr>\n      <th>8</th>\n      <td>싱가포르</td>\n      <td>8372</td>\n      <td>94</td>\n      <td>8</td>\n      <td>48</td>\n      <td>1333</td>\n      <td>9855</td>\n      <td>2019-01</td>\n      <td>아시아</td>\n    </tr>\n    <tr>\n      <th>9</th>\n      <td>미얀마</td>\n      <td>1304</td>\n      <td>10</td>\n      <td>31</td>\n      <td>67</td>\n      <td>3877</td>\n      <td>5289</td>\n      <td>2019-01</td>\n      <td>아시아</td>\n    </tr>\n    <tr>\n      <th>10</th>\n      <td>베트남</td>\n      <td>10739</td>\n      <td>763</td>\n      <td>110</td>\n      <td>1667</td>\n      <td>6904</td>\n      <td>20183</td>\n      <td>2019-01</td>\n      <td>아시아</td>\n    </tr>\n    <tr>\n      <th>11</th>\n      <td>인도</td>\n      <td>2318</td>\n      <td>2656</td>\n      <td>46</td>\n      <td>177</td>\n      <td>3474</td>\n      <td>8671</td>\n      <td>2019-01</td>\n      <td>아시아</td>\n    </tr>\n    <tr>\n      <th>12</th>\n      <td>스리랑카</td>\n      <td>157</td>\n      <td>54</td>\n      <td>5</td>\n      <td>28</td>\n      <td>1043</td>\n      <td>1287</td>\n      <td>2019-01</td>\n      <td>아시아</td>\n    </tr>\n    <tr>\n      <th>13</th>\n      <td>파키스탄</td>\n      <td>238</td>\n      <td>178</td>\n      <td>10</td>\n      <td>193</td>\n      <td>413</td>\n      <td>1032</td>\n      <td>2019-01</td>\n      <td>아시아</td>\n    </tr>\n    <tr>\n      <th>14</th>\n      <td>방글라데시</td>\n      <td>149</td>\n      <td>126</td>\n      <td>27</td>\n      <td>97</td>\n      <td>848</td>\n      <td>1247</td>\n      <td>2019-01</td>\n      <td>아시아</td>\n    </tr>\n    <tr>\n      <th>15</th>\n      <td>캄보디아</td>\n      <td>635</td>\n      <td>39</td>\n      <td>55</td>\n      <td>51</td>\n      <td>1915</td>\n      <td>2695</td>\n      <td>2019-01</td>\n      <td>아시아</td>\n    </tr>\n    <tr>\n      <th>16</th>\n      <td>몽골</td>\n      <td>8358</td>\n      <td>77</td>\n      <td>304</td>\n      <td>484</td>\n      <td>562</td>\n      <td>9785</td>\n      <td>2019-01</td>\n      <td>아시아</td>\n    </tr>\n    <tr>\n      <th>17</th>\n      <td>중국</td>\n      <td>320113</td>\n      <td>2993</td>\n      <td>138</td>\n      <td>8793</td>\n      <td>60777</td>\n      <td>392814</td>\n      <td>2019-01</td>\n      <td>아시아</td>\n    </tr>\n    <tr>\n      <th>18</th>\n      <td>이란</td>\n      <td>60</td>\n      <td>45</td>\n      <td>10</td>\n      <td>23</td>\n      <td>46</td>\n      <td>184</td>\n      <td>2019-01</td>\n      <td>아시아</td>\n    </tr>\n    <tr>\n      <th>19</th>\n      <td>이스라엘</td>\n      <td>727</td>\n      <td>12</td>\n      <td>0</td>\n      <td>9</td>\n      <td>57</td>\n      <td>805</td>\n      <td>2019-01</td>\n      <td>아시아</td>\n    </tr>\n    <tr>\n      <th>20</th>\n      <td>터키</td>\n      <td>792</td>\n      <td>13</td>\n      <td>32</td>\n      <td>36</td>\n      <td>912</td>\n      <td>1785</td>\n      <td>2019-01</td>\n      <td>아시아</td>\n    </tr>\n    <tr>\n      <th>21</th>\n      <td>우즈베키스탄</td>\n      <td>1958</td>\n      <td>561</td>\n      <td>0</td>\n      <td>407</td>\n      <td>2828</td>\n      <td>5754</td>\n      <td>2019-01</td>\n      <td>아시아</td>\n    </tr>\n    <tr>\n      <th>22</th>\n      <td>카자흐스탄</td>\n      <td>2185</td>\n      <td>24</td>\n      <td>7</td>\n      <td>92</td>\n      <td>1266</td>\n      <td>3574</td>\n      <td>2019-01</td>\n      <td>아시아</td>\n    </tr>\n    <tr>\n      <th>23</th>\n      <td>GCC</td>\n      <td>1550</td>\n      <td>37</td>\n      <td>14</td>\n      <td>72</td>\n      <td>103</td>\n      <td>1776</td>\n      <td>2019-01</td>\n      <td>아시아</td>\n    </tr>\n    <tr>\n      <th>24</th>\n      <td>아시아 기타</td>\n      <td>1561</td>\n      <td>308</td>\n      <td>70</td>\n      <td>205</td>\n      <td>2410</td>\n      <td>4554</td>\n      <td>2019-01</td>\n      <td>아시아</td>\n    </tr>\n    <tr>\n      <th>25</th>\n      <td>미국</td>\n      <td>42989</td>\n      <td>418</td>\n      <td>2578</td>\n      <td>229</td>\n      <td>16523</td>\n      <td>62737</td>\n      <td>2019-01</td>\n      <td>아메리카</td>\n    </tr>\n    <tr>\n      <th>26</th>\n      <td>캐나다</td>\n      <td>8034</td>\n      <td>57</td>\n      <td>30</td>\n      <td>43</td>\n      <td>4296</td>\n      <td>12460</td>\n      <td>2019-01</td>\n      <td>아메리카</td>\n    </tr>\n    <tr>\n      <th>27</th>\n      <td>멕시코</td>\n      <td>1282</td>\n      <td>11</td>\n      <td>7</td>\n      <td>38</td>\n      <td>515</td>\n      <td>1853</td>\n      <td>2019-01</td>\n      <td>아메리카</td>\n    </tr>\n    <tr>\n      <th>28</th>\n      <td>브라질</td>\n      <td>1136</td>\n      <td>16</td>\n      <td>9</td>\n      <td>41</td>\n      <td>403</td>\n      <td>1605</td>\n      <td>2019-01</td>\n      <td>아메리카</td>\n    </tr>\n    <tr>\n      <th>29</th>\n      <td>미주 기타</td>\n      <td>1541</td>\n      <td>24</td>\n      <td>33</td>\n      <td>128</td>\n      <td>540</td>\n      <td>2266</td>\n      <td>2019-01</td>\n      <td>아메리카</td>\n    </tr>\n    <tr>\n      <th>30</th>\n      <td>영국</td>\n      <td>7982</td>\n      <td>175</td>\n      <td>17</td>\n      <td>41</td>\n      <td>1933</td>\n      <td>10148</td>\n      <td>2019-01</td>\n      <td>유럽</td>\n    </tr>\n    <tr>\n      <th>31</th>\n      <td>독일</td>\n      <td>4925</td>\n      <td>278</td>\n      <td>19</td>\n      <td>177</td>\n      <td>1451</td>\n      <td>6850</td>\n      <td>2019-01</td>\n      <td>유럽</td>\n    </tr>\n    <tr>\n      <th>32</th>\n      <td>프랑스</td>\n      <td>3773</td>\n      <td>297</td>\n      <td>48</td>\n      <td>288</td>\n      <td>1168</td>\n      <td>5574</td>\n      <td>2019-01</td>\n      <td>유럽</td>\n    </tr>\n    <tr>\n      <th>33</th>\n      <td>네덜란드</td>\n      <td>1592</td>\n      <td>47</td>\n      <td>16</td>\n      <td>77</td>\n      <td>537</td>\n      <td>2269</td>\n      <td>2019-01</td>\n      <td>유럽</td>\n    </tr>\n    <tr>\n      <th>34</th>\n      <td>스웨덴</td>\n      <td>844</td>\n      <td>29</td>\n      <td>6</td>\n      <td>18</td>\n      <td>85</td>\n      <td>982</td>\n      <td>2019-01</td>\n      <td>유럽</td>\n    </tr>\n    <tr>\n      <th>35</th>\n      <td>스위스</td>\n      <td>613</td>\n      <td>18</td>\n      <td>0</td>\n      <td>19</td>\n      <td>97</td>\n      <td>747</td>\n      <td>2019-01</td>\n      <td>유럽</td>\n    </tr>\n    <tr>\n      <th>36</th>\n      <td>이탈리아</td>\n      <td>1968</td>\n      <td>83</td>\n      <td>17</td>\n      <td>40</td>\n      <td>623</td>\n      <td>2731</td>\n      <td>2019-01</td>\n      <td>유럽</td>\n    </tr>\n    <tr>\n      <th>37</th>\n      <td>덴마크</td>\n      <td>520</td>\n      <td>21</td>\n      <td>6</td>\n      <td>16</td>\n      <td>188</td>\n      <td>751</td>\n      <td>2019-01</td>\n      <td>유럽</td>\n    </tr>\n    <tr>\n      <th>38</th>\n      <td>노르웨이</td>\n      <td>552</td>\n      <td>66</td>\n      <td>4</td>\n      <td>28</td>\n      <td>151</td>\n      <td>801</td>\n      <td>2019-01</td>\n      <td>유럽</td>\n    </tr>\n    <tr>\n      <th>39</th>\n      <td>벨기에</td>\n      <td>490</td>\n      <td>24</td>\n      <td>4</td>\n      <td>22</td>\n      <td>169</td>\n      <td>709</td>\n      <td>2019-01</td>\n      <td>유럽</td>\n    </tr>\n    <tr>\n      <th>40</th>\n      <td>오스트리아</td>\n      <td>544</td>\n      <td>8</td>\n      <td>2</td>\n      <td>13</td>\n      <td>209</td>\n      <td>776</td>\n      <td>2019-01</td>\n      <td>유럽</td>\n    </tr>\n    <tr>\n      <th>41</th>\n      <td>스페인</td>\n      <td>1010</td>\n      <td>36</td>\n      <td>15</td>\n      <td>52</td>\n      <td>255</td>\n      <td>1368</td>\n      <td>2019-01</td>\n      <td>유럽</td>\n    </tr>\n    <tr>\n      <th>42</th>\n      <td>그리스</td>\n      <td>481</td>\n      <td>17</td>\n      <td>4</td>\n      <td>0</td>\n      <td>273</td>\n      <td>775</td>\n      <td>2019-01</td>\n      <td>유럽</td>\n    </tr>\n    <tr>\n      <th>43</th>\n      <td>포르투갈</td>\n      <td>416</td>\n      <td>14</td>\n      <td>0</td>\n      <td>13</td>\n      <td>121</td>\n      <td>564</td>\n      <td>2019-01</td>\n      <td>유럽</td>\n    </tr>\n    <tr>\n      <th>44</th>\n      <td>핀란드</td>\n      <td>412</td>\n      <td>23</td>\n      <td>1</td>\n      <td>18</td>\n      <td>405</td>\n      <td>859</td>\n      <td>2019-01</td>\n      <td>유럽</td>\n    </tr>\n    <tr>\n      <th>45</th>\n      <td>아일랜드</td>\n      <td>392</td>\n      <td>15</td>\n      <td>1</td>\n      <td>2</td>\n      <td>185</td>\n      <td>595</td>\n      <td>2019-01</td>\n      <td>유럽</td>\n    </tr>\n    <tr>\n      <th>46</th>\n      <td>우크라이나</td>\n      <td>593</td>\n      <td>58</td>\n      <td>3</td>\n      <td>28</td>\n      <td>1580</td>\n      <td>2262</td>\n      <td>2019-01</td>\n      <td>유럽</td>\n    </tr>\n    <tr>\n      <th>47</th>\n      <td>러시아</td>\n      <td>17260</td>\n      <td>181</td>\n      <td>37</td>\n      <td>191</td>\n      <td>7525</td>\n      <td>25194</td>\n      <td>2019-01</td>\n      <td>유럽</td>\n    </tr>\n    <tr>\n      <th>48</th>\n      <td>크로아티아</td>\n      <td>226</td>\n      <td>12</td>\n      <td>0</td>\n      <td>3</td>\n      <td>250</td>\n      <td>491</td>\n      <td>2019-01</td>\n      <td>유럽</td>\n    </tr>\n    <tr>\n      <th>49</th>\n      <td>루마니아</td>\n      <td>412</td>\n      <td>8</td>\n      <td>4</td>\n      <td>3</td>\n      <td>445</td>\n      <td>872</td>\n      <td>2019-01</td>\n      <td>유럽</td>\n    </tr>\n    <tr>\n      <th>50</th>\n      <td>불가리아</td>\n      <td>154</td>\n      <td>1</td>\n      <td>1</td>\n      <td>10</td>\n      <td>265</td>\n      <td>431</td>\n      <td>2019-01</td>\n      <td>유럽</td>\n    </tr>\n    <tr>\n      <th>51</th>\n      <td>폴란드</td>\n      <td>713</td>\n      <td>10</td>\n      <td>0</td>\n      <td>27</td>\n      <td>574</td>\n      <td>1324</td>\n      <td>2019-01</td>\n      <td>유럽</td>\n    </tr>\n    <tr>\n      <th>52</th>\n      <td>구주 기타</td>\n      <td>1809</td>\n      <td>44</td>\n      <td>25</td>\n      <td>91</td>\n      <td>996</td>\n      <td>2965</td>\n      <td>2019-01</td>\n      <td>유럽</td>\n    </tr>\n    <tr>\n      <th>53</th>\n      <td>오스트레일리아</td>\n      <td>12795</td>\n      <td>93</td>\n      <td>17</td>\n      <td>34</td>\n      <td>1346</td>\n      <td>14285</td>\n      <td>2019-01</td>\n      <td>오세아니아</td>\n    </tr>\n    <tr>\n      <th>54</th>\n      <td>뉴질랜드</td>\n      <td>2029</td>\n      <td>20</td>\n      <td>17</td>\n      <td>5</td>\n      <td>654</td>\n      <td>2725</td>\n      <td>2019-01</td>\n      <td>오세아니아</td>\n    </tr>\n    <tr>\n      <th>55</th>\n      <td>대양주 기타</td>\n      <td>555</td>\n      <td>3</td>\n      <td>4</td>\n      <td>0</td>\n      <td>52</td>\n      <td>614</td>\n      <td>2019-01</td>\n      <td>오세아니아</td>\n    </tr>\n    <tr>\n      <th>56</th>\n      <td>남아프리카공화국</td>\n      <td>368</td>\n      <td>9</td>\n      <td>1</td>\n      <td>6</td>\n      <td>616</td>\n      <td>1000</td>\n      <td>2019-01</td>\n      <td>아프리카</td>\n    </tr>\n    <tr>\n      <th>57</th>\n      <td>아프리카 기타</td>\n      <td>768</td>\n      <td>718</td>\n      <td>90</td>\n      <td>206</td>\n      <td>908</td>\n      <td>2690</td>\n      <td>2019-01</td>\n      <td>아프리카</td>\n    </tr>\n    <tr>\n      <th>58</th>\n      <td>국적미상</td>\n      <td>33</td>\n      <td>4</td>\n      <td>0</td>\n      <td>1</td>\n      <td>16</td>\n      <td>54</td>\n      <td>2019-01</td>\n      <td>기타대륙</td>\n    </tr>\n    <tr>\n      <th>59</th>\n      <td>교포</td>\n      <td>0</td>\n      <td>0</td>\n      <td>0</td>\n      <td>0</td>\n      <td>15526</td>\n      <td>15526</td>\n      <td>2019-01</td>\n      <td>교포</td>\n    </tr>\n  </tbody>\n</table>\n</div>"
     },
     "execution_count": 21,
     "metadata": {},
     "output_type": "execute_result"
    }
   ],
   "source": [
    "## 5. 국적간 데이터 DF 마지막에 대륙컬럼 추가\n",
    "kto201901_countries['대륙'] = continents\n",
    "kto201901_countries"
   ]
  },
  {
   "cell_type": "code",
   "execution_count": 22,
   "metadata": {
    "ExecuteTime": {
     "end_time": "2024-03-13T00:14:18.461935Z",
     "start_time": "2024-03-13T00:14:18.459905Z"
    }
   },
   "outputs": [],
   "source": [
    "## 6. 국적별 관광객 비율 컬럼 추가\n",
    "kto201901_countries['관광객비율(%)'] = round(kto201901_countries['관광'] / kto201901_countries['계'] * 100, 1)"
   ]
  },
  {
   "cell_type": "code",
   "execution_count": 23,
   "metadata": {
    "ExecuteTime": {
     "end_time": "2024-03-13T00:14:18.470821Z",
     "start_time": "2024-03-13T00:14:18.462713Z"
    }
   },
   "outputs": [
    {
     "data": {
      "text/plain": "          국적      관광    상용    공용  유학/연수     기타       계     기준년월     대륙  \\\n17        중국  320113  2993   138   8793  60777  392814  2019-01    아시아   \n0         일본  198805  2233   127    785   4576  206526  2019-01    아시아   \n1         대만   86393    74    22    180   1285   87954  2019-01    아시아   \n25        미국   42989   418  2578    229  16523   62737  2019-01   아메리카   \n2         홍콩   34653    59     2     90   1092   35896  2019-01    아시아   \n4         태국   34004    37   199     96   6998   41334  2019-01    아시아   \n5      말레이시아   19043    95     7     99   2821   22065  2019-01    아시아   \n47       러시아   17260   181    37    191   7525   25194  2019-01     유럽   \n6        필리핀   14279   211   161    184  15638   30473  2019-01    아시아   \n7      인도네시아   14183   136    38    187   4298   18842  2019-01    아시아   \n53   오스트레일리아   12795    93    17     34   1346   14285  2019-01  오세아니아   \n10       베트남   10739   763   110   1667   6904   20183  2019-01    아시아   \n8       싱가포르    8372    94     8     48   1333    9855  2019-01    아시아   \n16        몽골    8358    77   304    484    562    9785  2019-01    아시아   \n26       캐나다    8034    57    30     43   4296   12460  2019-01   아메리카   \n30        영국    7982   175    17     41   1933   10148  2019-01     유럽   \n31        독일    4925   278    19    177   1451    6850  2019-01     유럽   \n32       프랑스    3773   297    48    288   1168    5574  2019-01     유럽   \n3        마카오    2506     2     0     17     45    2570  2019-01    아시아   \n11        인도    2318  2656    46    177   3474    8671  2019-01    아시아   \n22     카자흐스탄    2185    24     7     92   1266    3574  2019-01    아시아   \n54      뉴질랜드    2029    20    17      5    654    2725  2019-01  오세아니아   \n36      이탈리아    1968    83    17     40    623    2731  2019-01     유럽   \n21    우즈베키스탄    1958   561     0    407   2828    5754  2019-01    아시아   \n52     구주 기타    1809    44    25     91    996    2965  2019-01     유럽   \n33      네덜란드    1592    47    16     77    537    2269  2019-01     유럽   \n24    아시아 기타    1561   308    70    205   2410    4554  2019-01    아시아   \n23       GCC    1550    37    14     72    103    1776  2019-01    아시아   \n29     미주 기타    1541    24    33    128    540    2266  2019-01   아메리카   \n9        미얀마    1304    10    31     67   3877    5289  2019-01    아시아   \n27       멕시코    1282    11     7     38    515    1853  2019-01   아메리카   \n28       브라질    1136    16     9     41    403    1605  2019-01   아메리카   \n41       스페인    1010    36    15     52    255    1368  2019-01     유럽   \n34       스웨덴     844    29     6     18     85     982  2019-01     유럽   \n20        터키     792    13    32     36    912    1785  2019-01    아시아   \n57   아프리카 기타     768   718    90    206    908    2690  2019-01   아프리카   \n19      이스라엘     727    12     0      9     57     805  2019-01    아시아   \n51       폴란드     713    10     0     27    574    1324  2019-01     유럽   \n15      캄보디아     635    39    55     51   1915    2695  2019-01    아시아   \n35       스위스     613    18     0     19     97     747  2019-01     유럽   \n46     우크라이나     593    58     3     28   1580    2262  2019-01     유럽   \n55    대양주 기타     555     3     4      0     52     614  2019-01  오세아니아   \n38      노르웨이     552    66     4     28    151     801  2019-01     유럽   \n40     오스트리아     544     8     2     13    209     776  2019-01     유럽   \n37       덴마크     520    21     6     16    188     751  2019-01     유럽   \n39       벨기에     490    24     4     22    169     709  2019-01     유럽   \n42       그리스     481    17     4      0    273     775  2019-01     유럽   \n43      포르투갈     416    14     0     13    121     564  2019-01     유럽   \n49      루마니아     412     8     4      3    445     872  2019-01     유럽   \n44       핀란드     412    23     1     18    405     859  2019-01     유럽   \n45      아일랜드     392    15     1      2    185     595  2019-01     유럽   \n56  남아프리카공화국     368     9     1      6    616    1000  2019-01   아프리카   \n13      파키스탄     238   178    10    193    413    1032  2019-01    아시아   \n48     크로아티아     226    12     0      3    250     491  2019-01     유럽   \n12      스리랑카     157    54     5     28   1043    1287  2019-01    아시아   \n50      불가리아     154     1     1     10    265     431  2019-01     유럽   \n14     방글라데시     149   126    27     97    848    1247  2019-01    아시아   \n18        이란      60    45    10     23     46     184  2019-01    아시아   \n58      국적미상      33     4     0      1     16      54  2019-01   기타대륙   \n59        교포       0     0     0      0  15526   15526  2019-01     교포   \n\n    관광객비율(%)  \n17      81.5  \n0       96.3  \n1       98.2  \n25      68.5  \n2       96.5  \n4       82.3  \n5       86.3  \n47      68.5  \n6       46.9  \n7       75.3  \n53      89.6  \n10      53.2  \n8       85.0  \n16      85.4  \n26      64.5  \n30      78.7  \n31      71.9  \n32      67.7  \n3       97.5  \n11      26.7  \n22      61.1  \n54      74.5  \n36      72.1  \n21      34.0  \n52      61.0  \n33      70.2  \n24      34.3  \n23      87.3  \n29      68.0  \n9       24.7  \n27      69.2  \n28      70.8  \n41      73.8  \n34      85.9  \n20      44.4  \n57      28.6  \n19      90.3  \n51      53.9  \n15      23.6  \n35      82.1  \n46      26.2  \n55      90.4  \n38      68.9  \n40      70.1  \n37      69.2  \n39      69.1  \n42      62.1  \n43      73.8  \n49      47.2  \n44      48.0  \n45      65.9  \n56      36.8  \n13      23.1  \n48      46.0  \n12      12.2  \n50      35.7  \n14      11.9  \n18      32.6  \n58      61.1  \n59       0.0  ",
      "text/html": "<div>\n<style scoped>\n    .dataframe tbody tr th:only-of-type {\n        vertical-align: middle;\n    }\n\n    .dataframe tbody tr th {\n        vertical-align: top;\n    }\n\n    .dataframe thead th {\n        text-align: right;\n    }\n</style>\n<table border=\"1\" class=\"dataframe\">\n  <thead>\n    <tr style=\"text-align: right;\">\n      <th></th>\n      <th>국적</th>\n      <th>관광</th>\n      <th>상용</th>\n      <th>공용</th>\n      <th>유학/연수</th>\n      <th>기타</th>\n      <th>계</th>\n      <th>기준년월</th>\n      <th>대륙</th>\n      <th>관광객비율(%)</th>\n    </tr>\n  </thead>\n  <tbody>\n    <tr>\n      <th>17</th>\n      <td>중국</td>\n      <td>320113</td>\n      <td>2993</td>\n      <td>138</td>\n      <td>8793</td>\n      <td>60777</td>\n      <td>392814</td>\n      <td>2019-01</td>\n      <td>아시아</td>\n      <td>81.5</td>\n    </tr>\n    <tr>\n      <th>0</th>\n      <td>일본</td>\n      <td>198805</td>\n      <td>2233</td>\n      <td>127</td>\n      <td>785</td>\n      <td>4576</td>\n      <td>206526</td>\n      <td>2019-01</td>\n      <td>아시아</td>\n      <td>96.3</td>\n    </tr>\n    <tr>\n      <th>1</th>\n      <td>대만</td>\n      <td>86393</td>\n      <td>74</td>\n      <td>22</td>\n      <td>180</td>\n      <td>1285</td>\n      <td>87954</td>\n      <td>2019-01</td>\n      <td>아시아</td>\n      <td>98.2</td>\n    </tr>\n    <tr>\n      <th>25</th>\n      <td>미국</td>\n      <td>42989</td>\n      <td>418</td>\n      <td>2578</td>\n      <td>229</td>\n      <td>16523</td>\n      <td>62737</td>\n      <td>2019-01</td>\n      <td>아메리카</td>\n      <td>68.5</td>\n    </tr>\n    <tr>\n      <th>2</th>\n      <td>홍콩</td>\n      <td>34653</td>\n      <td>59</td>\n      <td>2</td>\n      <td>90</td>\n      <td>1092</td>\n      <td>35896</td>\n      <td>2019-01</td>\n      <td>아시아</td>\n      <td>96.5</td>\n    </tr>\n    <tr>\n      <th>4</th>\n      <td>태국</td>\n      <td>34004</td>\n      <td>37</td>\n      <td>199</td>\n      <td>96</td>\n      <td>6998</td>\n      <td>41334</td>\n      <td>2019-01</td>\n      <td>아시아</td>\n      <td>82.3</td>\n    </tr>\n    <tr>\n      <th>5</th>\n      <td>말레이시아</td>\n      <td>19043</td>\n      <td>95</td>\n      <td>7</td>\n      <td>99</td>\n      <td>2821</td>\n      <td>22065</td>\n      <td>2019-01</td>\n      <td>아시아</td>\n      <td>86.3</td>\n    </tr>\n    <tr>\n      <th>47</th>\n      <td>러시아</td>\n      <td>17260</td>\n      <td>181</td>\n      <td>37</td>\n      <td>191</td>\n      <td>7525</td>\n      <td>25194</td>\n      <td>2019-01</td>\n      <td>유럽</td>\n      <td>68.5</td>\n    </tr>\n    <tr>\n      <th>6</th>\n      <td>필리핀</td>\n      <td>14279</td>\n      <td>211</td>\n      <td>161</td>\n      <td>184</td>\n      <td>15638</td>\n      <td>30473</td>\n      <td>2019-01</td>\n      <td>아시아</td>\n      <td>46.9</td>\n    </tr>\n    <tr>\n      <th>7</th>\n      <td>인도네시아</td>\n      <td>14183</td>\n      <td>136</td>\n      <td>38</td>\n      <td>187</td>\n      <td>4298</td>\n      <td>18842</td>\n      <td>2019-01</td>\n      <td>아시아</td>\n      <td>75.3</td>\n    </tr>\n    <tr>\n      <th>53</th>\n      <td>오스트레일리아</td>\n      <td>12795</td>\n      <td>93</td>\n      <td>17</td>\n      <td>34</td>\n      <td>1346</td>\n      <td>14285</td>\n      <td>2019-01</td>\n      <td>오세아니아</td>\n      <td>89.6</td>\n    </tr>\n    <tr>\n      <th>10</th>\n      <td>베트남</td>\n      <td>10739</td>\n      <td>763</td>\n      <td>110</td>\n      <td>1667</td>\n      <td>6904</td>\n      <td>20183</td>\n      <td>2019-01</td>\n      <td>아시아</td>\n      <td>53.2</td>\n    </tr>\n    <tr>\n      <th>8</th>\n      <td>싱가포르</td>\n      <td>8372</td>\n      <td>94</td>\n      <td>8</td>\n      <td>48</td>\n      <td>1333</td>\n      <td>9855</td>\n      <td>2019-01</td>\n      <td>아시아</td>\n      <td>85.0</td>\n    </tr>\n    <tr>\n      <th>16</th>\n      <td>몽골</td>\n      <td>8358</td>\n      <td>77</td>\n      <td>304</td>\n      <td>484</td>\n      <td>562</td>\n      <td>9785</td>\n      <td>2019-01</td>\n      <td>아시아</td>\n      <td>85.4</td>\n    </tr>\n    <tr>\n      <th>26</th>\n      <td>캐나다</td>\n      <td>8034</td>\n      <td>57</td>\n      <td>30</td>\n      <td>43</td>\n      <td>4296</td>\n      <td>12460</td>\n      <td>2019-01</td>\n      <td>아메리카</td>\n      <td>64.5</td>\n    </tr>\n    <tr>\n      <th>30</th>\n      <td>영국</td>\n      <td>7982</td>\n      <td>175</td>\n      <td>17</td>\n      <td>41</td>\n      <td>1933</td>\n      <td>10148</td>\n      <td>2019-01</td>\n      <td>유럽</td>\n      <td>78.7</td>\n    </tr>\n    <tr>\n      <th>31</th>\n      <td>독일</td>\n      <td>4925</td>\n      <td>278</td>\n      <td>19</td>\n      <td>177</td>\n      <td>1451</td>\n      <td>6850</td>\n      <td>2019-01</td>\n      <td>유럽</td>\n      <td>71.9</td>\n    </tr>\n    <tr>\n      <th>32</th>\n      <td>프랑스</td>\n      <td>3773</td>\n      <td>297</td>\n      <td>48</td>\n      <td>288</td>\n      <td>1168</td>\n      <td>5574</td>\n      <td>2019-01</td>\n      <td>유럽</td>\n      <td>67.7</td>\n    </tr>\n    <tr>\n      <th>3</th>\n      <td>마카오</td>\n      <td>2506</td>\n      <td>2</td>\n      <td>0</td>\n      <td>17</td>\n      <td>45</td>\n      <td>2570</td>\n      <td>2019-01</td>\n      <td>아시아</td>\n      <td>97.5</td>\n    </tr>\n    <tr>\n      <th>11</th>\n      <td>인도</td>\n      <td>2318</td>\n      <td>2656</td>\n      <td>46</td>\n      <td>177</td>\n      <td>3474</td>\n      <td>8671</td>\n      <td>2019-01</td>\n      <td>아시아</td>\n      <td>26.7</td>\n    </tr>\n    <tr>\n      <th>22</th>\n      <td>카자흐스탄</td>\n      <td>2185</td>\n      <td>24</td>\n      <td>7</td>\n      <td>92</td>\n      <td>1266</td>\n      <td>3574</td>\n      <td>2019-01</td>\n      <td>아시아</td>\n      <td>61.1</td>\n    </tr>\n    <tr>\n      <th>54</th>\n      <td>뉴질랜드</td>\n      <td>2029</td>\n      <td>20</td>\n      <td>17</td>\n      <td>5</td>\n      <td>654</td>\n      <td>2725</td>\n      <td>2019-01</td>\n      <td>오세아니아</td>\n      <td>74.5</td>\n    </tr>\n    <tr>\n      <th>36</th>\n      <td>이탈리아</td>\n      <td>1968</td>\n      <td>83</td>\n      <td>17</td>\n      <td>40</td>\n      <td>623</td>\n      <td>2731</td>\n      <td>2019-01</td>\n      <td>유럽</td>\n      <td>72.1</td>\n    </tr>\n    <tr>\n      <th>21</th>\n      <td>우즈베키스탄</td>\n      <td>1958</td>\n      <td>561</td>\n      <td>0</td>\n      <td>407</td>\n      <td>2828</td>\n      <td>5754</td>\n      <td>2019-01</td>\n      <td>아시아</td>\n      <td>34.0</td>\n    </tr>\n    <tr>\n      <th>52</th>\n      <td>구주 기타</td>\n      <td>1809</td>\n      <td>44</td>\n      <td>25</td>\n      <td>91</td>\n      <td>996</td>\n      <td>2965</td>\n      <td>2019-01</td>\n      <td>유럽</td>\n      <td>61.0</td>\n    </tr>\n    <tr>\n      <th>33</th>\n      <td>네덜란드</td>\n      <td>1592</td>\n      <td>47</td>\n      <td>16</td>\n      <td>77</td>\n      <td>537</td>\n      <td>2269</td>\n      <td>2019-01</td>\n      <td>유럽</td>\n      <td>70.2</td>\n    </tr>\n    <tr>\n      <th>24</th>\n      <td>아시아 기타</td>\n      <td>1561</td>\n      <td>308</td>\n      <td>70</td>\n      <td>205</td>\n      <td>2410</td>\n      <td>4554</td>\n      <td>2019-01</td>\n      <td>아시아</td>\n      <td>34.3</td>\n    </tr>\n    <tr>\n      <th>23</th>\n      <td>GCC</td>\n      <td>1550</td>\n      <td>37</td>\n      <td>14</td>\n      <td>72</td>\n      <td>103</td>\n      <td>1776</td>\n      <td>2019-01</td>\n      <td>아시아</td>\n      <td>87.3</td>\n    </tr>\n    <tr>\n      <th>29</th>\n      <td>미주 기타</td>\n      <td>1541</td>\n      <td>24</td>\n      <td>33</td>\n      <td>128</td>\n      <td>540</td>\n      <td>2266</td>\n      <td>2019-01</td>\n      <td>아메리카</td>\n      <td>68.0</td>\n    </tr>\n    <tr>\n      <th>9</th>\n      <td>미얀마</td>\n      <td>1304</td>\n      <td>10</td>\n      <td>31</td>\n      <td>67</td>\n      <td>3877</td>\n      <td>5289</td>\n      <td>2019-01</td>\n      <td>아시아</td>\n      <td>24.7</td>\n    </tr>\n    <tr>\n      <th>27</th>\n      <td>멕시코</td>\n      <td>1282</td>\n      <td>11</td>\n      <td>7</td>\n      <td>38</td>\n      <td>515</td>\n      <td>1853</td>\n      <td>2019-01</td>\n      <td>아메리카</td>\n      <td>69.2</td>\n    </tr>\n    <tr>\n      <th>28</th>\n      <td>브라질</td>\n      <td>1136</td>\n      <td>16</td>\n      <td>9</td>\n      <td>41</td>\n      <td>403</td>\n      <td>1605</td>\n      <td>2019-01</td>\n      <td>아메리카</td>\n      <td>70.8</td>\n    </tr>\n    <tr>\n      <th>41</th>\n      <td>스페인</td>\n      <td>1010</td>\n      <td>36</td>\n      <td>15</td>\n      <td>52</td>\n      <td>255</td>\n      <td>1368</td>\n      <td>2019-01</td>\n      <td>유럽</td>\n      <td>73.8</td>\n    </tr>\n    <tr>\n      <th>34</th>\n      <td>스웨덴</td>\n      <td>844</td>\n      <td>29</td>\n      <td>6</td>\n      <td>18</td>\n      <td>85</td>\n      <td>982</td>\n      <td>2019-01</td>\n      <td>유럽</td>\n      <td>85.9</td>\n    </tr>\n    <tr>\n      <th>20</th>\n      <td>터키</td>\n      <td>792</td>\n      <td>13</td>\n      <td>32</td>\n      <td>36</td>\n      <td>912</td>\n      <td>1785</td>\n      <td>2019-01</td>\n      <td>아시아</td>\n      <td>44.4</td>\n    </tr>\n    <tr>\n      <th>57</th>\n      <td>아프리카 기타</td>\n      <td>768</td>\n      <td>718</td>\n      <td>90</td>\n      <td>206</td>\n      <td>908</td>\n      <td>2690</td>\n      <td>2019-01</td>\n      <td>아프리카</td>\n      <td>28.6</td>\n    </tr>\n    <tr>\n      <th>19</th>\n      <td>이스라엘</td>\n      <td>727</td>\n      <td>12</td>\n      <td>0</td>\n      <td>9</td>\n      <td>57</td>\n      <td>805</td>\n      <td>2019-01</td>\n      <td>아시아</td>\n      <td>90.3</td>\n    </tr>\n    <tr>\n      <th>51</th>\n      <td>폴란드</td>\n      <td>713</td>\n      <td>10</td>\n      <td>0</td>\n      <td>27</td>\n      <td>574</td>\n      <td>1324</td>\n      <td>2019-01</td>\n      <td>유럽</td>\n      <td>53.9</td>\n    </tr>\n    <tr>\n      <th>15</th>\n      <td>캄보디아</td>\n      <td>635</td>\n      <td>39</td>\n      <td>55</td>\n      <td>51</td>\n      <td>1915</td>\n      <td>2695</td>\n      <td>2019-01</td>\n      <td>아시아</td>\n      <td>23.6</td>\n    </tr>\n    <tr>\n      <th>35</th>\n      <td>스위스</td>\n      <td>613</td>\n      <td>18</td>\n      <td>0</td>\n      <td>19</td>\n      <td>97</td>\n      <td>747</td>\n      <td>2019-01</td>\n      <td>유럽</td>\n      <td>82.1</td>\n    </tr>\n    <tr>\n      <th>46</th>\n      <td>우크라이나</td>\n      <td>593</td>\n      <td>58</td>\n      <td>3</td>\n      <td>28</td>\n      <td>1580</td>\n      <td>2262</td>\n      <td>2019-01</td>\n      <td>유럽</td>\n      <td>26.2</td>\n    </tr>\n    <tr>\n      <th>55</th>\n      <td>대양주 기타</td>\n      <td>555</td>\n      <td>3</td>\n      <td>4</td>\n      <td>0</td>\n      <td>52</td>\n      <td>614</td>\n      <td>2019-01</td>\n      <td>오세아니아</td>\n      <td>90.4</td>\n    </tr>\n    <tr>\n      <th>38</th>\n      <td>노르웨이</td>\n      <td>552</td>\n      <td>66</td>\n      <td>4</td>\n      <td>28</td>\n      <td>151</td>\n      <td>801</td>\n      <td>2019-01</td>\n      <td>유럽</td>\n      <td>68.9</td>\n    </tr>\n    <tr>\n      <th>40</th>\n      <td>오스트리아</td>\n      <td>544</td>\n      <td>8</td>\n      <td>2</td>\n      <td>13</td>\n      <td>209</td>\n      <td>776</td>\n      <td>2019-01</td>\n      <td>유럽</td>\n      <td>70.1</td>\n    </tr>\n    <tr>\n      <th>37</th>\n      <td>덴마크</td>\n      <td>520</td>\n      <td>21</td>\n      <td>6</td>\n      <td>16</td>\n      <td>188</td>\n      <td>751</td>\n      <td>2019-01</td>\n      <td>유럽</td>\n      <td>69.2</td>\n    </tr>\n    <tr>\n      <th>39</th>\n      <td>벨기에</td>\n      <td>490</td>\n      <td>24</td>\n      <td>4</td>\n      <td>22</td>\n      <td>169</td>\n      <td>709</td>\n      <td>2019-01</td>\n      <td>유럽</td>\n      <td>69.1</td>\n    </tr>\n    <tr>\n      <th>42</th>\n      <td>그리스</td>\n      <td>481</td>\n      <td>17</td>\n      <td>4</td>\n      <td>0</td>\n      <td>273</td>\n      <td>775</td>\n      <td>2019-01</td>\n      <td>유럽</td>\n      <td>62.1</td>\n    </tr>\n    <tr>\n      <th>43</th>\n      <td>포르투갈</td>\n      <td>416</td>\n      <td>14</td>\n      <td>0</td>\n      <td>13</td>\n      <td>121</td>\n      <td>564</td>\n      <td>2019-01</td>\n      <td>유럽</td>\n      <td>73.8</td>\n    </tr>\n    <tr>\n      <th>49</th>\n      <td>루마니아</td>\n      <td>412</td>\n      <td>8</td>\n      <td>4</td>\n      <td>3</td>\n      <td>445</td>\n      <td>872</td>\n      <td>2019-01</td>\n      <td>유럽</td>\n      <td>47.2</td>\n    </tr>\n    <tr>\n      <th>44</th>\n      <td>핀란드</td>\n      <td>412</td>\n      <td>23</td>\n      <td>1</td>\n      <td>18</td>\n      <td>405</td>\n      <td>859</td>\n      <td>2019-01</td>\n      <td>유럽</td>\n      <td>48.0</td>\n    </tr>\n    <tr>\n      <th>45</th>\n      <td>아일랜드</td>\n      <td>392</td>\n      <td>15</td>\n      <td>1</td>\n      <td>2</td>\n      <td>185</td>\n      <td>595</td>\n      <td>2019-01</td>\n      <td>유럽</td>\n      <td>65.9</td>\n    </tr>\n    <tr>\n      <th>56</th>\n      <td>남아프리카공화국</td>\n      <td>368</td>\n      <td>9</td>\n      <td>1</td>\n      <td>6</td>\n      <td>616</td>\n      <td>1000</td>\n      <td>2019-01</td>\n      <td>아프리카</td>\n      <td>36.8</td>\n    </tr>\n    <tr>\n      <th>13</th>\n      <td>파키스탄</td>\n      <td>238</td>\n      <td>178</td>\n      <td>10</td>\n      <td>193</td>\n      <td>413</td>\n      <td>1032</td>\n      <td>2019-01</td>\n      <td>아시아</td>\n      <td>23.1</td>\n    </tr>\n    <tr>\n      <th>48</th>\n      <td>크로아티아</td>\n      <td>226</td>\n      <td>12</td>\n      <td>0</td>\n      <td>3</td>\n      <td>250</td>\n      <td>491</td>\n      <td>2019-01</td>\n      <td>유럽</td>\n      <td>46.0</td>\n    </tr>\n    <tr>\n      <th>12</th>\n      <td>스리랑카</td>\n      <td>157</td>\n      <td>54</td>\n      <td>5</td>\n      <td>28</td>\n      <td>1043</td>\n      <td>1287</td>\n      <td>2019-01</td>\n      <td>아시아</td>\n      <td>12.2</td>\n    </tr>\n    <tr>\n      <th>50</th>\n      <td>불가리아</td>\n      <td>154</td>\n      <td>1</td>\n      <td>1</td>\n      <td>10</td>\n      <td>265</td>\n      <td>431</td>\n      <td>2019-01</td>\n      <td>유럽</td>\n      <td>35.7</td>\n    </tr>\n    <tr>\n      <th>14</th>\n      <td>방글라데시</td>\n      <td>149</td>\n      <td>126</td>\n      <td>27</td>\n      <td>97</td>\n      <td>848</td>\n      <td>1247</td>\n      <td>2019-01</td>\n      <td>아시아</td>\n      <td>11.9</td>\n    </tr>\n    <tr>\n      <th>18</th>\n      <td>이란</td>\n      <td>60</td>\n      <td>45</td>\n      <td>10</td>\n      <td>23</td>\n      <td>46</td>\n      <td>184</td>\n      <td>2019-01</td>\n      <td>아시아</td>\n      <td>32.6</td>\n    </tr>\n    <tr>\n      <th>58</th>\n      <td>국적미상</td>\n      <td>33</td>\n      <td>4</td>\n      <td>0</td>\n      <td>1</td>\n      <td>16</td>\n      <td>54</td>\n      <td>2019-01</td>\n      <td>기타대륙</td>\n      <td>61.1</td>\n    </tr>\n    <tr>\n      <th>59</th>\n      <td>교포</td>\n      <td>0</td>\n      <td>0</td>\n      <td>0</td>\n      <td>0</td>\n      <td>15526</td>\n      <td>15526</td>\n      <td>2019-01</td>\n      <td>교포</td>\n      <td>0.0</td>\n    </tr>\n  </tbody>\n</table>\n</div>"
     },
     "execution_count": 23,
     "metadata": {},
     "output_type": "execute_result"
    }
   ],
   "source": [
    "kto201901_countries.sort_values(by='관광', ascending=False)"
   ]
  },
  {
   "cell_type": "code",
   "execution_count": 24,
   "metadata": {
    "ExecuteTime": {
     "end_time": "2024-03-13T00:14:18.482342Z",
     "start_time": "2024-03-13T00:14:18.471599Z"
    }
   },
   "outputs": [
    {
     "data": {
      "text/plain": "        국적      관광    상용   공용  유학/연수    기타       계     기준년월     대륙  관광객비율(%)\n1       대만   86393    74   22    180  1285   87954  2019-01    아시아      98.2\n3      마카오    2506     2    0     17    45    2570  2019-01    아시아      97.5\n2       홍콩   34653    59    2     90  1092   35896  2019-01    아시아      96.5\n0       일본  198805  2233  127    785  4576  206526  2019-01    아시아      96.3\n55  대양주 기타     555     3    4      0    52     614  2019-01  오세아니아      90.4",
      "text/html": "<div>\n<style scoped>\n    .dataframe tbody tr th:only-of-type {\n        vertical-align: middle;\n    }\n\n    .dataframe tbody tr th {\n        vertical-align: top;\n    }\n\n    .dataframe thead th {\n        text-align: right;\n    }\n</style>\n<table border=\"1\" class=\"dataframe\">\n  <thead>\n    <tr style=\"text-align: right;\">\n      <th></th>\n      <th>국적</th>\n      <th>관광</th>\n      <th>상용</th>\n      <th>공용</th>\n      <th>유학/연수</th>\n      <th>기타</th>\n      <th>계</th>\n      <th>기준년월</th>\n      <th>대륙</th>\n      <th>관광객비율(%)</th>\n    </tr>\n  </thead>\n  <tbody>\n    <tr>\n      <th>1</th>\n      <td>대만</td>\n      <td>86393</td>\n      <td>74</td>\n      <td>22</td>\n      <td>180</td>\n      <td>1285</td>\n      <td>87954</td>\n      <td>2019-01</td>\n      <td>아시아</td>\n      <td>98.2</td>\n    </tr>\n    <tr>\n      <th>3</th>\n      <td>마카오</td>\n      <td>2506</td>\n      <td>2</td>\n      <td>0</td>\n      <td>17</td>\n      <td>45</td>\n      <td>2570</td>\n      <td>2019-01</td>\n      <td>아시아</td>\n      <td>97.5</td>\n    </tr>\n    <tr>\n      <th>2</th>\n      <td>홍콩</td>\n      <td>34653</td>\n      <td>59</td>\n      <td>2</td>\n      <td>90</td>\n      <td>1092</td>\n      <td>35896</td>\n      <td>2019-01</td>\n      <td>아시아</td>\n      <td>96.5</td>\n    </tr>\n    <tr>\n      <th>0</th>\n      <td>일본</td>\n      <td>198805</td>\n      <td>2233</td>\n      <td>127</td>\n      <td>785</td>\n      <td>4576</td>\n      <td>206526</td>\n      <td>2019-01</td>\n      <td>아시아</td>\n      <td>96.3</td>\n    </tr>\n    <tr>\n      <th>55</th>\n      <td>대양주 기타</td>\n      <td>555</td>\n      <td>3</td>\n      <td>4</td>\n      <td>0</td>\n      <td>52</td>\n      <td>614</td>\n      <td>2019-01</td>\n      <td>오세아니아</td>\n      <td>90.4</td>\n    </tr>\n  </tbody>\n</table>\n</div>"
     },
     "execution_count": 24,
     "metadata": {},
     "output_type": "execute_result"
    }
   ],
   "source": [
    "## 관광객 비율이 높은 나라 Top5\n",
    "kto201901_countries.sort_values(by = '관광객비율(%)', ascending=False).head()"
   ]
  },
  {
   "cell_type": "code",
   "execution_count": 25,
   "metadata": {
    "ExecuteTime": {
     "end_time": "2024-03-13T00:14:18.487490Z",
     "start_time": "2024-03-13T00:14:18.483216Z"
    }
   },
   "outputs": [
    {
     "data": {
      "text/plain": "       국적    관광   상용  공용  유학/연수     기타      계     기준년월   대륙  관광객비율(%)\n59     교포     0    0   0      0  15526  15526  2019-01   교포       0.0\n14  방글라데시   149  126  27     97    848   1247  2019-01  아시아      11.9\n12   스리랑카   157   54   5     28   1043   1287  2019-01  아시아      12.2\n13   파키스탄   238  178  10    193    413   1032  2019-01  아시아      23.1\n15   캄보디아   635   39  55     51   1915   2695  2019-01  아시아      23.6\n9     미얀마  1304   10  31     67   3877   5289  2019-01  아시아      24.7",
      "text/html": "<div>\n<style scoped>\n    .dataframe tbody tr th:only-of-type {\n        vertical-align: middle;\n    }\n\n    .dataframe tbody tr th {\n        vertical-align: top;\n    }\n\n    .dataframe thead th {\n        text-align: right;\n    }\n</style>\n<table border=\"1\" class=\"dataframe\">\n  <thead>\n    <tr style=\"text-align: right;\">\n      <th></th>\n      <th>국적</th>\n      <th>관광</th>\n      <th>상용</th>\n      <th>공용</th>\n      <th>유학/연수</th>\n      <th>기타</th>\n      <th>계</th>\n      <th>기준년월</th>\n      <th>대륙</th>\n      <th>관광객비율(%)</th>\n    </tr>\n  </thead>\n  <tbody>\n    <tr>\n      <th>59</th>\n      <td>교포</td>\n      <td>0</td>\n      <td>0</td>\n      <td>0</td>\n      <td>0</td>\n      <td>15526</td>\n      <td>15526</td>\n      <td>2019-01</td>\n      <td>교포</td>\n      <td>0.0</td>\n    </tr>\n    <tr>\n      <th>14</th>\n      <td>방글라데시</td>\n      <td>149</td>\n      <td>126</td>\n      <td>27</td>\n      <td>97</td>\n      <td>848</td>\n      <td>1247</td>\n      <td>2019-01</td>\n      <td>아시아</td>\n      <td>11.9</td>\n    </tr>\n    <tr>\n      <th>12</th>\n      <td>스리랑카</td>\n      <td>157</td>\n      <td>54</td>\n      <td>5</td>\n      <td>28</td>\n      <td>1043</td>\n      <td>1287</td>\n      <td>2019-01</td>\n      <td>아시아</td>\n      <td>12.2</td>\n    </tr>\n    <tr>\n      <th>13</th>\n      <td>파키스탄</td>\n      <td>238</td>\n      <td>178</td>\n      <td>10</td>\n      <td>193</td>\n      <td>413</td>\n      <td>1032</td>\n      <td>2019-01</td>\n      <td>아시아</td>\n      <td>23.1</td>\n    </tr>\n    <tr>\n      <th>15</th>\n      <td>캄보디아</td>\n      <td>635</td>\n      <td>39</td>\n      <td>55</td>\n      <td>51</td>\n      <td>1915</td>\n      <td>2695</td>\n      <td>2019-01</td>\n      <td>아시아</td>\n      <td>23.6</td>\n    </tr>\n    <tr>\n      <th>9</th>\n      <td>미얀마</td>\n      <td>1304</td>\n      <td>10</td>\n      <td>31</td>\n      <td>67</td>\n      <td>3877</td>\n      <td>5289</td>\n      <td>2019-01</td>\n      <td>아시아</td>\n      <td>24.7</td>\n    </tr>\n  </tbody>\n</table>\n</div>"
     },
     "execution_count": 25,
     "metadata": {},
     "output_type": "execute_result"
    }
   ],
   "source": [
    "## 관광객 비율이 낮은 나라 Top5\n",
    "kto201901_countries.sort_values(by = '관광객비율(%)', ascending=True).head(6)"
   ]
  },
  {
   "cell_type": "code",
   "execution_count": 26,
   "metadata": {
    "ExecuteTime": {
     "end_time": "2024-03-13T00:14:18.492928Z",
     "start_time": "2024-03-13T00:14:18.488173Z"
    }
   },
   "outputs": [
    {
     "data": {
      "text/plain": "        관광객비율(%)\n대륙              \n교포      0.000000\n기타대륙   61.100000\n아메리카   68.200000\n아시아    59.624000\n아프리카   32.700000\n오세아니아  84.833333\n유럽     63.826087",
      "text/html": "<div>\n<style scoped>\n    .dataframe tbody tr th:only-of-type {\n        vertical-align: middle;\n    }\n\n    .dataframe tbody tr th {\n        vertical-align: top;\n    }\n\n    .dataframe thead th {\n        text-align: right;\n    }\n</style>\n<table border=\"1\" class=\"dataframe\">\n  <thead>\n    <tr style=\"text-align: right;\">\n      <th></th>\n      <th>관광객비율(%)</th>\n    </tr>\n    <tr>\n      <th>대륙</th>\n      <th></th>\n    </tr>\n  </thead>\n  <tbody>\n    <tr>\n      <th>교포</th>\n      <td>0.000000</td>\n    </tr>\n    <tr>\n      <th>기타대륙</th>\n      <td>61.100000</td>\n    </tr>\n    <tr>\n      <th>아메리카</th>\n      <td>68.200000</td>\n    </tr>\n    <tr>\n      <th>아시아</th>\n      <td>59.624000</td>\n    </tr>\n    <tr>\n      <th>아프리카</th>\n      <td>32.700000</td>\n    </tr>\n    <tr>\n      <th>오세아니아</th>\n      <td>84.833333</td>\n    </tr>\n    <tr>\n      <th>유럽</th>\n      <td>63.826087</td>\n    </tr>\n  </tbody>\n</table>\n</div>"
     },
     "execution_count": 26,
     "metadata": {},
     "output_type": "execute_result"
    }
   ],
   "source": [
    "## 관광객 비율 평균 pivot_table\n",
    "kto201901_countries.pivot_table(values='관광객비율(%)', index='대륙', aggfunc='mean')"
   ]
  },
  {
   "cell_type": "code",
   "execution_count": 27,
   "metadata": {
    "ExecuteTime": {
     "end_time": "2024-03-13T00:14:18.500017Z",
     "start_time": "2024-03-13T00:14:18.496332Z"
    }
   },
   "outputs": [
    {
     "data": {
      "text/plain": "    국적      관광    상용   공용  유학/연수     기타       계     기준년월   대륙  관광객비율(%)\n17  중국  320113  2993  138   8793  60777  392814  2019-01  아시아      81.5",
      "text/html": "<div>\n<style scoped>\n    .dataframe tbody tr th:only-of-type {\n        vertical-align: middle;\n    }\n\n    .dataframe tbody tr th {\n        vertical-align: top;\n    }\n\n    .dataframe thead th {\n        text-align: right;\n    }\n</style>\n<table border=\"1\" class=\"dataframe\">\n  <thead>\n    <tr style=\"text-align: right;\">\n      <th></th>\n      <th>국적</th>\n      <th>관광</th>\n      <th>상용</th>\n      <th>공용</th>\n      <th>유학/연수</th>\n      <th>기타</th>\n      <th>계</th>\n      <th>기준년월</th>\n      <th>대륙</th>\n      <th>관광객비율(%)</th>\n    </tr>\n  </thead>\n  <tbody>\n    <tr>\n      <th>17</th>\n      <td>중국</td>\n      <td>320113</td>\n      <td>2993</td>\n      <td>138</td>\n      <td>8793</td>\n      <td>60777</td>\n      <td>392814</td>\n      <td>2019-01</td>\n      <td>아시아</td>\n      <td>81.5</td>\n    </tr>\n  </tbody>\n</table>\n</div>"
     },
     "execution_count": 27,
     "metadata": {},
     "output_type": "execute_result"
    }
   ],
   "source": [
    "## 중국만 필터링\n",
    "condition = kto201901_countries['국적'] == '중국'\n",
    "kto201901_countries[condition]"
   ]
  },
  {
   "cell_type": "code",
   "execution_count": 28,
   "metadata": {
    "ExecuteTime": {
     "end_time": "2024-03-13T00:14:18.502149Z",
     "start_time": "2024-03-13T00:14:18.500569Z"
    }
   },
   "outputs": [],
   "source": [
    "## 전체 외국인 관광객 수\n",
    "totalSum = sum(kto201901_countries['관광']) "
   ]
  },
  {
   "cell_type": "code",
   "execution_count": 29,
   "metadata": {
    "ExecuteTime": {
     "end_time": "2024-03-13T00:14:18.504651Z",
     "start_time": "2024-03-13T00:14:18.502746Z"
    }
   },
   "outputs": [],
   "source": [
    "## 7. 전체비율(%) 컬럼 추가\n",
    "kto201901_countries['전체비율(%)'] = round(kto201901_countries['관광'] / totalSum * 100, 1)"
   ]
  },
  {
   "cell_type": "code",
   "execution_count": 30,
   "metadata": {
    "ExecuteTime": {
     "end_time": "2024-03-13T00:14:18.510313Z",
     "start_time": "2024-03-13T00:14:18.505131Z"
    }
   },
   "outputs": [
    {
     "data": {
      "text/plain": "       국적      관광    상용    공용  유학/연수     기타       계     기준년월    대륙  관광객비율(%)  \\\n17     중국  320113  2993   138   8793  60777  392814  2019-01   아시아      81.5   \n0      일본  198805  2233   127    785   4576  206526  2019-01   아시아      96.3   \n1      대만   86393    74    22    180   1285   87954  2019-01   아시아      98.2   \n25     미국   42989   418  2578    229  16523   62737  2019-01  아메리카      68.5   \n2      홍콩   34653    59     2     90   1092   35896  2019-01   아시아      96.5   \n4      태국   34004    37   199     96   6998   41334  2019-01   아시아      82.3   \n5   말레이시아   19043    95     7     99   2821   22065  2019-01   아시아      86.3   \n47    러시아   17260   181    37    191   7525   25194  2019-01    유럽      68.5   \n6     필리핀   14279   211   161    184  15638   30473  2019-01   아시아      46.9   \n7   인도네시아   14183   136    38    187   4298   18842  2019-01   아시아      75.3   \n\n    전체비율(%)  \n17     36.2  \n0      22.5  \n1       9.8  \n25      4.9  \n2       3.9  \n4       3.8  \n5       2.2  \n47      2.0  \n6       1.6  \n7       1.6  ",
      "text/html": "<div>\n<style scoped>\n    .dataframe tbody tr th:only-of-type {\n        vertical-align: middle;\n    }\n\n    .dataframe tbody tr th {\n        vertical-align: top;\n    }\n\n    .dataframe thead th {\n        text-align: right;\n    }\n</style>\n<table border=\"1\" class=\"dataframe\">\n  <thead>\n    <tr style=\"text-align: right;\">\n      <th></th>\n      <th>국적</th>\n      <th>관광</th>\n      <th>상용</th>\n      <th>공용</th>\n      <th>유학/연수</th>\n      <th>기타</th>\n      <th>계</th>\n      <th>기준년월</th>\n      <th>대륙</th>\n      <th>관광객비율(%)</th>\n      <th>전체비율(%)</th>\n    </tr>\n  </thead>\n  <tbody>\n    <tr>\n      <th>17</th>\n      <td>중국</td>\n      <td>320113</td>\n      <td>2993</td>\n      <td>138</td>\n      <td>8793</td>\n      <td>60777</td>\n      <td>392814</td>\n      <td>2019-01</td>\n      <td>아시아</td>\n      <td>81.5</td>\n      <td>36.2</td>\n    </tr>\n    <tr>\n      <th>0</th>\n      <td>일본</td>\n      <td>198805</td>\n      <td>2233</td>\n      <td>127</td>\n      <td>785</td>\n      <td>4576</td>\n      <td>206526</td>\n      <td>2019-01</td>\n      <td>아시아</td>\n      <td>96.3</td>\n      <td>22.5</td>\n    </tr>\n    <tr>\n      <th>1</th>\n      <td>대만</td>\n      <td>86393</td>\n      <td>74</td>\n      <td>22</td>\n      <td>180</td>\n      <td>1285</td>\n      <td>87954</td>\n      <td>2019-01</td>\n      <td>아시아</td>\n      <td>98.2</td>\n      <td>9.8</td>\n    </tr>\n    <tr>\n      <th>25</th>\n      <td>미국</td>\n      <td>42989</td>\n      <td>418</td>\n      <td>2578</td>\n      <td>229</td>\n      <td>16523</td>\n      <td>62737</td>\n      <td>2019-01</td>\n      <td>아메리카</td>\n      <td>68.5</td>\n      <td>4.9</td>\n    </tr>\n    <tr>\n      <th>2</th>\n      <td>홍콩</td>\n      <td>34653</td>\n      <td>59</td>\n      <td>2</td>\n      <td>90</td>\n      <td>1092</td>\n      <td>35896</td>\n      <td>2019-01</td>\n      <td>아시아</td>\n      <td>96.5</td>\n      <td>3.9</td>\n    </tr>\n    <tr>\n      <th>4</th>\n      <td>태국</td>\n      <td>34004</td>\n      <td>37</td>\n      <td>199</td>\n      <td>96</td>\n      <td>6998</td>\n      <td>41334</td>\n      <td>2019-01</td>\n      <td>아시아</td>\n      <td>82.3</td>\n      <td>3.8</td>\n    </tr>\n    <tr>\n      <th>5</th>\n      <td>말레이시아</td>\n      <td>19043</td>\n      <td>95</td>\n      <td>7</td>\n      <td>99</td>\n      <td>2821</td>\n      <td>22065</td>\n      <td>2019-01</td>\n      <td>아시아</td>\n      <td>86.3</td>\n      <td>2.2</td>\n    </tr>\n    <tr>\n      <th>47</th>\n      <td>러시아</td>\n      <td>17260</td>\n      <td>181</td>\n      <td>37</td>\n      <td>191</td>\n      <td>7525</td>\n      <td>25194</td>\n      <td>2019-01</td>\n      <td>유럽</td>\n      <td>68.5</td>\n      <td>2.0</td>\n    </tr>\n    <tr>\n      <th>6</th>\n      <td>필리핀</td>\n      <td>14279</td>\n      <td>211</td>\n      <td>161</td>\n      <td>184</td>\n      <td>15638</td>\n      <td>30473</td>\n      <td>2019-01</td>\n      <td>아시아</td>\n      <td>46.9</td>\n      <td>1.6</td>\n    </tr>\n    <tr>\n      <th>7</th>\n      <td>인도네시아</td>\n      <td>14183</td>\n      <td>136</td>\n      <td>38</td>\n      <td>187</td>\n      <td>4298</td>\n      <td>18842</td>\n      <td>2019-01</td>\n      <td>아시아</td>\n      <td>75.3</td>\n      <td>1.6</td>\n    </tr>\n  </tbody>\n</table>\n</div>"
     },
     "execution_count": 30,
     "metadata": {},
     "output_type": "execute_result"
    }
   ],
   "source": [
    "# 관광객수가 가장 많은 국적 Top10\n",
    "kto201901_countries.sort_values(by='전체비율(%)', ascending=False).head(10)"
   ]
  },
  {
   "cell_type": "code",
   "execution_count": 31,
   "metadata": {
    "ExecuteTime": {
     "end_time": "2024-03-13T00:14:18.528168Z",
     "start_time": "2024-03-13T00:14:18.511027Z"
    }
   },
   "outputs": [
    {
     "name": "stdout",
     "output_type": "stream",
     "text": [
      "<class 'pandas.core.frame.DataFrame'>\n",
      "RangeIndex: 67 entries, 0 to 66\n",
      "Data columns (total 7 columns):\n",
      " #   Column  Non-Null Count  Dtype \n",
      "---  ------  --------------  ----- \n",
      " 0   국적      67 non-null     object\n",
      " 1   관광      67 non-null     int64 \n",
      " 2   상용      67 non-null     int64 \n",
      " 3   공용      67 non-null     int64 \n",
      " 4   유학/연수   67 non-null     int64 \n",
      " 5   기타      67 non-null     int64 \n",
      " 6   계       67 non-null     int64 \n",
      "dtypes: int64(6), object(1)\n",
      "memory usage: 3.8+ KB\n"
     ]
    }
   ],
   "source": [
    "## 125개 데이터를 전부 확인불가\n",
    "## 샘플링 조회\n",
    "kto_201509 = pd.read_excel('./data/kto_201509.xlsx', header=1, usecols='A:G', skipfooter=4)\n",
    "kto_201509.info()"
   ]
  },
  {
   "cell_type": "markdown",
   "metadata": {},
   "source": [
    "##### 종합\n",
    "- 위에서 하나의 엑셀로 처리한 방식을 반복문을 통해서 전체 125개 데이터들 통합하는 작업\n",
    "- 1~7까지의 작업을 하나의 함수로 생서"
   ]
  },
  {
   "cell_type": "code",
   "execution_count": 32,
   "metadata": {
    "ExecuteTime": {
     "end_time": "2024-03-13T00:14:18.531557Z",
     "start_time": "2024-03-13T00:14:18.528759Z"
    }
   },
   "outputs": [],
   "source": [
    "## 년월별 데이터 전처리함수 \n",
    "def createKtoData(yyyy, mm):\n",
    "    ## 1. 엑셀파일 지정\n",
    "    filePath = f'./data/kto_{yyyy}{mm:02d}.xlsx' # mm이 1~9 까지 들어오면 01~09로 변경해줘야함\n",
    "    ## 1. 엑셀파일 불러오기\n",
    "    df = pd.read_excel(filePath, header=1, usecols='A:G', skipfooter=4)\n",
    "    ## 2. 기준년월 컬럼 추가\n",
    "    df['기준년월'] = f'{yyyy}-{mm:02d}' # mm이 1~9 까지 들어오면 01~09로 변경해줘야함\n",
    "    ## 3. 국적컬럼 대륙제거 국가만 추출\n",
    "    ignore_list = ['아시아주', '미주', '구주', '대양주', '아프리카주', '기타대륙', '교포소계']\n",
    "    # 대륙제거\n",
    "    condition = (df['국적'].isin(ignore_list) == False)\n",
    "    df_countries = df[condition].reset_index(drop=True)\n",
    "    ## 5. 대륙컬럼 추가\n",
    "    continents = ['아시아']*25 + ['아메리카']*5 + ['유럽']*23 + ['오세아니아']*3 + ['아프리카']*2 + ['기타대륙'] + ['교포']\n",
    "    df_countries['대륙'] = continents\n",
    "    ## 6. 국적별 관광객비율 컬럼추가\n",
    "    df_countries['관광객비율(%)'] = round(df_countries['관광'] / df_countries['계'] * 100, 1)\n",
    "    ## 7. 전체비율 컬럼추가\n",
    "    totalSum = sum(df_countries['관광']) \n",
    "    df_countries['전체비율(%)'] = round(df_countries['관광'] / totalSum * 100, 1)\n",
    "\n",
    "    ## 8. 결과리턴\n",
    "    return(df_countries)"
   ]
  },
  {
   "cell_type": "code",
   "execution_count": 33,
   "metadata": {
    "ExecuteTime": {
     "end_time": "2024-03-13T00:14:18.553969Z",
     "start_time": "2024-03-13T00:14:18.532107Z"
    }
   },
   "outputs": [
    {
     "data": {
      "text/plain": "          국적      관광    상용    공용  유학/연수     기타       계     기준년월     대륙  \\\n0         일본  242475  2362   211   1137   4934  251119  2019-09    아시아   \n1         대만  100888   112    14    300   1444  102758  2019-09    아시아   \n2         홍콩   44708    49     7    256    891   45911  2019-09    아시아   \n3        마카오    2687     2     0     24     14    2727  2019-09    아시아   \n4         태국   28877    54   411    133   6577   36052  2019-09    아시아   \n5      말레이시아   25123   166     5    251   2475   28020  2019-09    아시아   \n6        필리핀   18539   203   196    121  17193   36252  2019-09    아시아   \n7      인도네시아   11858   149   317    279   6706   19309  2019-09    아시아   \n8       싱가포르   16137   137    13     63   1395   17745  2019-09    아시아   \n9        미얀마    1832    19   255     93   4335    6534  2019-09    아시아   \n10       베트남   28210  1064   530   5577   8236   43617  2019-09    아시아   \n11        인도    4111  3152   146    186   5121   12716  2019-09    아시아   \n12      스리랑카     351    81     8     22   1641    2103  2019-09    아시아   \n13      파키스탄     323   310    29    321    476    1459  2019-09    아시아   \n14     방글라데시     302   167   102    185   1124    1880  2019-09    아시아   \n15      캄보디아    1794    49   170     32   1584    3629  2019-09    아시아   \n16        몽골    8120   122   315   1155   1188   10900  2019-09    아시아   \n17        중국  432018  3873   447  25545  79467  541350  2019-09    아시아   \n18        이란     281    63     8     42     52     446  2019-09    아시아   \n19      이스라엘    1779    11     1      3     43    1837  2019-09    아시아   \n20        터키    1561    21    61     37   1122    2802  2019-09    아시아   \n21    우즈베키스탄    3093   853     1   1484   3625    9056  2019-09    아시아   \n22     카자흐스탄    2956    17     2    179   1755    4909  2019-09    아시아   \n23       GCC    2187    30     6    135    104    2462  2019-09    아시아   \n24    아시아 기타    3328   567   315    299   2841    7350  2019-09    아시아   \n25        미국   70634   421  2736    186  16842   90819  2019-09   아메리카   \n26       캐나다   13449    50    39     31   4644   18213  2019-09   아메리카   \n27       멕시코    2506     3    12     27    490    3038  2019-09   아메리카   \n28       브라질    2029    23    17     36    393    2498  2019-09   아메리카   \n29     미주 기타    3756    18    73     77    664    4588  2019-09   아메리카   \n30        영국   11473   156    28     13   1655   13325  2019-09     유럽   \n31        독일   10802   218    21     89   1540   12670  2019-09     유럽   \n32       프랑스    8587   245    32    127   1251   10242  2019-09     유럽   \n33      네덜란드    2816    28     9     18    614    3485  2019-09     유럽   \n34       스웨덴    1784    26     5     66    129    2010  2019-09     유럽   \n35       스위스    1795    20     7     11     90    1923  2019-09     유럽   \n36      이탈리아    3550    81    17     26    839    4513  2019-09     유럽   \n37       덴마크    1101    12    11      8    112    1244  2019-09     유럽   \n38      노르웨이     962    30     2     20     40    1054  2019-09     유럽   \n39       벨기에    1300    15     9     20    198    1542  2019-09     유럽   \n40     오스트리아    1186     7     3      7    166    1369  2019-09     유럽   \n41       스페인    2764    27    14     30    299    3134  2019-09     유럽   \n42       그리스     717    29     1      2    274    1023  2019-09     유럽   \n43      포르투갈     840    11     0      5    144    1000  2019-09     유럽   \n44       핀란드     878     8     4      7    367    1264  2019-09     유럽   \n45      아일랜드    1007     5     4      3    157    1176  2019-09     유럽   \n46     우크라이나     715    80     5     26   1388    2214  2019-09     유럽   \n47       러시아   21349   175    36    155   8551   30266  2019-09     유럽   \n48     크로아티아     277     5     2      3    207     494  2019-09     유럽   \n49      루마니아     675    12     5      4    483    1179  2019-09     유럽   \n50      불가리아     370     3    19      5    236     633  2019-09     유럽   \n51       폴란드    1870    14     1     17    668    2570  2019-09     유럽   \n52     구주 기타    3042    48    56     46   1229    4421  2019-09     유럽   \n53   오스트레일리아   15818    83    51     10   1307   17269  2019-09  오세아니아   \n54      뉴질랜드    3393    26     9      1    606    4035  2019-09  오세아니아   \n55    대양주 기타     413     0     9      3    101     526  2019-09  오세아니아   \n56  남아프리카공화국     743     8    11      7    428    1197  2019-09   아프리카   \n57   아프리카 기타    2249  1145    85    297   1343    5119  2019-09   아프리카   \n58      국적미상      33     3     0      5      8      49  2019-09   기타대륙   \n59        교포       0     0     0      0  16619   16619  2019-09     교포   \n\n    관광객비율(%)  전체비율(%)  \n0       96.6     20.6  \n1       98.2      8.6  \n2       97.4      3.8  \n3       98.5      0.2  \n4       80.1      2.5  \n5       89.7      2.1  \n6       51.1      1.6  \n7       61.4      1.0  \n8       90.9      1.4  \n9       28.0      0.2  \n10      64.7      2.4  \n11      32.3      0.3  \n12      16.7      0.0  \n13      22.1      0.0  \n14      16.1      0.0  \n15      49.4      0.2  \n16      74.5      0.7  \n17      79.8     36.7  \n18      63.0      0.0  \n19      96.8      0.2  \n20      55.7      0.1  \n21      34.2      0.3  \n22      60.2      0.3  \n23      88.8      0.2  \n24      45.3      0.3  \n25      77.8      6.0  \n26      73.8      1.1  \n27      82.5      0.2  \n28      81.2      0.2  \n29      81.9      0.3  \n30      86.1      1.0  \n31      85.3      0.9  \n32      83.8      0.7  \n33      80.8      0.2  \n34      88.8      0.2  \n35      93.3      0.2  \n36      78.7      0.3  \n37      88.5      0.1  \n38      91.3      0.1  \n39      84.3      0.1  \n40      86.6      0.1  \n41      88.2      0.2  \n42      70.1      0.1  \n43      84.0      0.1  \n44      69.5      0.1  \n45      85.6      0.1  \n46      32.3      0.1  \n47      70.5      1.8  \n48      56.1      0.0  \n49      57.3      0.1  \n50      58.5      0.0  \n51      72.8      0.2  \n52      68.8      0.3  \n53      91.6      1.3  \n54      84.1      0.3  \n55      78.5      0.0  \n56      62.1      0.1  \n57      43.9      0.2  \n58      67.3      0.0  \n59       0.0      0.0  ",
      "text/html": "<div>\n<style scoped>\n    .dataframe tbody tr th:only-of-type {\n        vertical-align: middle;\n    }\n\n    .dataframe tbody tr th {\n        vertical-align: top;\n    }\n\n    .dataframe thead th {\n        text-align: right;\n    }\n</style>\n<table border=\"1\" class=\"dataframe\">\n  <thead>\n    <tr style=\"text-align: right;\">\n      <th></th>\n      <th>국적</th>\n      <th>관광</th>\n      <th>상용</th>\n      <th>공용</th>\n      <th>유학/연수</th>\n      <th>기타</th>\n      <th>계</th>\n      <th>기준년월</th>\n      <th>대륙</th>\n      <th>관광객비율(%)</th>\n      <th>전체비율(%)</th>\n    </tr>\n  </thead>\n  <tbody>\n    <tr>\n      <th>0</th>\n      <td>일본</td>\n      <td>242475</td>\n      <td>2362</td>\n      <td>211</td>\n      <td>1137</td>\n      <td>4934</td>\n      <td>251119</td>\n      <td>2019-09</td>\n      <td>아시아</td>\n      <td>96.6</td>\n      <td>20.6</td>\n    </tr>\n    <tr>\n      <th>1</th>\n      <td>대만</td>\n      <td>100888</td>\n      <td>112</td>\n      <td>14</td>\n      <td>300</td>\n      <td>1444</td>\n      <td>102758</td>\n      <td>2019-09</td>\n      <td>아시아</td>\n      <td>98.2</td>\n      <td>8.6</td>\n    </tr>\n    <tr>\n      <th>2</th>\n      <td>홍콩</td>\n      <td>44708</td>\n      <td>49</td>\n      <td>7</td>\n      <td>256</td>\n      <td>891</td>\n      <td>45911</td>\n      <td>2019-09</td>\n      <td>아시아</td>\n      <td>97.4</td>\n      <td>3.8</td>\n    </tr>\n    <tr>\n      <th>3</th>\n      <td>마카오</td>\n      <td>2687</td>\n      <td>2</td>\n      <td>0</td>\n      <td>24</td>\n      <td>14</td>\n      <td>2727</td>\n      <td>2019-09</td>\n      <td>아시아</td>\n      <td>98.5</td>\n      <td>0.2</td>\n    </tr>\n    <tr>\n      <th>4</th>\n      <td>태국</td>\n      <td>28877</td>\n      <td>54</td>\n      <td>411</td>\n      <td>133</td>\n      <td>6577</td>\n      <td>36052</td>\n      <td>2019-09</td>\n      <td>아시아</td>\n      <td>80.1</td>\n      <td>2.5</td>\n    </tr>\n    <tr>\n      <th>5</th>\n      <td>말레이시아</td>\n      <td>25123</td>\n      <td>166</td>\n      <td>5</td>\n      <td>251</td>\n      <td>2475</td>\n      <td>28020</td>\n      <td>2019-09</td>\n      <td>아시아</td>\n      <td>89.7</td>\n      <td>2.1</td>\n    </tr>\n    <tr>\n      <th>6</th>\n      <td>필리핀</td>\n      <td>18539</td>\n      <td>203</td>\n      <td>196</td>\n      <td>121</td>\n      <td>17193</td>\n      <td>36252</td>\n      <td>2019-09</td>\n      <td>아시아</td>\n      <td>51.1</td>\n      <td>1.6</td>\n    </tr>\n    <tr>\n      <th>7</th>\n      <td>인도네시아</td>\n      <td>11858</td>\n      <td>149</td>\n      <td>317</td>\n      <td>279</td>\n      <td>6706</td>\n      <td>19309</td>\n      <td>2019-09</td>\n      <td>아시아</td>\n      <td>61.4</td>\n      <td>1.0</td>\n    </tr>\n    <tr>\n      <th>8</th>\n      <td>싱가포르</td>\n      <td>16137</td>\n      <td>137</td>\n      <td>13</td>\n      <td>63</td>\n      <td>1395</td>\n      <td>17745</td>\n      <td>2019-09</td>\n      <td>아시아</td>\n      <td>90.9</td>\n      <td>1.4</td>\n    </tr>\n    <tr>\n      <th>9</th>\n      <td>미얀마</td>\n      <td>1832</td>\n      <td>19</td>\n      <td>255</td>\n      <td>93</td>\n      <td>4335</td>\n      <td>6534</td>\n      <td>2019-09</td>\n      <td>아시아</td>\n      <td>28.0</td>\n      <td>0.2</td>\n    </tr>\n    <tr>\n      <th>10</th>\n      <td>베트남</td>\n      <td>28210</td>\n      <td>1064</td>\n      <td>530</td>\n      <td>5577</td>\n      <td>8236</td>\n      <td>43617</td>\n      <td>2019-09</td>\n      <td>아시아</td>\n      <td>64.7</td>\n      <td>2.4</td>\n    </tr>\n    <tr>\n      <th>11</th>\n      <td>인도</td>\n      <td>4111</td>\n      <td>3152</td>\n      <td>146</td>\n      <td>186</td>\n      <td>5121</td>\n      <td>12716</td>\n      <td>2019-09</td>\n      <td>아시아</td>\n      <td>32.3</td>\n      <td>0.3</td>\n    </tr>\n    <tr>\n      <th>12</th>\n      <td>스리랑카</td>\n      <td>351</td>\n      <td>81</td>\n      <td>8</td>\n      <td>22</td>\n      <td>1641</td>\n      <td>2103</td>\n      <td>2019-09</td>\n      <td>아시아</td>\n      <td>16.7</td>\n      <td>0.0</td>\n    </tr>\n    <tr>\n      <th>13</th>\n      <td>파키스탄</td>\n      <td>323</td>\n      <td>310</td>\n      <td>29</td>\n      <td>321</td>\n      <td>476</td>\n      <td>1459</td>\n      <td>2019-09</td>\n      <td>아시아</td>\n      <td>22.1</td>\n      <td>0.0</td>\n    </tr>\n    <tr>\n      <th>14</th>\n      <td>방글라데시</td>\n      <td>302</td>\n      <td>167</td>\n      <td>102</td>\n      <td>185</td>\n      <td>1124</td>\n      <td>1880</td>\n      <td>2019-09</td>\n      <td>아시아</td>\n      <td>16.1</td>\n      <td>0.0</td>\n    </tr>\n    <tr>\n      <th>15</th>\n      <td>캄보디아</td>\n      <td>1794</td>\n      <td>49</td>\n      <td>170</td>\n      <td>32</td>\n      <td>1584</td>\n      <td>3629</td>\n      <td>2019-09</td>\n      <td>아시아</td>\n      <td>49.4</td>\n      <td>0.2</td>\n    </tr>\n    <tr>\n      <th>16</th>\n      <td>몽골</td>\n      <td>8120</td>\n      <td>122</td>\n      <td>315</td>\n      <td>1155</td>\n      <td>1188</td>\n      <td>10900</td>\n      <td>2019-09</td>\n      <td>아시아</td>\n      <td>74.5</td>\n      <td>0.7</td>\n    </tr>\n    <tr>\n      <th>17</th>\n      <td>중국</td>\n      <td>432018</td>\n      <td>3873</td>\n      <td>447</td>\n      <td>25545</td>\n      <td>79467</td>\n      <td>541350</td>\n      <td>2019-09</td>\n      <td>아시아</td>\n      <td>79.8</td>\n      <td>36.7</td>\n    </tr>\n    <tr>\n      <th>18</th>\n      <td>이란</td>\n      <td>281</td>\n      <td>63</td>\n      <td>8</td>\n      <td>42</td>\n      <td>52</td>\n      <td>446</td>\n      <td>2019-09</td>\n      <td>아시아</td>\n      <td>63.0</td>\n      <td>0.0</td>\n    </tr>\n    <tr>\n      <th>19</th>\n      <td>이스라엘</td>\n      <td>1779</td>\n      <td>11</td>\n      <td>1</td>\n      <td>3</td>\n      <td>43</td>\n      <td>1837</td>\n      <td>2019-09</td>\n      <td>아시아</td>\n      <td>96.8</td>\n      <td>0.2</td>\n    </tr>\n    <tr>\n      <th>20</th>\n      <td>터키</td>\n      <td>1561</td>\n      <td>21</td>\n      <td>61</td>\n      <td>37</td>\n      <td>1122</td>\n      <td>2802</td>\n      <td>2019-09</td>\n      <td>아시아</td>\n      <td>55.7</td>\n      <td>0.1</td>\n    </tr>\n    <tr>\n      <th>21</th>\n      <td>우즈베키스탄</td>\n      <td>3093</td>\n      <td>853</td>\n      <td>1</td>\n      <td>1484</td>\n      <td>3625</td>\n      <td>9056</td>\n      <td>2019-09</td>\n      <td>아시아</td>\n      <td>34.2</td>\n      <td>0.3</td>\n    </tr>\n    <tr>\n      <th>22</th>\n      <td>카자흐스탄</td>\n      <td>2956</td>\n      <td>17</td>\n      <td>2</td>\n      <td>179</td>\n      <td>1755</td>\n      <td>4909</td>\n      <td>2019-09</td>\n      <td>아시아</td>\n      <td>60.2</td>\n      <td>0.3</td>\n    </tr>\n    <tr>\n      <th>23</th>\n      <td>GCC</td>\n      <td>2187</td>\n      <td>30</td>\n      <td>6</td>\n      <td>135</td>\n      <td>104</td>\n      <td>2462</td>\n      <td>2019-09</td>\n      <td>아시아</td>\n      <td>88.8</td>\n      <td>0.2</td>\n    </tr>\n    <tr>\n      <th>24</th>\n      <td>아시아 기타</td>\n      <td>3328</td>\n      <td>567</td>\n      <td>315</td>\n      <td>299</td>\n      <td>2841</td>\n      <td>7350</td>\n      <td>2019-09</td>\n      <td>아시아</td>\n      <td>45.3</td>\n      <td>0.3</td>\n    </tr>\n    <tr>\n      <th>25</th>\n      <td>미국</td>\n      <td>70634</td>\n      <td>421</td>\n      <td>2736</td>\n      <td>186</td>\n      <td>16842</td>\n      <td>90819</td>\n      <td>2019-09</td>\n      <td>아메리카</td>\n      <td>77.8</td>\n      <td>6.0</td>\n    </tr>\n    <tr>\n      <th>26</th>\n      <td>캐나다</td>\n      <td>13449</td>\n      <td>50</td>\n      <td>39</td>\n      <td>31</td>\n      <td>4644</td>\n      <td>18213</td>\n      <td>2019-09</td>\n      <td>아메리카</td>\n      <td>73.8</td>\n      <td>1.1</td>\n    </tr>\n    <tr>\n      <th>27</th>\n      <td>멕시코</td>\n      <td>2506</td>\n      <td>3</td>\n      <td>12</td>\n      <td>27</td>\n      <td>490</td>\n      <td>3038</td>\n      <td>2019-09</td>\n      <td>아메리카</td>\n      <td>82.5</td>\n      <td>0.2</td>\n    </tr>\n    <tr>\n      <th>28</th>\n      <td>브라질</td>\n      <td>2029</td>\n      <td>23</td>\n      <td>17</td>\n      <td>36</td>\n      <td>393</td>\n      <td>2498</td>\n      <td>2019-09</td>\n      <td>아메리카</td>\n      <td>81.2</td>\n      <td>0.2</td>\n    </tr>\n    <tr>\n      <th>29</th>\n      <td>미주 기타</td>\n      <td>3756</td>\n      <td>18</td>\n      <td>73</td>\n      <td>77</td>\n      <td>664</td>\n      <td>4588</td>\n      <td>2019-09</td>\n      <td>아메리카</td>\n      <td>81.9</td>\n      <td>0.3</td>\n    </tr>\n    <tr>\n      <th>30</th>\n      <td>영국</td>\n      <td>11473</td>\n      <td>156</td>\n      <td>28</td>\n      <td>13</td>\n      <td>1655</td>\n      <td>13325</td>\n      <td>2019-09</td>\n      <td>유럽</td>\n      <td>86.1</td>\n      <td>1.0</td>\n    </tr>\n    <tr>\n      <th>31</th>\n      <td>독일</td>\n      <td>10802</td>\n      <td>218</td>\n      <td>21</td>\n      <td>89</td>\n      <td>1540</td>\n      <td>12670</td>\n      <td>2019-09</td>\n      <td>유럽</td>\n      <td>85.3</td>\n      <td>0.9</td>\n    </tr>\n    <tr>\n      <th>32</th>\n      <td>프랑스</td>\n      <td>8587</td>\n      <td>245</td>\n      <td>32</td>\n      <td>127</td>\n      <td>1251</td>\n      <td>10242</td>\n      <td>2019-09</td>\n      <td>유럽</td>\n      <td>83.8</td>\n      <td>0.7</td>\n    </tr>\n    <tr>\n      <th>33</th>\n      <td>네덜란드</td>\n      <td>2816</td>\n      <td>28</td>\n      <td>9</td>\n      <td>18</td>\n      <td>614</td>\n      <td>3485</td>\n      <td>2019-09</td>\n      <td>유럽</td>\n      <td>80.8</td>\n      <td>0.2</td>\n    </tr>\n    <tr>\n      <th>34</th>\n      <td>스웨덴</td>\n      <td>1784</td>\n      <td>26</td>\n      <td>5</td>\n      <td>66</td>\n      <td>129</td>\n      <td>2010</td>\n      <td>2019-09</td>\n      <td>유럽</td>\n      <td>88.8</td>\n      <td>0.2</td>\n    </tr>\n    <tr>\n      <th>35</th>\n      <td>스위스</td>\n      <td>1795</td>\n      <td>20</td>\n      <td>7</td>\n      <td>11</td>\n      <td>90</td>\n      <td>1923</td>\n      <td>2019-09</td>\n      <td>유럽</td>\n      <td>93.3</td>\n      <td>0.2</td>\n    </tr>\n    <tr>\n      <th>36</th>\n      <td>이탈리아</td>\n      <td>3550</td>\n      <td>81</td>\n      <td>17</td>\n      <td>26</td>\n      <td>839</td>\n      <td>4513</td>\n      <td>2019-09</td>\n      <td>유럽</td>\n      <td>78.7</td>\n      <td>0.3</td>\n    </tr>\n    <tr>\n      <th>37</th>\n      <td>덴마크</td>\n      <td>1101</td>\n      <td>12</td>\n      <td>11</td>\n      <td>8</td>\n      <td>112</td>\n      <td>1244</td>\n      <td>2019-09</td>\n      <td>유럽</td>\n      <td>88.5</td>\n      <td>0.1</td>\n    </tr>\n    <tr>\n      <th>38</th>\n      <td>노르웨이</td>\n      <td>962</td>\n      <td>30</td>\n      <td>2</td>\n      <td>20</td>\n      <td>40</td>\n      <td>1054</td>\n      <td>2019-09</td>\n      <td>유럽</td>\n      <td>91.3</td>\n      <td>0.1</td>\n    </tr>\n    <tr>\n      <th>39</th>\n      <td>벨기에</td>\n      <td>1300</td>\n      <td>15</td>\n      <td>9</td>\n      <td>20</td>\n      <td>198</td>\n      <td>1542</td>\n      <td>2019-09</td>\n      <td>유럽</td>\n      <td>84.3</td>\n      <td>0.1</td>\n    </tr>\n    <tr>\n      <th>40</th>\n      <td>오스트리아</td>\n      <td>1186</td>\n      <td>7</td>\n      <td>3</td>\n      <td>7</td>\n      <td>166</td>\n      <td>1369</td>\n      <td>2019-09</td>\n      <td>유럽</td>\n      <td>86.6</td>\n      <td>0.1</td>\n    </tr>\n    <tr>\n      <th>41</th>\n      <td>스페인</td>\n      <td>2764</td>\n      <td>27</td>\n      <td>14</td>\n      <td>30</td>\n      <td>299</td>\n      <td>3134</td>\n      <td>2019-09</td>\n      <td>유럽</td>\n      <td>88.2</td>\n      <td>0.2</td>\n    </tr>\n    <tr>\n      <th>42</th>\n      <td>그리스</td>\n      <td>717</td>\n      <td>29</td>\n      <td>1</td>\n      <td>2</td>\n      <td>274</td>\n      <td>1023</td>\n      <td>2019-09</td>\n      <td>유럽</td>\n      <td>70.1</td>\n      <td>0.1</td>\n    </tr>\n    <tr>\n      <th>43</th>\n      <td>포르투갈</td>\n      <td>840</td>\n      <td>11</td>\n      <td>0</td>\n      <td>5</td>\n      <td>144</td>\n      <td>1000</td>\n      <td>2019-09</td>\n      <td>유럽</td>\n      <td>84.0</td>\n      <td>0.1</td>\n    </tr>\n    <tr>\n      <th>44</th>\n      <td>핀란드</td>\n      <td>878</td>\n      <td>8</td>\n      <td>4</td>\n      <td>7</td>\n      <td>367</td>\n      <td>1264</td>\n      <td>2019-09</td>\n      <td>유럽</td>\n      <td>69.5</td>\n      <td>0.1</td>\n    </tr>\n    <tr>\n      <th>45</th>\n      <td>아일랜드</td>\n      <td>1007</td>\n      <td>5</td>\n      <td>4</td>\n      <td>3</td>\n      <td>157</td>\n      <td>1176</td>\n      <td>2019-09</td>\n      <td>유럽</td>\n      <td>85.6</td>\n      <td>0.1</td>\n    </tr>\n    <tr>\n      <th>46</th>\n      <td>우크라이나</td>\n      <td>715</td>\n      <td>80</td>\n      <td>5</td>\n      <td>26</td>\n      <td>1388</td>\n      <td>2214</td>\n      <td>2019-09</td>\n      <td>유럽</td>\n      <td>32.3</td>\n      <td>0.1</td>\n    </tr>\n    <tr>\n      <th>47</th>\n      <td>러시아</td>\n      <td>21349</td>\n      <td>175</td>\n      <td>36</td>\n      <td>155</td>\n      <td>8551</td>\n      <td>30266</td>\n      <td>2019-09</td>\n      <td>유럽</td>\n      <td>70.5</td>\n      <td>1.8</td>\n    </tr>\n    <tr>\n      <th>48</th>\n      <td>크로아티아</td>\n      <td>277</td>\n      <td>5</td>\n      <td>2</td>\n      <td>3</td>\n      <td>207</td>\n      <td>494</td>\n      <td>2019-09</td>\n      <td>유럽</td>\n      <td>56.1</td>\n      <td>0.0</td>\n    </tr>\n    <tr>\n      <th>49</th>\n      <td>루마니아</td>\n      <td>675</td>\n      <td>12</td>\n      <td>5</td>\n      <td>4</td>\n      <td>483</td>\n      <td>1179</td>\n      <td>2019-09</td>\n      <td>유럽</td>\n      <td>57.3</td>\n      <td>0.1</td>\n    </tr>\n    <tr>\n      <th>50</th>\n      <td>불가리아</td>\n      <td>370</td>\n      <td>3</td>\n      <td>19</td>\n      <td>5</td>\n      <td>236</td>\n      <td>633</td>\n      <td>2019-09</td>\n      <td>유럽</td>\n      <td>58.5</td>\n      <td>0.0</td>\n    </tr>\n    <tr>\n      <th>51</th>\n      <td>폴란드</td>\n      <td>1870</td>\n      <td>14</td>\n      <td>1</td>\n      <td>17</td>\n      <td>668</td>\n      <td>2570</td>\n      <td>2019-09</td>\n      <td>유럽</td>\n      <td>72.8</td>\n      <td>0.2</td>\n    </tr>\n    <tr>\n      <th>52</th>\n      <td>구주 기타</td>\n      <td>3042</td>\n      <td>48</td>\n      <td>56</td>\n      <td>46</td>\n      <td>1229</td>\n      <td>4421</td>\n      <td>2019-09</td>\n      <td>유럽</td>\n      <td>68.8</td>\n      <td>0.3</td>\n    </tr>\n    <tr>\n      <th>53</th>\n      <td>오스트레일리아</td>\n      <td>15818</td>\n      <td>83</td>\n      <td>51</td>\n      <td>10</td>\n      <td>1307</td>\n      <td>17269</td>\n      <td>2019-09</td>\n      <td>오세아니아</td>\n      <td>91.6</td>\n      <td>1.3</td>\n    </tr>\n    <tr>\n      <th>54</th>\n      <td>뉴질랜드</td>\n      <td>3393</td>\n      <td>26</td>\n      <td>9</td>\n      <td>1</td>\n      <td>606</td>\n      <td>4035</td>\n      <td>2019-09</td>\n      <td>오세아니아</td>\n      <td>84.1</td>\n      <td>0.3</td>\n    </tr>\n    <tr>\n      <th>55</th>\n      <td>대양주 기타</td>\n      <td>413</td>\n      <td>0</td>\n      <td>9</td>\n      <td>3</td>\n      <td>101</td>\n      <td>526</td>\n      <td>2019-09</td>\n      <td>오세아니아</td>\n      <td>78.5</td>\n      <td>0.0</td>\n    </tr>\n    <tr>\n      <th>56</th>\n      <td>남아프리카공화국</td>\n      <td>743</td>\n      <td>8</td>\n      <td>11</td>\n      <td>7</td>\n      <td>428</td>\n      <td>1197</td>\n      <td>2019-09</td>\n      <td>아프리카</td>\n      <td>62.1</td>\n      <td>0.1</td>\n    </tr>\n    <tr>\n      <th>57</th>\n      <td>아프리카 기타</td>\n      <td>2249</td>\n      <td>1145</td>\n      <td>85</td>\n      <td>297</td>\n      <td>1343</td>\n      <td>5119</td>\n      <td>2019-09</td>\n      <td>아프리카</td>\n      <td>43.9</td>\n      <td>0.2</td>\n    </tr>\n    <tr>\n      <th>58</th>\n      <td>국적미상</td>\n      <td>33</td>\n      <td>3</td>\n      <td>0</td>\n      <td>5</td>\n      <td>8</td>\n      <td>49</td>\n      <td>2019-09</td>\n      <td>기타대륙</td>\n      <td>67.3</td>\n      <td>0.0</td>\n    </tr>\n    <tr>\n      <th>59</th>\n      <td>교포</td>\n      <td>0</td>\n      <td>0</td>\n      <td>0</td>\n      <td>0</td>\n      <td>16619</td>\n      <td>16619</td>\n      <td>2019-09</td>\n      <td>교포</td>\n      <td>0.0</td>\n      <td>0.0</td>\n    </tr>\n  </tbody>\n</table>\n</div>"
     },
     "execution_count": 33,
     "metadata": {},
     "output_type": "execute_result"
    }
   ],
   "source": [
    "## 테스트\n",
    "df_test = createKtoData(2019, 9)\n",
    "df_test"
   ]
  },
  {
   "cell_type": "code",
   "execution_count": 34,
   "metadata": {
    "ExecuteTime": {
     "end_time": "2024-03-13T00:14:18.556836Z",
     "start_time": "2024-03-13T00:14:18.554553Z"
    }
   },
   "outputs": [
    {
     "name": "stdout",
     "output_type": "stream",
     "text": [
      "2010 1\n",
      "2010 2\n",
      "2010 3\n",
      "2010 4\n",
      "2010 5\n",
      "2010 6\n",
      "2010 7\n",
      "2010 8\n",
      "2010 9\n",
      "2010 10\n",
      "2010 11\n",
      "2010 12\n",
      "2011 1\n",
      "2011 2\n",
      "2011 3\n",
      "2011 4\n",
      "2011 5\n",
      "2011 6\n",
      "2011 7\n",
      "2011 8\n",
      "2011 9\n",
      "2011 10\n",
      "2011 11\n",
      "2011 12\n",
      "2012 1\n",
      "2012 2\n",
      "2012 3\n",
      "2012 4\n",
      "2012 5\n",
      "2012 6\n",
      "2012 7\n",
      "2012 8\n",
      "2012 9\n",
      "2012 10\n",
      "2012 11\n",
      "2012 12\n",
      "2013 1\n",
      "2013 2\n",
      "2013 3\n",
      "2013 4\n",
      "2013 5\n",
      "2013 6\n",
      "2013 7\n",
      "2013 8\n",
      "2013 9\n",
      "2013 10\n",
      "2013 11\n",
      "2013 12\n",
      "2014 1\n",
      "2014 2\n",
      "2014 3\n",
      "2014 4\n",
      "2014 5\n",
      "2014 6\n",
      "2014 7\n",
      "2014 8\n",
      "2014 9\n",
      "2014 10\n",
      "2014 11\n",
      "2014 12\n",
      "2015 1\n",
      "2015 2\n",
      "2015 3\n",
      "2015 4\n",
      "2015 5\n",
      "2015 6\n",
      "2015 7\n",
      "2015 8\n",
      "2015 9\n",
      "2015 10\n",
      "2015 11\n",
      "2015 12\n",
      "2016 1\n",
      "2016 2\n",
      "2016 3\n",
      "2016 4\n",
      "2016 5\n",
      "2016 6\n",
      "2016 7\n",
      "2016 8\n",
      "2016 9\n",
      "2016 10\n",
      "2016 11\n",
      "2016 12\n",
      "2017 1\n",
      "2017 2\n",
      "2017 3\n",
      "2017 4\n",
      "2017 5\n",
      "2017 6\n",
      "2017 7\n",
      "2017 8\n",
      "2017 9\n",
      "2017 10\n",
      "2017 11\n",
      "2017 12\n",
      "2018 1\n",
      "2018 2\n",
      "2018 3\n",
      "2018 4\n",
      "2018 5\n",
      "2018 6\n",
      "2018 7\n",
      "2018 8\n",
      "2018 9\n",
      "2018 10\n",
      "2018 11\n",
      "2018 12\n",
      "2019 1\n",
      "2019 2\n",
      "2019 3\n",
      "2019 4\n",
      "2019 5\n",
      "2019 6\n",
      "2019 7\n",
      "2019 8\n",
      "2019 9\n",
      "2019 10\n",
      "2019 11\n",
      "2019 12\n",
      "2020 1\n",
      "2020 2\n",
      "2020 3\n",
      "2020 4\n",
      "2020 5\n",
      "2020 6\n",
      "2020 7\n",
      "2020 8\n",
      "2020 9\n",
      "2020 10\n",
      "2020 11\n",
      "2020 12\n"
     ]
    }
   ],
   "source": [
    "## 반복문으로 기준년월 출력\n",
    "for yyyy in range(2010, 2021):\n",
    "    for mm in range(1, 13):\n",
    "        print(yyyy, mm)"
   ]
  },
  {
   "cell_type": "markdown",
   "metadata": {},
   "source": [
    "##### tqdm 라이브러리\n",
    "프로그레스바 "
   ]
  },
  {
   "cell_type": "code",
   "execution_count": 35,
   "metadata": {
    "ExecuteTime": {
     "end_time": "2024-03-13T00:14:18.665695Z",
     "start_time": "2024-03-13T00:14:18.557315Z"
    }
   },
   "outputs": [
    {
     "ename": "ModuleNotFoundError",
     "evalue": "No module named 'tqdm'",
     "output_type": "error",
     "traceback": [
      "\u001B[0;31m---------------------------------------------------------------------------\u001B[0m",
      "\u001B[0;31mModuleNotFoundError\u001B[0m                       Traceback (most recent call last)",
      "Cell \u001B[0;32mIn[35], line 1\u001B[0m\n\u001B[0;32m----> 1\u001B[0m \u001B[38;5;28;01mfrom\u001B[39;00m \u001B[38;5;21;01mtqdm\u001B[39;00m \u001B[38;5;28;01mimport\u001B[39;00m tqdm\n\u001B[1;32m      2\u001B[0m \u001B[38;5;28;01mimport\u001B[39;00m \u001B[38;5;21;01mtime\u001B[39;00m\n",
      "\u001B[0;31mModuleNotFoundError\u001B[0m: No module named 'tqdm'"
     ]
    }
   ],
   "source": [
    "from tqdm import tqdm\n",
    "import time"
   ]
  },
  {
   "cell_type": "code",
   "execution_count": null,
   "metadata": {},
   "outputs": [],
   "source": [
    "text = ''\n",
    "strList = ['H', 'e', 'l', 'l', 'o', ' ', 'P', 'y', 't', 'h', 'o', 'n']\n",
    "for char in tqdm(strList):\n",
    "    text = text + char\n",
    "    time.sleep(0.5)"
   ]
  },
  {
   "cell_type": "code",
   "execution_count": null,
   "metadata": {},
   "outputs": [],
   "source": [
    "## 빈 DF\n",
    "df_total = pd.DataFrame()"
   ]
  },
  {
   "cell_type": "code",
   "execution_count": null,
   "metadata": {},
   "outputs": [],
   "source": [
    "for yyyy in tqdm(range(2010, 2021)):\n",
    "    for mm in range(1, 13):\n",
    "        try:\n",
    "            temp = createKtoData(yyyy, mm)\n",
    "            df_total = pd.concat([df_total, temp], ignore_index=True)\n",
    "        except:\n",
    "            pass"
   ]
  },
  {
   "cell_type": "code",
   "execution_count": null,
   "metadata": {},
   "outputs": [],
   "source": [
    "## 결과보기\n",
    "df_total.info()"
   ]
  },
  {
   "cell_type": "code",
   "execution_count": null,
   "metadata": {},
   "outputs": [],
   "source": [
    "## 파일 저장\n",
    "df_total.to_excel('./data/kto_total.xlsx', index=False)"
   ]
  },
  {
   "cell_type": "code",
   "execution_count": null,
   "metadata": {},
   "outputs": [],
   "source": [
    "## 저장한 테이터를 재로드\n",
    "df_total = pd.read_excel('./data/kto_total.xlsx')"
   ]
  },
  {
   "cell_type": "code",
   "execution_count": null,
   "metadata": {},
   "outputs": [],
   "source": [
    "## 중국국적 데이터만 추출\n",
    "condition = df_total['국적'] == '중국'"
   ]
  },
  {
   "cell_type": "code",
   "execution_count": null,
   "metadata": {},
   "outputs": [],
   "source": [
    "df_china = df_total[condition]"
   ]
  },
  {
   "cell_type": "markdown",
   "metadata": {},
   "source": [
    "#### 데이터 시각화/분석\n",
    "분석 먼저하고 시각화할 수도 있고, 시각화한 지표로 분석할 수도"
   ]
  },
  {
   "cell_type": "code",
   "execution_count": null,
   "metadata": {},
   "outputs": [],
   "source": [
    "df_china.reset_index(inplace=True)"
   ]
  },
  {
   "cell_type": "code",
   "execution_count": null,
   "metadata": {},
   "outputs": [],
   "source": [
    "df_china"
   ]
  },
  {
   "cell_type": "markdown",
   "metadata": {},
   "source": [
    "##### Matplotlib 시각화\n",
    "- 필요라이브러리 가져오기\n",
    "- 한글 깨짐현상 해결"
   ]
  },
  {
   "cell_type": "code",
   "execution_count": null,
   "metadata": {},
   "outputs": [],
   "source": [
    "import matplotlib.pyplot as plt\n",
    "import seaborn as sns"
   ]
  },
  {
   "cell_type": "code",
   "execution_count": null,
   "metadata": {},
   "outputs": [],
   "source": [
    "# 한글 깨짐 문제 해결\n",
    "from matplotlib import rcParams, font_manager, rc\n",
    "\n",
    "font_path = 'C:/Windows/Fonts/NanumGothicCoding.ttf' # 나눔고딕코딩 사용, 나눔고딕에서 오류발생(!)\n",
    "font = font_manager.FontProperties(fname=font_path).get_name() # 실제 설치된 폰트 이름조회\n",
    "rc('font', family=font) # 한글깨짐현상 해결!!\n",
    "rcParams['axes.unicode_minus'] = False # 한글 사용시 마이너스 표시 깨짐 해결!"
   ]
  },
  {
   "cell_type": "code",
   "execution_count": null,
   "metadata": {},
   "outputs": [],
   "source": [
    "# 차트 스타일 지정\n",
    "sns.set_style('darkgrid')"
   ]
  },
  {
   "cell_type": "code",
   "execution_count": null,
   "metadata": {},
   "outputs": [],
   "source": [
    "plt.plot(df_china['기준년월'], df_china['관광'])\n",
    "plt.show()"
   ]
  },
  {
   "cell_type": "code",
   "execution_count": null,
   "metadata": {},
   "outputs": [],
   "source": [
    "# list comprehension\n",
    "[f'{i}-01' for i in range(2010, 2021)]"
   ]
  },
  {
   "cell_type": "code",
   "execution_count": null,
   "metadata": {},
   "outputs": [],
   "source": [
    "## 불필요한 경고메시지 제거\n",
    "import warnings\n",
    "warnings.filterwarnings('ignore')"
   ]
  },
  {
   "cell_type": "code",
   "execution_count": null,
   "metadata": {},
   "outputs": [],
   "source": [
    "## 이쁘게 위의 데이터 출력차트 변경\n",
    "## 차트 크기 조절\n",
    "plt.figure(figsize=(18, 5)) # w:18, h:5\n",
    "## 차트 그릴 내용, 범례에 표시할 label, 라인색, 라인스타일, 마커표시\n",
    "plt.plot(df_china['기준년월'], df_china['관광'], label='중국관광객수', color='r', linestyle=':', marker='o')\n",
    "## 타이틀, 라벨, 범례\n",
    "plt.title('중국 국적 관광객 추이(2010-01 ~ 2020-05)')\n",
    "plt.xlabel('기준년월')\n",
    "plt.ylabel('관광객수')\n",
    "plt.legend(loc='upper left')\n",
    "# plt.xticks(rotation=90) # x축 라벨 90도 회전\n",
    "## x축 라벨 \n",
    "plt.xticks([f'{i}-01' for i in range(2010, 2021)], rotation=45)\n",
    "## y축 라벨(1000단위 쉼표)\n",
    "current_values = plt.gca().get_yticks()\n",
    "plt.gca().set_yticklabels([f'{x:,.0f}' for x in current_values])\n",
    "plt.show()"
   ]
  },
  {
   "cell_type": "code",
   "execution_count": null,
   "metadata": {},
   "outputs": [],
   "source": [
    "## 판다스 DF 을 자동으로 차트로 만들어주는 것\n",
    "df_china.plot()\n",
    "plt.show()"
   ]
  }
 ],
 "metadata": {
  "kernelspec": {
   "display_name": "Python 3",
   "language": "python",
   "name": "python3"
  },
  "language_info": {
   "codemirror_mode": {
    "name": "ipython",
    "version": 3
   },
   "file_extension": ".py",
   "mimetype": "text/x-python",
   "name": "python",
   "nbconvert_exporter": "python",
   "pygments_lexer": "ipython3",
   "version": "3.12.2"
  }
 },
 "nbformat": 4,
 "nbformat_minor": 2
}
