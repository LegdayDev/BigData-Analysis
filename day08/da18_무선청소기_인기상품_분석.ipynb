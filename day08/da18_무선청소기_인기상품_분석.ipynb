{
 "cells": [
  {
   "cell_type": "markdown",
   "metadata": {},
   "source": [
    "## 빅데이터 실습\n",
    "\n",
    "### 다나와 무선청소기 상품분석\n",
    "\n",
    "#### 데이터 수집\n",
    "\n",
    "##### 셀레니움 사용"
   ]
  },
  {
   "cell_type": "code",
   "execution_count": 1,
   "metadata": {
    "ExecuteTime": {
     "end_time": "2024-03-19T23:55:19.682237Z",
     "start_time": "2024-03-19T23:55:19.613205Z"
    }
   },
   "outputs": [],
   "source": [
    "import mplcursors\n",
    "## 필수 라이브러리 사용등록\n",
    "from selenium import webdriver\n",
    "from bs4 import BeautifulSoup\n",
    "from urllib import parse # url encode\n",
    "from tqdm import tqdm\n",
    "import pandas as pd\n",
    "import time"
   ]
  },
  {
   "cell_type": "code",
   "execution_count": 2,
   "metadata": {
    "ExecuteTime": {
     "end_time": "2024-03-19T23:55:58.554722Z",
     "start_time": "2024-03-19T23:55:46.404987Z"
    }
   },
   "outputs": [],
   "source": [
    "## 웹드라이버로 크롬 오픈\n",
    "driver = webdriver.Chrome()\n",
    "url = r'https://search.danawa.com/dsearch.php?k1=%EC%97%90%EC%96%B4%EB%A9%94%EC%9D%B4%EB%93%9C+%EC%8A%A4%EB%A7%88%ED%8A%B8%ED%83%80%EC%9B%8C&module=goods&act=dispMain'\n",
    "driver.get(url)\n",
    "time.sleep(5.0)"
   ]
  },
  {
   "cell_type": "code",
   "execution_count": 3,
   "metadata": {
    "ExecuteTime": {
     "end_time": "2024-03-19T23:56:00.168983Z",
     "start_time": "2024-03-19T23:56:00.069949Z"
    }
   },
   "outputs": [],
   "source": [
    "html = driver.page_source\n",
    "soup = BeautifulSoup(html, 'html.parser')"
   ]
  },
  {
   "cell_type": "code",
   "execution_count": 4,
   "metadata": {
    "ExecuteTime": {
     "end_time": "2024-03-19T23:56:02.090422Z",
     "start_time": "2024-03-19T23:56:02.078141Z"
    }
   },
   "outputs": [],
   "source": [
    "prodItems = soup.select('ul.product_list > li.prod_item')"
   ]
  },
  {
   "cell_type": "code",
   "execution_count": 5,
   "metadata": {
    "ExecuteTime": {
     "end_time": "2024-03-19T23:56:03.471274Z",
     "start_time": "2024-03-19T23:56:03.467575Z"
    }
   },
   "outputs": [
    {
     "data": {
      "text/plain": "3"
     },
     "execution_count": 5,
     "metadata": {},
     "output_type": "execute_result"
    }
   ],
   "source": [
    "len(prodItems)"
   ]
  },
  {
   "cell_type": "code",
   "execution_count": 6,
   "metadata": {
    "ExecuteTime": {
     "end_time": "2024-03-19T23:56:04.657548Z",
     "start_time": "2024-03-19T23:56:04.654670Z"
    }
   },
   "outputs": [
    {
     "data": {
      "text/plain": "'에어메이드 스마트타워 AMC-3501A'"
     },
     "execution_count": 6,
     "metadata": {},
     "output_type": "execute_result"
    }
   ],
   "source": [
    "prodItems[0].select('p.prod_name > a')[0].text.strip()"
   ]
  },
  {
   "cell_type": "code",
   "execution_count": 7,
   "metadata": {
    "ExecuteTime": {
     "end_time": "2024-03-19T23:56:07.147449Z",
     "start_time": "2024-03-19T23:56:07.144421Z"
    }
   },
   "outputs": [
    {
     "data": {
      "text/plain": "'핸디스틱청소기 / 무선 / 흡입형 / 흡입력: 370W / 2024년형 / [구성] 먼지비움 / 충전 / UVC LED / 브러쉬: 바닥 / 침구 / 솔형 / 틈새 / 먼지봉투: 2.5L / [배터리] 사용시간: 40분(최대) / 충전시간: 5시간 / 분리형(1개) / 2500mAh / [청소] LED라이트 / BLDC모터 / [부가] 디스플레이표시 / 헤파필터 / 색상: 화이트 / 무게: 2.5kg / 크기(가로x세로x깊이): 252x1253x185mm'"
     },
     "execution_count": 7,
     "metadata": {},
     "output_type": "execute_result"
    }
   ],
   "source": [
    "prodItems[0].select('div.spec_list')[0].text.strip().replace('\\t', '')"
   ]
  },
  {
   "cell_type": "code",
   "execution_count": 8,
   "metadata": {
    "ExecuteTime": {
     "end_time": "2024-03-19T23:56:09.517264Z",
     "start_time": "2024-03-19T23:56:09.514576Z"
    }
   },
   "outputs": [
    {
     "data": {
      "text/plain": "True"
     },
     "execution_count": 8,
     "metadata": {},
     "output_type": "execute_result"
    }
   ],
   "source": [
    "# 만약에 수가 아닌 문자열 들어왔을때는 False\n",
    "prodItems[0].select('input')[1].get('value').isdecimal()"
   ]
  },
  {
   "cell_type": "markdown",
   "metadata": {},
   "source": [
    "##### 다나와 무선청소기 웹크롤링 다시\n",
    "- 가격외에는 안들어오도록 변환"
   ]
  },
  {
   "cell_type": "code",
   "execution_count": 9,
   "metadata": {
    "ExecuteTime": {
     "end_time": "2024-03-19T23:56:12.001998Z",
     "start_time": "2024-03-19T23:56:11.999511Z"
    }
   },
   "outputs": [],
   "source": [
    "## 검색어, 페이지를 변경하면서 URL 생성함수\n",
    "def getSearchPageUrl(keyword, page):\n",
    "    ecKeyword = parse.quote(keyword)\n",
    "    url = f'https://search.danawa.com/dsearch.php?query={ecKeyword}&originalQuery={ecKeyword}&previousKeyword={ecKeyword}&checkedInfo=N&volumeType=allvs&' + \\\n",
    "          f'page={page}&limit=120&sort=saveDESC&list=list&boost=true&tab=goods&addDelivery=N&coupangMemberSort=N&mode=simple&isInitTireSmartFinder=N&' + \\\n",
    "           'recommendedSort=N&defaultUICategoryCode=10325109&defaultPhysicsCategoryCode=72%7C80%7C81%7C0&defaultVmTab=3138&defaultVaTab=1098867&isZeroPrice=Y&' + \\\n",
    "           'quickProductYN=N&priceUnitSort=N&priceUnitSortOrder=A'\n",
    "    return url"
   ]
  },
  {
   "cell_type": "code",
   "execution_count": 10,
   "metadata": {
    "ExecuteTime": {
     "end_time": "2024-03-19T23:56:13.933444Z",
     "start_time": "2024-03-19T23:56:13.930699Z"
    }
   },
   "outputs": [],
   "source": [
    "## 상품정보 추출하는 함수\n",
    "def getProdItems(prodItems):\n",
    "    prodData = []\n",
    "\n",
    "    for prodItem in prodItems:\n",
    "        try:\n",
    "            prodName = prodItem.select('p.prod_name > a')[0].text.strip()  # 상품명 가져오기\n",
    "            specList = prodItem.select('div.spec_list')[0].text.strip().replace('\\t', '') # 상품 스펙목록 가져오기\n",
    "\n",
    "            if prodItem.select('input')[1].get('value').isdecimal() == True: \n",
    "                price = prodItem.select('input')[1].get('value') # 최저가 가져오기\n",
    "            else:\n",
    "                price = 0 # 문자열 들어온 것 막음\n",
    "\n",
    "            prodData.append([prodName, specList, price])\n",
    "        except:\n",
    "            pass\n",
    "    \n",
    "    return prodData"
   ]
  },
  {
   "cell_type": "code",
   "execution_count": 11,
   "metadata": {
    "ExecuteTime": {
     "end_time": "2024-03-19T23:59:37.946904Z",
     "start_time": "2024-03-19T23:56:14.782398Z"
    }
   },
   "outputs": [
    {
     "name": "stderr",
     "output_type": "stream",
     "text": [
      "100%|██████████| 20/20 [03:21<00:00, 10.05s/it]\n"
     ]
    }
   ],
   "source": [
    "## 여러페이지 검색후 크롤링하는 작업\n",
    "driver = webdriver.Chrome()\n",
    "# 암묵적으로 웹 자원 로드를 위해 3초정도 대기\n",
    "driver.implicitly_wait(3.0)\n",
    "\n",
    "keyword = '무선청소기'\n",
    "startPage = 1\n",
    "totalPage = 20\n",
    "prodDataTotal = [] # 최종적으로 저장할 리스트\n",
    "\n",
    "for page in tqdm(range(startPage, totalPage +1)):\n",
    "    # 검색 페이지 이동\n",
    "    url = getSearchPageUrl(keyword, page)\n",
    "    driver.get(url)\n",
    "    # 페이지 로딩이 완료될때까지 5초간 대기\n",
    "    time.sleep(5)\n",
    "\n",
    "    # 현재 페이지 HTML 가져오기\n",
    "    html = driver.page_source\n",
    "    soup = BeautifulSoup(html, 'html.parser')\n",
    "\n",
    "    # 상품정보 추출\n",
    "    prodItems = soup.select('ul.product_list > li.prod_item')\n",
    "    prodItemList = getProdItems(prodItems) # 리스트로 추출하는 함수\n",
    "\n",
    "    # 추출된 정보를 prodDataTotal 추가\n",
    "    prodDataTotal += prodItemList   "
   ]
  },
  {
   "cell_type": "code",
   "execution_count": 12,
   "metadata": {
    "ExecuteTime": {
     "end_time": "2024-03-19T23:59:41.507706Z",
     "start_time": "2024-03-19T23:59:41.504723Z"
    }
   },
   "outputs": [],
   "source": [
    "dfProdDataTotal = pd.DataFrame(prodDataTotal)"
   ]
  },
  {
   "cell_type": "code",
   "execution_count": 13,
   "metadata": {
    "ExecuteTime": {
     "end_time": "2024-03-19T23:59:42.134318Z",
     "start_time": "2024-03-19T23:59:42.128664Z"
    }
   },
   "outputs": [
    {
     "name": "stdout",
     "output_type": "stream",
     "text": [
      "<class 'pandas.core.frame.DataFrame'>\n",
      "RangeIndex: 2130 entries, 0 to 2129\n",
      "Data columns (total 3 columns):\n",
      " #   Column  Non-Null Count  Dtype \n",
      "---  ------  --------------  ----- \n",
      " 0   0       2130 non-null   object\n",
      " 1   1       2130 non-null   object\n",
      " 2   2       2130 non-null   object\n",
      "dtypes: object(3)\n",
      "memory usage: 50.1+ KB\n"
     ]
    }
   ],
   "source": [
    "dfProdDataTotal.info()"
   ]
  },
  {
   "cell_type": "code",
   "execution_count": 14,
   "metadata": {
    "ExecuteTime": {
     "end_time": "2024-03-19T23:59:43.990201Z",
     "start_time": "2024-03-19T23:59:43.987871Z"
    }
   },
   "outputs": [],
   "source": [
    "dfProdDataTotal.columns = ['제품명','제품스펙','최저가']"
   ]
  },
  {
   "cell_type": "code",
   "execution_count": 15,
   "metadata": {
    "ExecuteTime": {
     "end_time": "2024-03-19T23:59:45.113036Z",
     "start_time": "2024-03-19T23:59:44.943107Z"
    }
   },
   "outputs": [],
   "source": [
    "dfProdDataTotal.to_excel('./data/다나와_무선청소기_결과.xlsx', index=False)"
   ]
  },
  {
   "cell_type": "markdown",
   "metadata": {},
   "source": [
    "##### 크롤링 데이터 전처리"
   ]
  },
  {
   "cell_type": "code",
   "execution_count": 16,
   "metadata": {
    "ExecuteTime": {
     "end_time": "2024-03-19T23:59:48.712475Z",
     "start_time": "2024-03-19T23:59:48.630628Z"
    }
   },
   "outputs": [
    {
     "data": {
      "text/plain": "                                                    제품명  \\\n2125                                 한샘 마이홈 스톰 MSA-AS22   \n2126                                  LG전자 코드제로 싸이킹 K95   \n2127      상품상세설명 참조 캐치웰 텀블러 디자인 초경량 무선 핸디형 진공청소기_아이언그레이   \n2128  스팀청소기 샤오미 무선 휴대용 자동차 진공 청소기 스마트 홈 흡입 및 블로잉 다기능...   \n2129                                        업킵 MJ-BC779   \n\n                                                   제품스펙      최저가  \n2125  물걸레청소기 / 회전식 / 물걸레전용 / 무선 / 소비전력: 50W / [배터리] ...   220000  \n2126  진공청소기 / 무선 / 소비전력: 600W / [성능] 싸이클론흡입 / 먼지압축 /...  1359230  \n2127                                                NaN        0  \n2128                                                NaN        0  \n2129  침구청소기 / 핸디형 / 무선 / [기능] 청소모드: UV살균 / 속도조절 / 헤파...    89900  ",
      "text/html": "<div>\n<style scoped>\n    .dataframe tbody tr th:only-of-type {\n        vertical-align: middle;\n    }\n\n    .dataframe tbody tr th {\n        vertical-align: top;\n    }\n\n    .dataframe thead th {\n        text-align: right;\n    }\n</style>\n<table border=\"1\" class=\"dataframe\">\n  <thead>\n    <tr style=\"text-align: right;\">\n      <th></th>\n      <th>제품명</th>\n      <th>제품스펙</th>\n      <th>최저가</th>\n    </tr>\n  </thead>\n  <tbody>\n    <tr>\n      <th>2125</th>\n      <td>한샘 마이홈 스톰 MSA-AS22</td>\n      <td>물걸레청소기 / 회전식 / 물걸레전용 / 무선 / 소비전력: 50W / [배터리] ...</td>\n      <td>220000</td>\n    </tr>\n    <tr>\n      <th>2126</th>\n      <td>LG전자 코드제로 싸이킹 K95</td>\n      <td>진공청소기 / 무선 / 소비전력: 600W / [성능] 싸이클론흡입 / 먼지압축 /...</td>\n      <td>1359230</td>\n    </tr>\n    <tr>\n      <th>2127</th>\n      <td>상품상세설명 참조 캐치웰 텀블러 디자인 초경량 무선 핸디형 진공청소기_아이언그레이</td>\n      <td>NaN</td>\n      <td>0</td>\n    </tr>\n    <tr>\n      <th>2128</th>\n      <td>스팀청소기 샤오미 무선 휴대용 자동차 진공 청소기 스마트 홈 흡입 및 블로잉 다기능...</td>\n      <td>NaN</td>\n      <td>0</td>\n    </tr>\n    <tr>\n      <th>2129</th>\n      <td>업킵 MJ-BC779</td>\n      <td>침구청소기 / 핸디형 / 무선 / [기능] 청소모드: UV살균 / 속도조절 / 헤파...</td>\n      <td>89900</td>\n    </tr>\n  </tbody>\n</table>\n</div>"
     },
     "execution_count": 16,
     "metadata": {},
     "output_type": "execute_result"
    }
   ],
   "source": [
    "# 저장한 엑셀을 재로드\n",
    "dfProdDanawa = pd.read_excel('./data/다나와_무선청소기_결과.xlsx')\n",
    "dfProdDanawa.tail()"
   ]
  },
  {
   "cell_type": "code",
   "execution_count": 17,
   "metadata": {
    "ExecuteTime": {
     "end_time": "2024-03-19T23:59:54.397573Z",
     "start_time": "2024-03-19T23:59:54.391971Z"
    }
   },
   "outputs": [
    {
     "name": "stdout",
     "output_type": "stream",
     "text": [
      "<class 'pandas.core.frame.DataFrame'>\n",
      "RangeIndex: 2130 entries, 0 to 2129\n",
      "Data columns (total 3 columns):\n",
      " #   Column  Non-Null Count  Dtype \n",
      "---  ------  --------------  ----- \n",
      " 0   제품명     2130 non-null   object\n",
      " 1   제품스펙    2120 non-null   object\n",
      " 2   최저가     2130 non-null   int64 \n",
      "dtypes: int64(1), object(2)\n",
      "memory usage: 50.1+ KB\n"
     ]
    }
   ],
   "source": [
    "dfProdDanawa.info()"
   ]
  },
  {
   "cell_type": "code",
   "execution_count": 18,
   "metadata": {
    "ExecuteTime": {
     "end_time": "2024-03-19T23:59:57.187209Z",
     "start_time": "2024-03-19T23:59:57.183353Z"
    }
   },
   "outputs": [
    {
     "data": {
      "text/plain": "제품명      0\n제품스펙    10\n최저가      0\ndtype: int64"
     },
     "execution_count": 18,
     "metadata": {},
     "output_type": "execute_result"
    }
   ],
   "source": [
    "dfProdDanawa.isnull().sum()"
   ]
  },
  {
   "cell_type": "code",
   "execution_count": 19,
   "metadata": {
    "ExecuteTime": {
     "end_time": "2024-03-19T23:59:58.809779Z",
     "start_time": "2024-03-19T23:59:58.807314Z"
    }
   },
   "outputs": [],
   "source": [
    "# 결측치 검색\n",
    "condition = dfProdDanawa['제품스펙'].isnull() == True"
   ]
  },
  {
   "cell_type": "code",
   "execution_count": 20,
   "metadata": {
    "ExecuteTime": {
     "end_time": "2024-03-20T00:00:00.246684Z",
     "start_time": "2024-03-20T00:00:00.242304Z"
    }
   },
   "outputs": [
    {
     "data": {
      "text/plain": "                                                    제품명 제품스펙  최저가\n1863      상품상세설명 참조 캐치웰 텀블러 디자인 초경량 무선 핸디형 진공청소기_아이언그레이  NaN    0\n1864  스팀청소기 샤오미 무선 휴대용 자동차 진공 청소기 스마트 홈 흡입 및 블로잉 다기능...  NaN    0\n1929      상품상세설명 참조 캐치웰 텀블러 디자인 초경량 무선 핸디형 진공청소기_아이언그레이  NaN    0\n1930  스팀청소기 샤오미 무선 휴대용 자동차 진공 청소기 스마트 홈 흡입 및 블로잉 다기능...  NaN    0\n1995      상품상세설명 참조 캐치웰 텀블러 디자인 초경량 무선 핸디형 진공청소기_아이언그레이  NaN    0\n1996  스팀청소기 샤오미 무선 휴대용 자동차 진공 청소기 스마트 홈 흡입 및 블로잉 다기능...  NaN    0\n2061      상품상세설명 참조 캐치웰 텀블러 디자인 초경량 무선 핸디형 진공청소기_아이언그레이  NaN    0\n2062  스팀청소기 샤오미 무선 휴대용 자동차 진공 청소기 스마트 홈 흡입 및 블로잉 다기능...  NaN    0\n2127      상품상세설명 참조 캐치웰 텀블러 디자인 초경량 무선 핸디형 진공청소기_아이언그레이  NaN    0\n2128  스팀청소기 샤오미 무선 휴대용 자동차 진공 청소기 스마트 홈 흡입 및 블로잉 다기능...  NaN    0",
      "text/html": "<div>\n<style scoped>\n    .dataframe tbody tr th:only-of-type {\n        vertical-align: middle;\n    }\n\n    .dataframe tbody tr th {\n        vertical-align: top;\n    }\n\n    .dataframe thead th {\n        text-align: right;\n    }\n</style>\n<table border=\"1\" class=\"dataframe\">\n  <thead>\n    <tr style=\"text-align: right;\">\n      <th></th>\n      <th>제품명</th>\n      <th>제품스펙</th>\n      <th>최저가</th>\n    </tr>\n  </thead>\n  <tbody>\n    <tr>\n      <th>1863</th>\n      <td>상품상세설명 참조 캐치웰 텀블러 디자인 초경량 무선 핸디형 진공청소기_아이언그레이</td>\n      <td>NaN</td>\n      <td>0</td>\n    </tr>\n    <tr>\n      <th>1864</th>\n      <td>스팀청소기 샤오미 무선 휴대용 자동차 진공 청소기 스마트 홈 흡입 및 블로잉 다기능...</td>\n      <td>NaN</td>\n      <td>0</td>\n    </tr>\n    <tr>\n      <th>1929</th>\n      <td>상품상세설명 참조 캐치웰 텀블러 디자인 초경량 무선 핸디형 진공청소기_아이언그레이</td>\n      <td>NaN</td>\n      <td>0</td>\n    </tr>\n    <tr>\n      <th>1930</th>\n      <td>스팀청소기 샤오미 무선 휴대용 자동차 진공 청소기 스마트 홈 흡입 및 블로잉 다기능...</td>\n      <td>NaN</td>\n      <td>0</td>\n    </tr>\n    <tr>\n      <th>1995</th>\n      <td>상품상세설명 참조 캐치웰 텀블러 디자인 초경량 무선 핸디형 진공청소기_아이언그레이</td>\n      <td>NaN</td>\n      <td>0</td>\n    </tr>\n    <tr>\n      <th>1996</th>\n      <td>스팀청소기 샤오미 무선 휴대용 자동차 진공 청소기 스마트 홈 흡입 및 블로잉 다기능...</td>\n      <td>NaN</td>\n      <td>0</td>\n    </tr>\n    <tr>\n      <th>2061</th>\n      <td>상품상세설명 참조 캐치웰 텀블러 디자인 초경량 무선 핸디형 진공청소기_아이언그레이</td>\n      <td>NaN</td>\n      <td>0</td>\n    </tr>\n    <tr>\n      <th>2062</th>\n      <td>스팀청소기 샤오미 무선 휴대용 자동차 진공 청소기 스마트 홈 흡입 및 블로잉 다기능...</td>\n      <td>NaN</td>\n      <td>0</td>\n    </tr>\n    <tr>\n      <th>2127</th>\n      <td>상품상세설명 참조 캐치웰 텀블러 디자인 초경량 무선 핸디형 진공청소기_아이언그레이</td>\n      <td>NaN</td>\n      <td>0</td>\n    </tr>\n    <tr>\n      <th>2128</th>\n      <td>스팀청소기 샤오미 무선 휴대용 자동차 진공 청소기 스마트 홈 흡입 및 블로잉 다기능...</td>\n      <td>NaN</td>\n      <td>0</td>\n    </tr>\n  </tbody>\n</table>\n</div>"
     },
     "execution_count": 20,
     "metadata": {},
     "output_type": "execute_result"
    }
   ],
   "source": [
    "dfProdDanawa[condition]"
   ]
  },
  {
   "cell_type": "code",
   "execution_count": 21,
   "metadata": {
    "ExecuteTime": {
     "end_time": "2024-03-20T00:00:01.571744Z",
     "start_time": "2024-03-20T00:00:01.568496Z"
    }
   },
   "outputs": [],
   "source": [
    "## 결측치가 있는 행(row)을 삭제\n",
    "dfProdDanawa = dfProdDanawa.dropna(axis=0)"
   ]
  },
  {
   "cell_type": "code",
   "execution_count": 22,
   "metadata": {
    "ExecuteTime": {
     "end_time": "2024-03-20T00:00:02.357474Z",
     "start_time": "2024-03-20T00:00:02.355436Z"
    }
   },
   "outputs": [],
   "source": [
    "## 최저가가 0인 제품\n",
    "condition = dfProdDanawa['최저가'] == 0"
   ]
  },
  {
   "cell_type": "code",
   "execution_count": 23,
   "metadata": {
    "ExecuteTime": {
     "end_time": "2024-03-20T00:00:03.012493Z",
     "start_time": "2024-03-20T00:00:03.010400Z"
    }
   },
   "outputs": [],
   "source": [
    "# 최저가가 0은 제품 제외한 나머지\n",
    "dfProdDanawa = dfProdDanawa[condition == False]"
   ]
  },
  {
   "cell_type": "code",
   "execution_count": 24,
   "metadata": {
    "ExecuteTime": {
     "end_time": "2024-03-20T00:00:03.558075Z",
     "start_time": "2024-03-20T00:00:03.556108Z"
    }
   },
   "outputs": [],
   "source": [
    "# 행들이 삭제되면서 인덱스가 꼬임. 인덱스 초기화\n",
    "dfProdDanawa.reset_index(drop=True, inplace=True)"
   ]
  },
  {
   "cell_type": "code",
   "execution_count": 25,
   "metadata": {
    "ExecuteTime": {
     "end_time": "2024-03-20T00:00:04.342446Z",
     "start_time": "2024-03-20T00:00:04.338687Z"
    }
   },
   "outputs": [
    {
     "name": "stdout",
     "output_type": "stream",
     "text": [
      "<class 'pandas.core.frame.DataFrame'>\n",
      "RangeIndex: 2068 entries, 0 to 2067\n",
      "Data columns (total 3 columns):\n",
      " #   Column  Non-Null Count  Dtype \n",
      "---  ------  --------------  ----- \n",
      " 0   제품명     2068 non-null   object\n",
      " 1   제품스펙    2068 non-null   object\n",
      " 2   최저가     2068 non-null   int64 \n",
      "dtypes: int64(1), object(2)\n",
      "memory usage: 48.6+ KB\n"
     ]
    }
   ],
   "source": [
    "# 결측치, 이상치를 제거한 최종 DF\n",
    "# 회사명, 모델명, 카테고리, 사용시간, 흡입력 추출한 결과도 2057개가 필수\n",
    "dfProdDanawa.info()"
   ]
  },
  {
   "cell_type": "code",
   "execution_count": 26,
   "metadata": {
    "ExecuteTime": {
     "end_time": "2024-03-20T00:00:05.295372Z",
     "start_time": "2024-03-20T00:00:05.292523Z"
    }
   },
   "outputs": [
    {
     "data": {
      "text/plain": "['LG전자', '오브제컬렉션 코드제로 A9S AX9884']"
     },
     "execution_count": 26,
     "metadata": {},
     "output_type": "execute_result"
    }
   ],
   "source": [
    "# 회사명, 제품명 분리 split(' ', n) n => 자를 공백의 번호\n",
    "dfProdDanawa['제품명'][:5][0].split(' ', 1)"
   ]
  },
  {
   "cell_type": "code",
   "execution_count": 27,
   "metadata": {
    "ExecuteTime": {
     "end_time": "2024-03-20T00:00:06.191763Z",
     "start_time": "2024-03-20T00:00:06.188505Z"
    }
   },
   "outputs": [],
   "source": [
    "## 회사명, 모델명 분리 시작\n",
    "compList = []\n",
    "modelList = []\n",
    "count = 0\n",
    "\n",
    "for temp in dfProdDanawa['제품명']:\n",
    "    titles = temp.split(' ', 1) # 길이 2 배열 생성\n",
    "    if (len(titles) > 1):\n",
    "        compList.append(titles[0]) # 회사명\n",
    "        modelList.append(titles[1]) # 모델명\n",
    "    else:\n",
    "        compList.append('') # 회사명은 비운다\n",
    "        modelList.append(titles[0]) # 모델명\n",
    "\n",
    "    count +=1    "
   ]
  },
  {
   "cell_type": "code",
   "execution_count": 28,
   "metadata": {
    "ExecuteTime": {
     "end_time": "2024-03-20T00:00:07.146950Z",
     "start_time": "2024-03-20T00:00:07.144385Z"
    }
   },
   "outputs": [
    {
     "data": {
      "text/plain": "2068"
     },
     "execution_count": 28,
     "metadata": {},
     "output_type": "execute_result"
    }
   ],
   "source": [
    "len(compList)"
   ]
  },
  {
   "cell_type": "code",
   "execution_count": 29,
   "metadata": {
    "ExecuteTime": {
     "end_time": "2024-03-20T00:00:08.085730Z",
     "start_time": "2024-03-20T00:00:08.083324Z"
    }
   },
   "outputs": [
    {
     "data": {
      "text/plain": "2068"
     },
     "execution_count": 29,
     "metadata": {},
     "output_type": "execute_result"
    }
   ],
   "source": [
    "len(modelList)"
   ]
  },
  {
   "cell_type": "code",
   "execution_count": 30,
   "metadata": {
    "ExecuteTime": {
     "end_time": "2024-03-20T00:00:09.804881Z",
     "start_time": "2024-03-20T00:00:09.802999Z"
    }
   },
   "outputs": [],
   "source": [
    "# 스펙목록 데이터\n",
    "specList = dfProdDanawa.loc[2000, '제품스펙'].split(' / ')"
   ]
  },
  {
   "cell_type": "code",
   "execution_count": 31,
   "metadata": {
    "ExecuteTime": {
     "end_time": "2024-03-20T00:00:11.896897Z",
     "start_time": "2024-03-20T00:00:11.894526Z"
    }
   },
   "outputs": [
    {
     "data": {
      "text/plain": "['침구청소기',\n '핸디형',\n '무선',\n '충전시간: 2시간',\n '[기능] 청소모드: UV살균, 흡입',\n '흡입력: 7500Pa',\n '헤파필터',\n '색상: 블랙',\n '무게: 1.1kg']"
     },
     "execution_count": 31,
     "metadata": {},
     "output_type": "execute_result"
    }
   ],
   "source": [
    "specList"
   ]
  },
  {
   "cell_type": "code",
   "execution_count": 32,
   "metadata": {
    "ExecuteTime": {
     "end_time": "2024-03-20T00:00:13.346227Z",
     "start_time": "2024-03-20T00:00:13.235061Z"
    }
   },
   "outputs": [
    {
     "ename": "IndexError",
     "evalue": "list index out of range",
     "output_type": "error",
     "traceback": [
      "\u001B[0;31m---------------------------------------------------------------------------\u001B[0m",
      "\u001B[0;31mIndexError\u001B[0m                                Traceback (most recent call last)",
      "Cell \u001B[0;32mIn[32], line 9\u001B[0m\n\u001B[1;32m      6\u001B[0m     \u001B[38;5;28;01melif\u001B[39;00m \u001B[38;5;124m'\u001B[39m\u001B[38;5;124m흡입력\u001B[39m\u001B[38;5;124m'\u001B[39m \u001B[38;5;129;01min\u001B[39;00m spec:\n\u001B[1;32m      7\u001B[0m         suctionPow \u001B[38;5;241m=\u001B[39m spec\n\u001B[0;32m----> 9\u001B[0m \u001B[38;5;28mprint\u001B[39m(\u001B[43museTime\u001B[49m\u001B[38;5;241;43m.\u001B[39;49m\u001B[43msplit\u001B[49m\u001B[43m(\u001B[49m\u001B[38;5;124;43m'\u001B[39;49m\u001B[38;5;124;43m \u001B[39;49m\u001B[38;5;124;43m'\u001B[39;49m\u001B[43m)\u001B[49m\u001B[43m[\u001B[49m\u001B[38;5;241;43m1\u001B[39;49m\u001B[43m]\u001B[49m\u001B[38;5;241m.\u001B[39mstrip())\n\u001B[1;32m     10\u001B[0m \u001B[38;5;28mprint\u001B[39m(suctionPow\u001B[38;5;241m.\u001B[39msplit(\u001B[38;5;124m'\u001B[39m\u001B[38;5;124m \u001B[39m\u001B[38;5;124m'\u001B[39m)[\u001B[38;5;241m1\u001B[39m]\u001B[38;5;241m.\u001B[39mstrip()) \u001B[38;5;66;03m# 흡입력이 없어서 ''경우는 split(' ')에서 예외발생\u001B[39;00m\n",
      "\u001B[0;31mIndexError\u001B[0m: list index out of range"
     ]
    }
   ],
   "source": [
    "useTime = ''\n",
    "suctionPow = ''\n",
    "for spec in specList:\n",
    "    if '사용시간' in spec:\n",
    "        useTime = spec\n",
    "    elif '흡입력' in spec:\n",
    "        suctionPow = spec\n",
    "\n",
    "print(useTime.split(' ')[1].strip())\n",
    "print(suctionPow.split(' ')[1].strip()) # 흡입력이 없어서 ''경우는 split(' ')에서 예외발생"
   ]
  },
  {
   "cell_type": "code",
   "execution_count": 33,
   "metadata": {
    "ExecuteTime": {
     "end_time": "2024-03-20T00:00:26.274830Z",
     "start_time": "2024-03-20T00:00:26.272359Z"
    }
   },
   "outputs": [
    {
     "data": {
      "text/plain": "'핸디스틱청소기 / 무선 / 흡입+물걸레(동시) / 흡입력: 250W / 소비전력: 620W / 2023년형 / [구성] 거치대: 올인원타워 / 먼지비움 / 충전 / UVC LED / 액서서리수납 / 스탠드거치 / 먼지비움시간: 30초 / 브러쉬: 와이드바닥 / 물걸레: 스팀, 고온, 일반 / 솔형 / 틈새 / 먼지봉투: 2.5L / [배터리] 사용시간: 30분(최대) / 충전시간: 4시간 / 분리형(2개) / 리튬이온 / 25.2V / [청소] 싸이클론흡입 / LED라이트 / 자동물공급 / 스마트인버터모터 / [부가] 스마트폰제어 / 대화형알림창 / 워셔블헤파필터 / 5단계여과 / 색상: 카밍베이지 / 무게: 2.47kg / 크기(가로x세로x깊이): 300x1120x245mm'"
     },
     "execution_count": 33,
     "metadata": {},
     "output_type": "execute_result"
    }
   ],
   "source": [
    "dfProdDanawa.loc[0, '제품스펙']"
   ]
  },
  {
   "cell_type": "code",
   "execution_count": 34,
   "metadata": {
    "ExecuteTime": {
     "end_time": "2024-03-20T00:00:27.266518Z",
     "start_time": "2024-03-20T00:00:27.257884Z"
    }
   },
   "outputs": [],
   "source": [
    "## 위의 테스트를 기반으로 카테고리, 사용시간, 흡입력 추출\n",
    "categoryList = []\n",
    "useTimeList = []\n",
    "suctionPowList = []\n",
    "count = 0\n",
    "\n",
    "for spec in dfProdDanawa['제품스펙']:\n",
    "    # ' / '로 문자열 분리\n",
    "    specList = spec.split(' / ')\n",
    "    # 카테고리 추출\n",
    "    category = specList[0]\n",
    "    categoryList.append(category)\n",
    "    # 사용시간, 흡입력 추출\n",
    "    useTimeVal = None\n",
    "    suctionPowVal = None\n",
    "\n",
    "    for temp in specList:\n",
    "        if '사용시간' in temp:\n",
    "            useTimeVal = temp.replace('[배터리] ', '') # 1. [배터리]가 값 오류 발생시킴\n",
    "        elif '흡입력' in temp:\n",
    "            suctionPowVal = temp\n",
    "\n",
    "    # 끝난 다음에도 사용시간, 흡입력이 None이면 스펙에 찾을값이 없었음\n",
    "    if useTimeVal != None:\n",
    "        useTime = useTimeVal.split(' ')[1].strip().replace('(최대)', '') # 2. (최대) 삭제\n",
    "    else:\n",
    "        useTime = ''\n",
    "\n",
    "    if suctionPowVal != None:\n",
    "        suctionPow = suctionPowVal.split(' ')[1].strip()\n",
    "    else:\n",
    "        suctionPow = ''\n",
    "\n",
    "    useTimeList.append(useTime)\n",
    "    suctionPowList.append(suctionPow)\n",
    "    count += 1\n",
    "    # print(count)"
   ]
  },
  {
   "cell_type": "code",
   "execution_count": 35,
   "metadata": {
    "ExecuteTime": {
     "end_time": "2024-03-20T00:00:28.259381Z",
     "start_time": "2024-03-20T00:00:28.257046Z"
    }
   },
   "outputs": [
    {
     "data": {
      "text/plain": "2068"
     },
     "execution_count": 35,
     "metadata": {},
     "output_type": "execute_result"
    }
   ],
   "source": [
    "len(categoryList)"
   ]
  },
  {
   "cell_type": "code",
   "execution_count": 36,
   "metadata": {
    "ExecuteTime": {
     "end_time": "2024-03-20T00:00:28.902248Z",
     "start_time": "2024-03-20T00:00:28.899887Z"
    }
   },
   "outputs": [
    {
     "data": {
      "text/plain": "2068"
     },
     "execution_count": 36,
     "metadata": {},
     "output_type": "execute_result"
    }
   ],
   "source": [
    "len(suctionPowList)"
   ]
  },
  {
   "cell_type": "code",
   "execution_count": 37,
   "metadata": {
    "ExecuteTime": {
     "end_time": "2024-03-20T00:00:29.522919Z",
     "start_time": "2024-03-20T00:00:29.517241Z"
    }
   },
   "outputs": [
    {
     "data": {
      "text/plain": "['30분',\n '1시간',\n '',\n '1시간',\n '30분',\n '1시간',\n '30분',\n '1시간',\n '45분',\n '50분',\n '1시간30분',\n '50분',\n '1시간',\n '50분',\n '30분',\n '1시간',\n '30분',\n '1시간',\n '1시간',\n '12분',\n '1시간',\n '30분',\n '30분',\n '1시간',\n '1시간',\n '40분',\n '1시간',\n '1시간',\n '1시간20분',\n '1시간',\n '43분',\n '40분',\n '1시간',\n '1시간',\n '1시간',\n '53분',\n '30분',\n '50분',\n '',\n '20분',\n '30분',\n '1시간',\n '18분',\n '30분',\n '32분',\n '1시간',\n '1시간',\n '1시간',\n '1시간',\n '50분',\n '1시간',\n '1시간',\n '42분',\n '1시간',\n '1시간',\n '30분',\n '60분',\n '30분',\n '1시간',\n '30분',\n '30분',\n '1시간',\n '1시간',\n '1시간40분',\n '50분',\n '10~15분',\n '1시간',\n '1시간',\n '30분',\n '1시간',\n '30분',\n '30분',\n '40분',\n '30분',\n '20분',\n '1시간20분',\n '40분',\n '30분',\n '30분',\n '30분',\n '1시간',\n '40분',\n '30분',\n '1시간',\n '30분',\n '1시간',\n '40분',\n '1시간',\n '57분',\n '1시간',\n '1시간',\n '50분',\n '1시간',\n '',\n '1시간',\n '1시간',\n '45분',\n '40분',\n '45분',\n '35분',\n '30분',\n '40분',\n '1시간',\n '50분',\n '43분',\n '1시간',\n '40분',\n '50분',\n '45분',\n '40분',\n '1시간',\n '20분',\n '1시간10분',\n '20분',\n '20분',\n '62분',\n '42분',\n '30분',\n '',\n '50분',\n '40분',\n '28분',\n '35분',\n '44분',\n '',\n '50분',\n '',\n '50분',\n '1시간20분(대용량배터리기준)',\n '1시간',\n '35분',\n '1시간',\n '1시간5분',\n '50분',\n '1시간',\n '50분',\n '25분',\n '30분',\n '30분',\n '1시간',\n '48분',\n '40분',\n '75분',\n '1시간',\n '',\n '50분',\n '1시간',\n '40분',\n '55분',\n '40분',\n '1시간',\n '9분',\n '20분',\n '45분',\n '50분',\n '1시간18분',\n '9분',\n '10분',\n '30분',\n '30분',\n '1시간',\n '48분',\n '33분',\n '45분',\n '45분',\n '1시간',\n '1시간40분',\n '1시간5분',\n '1시간',\n '1시간20분(대용량배터리기준)',\n '1시간20분(대용량배터리기준)',\n '53분',\n '50분',\n '1시간',\n '35분',\n '45분',\n '',\n '',\n '1시간',\n '1시간20분',\n '32분',\n '40분',\n '1시간',\n '53분',\n '1시간',\n '30분',\n '',\n '1시간',\n '12분',\n '10분',\n '',\n '30분',\n '8~12분',\n '50분',\n '45분',\n '40분',\n '40분',\n '35분',\n '40분',\n '1시간',\n '40분',\n '1시간',\n '40분',\n '50분',\n '20분',\n '4시간',\n '30분',\n '1시간',\n '15분',\n '26분',\n '1시간10분',\n '22분',\n '1시간',\n '50분',\n '45분',\n '',\n '2시간30분',\n '62분',\n '20분',\n '',\n '35분',\n '30분',\n '50분',\n '35분',\n '45분',\n '20분',\n '40분',\n '',\n '33분',\n '20분',\n '42분',\n '35분',\n '1시간',\n '35분',\n '1시간',\n '1시간30분',\n '',\n '1시간40분',\n '4시간',\n '30분',\n '28분',\n '30분',\n '60분',\n '20분',\n '40분',\n '35분',\n '1시간',\n '30분',\n '45분',\n '1시간',\n '',\n '33분',\n '33분',\n '30분',\n '45분',\n '20분',\n '40분',\n '1시간',\n '10분',\n '12분',\n '40분',\n '30분',\n '50분',\n '40분',\n '',\n '35분',\n '48분',\n '1시간',\n '20분',\n '1시간22분',\n '40분',\n '18분',\n '50분',\n '35분',\n '40분',\n '',\n '45분',\n '15분',\n '48분',\n '50분',\n '35분',\n '30분',\n '',\n '1시간',\n '12분',\n '55분',\n '40분',\n '1시간10분',\n '30분',\n '30분',\n '',\n '40분',\n '30분',\n '50분',\n '53분',\n '30분',\n '45분',\n '35분',\n '1시간',\n '1시간',\n '40분',\n '25분',\n '1시간',\n '1시간',\n '40분',\n '30분',\n '30분',\n '1시간',\n '50분',\n '',\n '35분',\n '30분',\n '14분',\n '45분',\n '46분',\n '38분',\n '33분',\n '30분',\n '30분',\n '13분29초',\n '50분',\n '1시간',\n '40분',\n '50분',\n '40분',\n '48분',\n '',\n '25분',\n '40분',\n '50분',\n '35분',\n '',\n '30분',\n '45분',\n '50분',\n '35분',\n '1시간',\n '11분',\n '57분',\n '9분',\n '',\n '25분',\n '1시간10분',\n '35분',\n '35분',\n '50분',\n '20분',\n '',\n '1시간',\n '1시간',\n '11분',\n '35분',\n '45분',\n '40분',\n '30분',\n '3시간',\n '1시간',\n '45분',\n '40분',\n '30분',\n '1시간',\n '42분',\n '35분',\n '1시간10분',\n '30분',\n '2시간',\n '1시간40분',\n '38분',\n '40분',\n '30분',\n '20분',\n '20분',\n '30분',\n '27분',\n '1시간',\n '1시간10분',\n '35분',\n '1시간',\n '40분',\n '40분',\n '',\n '30분',\n '20분',\n '30분',\n '',\n '50분',\n '30분',\n '25분',\n '42분',\n '1시간',\n '60분',\n '1시간',\n '1시간',\n '40분',\n '',\n '20분',\n '50분',\n '45분',\n '45분',\n '30분',\n '1시간30분',\n '40분',\n '1시간',\n '',\n '2시간30분',\n '22분',\n '48분',\n '1시간',\n '35분',\n '30분',\n '30분',\n '1시간',\n '30분',\n '20분',\n '30분',\n '42분',\n '1시간',\n '45분',\n '45분',\n '17분',\n '30분',\n '25분',\n '',\n '1시간',\n '40분',\n '30분',\n '1시간20분',\n '1시간20분',\n '28분',\n '40분',\n '30분',\n '45분',\n '1시간',\n '20분',\n '40분',\n '50분',\n '40분',\n '1시간',\n '35분',\n '3시간',\n '20분',\n '40분',\n '1시간',\n '17분',\n '1시간',\n '1시간',\n '30분',\n '48분',\n '28분',\n '35분',\n '42분',\n '20분',\n '',\n '1시간',\n '50분',\n '20분',\n '',\n '30분',\n '45분',\n '1시간',\n '20분',\n '30분',\n '1시간10분',\n '30분',\n '45분',\n '1시간',\n '물걸레:',\n '50분',\n '28분',\n '48분',\n '30분',\n '40분',\n '30분',\n '40분',\n '1시간5분',\n '50분',\n '',\n '1시간30분',\n '1시간',\n '12분',\n '',\n '30분',\n '',\n '45분',\n '',\n '48분',\n '',\n '53분',\n '20분',\n '15분',\n '35분',\n '',\n '',\n '35분',\n '1시간',\n '45분',\n '30분',\n '35분',\n '50분',\n '',\n '30분',\n '35분',\n '50분',\n '48분',\n '35분',\n '15분',\n '35분',\n '40분',\n '50분',\n '40분',\n '1시간30분',\n '40분',\n '40분',\n '45분',\n '30분',\n '1시간',\n '1시간',\n '45분',\n '30분',\n '1시간30분',\n '53분',\n '30분',\n '1시간',\n '40분',\n '30분',\n '',\n '',\n '40분',\n '',\n '25분',\n '10분',\n '40분',\n '53분',\n '',\n '',\n '14~20분',\n '30분',\n '50분',\n '1시간',\n '40분',\n '53분',\n '1시간',\n '45분',\n '20분',\n '20분',\n '',\n '',\n '35분',\n '1시간',\n '23분',\n '1시간',\n '',\n '1시간',\n '11분',\n '25분',\n '50분',\n '',\n '50분',\n '60분',\n '60분',\n '',\n '30분',\n '40분',\n '20분',\n '1시간',\n '1시간',\n '40분',\n '42분',\n '',\n '',\n '',\n '1시간',\n '20분',\n '',\n '23분',\n '1시간',\n '',\n '1시간',\n '35분',\n '40분',\n '40분',\n '25분',\n '2시간',\n '45분',\n '1시간',\n '40분',\n '10분',\n '30분',\n '40분',\n '1시간',\n '50분',\n '40분',\n '30분',\n '40분',\n '20분',\n '40분',\n '20분',\n '50분',\n '50분',\n '15분',\n '1시간',\n '1시간',\n '30분',\n '40분',\n '40분',\n '35분',\n '1시간',\n '40분',\n '',\n '20~30분',\n '25분',\n '42분',\n '50분',\n '1시간',\n '1시간10분',\n '40분',\n '1시간',\n '35분',\n '45분',\n '',\n '40분',\n '25분',\n '30분',\n '30분',\n '40분',\n '2시간',\n '1시간',\n '1시간',\n '1시간',\n '33분',\n '1시간',\n '30분',\n '23분',\n '30분',\n '45분',\n '45분',\n '53분',\n '20분',\n '20분',\n '60분',\n '40분',\n '40분',\n '30분',\n '35분',\n '35분',\n '30분',\n '30분',\n '1시간',\n '1시간',\n '1시간',\n '1시간',\n '55분',\n '40분',\n '18분',\n '40분',\n '30분',\n '1시간',\n '45분',\n '1시간',\n '1시간',\n '2시간',\n '26분',\n '',\n '30분',\n '20분',\n '2시간',\n '45분',\n '1시간',\n '40분',\n '1시간',\n '50분',\n '50분',\n '1시간',\n '25분',\n '',\n '2시간30분',\n '35분',\n '1시간',\n '12분',\n '40분',\n '',\n '30분',\n '',\n '30분',\n '1시간',\n '2시간30분',\n '55분',\n '40분',\n '3시간',\n '50분',\n '',\n '노멀모드:23분,',\n '45분',\n '35분',\n '30분',\n '1시간',\n '35분',\n '1시간',\n '45분',\n '흡입',\n '40분',\n '1시간22분',\n '35분',\n '',\n '50분',\n '1시간20분',\n '2시간30분',\n '1시간20분',\n '2시간',\n '1시간30분',\n '35분',\n '25분',\n '2시간',\n '1시간',\n '1시간',\n '',\n '1시간',\n '40분',\n '40분',\n '7~10분',\n '40분',\n '60분',\n '30분',\n '30분',\n '',\n '1시간',\n '30분',\n '1시간',\n '2시간30분',\n '1시간',\n '30분',\n '25분',\n '30분',\n '1시간',\n '1시간',\n '30분',\n '30분',\n '50분',\n '29분',\n '1시간',\n '1시간',\n '1시간',\n '40분',\n '30분',\n '45분',\n '45분',\n '30분',\n '',\n '1시간',\n '40분',\n '20분',\n '40분',\n '35분',\n '45분',\n '40분',\n '40분',\n '40분',\n '',\n '40분',\n '50분',\n '',\n '40분',\n '45분',\n '1시간',\n '30분',\n '1시간',\n '45분',\n '35분',\n '1시간',\n '50분',\n '53분',\n '40분',\n '40분',\n '30분',\n '',\n '40분',\n '1시간',\n '1시간30분',\n '2시간30분',\n '1시간',\n '',\n '1시간',\n '30분',\n '30분',\n '40분',\n '35분',\n '1시간',\n '40분',\n '',\n '15분',\n '35분',\n '50분',\n '2시간',\n '1시간',\n '33분',\n '40분',\n '35분',\n '45분',\n '1시간',\n '35분',\n '1시간',\n '40분',\n '35분',\n '20~30분',\n '1시간',\n '40분',\n '20분',\n '',\n '',\n '1시간40분',\n '',\n '40분',\n '35분',\n '30분',\n '40분',\n '',\n '1시간',\n '30분',\n '1시간',\n '1시간10분',\n '30분',\n '1시간',\n '30분',\n '55분',\n '40분',\n '20분',\n '25분',\n '1시간',\n '30분',\n '30분',\n '18~20분',\n '30분',\n '20분',\n '',\n '30분',\n '45분',\n '1시간20분',\n '40분',\n '1시간',\n '30분',\n '1시간',\n '1시간',\n '26분',\n '20분',\n '1시간',\n '8~10분',\n '사용시간:12~15분사용',\n '50분(흡입),',\n '40분',\n '1시간',\n '30분',\n '40분',\n '1시간',\n '45분',\n '30분',\n '',\n '55분',\n '',\n '1시간',\n '1시간',\n '40분',\n '물걸레:',\n '30분',\n '',\n '28분',\n '50분',\n '1시간',\n '1시간',\n '30분',\n '30분',\n '55분',\n '',\n '27분',\n '1시간',\n '',\n '50분',\n '1시간',\n '34분',\n '25분',\n '45분',\n '20~30분',\n '1시간',\n '25분',\n '30분',\n '25분',\n '42분',\n '',\n '30분',\n '1시간',\n '45분',\n '1시간',\n '1시간',\n '30분',\n '25분~40분',\n '25분',\n '55분',\n '1시간',\n '',\n '30분',\n '4시간',\n '35분',\n '20분',\n '1시간',\n '40분',\n '1시간',\n '35분',\n '45분',\n '24분',\n '',\n '20분',\n '25분',\n '',\n '',\n '1시간',\n '1시간',\n '30분',\n '',\n '25분',\n '40분',\n '40분',\n '30분',\n '',\n '40분',\n '25분',\n '30분',\n '40분',\n '50분',\n '1시간',\n '35분',\n '7~10분',\n '1시간',\n '40분',\n '25분',\n '50분',\n '37분',\n '50분',\n '25분',\n '30분',\n '40분',\n '1시간',\n '40분',\n '30분',\n '20분',\n '24분',\n '50분',\n '38분',\n '1시간',\n '1시간',\n '1시간30분',\n '',\n '1시간15분',\n '1시간40분',\n '1시간',\n '',\n '30분',\n '30분',\n '2시간20분',\n '1시간',\n '10분',\n '25분',\n '20분',\n '25분',\n '20분',\n '30분',\n '30분',\n '',\n '사용시간:',\n '',\n '31분',\n '1시간40분',\n '1시간',\n '60분',\n '12분',\n '35분',\n '35분',\n '50분',\n '30분',\n '1시간',\n '35분',\n '25분',\n '물걸레:',\n '1시간',\n '48분',\n '60분',\n '42분',\n '1시간',\n '',\n '35분',\n '1시간',\n '24분',\n '',\n '30분',\n '20분',\n '32분',\n '1시간',\n '40분',\n '',\n '',\n '40분',\n '1시간30분',\n ...]"
     },
     "execution_count": 37,
     "metadata": {},
     "output_type": "execute_result"
    }
   ],
   "source": [
    "useTimeList"
   ]
  },
  {
   "cell_type": "code",
   "execution_count": 38,
   "metadata": {
    "ExecuteTime": {
     "end_time": "2024-03-20T00:00:30.726608Z",
     "start_time": "2024-03-20T00:00:30.723960Z"
    }
   },
   "outputs": [
    {
     "data": {
      "text/plain": "'20'"
     },
     "execution_count": 38,
     "metadata": {},
     "output_type": "execute_result"
    }
   ],
   "source": [
    "time = '1시간20분'\n",
    "time.split('시간')[-1].split('분')[0]"
   ]
  },
  {
   "cell_type": "code",
   "execution_count": 39,
   "metadata": {
    "ExecuteTime": {
     "end_time": "2024-03-20T00:00:31.916518Z",
     "start_time": "2024-03-20T00:00:31.914025Z"
    }
   },
   "outputs": [],
   "source": [
    "## 사용시간 단위를 통일, \n",
    "# time = '1시간' ,'30분', '1시간20분'\n",
    "def convertHourToMin(time):\n",
    "    try:\n",
    "        if '시간' in time:\n",
    "            hour = time.split('시간')[0]\n",
    "            if '분' in time:\n",
    "                minute = time.split('시간')[-1].split('분')[0]\n",
    "            else:\n",
    "                minute = 0\n",
    "        else:\n",
    "            hour = 0\n",
    "            minute = time.split('분')[0]\n",
    "        return int(hour)*60 + int(minute)\n",
    "    except:\n",
    "        return None"
   ]
  },
  {
   "cell_type": "code",
   "execution_count": 40,
   "metadata": {
    "ExecuteTime": {
     "end_time": "2024-03-20T00:00:33.055926Z",
     "start_time": "2024-03-20T00:00:33.053102Z"
    }
   },
   "outputs": [],
   "source": [
    "newUseTimeList = []\n",
    "for time in useTimeList:\n",
    "    value = convertHourToMin(time)\n",
    "    newUseTimeList.append(value)"
   ]
  },
  {
   "cell_type": "code",
   "execution_count": 41,
   "metadata": {
    "ExecuteTime": {
     "end_time": "2024-03-20T00:00:33.955177Z",
     "start_time": "2024-03-20T00:00:33.952974Z"
    }
   },
   "outputs": [
    {
     "data": {
      "text/plain": "2068"
     },
     "execution_count": 41,
     "metadata": {},
     "output_type": "execute_result"
    }
   ],
   "source": [
    "len(newUseTimeList)"
   ]
  },
  {
   "cell_type": "code",
   "execution_count": 42,
   "metadata": {
    "ExecuteTime": {
     "end_time": "2024-03-20T00:00:34.906141Z",
     "start_time": "2024-03-20T00:00:34.903849Z"
    }
   },
   "outputs": [],
   "source": [
    "## 흡입력 단위 통일 1W = 1AW = 100pa\n",
    "def convertPow(value):\n",
    "    try:\n",
    "        value = value.upper()\n",
    "        if 'AW' in value or 'W' in value:\n",
    "            result = value.replace('A', '').replace('W', '').replace(',', '') # A도 삭제, W도 삭제, 1000단위 쉼표 삭제\n",
    "            result = int(result)\n",
    "        elif 'PA' in value:\n",
    "            result = value.replace('PA', '').replace(',', '')  #PA 삭제, 1000단위 쉼표 삭제\n",
    "            result = int(result) // 100\n",
    "        else:\n",
    "            result = None\n",
    "        \n",
    "        return result\n",
    "    except:\n",
    "        return None"
   ]
  },
  {
   "cell_type": "code",
   "execution_count": 43,
   "metadata": {
    "ExecuteTime": {
     "end_time": "2024-03-20T00:00:35.652215Z",
     "start_time": "2024-03-20T00:00:35.649768Z"
    }
   },
   "outputs": [],
   "source": [
    "newSuctionList = []\n",
    "for power in suctionPowList:\n",
    "    value = convertPow(power)\n",
    "    newSuctionList.append(value)"
   ]
  },
  {
   "cell_type": "code",
   "execution_count": 44,
   "metadata": {
    "ExecuteTime": {
     "end_time": "2024-03-20T00:00:36.335108Z",
     "start_time": "2024-03-20T00:00:36.332718Z"
    }
   },
   "outputs": [
    {
     "data": {
      "text/plain": "2068"
     },
     "execution_count": 44,
     "metadata": {},
     "output_type": "execute_result"
    }
   ],
   "source": [
    "len(newSuctionList)"
   ]
  },
  {
   "cell_type": "code",
   "execution_count": 45,
   "metadata": {
    "ExecuteTime": {
     "end_time": "2024-03-20T00:00:37.089837Z",
     "start_time": "2024-03-20T00:00:37.085383Z"
    }
   },
   "outputs": [],
   "source": [
    "# 최종 데이터 엑셀 저장\n",
    "dfLast = pd.DataFrame()\n",
    "dfLast['카테고리'] = categoryList\n",
    "dfLast['회사명'] = compList\n",
    "dfLast['제품명'] = modelList\n",
    "dfLast['가격'] = dfProdDanawa['최저가']\n",
    "dfLast['사용시간'] = newUseTimeList\n",
    "dfLast['흡입력'] = newSuctionList"
   ]
  },
  {
   "cell_type": "code",
   "execution_count": 46,
   "metadata": {
    "ExecuteTime": {
     "end_time": "2024-03-20T00:00:37.833361Z",
     "start_time": "2024-03-20T00:00:37.828995Z"
    }
   },
   "outputs": [
    {
     "data": {
      "text/plain": "        카테고리      회사명              제품명       가격  사용시간   흡입력\n2063  물걸레청소기                      에이블텐   198000  30.0   NaN\n2064   침구청소기  SHILONG           CMY-01    33800   NaN  75.0\n2065  물걸레청소기       한샘  마이홈 스톰 MSA-AS22   220000  22.0   NaN\n2066   진공청소기     LG전자     코드제로 싸이킹 K95  1359230  40.0   NaN\n2067   침구청소기       업킵         MJ-BC779    89900   NaN   NaN",
      "text/html": "<div>\n<style scoped>\n    .dataframe tbody tr th:only-of-type {\n        vertical-align: middle;\n    }\n\n    .dataframe tbody tr th {\n        vertical-align: top;\n    }\n\n    .dataframe thead th {\n        text-align: right;\n    }\n</style>\n<table border=\"1\" class=\"dataframe\">\n  <thead>\n    <tr style=\"text-align: right;\">\n      <th></th>\n      <th>카테고리</th>\n      <th>회사명</th>\n      <th>제품명</th>\n      <th>가격</th>\n      <th>사용시간</th>\n      <th>흡입력</th>\n    </tr>\n  </thead>\n  <tbody>\n    <tr>\n      <th>2063</th>\n      <td>물걸레청소기</td>\n      <td></td>\n      <td>에이블텐</td>\n      <td>198000</td>\n      <td>30.0</td>\n      <td>NaN</td>\n    </tr>\n    <tr>\n      <th>2064</th>\n      <td>침구청소기</td>\n      <td>SHILONG</td>\n      <td>CMY-01</td>\n      <td>33800</td>\n      <td>NaN</td>\n      <td>75.0</td>\n    </tr>\n    <tr>\n      <th>2065</th>\n      <td>물걸레청소기</td>\n      <td>한샘</td>\n      <td>마이홈 스톰 MSA-AS22</td>\n      <td>220000</td>\n      <td>22.0</td>\n      <td>NaN</td>\n    </tr>\n    <tr>\n      <th>2066</th>\n      <td>진공청소기</td>\n      <td>LG전자</td>\n      <td>코드제로 싸이킹 K95</td>\n      <td>1359230</td>\n      <td>40.0</td>\n      <td>NaN</td>\n    </tr>\n    <tr>\n      <th>2067</th>\n      <td>침구청소기</td>\n      <td>업킵</td>\n      <td>MJ-BC779</td>\n      <td>89900</td>\n      <td>NaN</td>\n      <td>NaN</td>\n    </tr>\n  </tbody>\n</table>\n</div>"
     },
     "execution_count": 46,
     "metadata": {},
     "output_type": "execute_result"
    }
   ],
   "source": [
    "dfLast.tail()"
   ]
  },
  {
   "cell_type": "code",
   "execution_count": 47,
   "metadata": {
    "ExecuteTime": {
     "end_time": "2024-03-20T00:00:38.925559Z",
     "start_time": "2024-03-20T00:00:38.575177Z"
    }
   },
   "outputs": [],
   "source": [
    "dfLast.to_excel('./data/다나와_무선청소기_전처리결과.xlsx', index=False)"
   ]
  },
  {
   "cell_type": "markdown",
   "metadata": {},
   "source": [
    "##### 무선청소기 분석전 결측치 제거"
   ]
  },
  {
   "cell_type": "code",
   "execution_count": 48,
   "metadata": {
    "ExecuteTime": {
     "end_time": "2024-03-20T00:00:42.286105Z",
     "start_time": "2024-03-20T00:00:42.190518Z"
    }
   },
   "outputs": [],
   "source": [
    "dfCleaner = pd.read_excel('./data/다나와_무선청소기_전처리결과.xlsx')"
   ]
  },
  {
   "cell_type": "code",
   "execution_count": 49,
   "metadata": {
    "ExecuteTime": {
     "end_time": "2024-03-20T00:00:44.410270Z",
     "start_time": "2024-03-20T00:00:44.405703Z"
    }
   },
   "outputs": [
    {
     "name": "stdout",
     "output_type": "stream",
     "text": [
      "<class 'pandas.core.frame.DataFrame'>\n",
      "RangeIndex: 2068 entries, 0 to 2067\n",
      "Data columns (total 6 columns):\n",
      " #   Column  Non-Null Count  Dtype  \n",
      "---  ------  --------------  -----  \n",
      " 0   카테고리    2068 non-null   object \n",
      " 1   회사명     2044 non-null   object \n",
      " 2   제품명     2068 non-null   object \n",
      " 3   가격      2068 non-null   int64  \n",
      " 4   사용시간    1689 non-null   float64\n",
      " 5   흡입력     1047 non-null   float64\n",
      "dtypes: float64(2), int64(1), object(3)\n",
      "memory usage: 97.1+ KB\n"
     ]
    }
   ],
   "source": [
    "dfCleaner.info()"
   ]
  },
  {
   "cell_type": "code",
   "execution_count": 50,
   "metadata": {
    "ExecuteTime": {
     "end_time": "2024-03-20T00:00:45.250171Z",
     "start_time": "2024-03-20T00:00:45.248229Z"
    }
   },
   "outputs": [],
   "source": [
    "# 회사명 빠진조건\n",
    "condition = dfCleaner['회사명'].isnull() == True"
   ]
  },
  {
   "cell_type": "code",
   "execution_count": 51,
   "metadata": {
    "ExecuteTime": {
     "end_time": "2024-03-20T00:00:45.874227Z",
     "start_time": "2024-03-20T00:00:45.868545Z"
    }
   },
   "outputs": [
    {
     "data": {
      "text/plain": "         카테고리  회사명       제품명      가격   사용시간    흡입력\n238   핸디스틱청소기  NaN    LT-124   29980  240.0   80.0\n663     창문청소기  NaN  YLW6305D   26310   30.0  110.0\n788    탁상용청소기  NaN     KKGTL   19800    NaN    NaN\n909   핸디스틱청소기  NaN       브라프   98000   20.0  130.0\n910   핸디스틱청소기  NaN        홈룸   69800   25.0    NaN\n911   핸디스틱청소기  NaN       스웨덴  118000    NaN  100.0\n923   핸디스틱청소기  NaN    ZC1018   89900   25.0    NaN\n924   핸디스틱청소기  NaN    SC-100   69800   30.0    NaN\n1236  핸디스틱청소기  NaN    ZEK-K8  157640    NaN  150.0\n1292   탁상용청소기  NaN        티후    5400    NaN    NaN\n1496    침구청소기  NaN     JK300   21890   20.0    NaN\n1645    침구청소기  NaN   R99344W   22810   30.0  100.0\n1691    침구청소기  NaN     Fowod   19900    NaN   80.0\n1729    침구청소기  NaN       저소음   20900    NaN  100.0\n1790   물걸레청소기  NaN    Homehi  157620   45.0    NaN\n1807   물걸레청소기  NaN      에이블텐  198000   30.0    NaN\n1854   물걸레청소기  NaN    Homehi  157620   45.0    NaN\n1871   물걸레청소기  NaN      에이블텐  198000   30.0    NaN\n1918   물걸레청소기  NaN    Homehi  157620   45.0    NaN\n1935   물걸레청소기  NaN      에이블텐  198000   30.0    NaN\n1982   물걸레청소기  NaN    Homehi  157620   45.0    NaN\n1999   물걸레청소기  NaN      에이블텐  198000   30.0    NaN\n2046   물걸레청소기  NaN    Homehi  157620   45.0    NaN\n2063   물걸레청소기  NaN      에이블텐  198000   30.0    NaN",
      "text/html": "<div>\n<style scoped>\n    .dataframe tbody tr th:only-of-type {\n        vertical-align: middle;\n    }\n\n    .dataframe tbody tr th {\n        vertical-align: top;\n    }\n\n    .dataframe thead th {\n        text-align: right;\n    }\n</style>\n<table border=\"1\" class=\"dataframe\">\n  <thead>\n    <tr style=\"text-align: right;\">\n      <th></th>\n      <th>카테고리</th>\n      <th>회사명</th>\n      <th>제품명</th>\n      <th>가격</th>\n      <th>사용시간</th>\n      <th>흡입력</th>\n    </tr>\n  </thead>\n  <tbody>\n    <tr>\n      <th>238</th>\n      <td>핸디스틱청소기</td>\n      <td>NaN</td>\n      <td>LT-124</td>\n      <td>29980</td>\n      <td>240.0</td>\n      <td>80.0</td>\n    </tr>\n    <tr>\n      <th>663</th>\n      <td>창문청소기</td>\n      <td>NaN</td>\n      <td>YLW6305D</td>\n      <td>26310</td>\n      <td>30.0</td>\n      <td>110.0</td>\n    </tr>\n    <tr>\n      <th>788</th>\n      <td>탁상용청소기</td>\n      <td>NaN</td>\n      <td>KKGTL</td>\n      <td>19800</td>\n      <td>NaN</td>\n      <td>NaN</td>\n    </tr>\n    <tr>\n      <th>909</th>\n      <td>핸디스틱청소기</td>\n      <td>NaN</td>\n      <td>브라프</td>\n      <td>98000</td>\n      <td>20.0</td>\n      <td>130.0</td>\n    </tr>\n    <tr>\n      <th>910</th>\n      <td>핸디스틱청소기</td>\n      <td>NaN</td>\n      <td>홈룸</td>\n      <td>69800</td>\n      <td>25.0</td>\n      <td>NaN</td>\n    </tr>\n    <tr>\n      <th>911</th>\n      <td>핸디스틱청소기</td>\n      <td>NaN</td>\n      <td>스웨덴</td>\n      <td>118000</td>\n      <td>NaN</td>\n      <td>100.0</td>\n    </tr>\n    <tr>\n      <th>923</th>\n      <td>핸디스틱청소기</td>\n      <td>NaN</td>\n      <td>ZC1018</td>\n      <td>89900</td>\n      <td>25.0</td>\n      <td>NaN</td>\n    </tr>\n    <tr>\n      <th>924</th>\n      <td>핸디스틱청소기</td>\n      <td>NaN</td>\n      <td>SC-100</td>\n      <td>69800</td>\n      <td>30.0</td>\n      <td>NaN</td>\n    </tr>\n    <tr>\n      <th>1236</th>\n      <td>핸디스틱청소기</td>\n      <td>NaN</td>\n      <td>ZEK-K8</td>\n      <td>157640</td>\n      <td>NaN</td>\n      <td>150.0</td>\n    </tr>\n    <tr>\n      <th>1292</th>\n      <td>탁상용청소기</td>\n      <td>NaN</td>\n      <td>티후</td>\n      <td>5400</td>\n      <td>NaN</td>\n      <td>NaN</td>\n    </tr>\n    <tr>\n      <th>1496</th>\n      <td>침구청소기</td>\n      <td>NaN</td>\n      <td>JK300</td>\n      <td>21890</td>\n      <td>20.0</td>\n      <td>NaN</td>\n    </tr>\n    <tr>\n      <th>1645</th>\n      <td>침구청소기</td>\n      <td>NaN</td>\n      <td>R99344W</td>\n      <td>22810</td>\n      <td>30.0</td>\n      <td>100.0</td>\n    </tr>\n    <tr>\n      <th>1691</th>\n      <td>침구청소기</td>\n      <td>NaN</td>\n      <td>Fowod</td>\n      <td>19900</td>\n      <td>NaN</td>\n      <td>80.0</td>\n    </tr>\n    <tr>\n      <th>1729</th>\n      <td>침구청소기</td>\n      <td>NaN</td>\n      <td>저소음</td>\n      <td>20900</td>\n      <td>NaN</td>\n      <td>100.0</td>\n    </tr>\n    <tr>\n      <th>1790</th>\n      <td>물걸레청소기</td>\n      <td>NaN</td>\n      <td>Homehi</td>\n      <td>157620</td>\n      <td>45.0</td>\n      <td>NaN</td>\n    </tr>\n    <tr>\n      <th>1807</th>\n      <td>물걸레청소기</td>\n      <td>NaN</td>\n      <td>에이블텐</td>\n      <td>198000</td>\n      <td>30.0</td>\n      <td>NaN</td>\n    </tr>\n    <tr>\n      <th>1854</th>\n      <td>물걸레청소기</td>\n      <td>NaN</td>\n      <td>Homehi</td>\n      <td>157620</td>\n      <td>45.0</td>\n      <td>NaN</td>\n    </tr>\n    <tr>\n      <th>1871</th>\n      <td>물걸레청소기</td>\n      <td>NaN</td>\n      <td>에이블텐</td>\n      <td>198000</td>\n      <td>30.0</td>\n      <td>NaN</td>\n    </tr>\n    <tr>\n      <th>1918</th>\n      <td>물걸레청소기</td>\n      <td>NaN</td>\n      <td>Homehi</td>\n      <td>157620</td>\n      <td>45.0</td>\n      <td>NaN</td>\n    </tr>\n    <tr>\n      <th>1935</th>\n      <td>물걸레청소기</td>\n      <td>NaN</td>\n      <td>에이블텐</td>\n      <td>198000</td>\n      <td>30.0</td>\n      <td>NaN</td>\n    </tr>\n    <tr>\n      <th>1982</th>\n      <td>물걸레청소기</td>\n      <td>NaN</td>\n      <td>Homehi</td>\n      <td>157620</td>\n      <td>45.0</td>\n      <td>NaN</td>\n    </tr>\n    <tr>\n      <th>1999</th>\n      <td>물걸레청소기</td>\n      <td>NaN</td>\n      <td>에이블텐</td>\n      <td>198000</td>\n      <td>30.0</td>\n      <td>NaN</td>\n    </tr>\n    <tr>\n      <th>2046</th>\n      <td>물걸레청소기</td>\n      <td>NaN</td>\n      <td>Homehi</td>\n      <td>157620</td>\n      <td>45.0</td>\n      <td>NaN</td>\n    </tr>\n    <tr>\n      <th>2063</th>\n      <td>물걸레청소기</td>\n      <td>NaN</td>\n      <td>에이블텐</td>\n      <td>198000</td>\n      <td>30.0</td>\n      <td>NaN</td>\n    </tr>\n  </tbody>\n</table>\n</div>"
     },
     "execution_count": 51,
     "metadata": {},
     "output_type": "execute_result"
    }
   ],
   "source": [
    "## 회사명 빠진것 10건은 직접 수동으로 채워넣음\n",
    "dfCleaner[condition]"
   ]
  },
  {
   "cell_type": "code",
   "execution_count": 52,
   "metadata": {
    "ExecuteTime": {
     "end_time": "2024-03-20T00:00:46.734833Z",
     "start_time": "2024-03-20T00:00:46.731959Z"
    }
   },
   "outputs": [],
   "source": [
    "## 사용시간, 흡입력 NaN인 것은 전부 0으로 채워넣기\n",
    "dfCleaner = dfCleaner.fillna(0)"
   ]
  },
  {
   "cell_type": "code",
   "execution_count": 53,
   "metadata": {
    "ExecuteTime": {
     "end_time": "2024-03-20T00:00:48.091534Z",
     "start_time": "2024-03-20T00:00:48.087104Z"
    }
   },
   "outputs": [
    {
     "name": "stdout",
     "output_type": "stream",
     "text": [
      "<class 'pandas.core.frame.DataFrame'>\n",
      "RangeIndex: 2068 entries, 0 to 2067\n",
      "Data columns (total 6 columns):\n",
      " #   Column  Non-Null Count  Dtype  \n",
      "---  ------  --------------  -----  \n",
      " 0   카테고리    2068 non-null   object \n",
      " 1   회사명     2068 non-null   object \n",
      " 2   제품명     2068 non-null   object \n",
      " 3   가격      2068 non-null   int64  \n",
      " 4   사용시간    2068 non-null   float64\n",
      " 5   흡입력     2068 non-null   float64\n",
      "dtypes: float64(2), int64(1), object(3)\n",
      "memory usage: 97.1+ KB\n"
     ]
    }
   ],
   "source": [
    "dfCleaner.info()"
   ]
  },
  {
   "cell_type": "markdown",
   "metadata": {},
   "source": [
    "##### 필요제품 선별"
   ]
  },
  {
   "cell_type": "code",
   "execution_count": 54,
   "metadata": {
    "ExecuteTime": {
     "end_time": "2024-03-20T00:00:49.959217Z",
     "start_time": "2024-03-20T00:00:49.955271Z"
    }
   },
   "outputs": [
    {
     "data": {
      "text/plain": "카테고리\n핸디스틱청소기                1125\n물걸레청소기                  269\n차량용청소기                  250\n침구청소기                   109\n욕실청소기                    81\n업소용청소기                   60\n탁상용청소기                   52\n핸디스틱청소기+로봇청소기            34\n스틱청소기                    27\n진공청소기                    13\n창문청소기                    11\n스팀청소기                     9\n수영장청소기                    5\n핸디/스틱청소기+핸디/스틱청소기         4\n카펫소파청소기                   4\n로봇청소기                     4\n핸디스틱청소기+공기청정기세트           4\n욕실+물걸레청소기                 1\n핸디스틱청소기+핸디스틱청소기세트         1\n핸디스틱청소기+가습기세트             1\n핸디스틱청소기+공기청정기+가습기세트       1\n신발세척기                     1\n차량용선풍기                    1\n핸디스틱청소기+물걸레청소기세트          1\nName: count, dtype: int64"
     },
     "execution_count": 54,
     "metadata": {},
     "output_type": "execute_result"
    }
   ],
   "source": [
    "# 카테고리별 제품 개수 -> 워드클라우드 가능\n",
    "dfCleaner['카테고리'].value_counts()"
   ]
  },
  {
   "cell_type": "code",
   "execution_count": 55,
   "metadata": {
    "ExecuteTime": {
     "end_time": "2024-03-20T00:00:51.114423Z",
     "start_time": "2024-03-20T00:00:51.109010Z"
    }
   },
   "outputs": [
    {
     "data": {
      "text/plain": "회사명\n삼성전자           143\nLG전자           127\n신일전자            77\n다이슨             75\n샤오미             67\n              ... \n자센               1\n아이엔에스엔터프라이즈      1\n쓱봇               1\n에어르              1\n소화기              1\nName: count, Length: 521, dtype: int64"
     },
     "execution_count": 55,
     "metadata": {},
     "output_type": "execute_result"
    }
   ],
   "source": [
    "dfCleaner['회사명'].value_counts()"
   ]
  },
  {
   "cell_type": "code",
   "execution_count": 56,
   "metadata": {
    "ExecuteTime": {
     "end_time": "2024-03-20T00:00:51.882140Z",
     "start_time": "2024-03-20T00:00:51.877848Z"
    }
   },
   "outputs": [
    {
     "data": {
      "text/plain": "    회사명  count\n0  삼성전자    143\n1  LG전자    127\n2  신일전자     77\n3   다이슨     75\n4   샤오미     67",
      "text/html": "<div>\n<style scoped>\n    .dataframe tbody tr th:only-of-type {\n        vertical-align: middle;\n    }\n\n    .dataframe tbody tr th {\n        vertical-align: top;\n    }\n\n    .dataframe thead th {\n        text-align: right;\n    }\n</style>\n<table border=\"1\" class=\"dataframe\">\n  <thead>\n    <tr style=\"text-align: right;\">\n      <th></th>\n      <th>회사명</th>\n      <th>count</th>\n    </tr>\n  </thead>\n  <tbody>\n    <tr>\n      <th>0</th>\n      <td>삼성전자</td>\n      <td>143</td>\n    </tr>\n    <tr>\n      <th>1</th>\n      <td>LG전자</td>\n      <td>127</td>\n    </tr>\n    <tr>\n      <th>2</th>\n      <td>신일전자</td>\n      <td>77</td>\n    </tr>\n    <tr>\n      <th>3</th>\n      <td>다이슨</td>\n      <td>75</td>\n    </tr>\n    <tr>\n      <th>4</th>\n      <td>샤오미</td>\n      <td>67</td>\n    </tr>\n  </tbody>\n</table>\n</div>"
     },
     "execution_count": 56,
     "metadata": {},
     "output_type": "execute_result"
    }
   ],
   "source": [
    "# TEST -> 워드클라우드 가능\n",
    "dfTest = pd.DataFrame( dfCleaner['회사명'].value_counts())\n",
    "dfTest.reset_index().head(5)"
   ]
  },
  {
   "cell_type": "code",
   "execution_count": 57,
   "metadata": {
    "ExecuteTime": {
     "end_time": "2024-03-20T00:00:52.956216Z",
     "start_time": "2024-03-20T00:00:52.952804Z"
    }
   },
   "outputs": [],
   "source": [
    "## 핸드스틱청소기만 선택해서 분석\n",
    "dfDataFinal = dfCleaner[dfCleaner['카테고리'].isin(['핸디스틱청소기', '핸디스틱청소기+로봇청소기', '스틱청소기', '진공청소기'])]"
   ]
  },
  {
   "cell_type": "code",
   "execution_count": 58,
   "metadata": {
    "ExecuteTime": {
     "end_time": "2024-03-20T00:00:53.823828Z",
     "start_time": "2024-03-20T00:00:53.754951Z"
    }
   },
   "outputs": [],
   "source": [
    "dfDataFinal.to_excel('./data/2_danawa_data_final.xlsx', index=False)"
   ]
  },
  {
   "cell_type": "markdown",
   "metadata": {},
   "source": [
    "##### 분석용 재로드"
   ]
  },
  {
   "cell_type": "code",
   "execution_count": 59,
   "metadata": {
    "ExecuteTime": {
     "end_time": "2024-03-20T00:00:56.215360Z",
     "start_time": "2024-03-20T00:00:56.151615Z"
    }
   },
   "outputs": [],
   "source": [
    "dfDataFinal = pd.read_excel('./data/2_danawa_data_final.xlsx')"
   ]
  },
  {
   "cell_type": "code",
   "execution_count": 60,
   "metadata": {
    "ExecuteTime": {
     "end_time": "2024-03-20T00:00:56.727709Z",
     "start_time": "2024-03-20T00:00:56.723628Z"
    }
   },
   "outputs": [
    {
     "data": {
      "text/plain": "       카테고리   회사명           제품명       가격  사용시간  흡입력\n1194  진공청소기  LG전자  코드제로 싸이킹 K95  1359230    40    0\n1195  진공청소기   마끼다        DCL501   761200     0   66\n1196  진공청소기  LG전자  코드제로 싸이킹 K95  1359230    40    0\n1197  진공청소기   마끼다        DCL501   761200     0   66\n1198  진공청소기  LG전자  코드제로 싸이킹 K95  1359230    40    0",
      "text/html": "<div>\n<style scoped>\n    .dataframe tbody tr th:only-of-type {\n        vertical-align: middle;\n    }\n\n    .dataframe tbody tr th {\n        vertical-align: top;\n    }\n\n    .dataframe thead th {\n        text-align: right;\n    }\n</style>\n<table border=\"1\" class=\"dataframe\">\n  <thead>\n    <tr style=\"text-align: right;\">\n      <th></th>\n      <th>카테고리</th>\n      <th>회사명</th>\n      <th>제품명</th>\n      <th>가격</th>\n      <th>사용시간</th>\n      <th>흡입력</th>\n    </tr>\n  </thead>\n  <tbody>\n    <tr>\n      <th>1194</th>\n      <td>진공청소기</td>\n      <td>LG전자</td>\n      <td>코드제로 싸이킹 K95</td>\n      <td>1359230</td>\n      <td>40</td>\n      <td>0</td>\n    </tr>\n    <tr>\n      <th>1195</th>\n      <td>진공청소기</td>\n      <td>마끼다</td>\n      <td>DCL501</td>\n      <td>761200</td>\n      <td>0</td>\n      <td>66</td>\n    </tr>\n    <tr>\n      <th>1196</th>\n      <td>진공청소기</td>\n      <td>LG전자</td>\n      <td>코드제로 싸이킹 K95</td>\n      <td>1359230</td>\n      <td>40</td>\n      <td>0</td>\n    </tr>\n    <tr>\n      <th>1197</th>\n      <td>진공청소기</td>\n      <td>마끼다</td>\n      <td>DCL501</td>\n      <td>761200</td>\n      <td>0</td>\n      <td>66</td>\n    </tr>\n    <tr>\n      <th>1198</th>\n      <td>진공청소기</td>\n      <td>LG전자</td>\n      <td>코드제로 싸이킹 K95</td>\n      <td>1359230</td>\n      <td>40</td>\n      <td>0</td>\n    </tr>\n  </tbody>\n</table>\n</div>"
     },
     "execution_count": 60,
     "metadata": {},
     "output_type": "execute_result"
    }
   ],
   "source": [
    "dfDataFinal.tail()"
   ]
  },
  {
   "cell_type": "code",
   "execution_count": 61,
   "metadata": {
    "ExecuteTime": {
     "end_time": "2024-03-20T00:00:57.445735Z",
     "start_time": "2024-03-20T00:00:57.441441Z"
    }
   },
   "outputs": [
    {
     "data": {
      "text/plain": "        카테고리    회사명               제품명      가격  사용시간  흡입력\n99   핸디스틱청소기    아이룸           윈드포스 F9  178000    40  420\n381  핸디스틱청소기    비브르       V38 스페셜 에디션  195000    50  410\n13   핸디스틱청소기  DIBEA  ALLNEW29000 PLUS  241530    50  400\n131  핸디스틱청소기  DIBEA      ALLNEW22000+  199000    50  390\n390  핸디스틱청소기     행커              400W  197990    60  390",
      "text/html": "<div>\n<style scoped>\n    .dataframe tbody tr th:only-of-type {\n        vertical-align: middle;\n    }\n\n    .dataframe tbody tr th {\n        vertical-align: top;\n    }\n\n    .dataframe thead th {\n        text-align: right;\n    }\n</style>\n<table border=\"1\" class=\"dataframe\">\n  <thead>\n    <tr style=\"text-align: right;\">\n      <th></th>\n      <th>카테고리</th>\n      <th>회사명</th>\n      <th>제품명</th>\n      <th>가격</th>\n      <th>사용시간</th>\n      <th>흡입력</th>\n    </tr>\n  </thead>\n  <tbody>\n    <tr>\n      <th>99</th>\n      <td>핸디스틱청소기</td>\n      <td>아이룸</td>\n      <td>윈드포스 F9</td>\n      <td>178000</td>\n      <td>40</td>\n      <td>420</td>\n    </tr>\n    <tr>\n      <th>381</th>\n      <td>핸디스틱청소기</td>\n      <td>비브르</td>\n      <td>V38 스페셜 에디션</td>\n      <td>195000</td>\n      <td>50</td>\n      <td>410</td>\n    </tr>\n    <tr>\n      <th>13</th>\n      <td>핸디스틱청소기</td>\n      <td>DIBEA</td>\n      <td>ALLNEW29000 PLUS</td>\n      <td>241530</td>\n      <td>50</td>\n      <td>400</td>\n    </tr>\n    <tr>\n      <th>131</th>\n      <td>핸디스틱청소기</td>\n      <td>DIBEA</td>\n      <td>ALLNEW22000+</td>\n      <td>199000</td>\n      <td>50</td>\n      <td>390</td>\n    </tr>\n    <tr>\n      <th>390</th>\n      <td>핸디스틱청소기</td>\n      <td>행커</td>\n      <td>400W</td>\n      <td>197990</td>\n      <td>60</td>\n      <td>390</td>\n    </tr>\n  </tbody>\n</table>\n</div>"
     },
     "execution_count": 61,
     "metadata": {},
     "output_type": "execute_result"
    }
   ],
   "source": [
    "# 흡입력 기준으로 정렬, ascending=Treu(오름차순), ascending=False(내림차순)\n",
    "suctionTopList = dfDataFinal.sort_values(['흡입력'], ascending=False)\n",
    "suctionTopList.head()"
   ]
  },
  {
   "cell_type": "code",
   "execution_count": 62,
   "metadata": {
    "ExecuteTime": {
     "end_time": "2024-03-20T00:00:58.487290Z",
     "start_time": "2024-03-20T00:00:58.482432Z"
    }
   },
   "outputs": [
    {
     "data": {
      "text/plain": "         카테고리    회사명           제품명      가격  사용시간  흡입력\n823   핸디스틱청소기     기펠      BTS-5000  471980   240    0\n1018  핸디스틱청소기   라이녹스  원큐 RXBC-C200  174830   240    0\n229   핸디스틱청소기      0        LT-124   29980   240   80\n341   핸디스틱청소기     헤몬       ST-6655   39010   180  120\n652   핸디스틱청소기  무궁화전자  바로바로 MDC-900  222270   150    0",
      "text/html": "<div>\n<style scoped>\n    .dataframe tbody tr th:only-of-type {\n        vertical-align: middle;\n    }\n\n    .dataframe tbody tr th {\n        vertical-align: top;\n    }\n\n    .dataframe thead th {\n        text-align: right;\n    }\n</style>\n<table border=\"1\" class=\"dataframe\">\n  <thead>\n    <tr style=\"text-align: right;\">\n      <th></th>\n      <th>카테고리</th>\n      <th>회사명</th>\n      <th>제품명</th>\n      <th>가격</th>\n      <th>사용시간</th>\n      <th>흡입력</th>\n    </tr>\n  </thead>\n  <tbody>\n    <tr>\n      <th>823</th>\n      <td>핸디스틱청소기</td>\n      <td>기펠</td>\n      <td>BTS-5000</td>\n      <td>471980</td>\n      <td>240</td>\n      <td>0</td>\n    </tr>\n    <tr>\n      <th>1018</th>\n      <td>핸디스틱청소기</td>\n      <td>라이녹스</td>\n      <td>원큐 RXBC-C200</td>\n      <td>174830</td>\n      <td>240</td>\n      <td>0</td>\n    </tr>\n    <tr>\n      <th>229</th>\n      <td>핸디스틱청소기</td>\n      <td>0</td>\n      <td>LT-124</td>\n      <td>29980</td>\n      <td>240</td>\n      <td>80</td>\n    </tr>\n    <tr>\n      <th>341</th>\n      <td>핸디스틱청소기</td>\n      <td>헤몬</td>\n      <td>ST-6655</td>\n      <td>39010</td>\n      <td>180</td>\n      <td>120</td>\n    </tr>\n    <tr>\n      <th>652</th>\n      <td>핸디스틱청소기</td>\n      <td>무궁화전자</td>\n      <td>바로바로 MDC-900</td>\n      <td>222270</td>\n      <td>150</td>\n      <td>0</td>\n    </tr>\n  </tbody>\n</table>\n</div>"
     },
     "execution_count": 62,
     "metadata": {},
     "output_type": "execute_result"
    }
   ],
   "source": [
    "# 사용시간 기준 정렬\n",
    "useTimeTopList = dfDataFinal.sort_values(['사용시간'], ascending=False)\n",
    "useTimeTopList.head()"
   ]
  },
  {
   "cell_type": "code",
   "execution_count": 63,
   "metadata": {
    "ExecuteTime": {
     "end_time": "2024-03-20T00:00:59.446779Z",
     "start_time": "2024-03-20T00:00:59.441052Z"
    }
   },
   "outputs": [
    {
     "data": {
      "text/plain": "         카테고리    회사명           제품명      가격  사용시간  흡입력\n229   핸디스틱청소기      0        LT-124   29980   240   80\n823   핸디스틱청소기     기펠      BTS-5000  471980   240    0\n1018  핸디스틱청소기   라이녹스  원큐 RXBC-C200  174830   240    0\n341   핸디스틱청소기     헤몬       ST-6655   39010   180  120\n636   핸디스틱청소기  무궁화전자  바로바로 MDC-910  225450   150    0",
      "text/html": "<div>\n<style scoped>\n    .dataframe tbody tr th:only-of-type {\n        vertical-align: middle;\n    }\n\n    .dataframe tbody tr th {\n        vertical-align: top;\n    }\n\n    .dataframe thead th {\n        text-align: right;\n    }\n</style>\n<table border=\"1\" class=\"dataframe\">\n  <thead>\n    <tr style=\"text-align: right;\">\n      <th></th>\n      <th>카테고리</th>\n      <th>회사명</th>\n      <th>제품명</th>\n      <th>가격</th>\n      <th>사용시간</th>\n      <th>흡입력</th>\n    </tr>\n  </thead>\n  <tbody>\n    <tr>\n      <th>229</th>\n      <td>핸디스틱청소기</td>\n      <td>0</td>\n      <td>LT-124</td>\n      <td>29980</td>\n      <td>240</td>\n      <td>80</td>\n    </tr>\n    <tr>\n      <th>823</th>\n      <td>핸디스틱청소기</td>\n      <td>기펠</td>\n      <td>BTS-5000</td>\n      <td>471980</td>\n      <td>240</td>\n      <td>0</td>\n    </tr>\n    <tr>\n      <th>1018</th>\n      <td>핸디스틱청소기</td>\n      <td>라이녹스</td>\n      <td>원큐 RXBC-C200</td>\n      <td>174830</td>\n      <td>240</td>\n      <td>0</td>\n    </tr>\n    <tr>\n      <th>341</th>\n      <td>핸디스틱청소기</td>\n      <td>헤몬</td>\n      <td>ST-6655</td>\n      <td>39010</td>\n      <td>180</td>\n      <td>120</td>\n    </tr>\n    <tr>\n      <th>636</th>\n      <td>핸디스틱청소기</td>\n      <td>무궁화전자</td>\n      <td>바로바로 MDC-910</td>\n      <td>225450</td>\n      <td>150</td>\n      <td>0</td>\n    </tr>\n  </tbody>\n</table>\n</div>"
     },
     "execution_count": 63,
     "metadata": {},
     "output_type": "execute_result"
    }
   ],
   "source": [
    "# 사용시간, 흡입력 동시에 기준 정렬\n",
    "topList = dfDataFinal.sort_values(['사용시간', '흡입력'], ascending=False)\n",
    "topList.head()"
   ]
  },
  {
   "cell_type": "code",
   "execution_count": 64,
   "metadata": {
    "ExecuteTime": {
     "end_time": "2024-03-20T00:01:00.263003Z",
     "start_time": "2024-03-20T00:01:00.260413Z"
    }
   },
   "outputs": [
    {
     "name": "stdout",
     "output_type": "stream",
     "text": [
      "평균가격 : 466,804원, 평균흡입력: 115.41W, 평균사용시간: 39.62분\n"
     ]
    }
   ],
   "source": [
    "## 가성비 좋은 제품 찾기 전\n",
    "# 평균값\n",
    "priceMean = int(dfDataFinal['가격'].mean()) # 47만원\n",
    "suctionMean = dfDataFinal['흡입력'].mean() # 115.8\n",
    "useTimeMean = dfDataFinal['사용시간'].mean() # 39분\n",
    "print(f'평균가격 : {priceMean:,d}원, 평균흡입력: {suctionMean:,.2f}W, 평균사용시간: {useTimeMean:,.2f}분')"
   ]
  },
  {
   "cell_type": "code",
   "execution_count": 65,
   "metadata": {
    "ExecuteTime": {
     "end_time": "2024-03-20T00:01:00.959633Z",
     "start_time": "2024-03-20T00:01:00.957108Z"
    }
   },
   "outputs": [],
   "source": [
    "## 가성비 좋은 제품 조건\n",
    "cond1 = dfDataFinal['가격'] <= priceMean\n",
    "cond2 = dfDataFinal['흡입력'] >= suctionMean\n",
    "cond3 = dfDataFinal['사용시간'] >= useTimeMean"
   ]
  },
  {
   "cell_type": "code",
   "execution_count": 66,
   "metadata": {
    "ExecuteTime": {
     "end_time": "2024-03-20T00:01:01.608035Z",
     "start_time": "2024-03-20T00:01:01.605788Z"
    }
   },
   "outputs": [],
   "source": [
    "## 가성비 좋은 제품 검색\n",
    "chartData = dfDataFinal[cond1 & cond2 & cond3]"
   ]
  },
  {
   "cell_type": "markdown",
   "metadata": {},
   "source": [
    "##### 데이터 시각화\n"
   ]
  },
  {
   "cell_type": "code",
   "execution_count": 67,
   "metadata": {
    "ExecuteTime": {
     "end_time": "2024-03-20T00:01:03.087097Z",
     "start_time": "2024-03-20T00:01:03.085162Z"
    }
   },
   "outputs": [],
   "source": [
    "# 필요라이브러리 사용등록\n",
    "import pandas as pd\n",
    "import numpy as np\n",
    "import matplotlib.pyplot as plt\n",
    "import seaborn as sns"
   ]
  },
  {
   "cell_type": "code",
   "execution_count": 68,
   "metadata": {
    "ExecuteTime": {
     "end_time": "2024-03-20T00:01:03.888738Z",
     "start_time": "2024-03-20T00:01:03.886670Z"
    }
   },
   "outputs": [],
   "source": [
    "sns.set_style('darkgrid')"
   ]
  },
  {
   "cell_type": "code",
   "execution_count": 70,
   "metadata": {
    "ExecuteTime": {
     "end_time": "2024-03-20T00:01:39.860846Z",
     "start_time": "2024-03-20T00:01:39.858777Z"
    }
   },
   "outputs": [],
   "source": [
    "# 한글 깨짐 문제 해결\n",
    "from matplotlib import rc\n",
    "\n",
    "rc('font', family='D2Coding')\n",
    "\n",
    "plt.rcParams['axes.unicode_minus'] = False"
   ]
  },
  {
   "cell_type": "code",
   "execution_count": 71,
   "metadata": {
    "ExecuteTime": {
     "end_time": "2024-03-20T00:01:40.563971Z",
     "start_time": "2024-03-20T00:01:40.561739Z"
    }
   },
   "outputs": [],
   "source": [
    "## 흡입력, 사용시간 최대값, 최소값\n",
    "suctionMax = chartData['흡입력'].max() # 420\n",
    "useTimeMax = chartData['사용시간'].max() # 180\n",
    "suctionMean2 = chartData['흡입력'].mean() # 229 \n",
    "useTimeMean2 = chartData['사용시간'].mean() # 51.9"
   ]
  },
  {
   "cell_type": "code",
   "execution_count": 72,
   "metadata": {
    "ExecuteTime": {
     "end_time": "2024-03-20T00:01:41.265472Z",
     "start_time": "2024-03-20T00:01:41.262914Z"
    }
   },
   "outputs": [
    {
     "data": {
      "text/plain": "229.69060773480663"
     },
     "execution_count": 72,
     "metadata": {},
     "output_type": "execute_result"
    }
   ],
   "source": [
    "suctionMean2"
   ]
  },
  {
   "cell_type": "code",
   "execution_count": 78,
   "metadata": {
    "ExecuteTime": {
     "end_time": "2024-03-20T00:11:20.030120Z",
     "start_time": "2024-03-20T00:11:19.848498Z"
    }
   },
   "outputs": [
    {
     "ename": "TypeError",
     "evalue": "cannot create weak reference to 'str' object",
     "output_type": "error",
     "traceback": [
      "\u001B[0;31m---------------------------------------------------------------------------\u001B[0m",
      "\u001B[0;31mTypeError\u001B[0m                                 Traceback (most recent call last)",
      "Cell \u001B[0;32mIn[78], line 8\u001B[0m\n\u001B[1;32m      5\u001B[0m plt\u001B[38;5;241m.\u001B[39mplot([\u001B[38;5;241m100\u001B[39m, suctionMax], [useTimeMean2, useTimeMean2], \u001B[38;5;124m'\u001B[39m\u001B[38;5;124mr--\u001B[39m\u001B[38;5;124m'\u001B[39m, lw\u001B[38;5;241m=\u001B[39m\u001B[38;5;241m1\u001B[39m) \u001B[38;5;66;03m# 사용시간 평균치 줄표시\u001B[39;00m\n\u001B[1;32m      6\u001B[0m plt\u001B[38;5;241m.\u001B[39mplot([suctionMean2, suctionMean2], [\u001B[38;5;241m20\u001B[39m, useTimeMax], \u001B[38;5;124m'\u001B[39m\u001B[38;5;124mb--\u001B[39m\u001B[38;5;124m'\u001B[39m, lw\u001B[38;5;241m=\u001B[39m\u001B[38;5;241m1\u001B[39m) \u001B[38;5;66;03m# 흡입력 평균치 줄표시\u001B[39;00m\n\u001B[0;32m----> 8\u001B[0m \u001B[43mmplcursors\u001B[49m\u001B[38;5;241;43m.\u001B[39;49m\u001B[43mCursor\u001B[49m\u001B[43m(\u001B[49m\u001B[43mhover\u001B[49m\u001B[38;5;241;43m=\u001B[39;49m\u001B[38;5;28;43;01mTrue\u001B[39;49;00m\u001B[43m,\u001B[49m\u001B[43martists\u001B[49m\u001B[38;5;241;43m=\u001B[39;49m\u001B[38;5;124;43m'\u001B[39;49m\u001B[38;5;124;43mme\u001B[39;49m\u001B[38;5;124;43m'\u001B[39;49m\u001B[43m)\u001B[49m\n\u001B[1;32m      9\u001B[0m plt\u001B[38;5;241m.\u001B[39mshow()\n",
      "File \u001B[0;32m/Library/Frameworks/Python.framework/Versions/3.12/lib/python3.12/site-packages/mplcursors/_mplcursors.py:223\u001B[0m, in \u001B[0;36mCursor.__init__\u001B[0;34m(self, artists, multiple, highlight, hover, bindings, annotation_kwargs, annotation_positions, highlight_kwargs)\u001B[0m\n\u001B[1;32m    221\u001B[0m artists \u001B[38;5;241m=\u001B[39m [\u001B[38;5;241m*\u001B[39martists]\n\u001B[1;32m    222\u001B[0m \u001B[38;5;66;03m# Be careful with GC.\u001B[39;00m\n\u001B[0;32m--> 223\u001B[0m \u001B[38;5;28mself\u001B[39m\u001B[38;5;241m.\u001B[39m_artists \u001B[38;5;241m=\u001B[39m [\u001B[43mweakref\u001B[49m\u001B[38;5;241;43m.\u001B[39;49m\u001B[43mref\u001B[49m\u001B[43m(\u001B[49m\u001B[43martist\u001B[49m\u001B[43m)\u001B[49m \u001B[38;5;28;01mfor\u001B[39;00m artist \u001B[38;5;129;01min\u001B[39;00m artists]\n\u001B[1;32m    225\u001B[0m \u001B[38;5;28;01mfor\u001B[39;00m artist \u001B[38;5;129;01min\u001B[39;00m artists:\n\u001B[1;32m    226\u001B[0m     \u001B[38;5;28mtype\u001B[39m(\u001B[38;5;28mself\u001B[39m)\u001B[38;5;241m.\u001B[39m_keep_alive\u001B[38;5;241m.\u001B[39msetdefault(artist, \u001B[38;5;28mset\u001B[39m())\u001B[38;5;241m.\u001B[39madd(\u001B[38;5;28mself\u001B[39m)\n",
      "\u001B[0;31mTypeError\u001B[0m: cannot create weak reference to 'str' object"
     ]
    },
    {
     "data": {
      "text/plain": "<Figure size 1800x800 with 1 Axes>",
      "image/png": "[encoded data removed]"
     },
     "metadata": {},
     "output_type": "display_data"
    }
   ],
   "source": [
    "import mplcursors\n",
    "fig = plt.figure(figsize=(18, 8))\n",
    "\n",
    "sns.scatterplot(data=chartData, x='흡입력', y='사용시간', size='가격', sizes=(10, 400), hue=chartData['회사명'], legend=False)\n",
    "plt.plot([100, suctionMax], [useTimeMean2, useTimeMean2], 'r--', lw=1) # 사용시간 평균치 줄표시\n",
    "plt.plot([suctionMean2, suctionMean2], [20, useTimeMax], 'b--', lw=1) # 흡입력 평균치 줄표시\n",
    "\n",
    "mplcursors.Cursor(hover=True,artists='me')\n",
    "plt.show()"
   ]
  },
  {
   "cell_type": "code",
   "execution_count": 76,
   "metadata": {
    "ExecuteTime": {
     "end_time": "2024-03-20T00:04:54.066780Z",
     "start_time": "2024-03-20T00:04:54.063918Z"
    }
   },
   "outputs": [],
   "source": [
    "## 인기제품 데이터 시각화\n",
    "chartDataTop = chartData[:20]"
   ]
  },
  {
   "cell_type": "code",
   "execution_count": 77,
   "metadata": {
    "ExecuteTime": {
     "end_time": "2024-03-20T00:04:55.040964Z",
     "start_time": "2024-03-20T00:04:54.826377Z"
    }
   },
   "outputs": [
    {
     "data": {
      "text/plain": "<Figure size 2000x1000 with 1 Axes>",
      "image/png": "[encoded data removed]"
     },
     "metadata": {},
     "output_type": "display_data"
    }
   ],
   "source": [
    "import random\n",
    "\n",
    "# 인기제품 시각화\n",
    "fig = plt.figure(figsize=(20, 10))\n",
    "plt.title('무선청소기 Top20')\n",
    "sns.scatterplot(data=chartDataTop, x='흡입력', y='사용시간', size='가격', sizes=(20, 1000),\n",
    "                hue=chartDataTop['회사명'])\n",
    "\n",
    "for index, row in chartDataTop.iterrows():\n",
    "    x = row['흡입력'] + random.randrange(-10, 10)\n",
    "    y = row['사용시간'] + random.randrange(-5, 5)\n",
    "    s = row['제품명']\n",
    "    plt.text(x, y, s, size=13)\n",
    "\n",
    "plt.show()"
   ]
  },
  {
   "cell_type": "markdown",
   "metadata": {},
   "source": [
    "##### 결론\n",
    "- 데이터분석을 위한 전처리른 쉽지 않음\n",
    "- 결과들이 예상이나, 실제와 다를 수 있음"
   ]
  },
  {
   "cell_type": "code",
   "outputs": [],
   "source": [],
   "metadata": {
    "collapsed": false
   }
  }
 ],
 "metadata": {
  "kernelspec": {
   "display_name": "Python 3",
   "language": "python",
   "name": "python3"
  },
  "language_info": {
   "codemirror_mode": {
    "name": "ipython",
    "version": 3
   },
   "file_extension": ".py",
   "mimetype": "text/x-python",
   "name": "python",
   "nbconvert_exporter": "python",
   "pygments_lexer": "ipython3",
   "version": "3.12.2"
  }
 },
 "nbformat": 4,
 "nbformat_minor": 2
}
