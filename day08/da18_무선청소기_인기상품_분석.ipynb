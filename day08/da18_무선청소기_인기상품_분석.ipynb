{
 "cells": [
  {
   "cell_type": "markdown",
   "metadata": {},
   "source": [
    "## 빅데이터 실습\n",
    "\n",
    "### 다나와 무선청소기 상품분석\n",
    "\n",
    "#### 데이터 수집\n",
    "\n",
    "##### 셀레니움 사용"
   ]
  },
  {
   "cell_type": "code",
   "execution_count": 1,
   "metadata": {
    "ExecuteTime": {
     "end_time": "2024-03-26T06:17:07.823602Z",
     "start_time": "2024-03-26T06:17:07.723499Z"
    }
   },
   "outputs": [],
   "source": [
    "import mplcursors\n",
    "## 필수 라이브러리 사용등록\n",
    "from selenium import webdriver\n",
    "from bs4 import BeautifulSoup\n",
    "from urllib import parse # url encode\n",
    "from tqdm import tqdm\n",
    "import pandas as pd\n",
    "import time"
   ]
  },
  {
   "cell_type": "code",
   "execution_count": 2,
   "metadata": {
    "ExecuteTime": {
     "end_time": "2024-03-26T06:17:21.400502Z",
     "start_time": "2024-03-26T06:17:07.824651Z"
    }
   },
   "outputs": [],
   "source": [
    "## 웹드라이버로 크롬 오픈\n",
    "driver = webdriver.Chrome()\n",
    "url = r'https://search.danawa.com/dsearch.php?k1=%EC%97%90%EC%96%B4%EB%A9%94%EC%9D%B4%EB%93%9C+%EC%8A%A4%EB%A7%88%ED%8A%B8%ED%83%80%EC%9B%8C&module=goods&act=dispMain'\n",
    "driver.get(url)\n",
    "time.sleep(5.0)"
   ]
  },
  {
   "cell_type": "code",
   "execution_count": 3,
   "metadata": {
    "ExecuteTime": {
     "end_time": "2024-03-26T06:17:21.551483Z",
     "start_time": "2024-03-26T06:17:21.401801Z"
    }
   },
   "outputs": [],
   "source": [
    "html = driver.page_source\n",
    "soup = BeautifulSoup(html, 'html.parser')"
   ]
  },
  {
   "cell_type": "code",
   "execution_count": 4,
   "metadata": {
    "ExecuteTime": {
     "end_time": "2024-03-26T06:17:21.563201Z",
     "start_time": "2024-03-26T06:17:21.552105Z"
    }
   },
   "outputs": [],
   "source": [
    "prodItems = soup.select('ul.product_list > li.prod_item')"
   ]
  },
  {
   "cell_type": "code",
   "execution_count": 5,
   "metadata": {
    "ExecuteTime": {
     "end_time": "2024-03-26T06:17:21.576325Z",
     "start_time": "2024-03-26T06:17:21.564452Z"
    }
   },
   "outputs": [
    {
     "data": {
      "text/plain": "6"
     },
     "execution_count": 5,
     "metadata": {},
     "output_type": "execute_result"
    }
   ],
   "source": [
    "len(prodItems)"
   ]
  },
  {
   "cell_type": "code",
   "execution_count": 6,
   "metadata": {
    "ExecuteTime": {
     "end_time": "2024-03-26T06:17:21.583805Z",
     "start_time": "2024-03-26T06:17:21.577712Z"
    }
   },
   "outputs": [
    {
     "data": {
      "text/plain": "'에어메이드 스마트타워 AMC-3501A'"
     },
     "execution_count": 6,
     "metadata": {},
     "output_type": "execute_result"
    }
   ],
   "source": [
    "prodItems[0].select('p.prod_name > a')[0].text.strip()"
   ]
  },
  {
   "cell_type": "code",
   "execution_count": 7,
   "metadata": {
    "ExecuteTime": {
     "end_time": "2024-03-26T06:17:21.589600Z",
     "start_time": "2024-03-26T06:17:21.585526Z"
    }
   },
   "outputs": [
    {
     "data": {
      "text/plain": "'핸디스틱청소기 / 무선 / 흡입형 / 흡입력: 370W / 2024년형 / [구성] 먼지비움 / 충전 / UVC LED / 브러쉬: 바닥 / 침구 / 솔형 / 틈새 / 먼지봉투: 2.5L / [배터리] 사용시간: 40분(최대) / 충전시간: 5시간 / 분리형(1개) / 2500mAh / [청소] LED라이트 / BLDC모터 / [부가] 디스플레이표시 / 헤파필터 / 색상: 화이트 / 무게: 2.5kg / 크기(가로x세로x깊이): 252x1253x185mm'"
     },
     "execution_count": 7,
     "metadata": {},
     "output_type": "execute_result"
    }
   ],
   "source": [
    "prodItems[0].select('div.spec_list')[0].text.strip().replace('\\t', '')"
   ]
  },
  {
   "cell_type": "code",
   "execution_count": 8,
   "metadata": {
    "ExecuteTime": {
     "end_time": "2024-03-26T06:17:21.594225Z",
     "start_time": "2024-03-26T06:17:21.591129Z"
    }
   },
   "outputs": [
    {
     "data": {
      "text/plain": "True"
     },
     "execution_count": 8,
     "metadata": {},
     "output_type": "execute_result"
    }
   ],
   "source": [
    "# 만약에 수가 아닌 문자열 들어왔을때는 False\n",
    "prodItems[0].select('input')[1].get('value').isdecimal()"
   ]
  },
  {
   "cell_type": "markdown",
   "metadata": {},
   "source": [
    "##### 다나와 무선청소기 웹크롤링 다시\n",
    "- 가격외에는 안들어오도록 변환"
   ]
  },
  {
   "cell_type": "code",
   "execution_count": 9,
   "metadata": {
    "ExecuteTime": {
     "end_time": "2024-03-26T06:17:21.599499Z",
     "start_time": "2024-03-26T06:17:21.596570Z"
    }
   },
   "outputs": [],
   "source": [
    "## 검색어, 페이지를 변경하면서 URL 생성함수\n",
    "def getSearchPageUrl(keyword, page):\n",
    "    ecKeyword = parse.quote(keyword)\n",
    "    url = f'https://search.danawa.com/dsearch.php?query={ecKeyword}&originalQuery={ecKeyword}&previousKeyword={ecKeyword}&checkedInfo=N&volumeType=allvs&' + \\\n",
    "          f'page={page}&limit=120&sort=saveDESC&list=list&boost=true&tab=goods&addDelivery=N&coupangMemberSort=N&mode=simple&isInitTireSmartFinder=N&' + \\\n",
    "           'recommendedSort=N&defaultUICategoryCode=10325109&defaultPhysicsCategoryCode=72%7C80%7C81%7C0&defaultVmTab=3138&defaultVaTab=1098867&isZeroPrice=Y&' + \\\n",
    "           'quickProductYN=N&priceUnitSort=N&priceUnitSortOrder=A'\n",
    "    return url"
   ]
  },
  {
   "cell_type": "code",
   "execution_count": 10,
   "metadata": {
    "ExecuteTime": {
     "end_time": "2024-03-26T06:17:21.602948Z",
     "start_time": "2024-03-26T06:17:21.600380Z"
    }
   },
   "outputs": [],
   "source": [
    "## 상품정보 추출하는 함수\n",
    "def getProdItems(prodItems):\n",
    "    prodData = []\n",
    "\n",
    "    for prodItem in prodItems:\n",
    "        try:\n",
    "            prodName = prodItem.select('p.prod_name > a')[0].text.strip()  # 상품명 가져오기\n",
    "            specList = prodItem.select('div.spec_list')[0].text.strip().replace('\\t', '') # 상품 스펙목록 가져오기\n",
    "\n",
    "            if prodItem.select('input')[1].get('value').isdecimal() == True: \n",
    "                price = prodItem.select('input')[1].get('value') # 최저가 가져오기\n",
    "            else:\n",
    "                price = 0 # 문자열 들어온 것 막음\n",
    "\n",
    "            prodData.append([prodName, specList, price])\n",
    "        except:\n",
    "            pass\n",
    "    \n",
    "    return prodData"
   ]
  },
  {
   "cell_type": "code",
   "execution_count": 11,
   "metadata": {
    "ExecuteTime": {
     "end_time": "2024-03-26T06:20:53.147027Z",
     "start_time": "2024-03-26T06:17:21.605613Z"
    }
   },
   "outputs": [
    {
     "name": "stderr",
     "output_type": "stream",
     "text": [
      "100%|██████████| 20/20 [03:29<00:00, 10.49s/it]\n"
     ]
    }
   ],
   "source": [
    "## 여러페이지 검색후 크롤링하는 작업\n",
    "driver = webdriver.Chrome()\n",
    "# 암묵적으로 웹 자원 로드를 위해 3초정도 대기\n",
    "driver.implicitly_wait(3.0)\n",
    "\n",
    "keyword = '무선청소기'\n",
    "startPage = 1\n",
    "totalPage = 20\n",
    "prodDataTotal = [] # 최종적으로 저장할 리스트\n",
    "\n",
    "for page in tqdm(range(startPage, totalPage +1)):\n",
    "    # 검색 페이지 이동\n",
    "    url = getSearchPageUrl(keyword, page)\n",
    "    driver.get(url)\n",
    "    # 페이지 로딩이 완료될때까지 5초간 대기\n",
    "    time.sleep(5)\n",
    "\n",
    "    # 현재 페이지 HTML 가져오기\n",
    "    html = driver.page_source\n",
    "    soup = BeautifulSoup(html, 'html.parser')\n",
    "\n",
    "    # 상품정보 추출\n",
    "    prodItems = soup.select('ul.product_list > li.prod_item')\n",
    "    prodItemList = getProdItems(prodItems) # 리스트로 추출하는 함수\n",
    "\n",
    "    # 추출된 정보를 prodDataTotal 추가\n",
    "    prodDataTotal += prodItemList   "
   ]
  },
  {
   "cell_type": "code",
   "execution_count": 12,
   "metadata": {
    "ExecuteTime": {
     "end_time": "2024-03-26T06:20:53.150639Z",
     "start_time": "2024-03-26T06:20:53.147719Z"
    }
   },
   "outputs": [],
   "source": [
    "dfProdDataTotal = pd.DataFrame(prodDataTotal)"
   ]
  },
  {
   "cell_type": "code",
   "execution_count": 13,
   "metadata": {
    "ExecuteTime": {
     "end_time": "2024-03-26T06:20:53.156251Z",
     "start_time": "2024-03-26T06:20:53.151357Z"
    }
   },
   "outputs": [
    {
     "name": "stdout",
     "output_type": "stream",
     "text": [
      "<class 'pandas.core.frame.DataFrame'>\n",
      "RangeIndex: 2215 entries, 0 to 2214\n",
      "Data columns (total 3 columns):\n",
      " #   Column  Non-Null Count  Dtype \n",
      "---  ------  --------------  ----- \n",
      " 0   0       2215 non-null   object\n",
      " 1   1       2215 non-null   object\n",
      " 2   2       2215 non-null   object\n",
      "dtypes: object(3)\n",
      "memory usage: 52.0+ KB\n"
     ]
    }
   ],
   "source": [
    "dfProdDataTotal.info()"
   ]
  },
  {
   "cell_type": "code",
   "execution_count": 14,
   "metadata": {
    "ExecuteTime": {
     "end_time": "2024-03-26T06:20:53.158252Z",
     "start_time": "2024-03-26T06:20:53.156852Z"
    }
   },
   "outputs": [],
   "source": [
    "dfProdDataTotal.columns = ['제품명','제품스펙','최저가']"
   ]
  },
  {
   "cell_type": "code",
   "execution_count": 15,
   "metadata": {
    "ExecuteTime": {
     "end_time": "2024-03-26T06:20:53.532251Z",
     "start_time": "2024-03-26T06:20:53.158836Z"
    }
   },
   "outputs": [],
   "source": [
    "dfProdDataTotal.to_excel('./data/다나와_무선청소기_결과.xlsx', index=False)"
   ]
  },
  {
   "cell_type": "markdown",
   "metadata": {},
   "source": [
    "##### 크롤링 데이터 전처리"
   ]
  },
  {
   "cell_type": "code",
   "execution_count": 16,
   "metadata": {
    "ExecuteTime": {
     "end_time": "2024-03-26T06:20:53.606907Z",
     "start_time": "2024-03-26T06:20:53.532914Z"
    }
   },
   "outputs": [
    {
     "data": {
      "text/plain": "                           제품명  \\\n2210  메이드조이 차량용 미니 청소기 MV-V100   \n2211                 Garrl-231   \n2212                  GJIE V09   \n2213            아이룸 UC-81 PLUS   \n2214            SHILONG CMY-01   \n\n                                                   제품스펙    최저가  \n2210  차량용청소기 / 무선 / [흡입력] 4,000Pa / [최대출력] 120W / BL...  29800  \n2211  침구청소기 / 핸디형 / 무선 / 사용시간: 45분(최대) / [기능] 청소모드: ...  19400  \n2212  침구청소기 / 핸디형 / [기능] 청소모드: 온풍, 진동, 흡입 / 진동수: 800...  54300  \n2213  물걸레청소기 / 회전식 (분당 250회) / 물걸레전용 / 무선 / 소비전력: 85...  75000  \n2214  침구청소기 / 핸디형 / 무선 / 충전시간: 2시간 / [기능] 청소모드: UV살균...  33800  ",
      "text/html": "<div>\n<style scoped>\n    .dataframe tbody tr th:only-of-type {\n        vertical-align: middle;\n    }\n\n    .dataframe tbody tr th {\n        vertical-align: top;\n    }\n\n    .dataframe thead th {\n        text-align: right;\n    }\n</style>\n<table border=\"1\" class=\"dataframe\">\n  <thead>\n    <tr style=\"text-align: right;\">\n      <th></th>\n      <th>제품명</th>\n      <th>제품스펙</th>\n      <th>최저가</th>\n    </tr>\n  </thead>\n  <tbody>\n    <tr>\n      <th>2210</th>\n      <td>메이드조이 차량용 미니 청소기 MV-V100</td>\n      <td>차량용청소기 / 무선 / [흡입력] 4,000Pa / [최대출력] 120W / BL...</td>\n      <td>29800</td>\n    </tr>\n    <tr>\n      <th>2211</th>\n      <td>Garrl-231</td>\n      <td>침구청소기 / 핸디형 / 무선 / 사용시간: 45분(최대) / [기능] 청소모드: ...</td>\n      <td>19400</td>\n    </tr>\n    <tr>\n      <th>2212</th>\n      <td>GJIE V09</td>\n      <td>침구청소기 / 핸디형 / [기능] 청소모드: 온풍, 진동, 흡입 / 진동수: 800...</td>\n      <td>54300</td>\n    </tr>\n    <tr>\n      <th>2213</th>\n      <td>아이룸 UC-81 PLUS</td>\n      <td>물걸레청소기 / 회전식 (분당 250회) / 물걸레전용 / 무선 / 소비전력: 85...</td>\n      <td>75000</td>\n    </tr>\n    <tr>\n      <th>2214</th>\n      <td>SHILONG CMY-01</td>\n      <td>침구청소기 / 핸디형 / 무선 / 충전시간: 2시간 / [기능] 청소모드: UV살균...</td>\n      <td>33800</td>\n    </tr>\n  </tbody>\n</table>\n</div>"
     },
     "execution_count": 16,
     "metadata": {},
     "output_type": "execute_result"
    }
   ],
   "source": [
    "# 저장한 엑셀을 재로드\n",
    "dfProdDanawa = pd.read_excel('./data/다나와_무선청소기_결과.xlsx')\n",
    "dfProdDanawa.tail()"
   ]
  },
  {
   "cell_type": "code",
   "execution_count": 17,
   "metadata": {
    "ExecuteTime": {
     "end_time": "2024-03-26T06:20:53.610891Z",
     "start_time": "2024-03-26T06:20:53.607565Z"
    }
   },
   "outputs": [
    {
     "name": "stdout",
     "output_type": "stream",
     "text": [
      "<class 'pandas.core.frame.DataFrame'>\n",
      "RangeIndex: 2215 entries, 0 to 2214\n",
      "Data columns (total 3 columns):\n",
      " #   Column  Non-Null Count  Dtype \n",
      "---  ------  --------------  ----- \n",
      " 0   제품명     2215 non-null   object\n",
      " 1   제품스펙    2205 non-null   object\n",
      " 2   최저가     2215 non-null   int64 \n",
      "dtypes: int64(1), object(2)\n",
      "memory usage: 52.0+ KB\n"
     ]
    }
   ],
   "source": [
    "dfProdDanawa.info()"
   ]
  },
  {
   "cell_type": "code",
   "execution_count": 18,
   "metadata": {
    "ExecuteTime": {
     "end_time": "2024-03-26T06:20:53.614477Z",
     "start_time": "2024-03-26T06:20:53.611478Z"
    }
   },
   "outputs": [
    {
     "data": {
      "text/plain": "제품명      0\n제품스펙    10\n최저가      0\ndtype: int64"
     },
     "execution_count": 18,
     "metadata": {},
     "output_type": "execute_result"
    }
   ],
   "source": [
    "dfProdDanawa.isnull().sum()"
   ]
  },
  {
   "cell_type": "code",
   "execution_count": 19,
   "metadata": {
    "ExecuteTime": {
     "end_time": "2024-03-26T06:20:53.616731Z",
     "start_time": "2024-03-26T06:20:53.615039Z"
    }
   },
   "outputs": [],
   "source": [
    "# 결측치 검색\n",
    "condition = dfProdDanawa['제품스펙'].isnull() == True"
   ]
  },
  {
   "cell_type": "code",
   "execution_count": 20,
   "metadata": {
    "ExecuteTime": {
     "end_time": "2024-03-26T06:20:53.620739Z",
     "start_time": "2024-03-26T06:20:53.617239Z"
    }
   },
   "outputs": [
    {
     "data": {
      "text/plain": "                                                 제품명 제품스펙  최저가\n1832        스틱 핸디 교체 사용 무선 충전 가성비 진공 청소기 오래가는 좋은 집들이  NaN    0\n1833  클래파 스틱형+핸디형 5단계 필터먼지통 고성능 BLDC모터 싸이클론 무선 진공청소기  NaN    0\n1915        스틱 핸디 교체 사용 무선 충전 가성비 진공 청소기 오래가는 좋은 집들이  NaN    0\n1916  클래파 스틱형+핸디형 5단계 필터먼지통 고성능 BLDC모터 싸이클론 무선 진공청소기  NaN    0\n1998        스틱 핸디 교체 사용 무선 충전 가성비 진공 청소기 오래가는 좋은 집들이  NaN    0\n1999  클래파 스틱형+핸디형 5단계 필터먼지통 고성능 BLDC모터 싸이클론 무선 진공청소기  NaN    0\n2081        스틱 핸디 교체 사용 무선 충전 가성비 진공 청소기 오래가는 좋은 집들이  NaN    0\n2082  클래파 스틱형+핸디형 5단계 필터먼지통 고성능 BLDC모터 싸이클론 무선 진공청소기  NaN    0\n2164        스틱 핸디 교체 사용 무선 충전 가성비 진공 청소기 오래가는 좋은 집들이  NaN    0\n2165  클래파 스틱형+핸디형 5단계 필터먼지통 고성능 BLDC모터 싸이클론 무선 진공청소기  NaN    0",
      "text/html": "<div>\n<style scoped>\n    .dataframe tbody tr th:only-of-type {\n        vertical-align: middle;\n    }\n\n    .dataframe tbody tr th {\n        vertical-align: top;\n    }\n\n    .dataframe thead th {\n        text-align: right;\n    }\n</style>\n<table border=\"1\" class=\"dataframe\">\n  <thead>\n    <tr style=\"text-align: right;\">\n      <th></th>\n      <th>제품명</th>\n      <th>제품스펙</th>\n      <th>최저가</th>\n    </tr>\n  </thead>\n  <tbody>\n    <tr>\n      <th>1832</th>\n      <td>스틱 핸디 교체 사용 무선 충전 가성비 진공 청소기 오래가는 좋은 집들이</td>\n      <td>NaN</td>\n      <td>0</td>\n    </tr>\n    <tr>\n      <th>1833</th>\n      <td>클래파 스틱형+핸디형 5단계 필터먼지통 고성능 BLDC모터 싸이클론 무선 진공청소기</td>\n      <td>NaN</td>\n      <td>0</td>\n    </tr>\n    <tr>\n      <th>1915</th>\n      <td>스틱 핸디 교체 사용 무선 충전 가성비 진공 청소기 오래가는 좋은 집들이</td>\n      <td>NaN</td>\n      <td>0</td>\n    </tr>\n    <tr>\n      <th>1916</th>\n      <td>클래파 스틱형+핸디형 5단계 필터먼지통 고성능 BLDC모터 싸이클론 무선 진공청소기</td>\n      <td>NaN</td>\n      <td>0</td>\n    </tr>\n    <tr>\n      <th>1998</th>\n      <td>스틱 핸디 교체 사용 무선 충전 가성비 진공 청소기 오래가는 좋은 집들이</td>\n      <td>NaN</td>\n      <td>0</td>\n    </tr>\n    <tr>\n      <th>1999</th>\n      <td>클래파 스틱형+핸디형 5단계 필터먼지통 고성능 BLDC모터 싸이클론 무선 진공청소기</td>\n      <td>NaN</td>\n      <td>0</td>\n    </tr>\n    <tr>\n      <th>2081</th>\n      <td>스틱 핸디 교체 사용 무선 충전 가성비 진공 청소기 오래가는 좋은 집들이</td>\n      <td>NaN</td>\n      <td>0</td>\n    </tr>\n    <tr>\n      <th>2082</th>\n      <td>클래파 스틱형+핸디형 5단계 필터먼지통 고성능 BLDC모터 싸이클론 무선 진공청소기</td>\n      <td>NaN</td>\n      <td>0</td>\n    </tr>\n    <tr>\n      <th>2164</th>\n      <td>스틱 핸디 교체 사용 무선 충전 가성비 진공 청소기 오래가는 좋은 집들이</td>\n      <td>NaN</td>\n      <td>0</td>\n    </tr>\n    <tr>\n      <th>2165</th>\n      <td>클래파 스틱형+핸디형 5단계 필터먼지통 고성능 BLDC모터 싸이클론 무선 진공청소기</td>\n      <td>NaN</td>\n      <td>0</td>\n    </tr>\n  </tbody>\n</table>\n</div>"
     },
     "execution_count": 20,
     "metadata": {},
     "output_type": "execute_result"
    }
   ],
   "source": [
    "dfProdDanawa[condition]"
   ]
  },
  {
   "cell_type": "code",
   "execution_count": 21,
   "metadata": {
    "ExecuteTime": {
     "end_time": "2024-03-26T06:20:53.623738Z",
     "start_time": "2024-03-26T06:20:53.621300Z"
    }
   },
   "outputs": [],
   "source": [
    "## 결측치가 있는 행(row)을 삭제\n",
    "dfProdDanawa = dfProdDanawa.dropna(axis=0)"
   ]
  },
  {
   "cell_type": "code",
   "execution_count": 22,
   "metadata": {
    "ExecuteTime": {
     "end_time": "2024-03-26T06:20:53.625731Z",
     "start_time": "2024-03-26T06:20:53.624269Z"
    }
   },
   "outputs": [],
   "source": [
    "## 최저가가 0인 제품\n",
    "condition = dfProdDanawa['최저가'] == 0"
   ]
  },
  {
   "cell_type": "code",
   "execution_count": 23,
   "metadata": {
    "ExecuteTime": {
     "end_time": "2024-03-26T06:20:53.627925Z",
     "start_time": "2024-03-26T06:20:53.626272Z"
    }
   },
   "outputs": [],
   "source": [
    "# 최저가가 0은 제품 제외한 나머지\n",
    "dfProdDanawa = dfProdDanawa[condition == False]"
   ]
  },
  {
   "cell_type": "code",
   "execution_count": 24,
   "metadata": {
    "ExecuteTime": {
     "end_time": "2024-03-26T06:20:53.629828Z",
     "start_time": "2024-03-26T06:20:53.628466Z"
    }
   },
   "outputs": [],
   "source": [
    "# 행들이 삭제되면서 인덱스가 꼬임. 인덱스 초기화\n",
    "dfProdDanawa.reset_index(drop=True, inplace=True)"
   ]
  },
  {
   "cell_type": "code",
   "execution_count": 25,
   "metadata": {
    "ExecuteTime": {
     "end_time": "2024-03-26T06:20:53.633473Z",
     "start_time": "2024-03-26T06:20:53.630359Z"
    }
   },
   "outputs": [
    {
     "name": "stdout",
     "output_type": "stream",
     "text": [
      "<class 'pandas.core.frame.DataFrame'>\n",
      "RangeIndex: 2155 entries, 0 to 2154\n",
      "Data columns (total 3 columns):\n",
      " #   Column  Non-Null Count  Dtype \n",
      "---  ------  --------------  ----- \n",
      " 0   제품명     2155 non-null   object\n",
      " 1   제품스펙    2155 non-null   object\n",
      " 2   최저가     2155 non-null   int64 \n",
      "dtypes: int64(1), object(2)\n",
      "memory usage: 50.6+ KB\n"
     ]
    }
   ],
   "source": [
    "# 결측치, 이상치를 제거한 최종 DF\n",
    "# 회사명, 모델명, 카테고리, 사용시간, 흡입력 추출한 결과도 2057개가 필수\n",
    "dfProdDanawa.info()"
   ]
  },
  {
   "cell_type": "code",
   "execution_count": 26,
   "metadata": {
    "ExecuteTime": {
     "end_time": "2024-03-26T06:20:53.635894Z",
     "start_time": "2024-03-26T06:20:53.634002Z"
    }
   },
   "outputs": [
    {
     "data": {
      "text/plain": "['LG전자', '오브제컬렉션 코드제로 A9S AX9884']"
     },
     "execution_count": 26,
     "metadata": {},
     "output_type": "execute_result"
    }
   ],
   "source": [
    "# 회사명, 제품명 분리 split(' ', n) n => 자를 공백의 번호\n",
    "dfProdDanawa['제품명'][:5][0].split(' ', 1)"
   ]
  },
  {
   "cell_type": "code",
   "execution_count": 27,
   "metadata": {
    "ExecuteTime": {
     "end_time": "2024-03-26T06:20:53.639074Z",
     "start_time": "2024-03-26T06:20:53.636501Z"
    }
   },
   "outputs": [],
   "source": [
    "## 회사명, 모델명 분리 시작\n",
    "compList = []\n",
    "modelList = []\n",
    "count = 0\n",
    "\n",
    "for temp in dfProdDanawa['제품명']:\n",
    "    titles = temp.split(' ', 1) # 길이 2 배열 생성\n",
    "    if (len(titles) > 1):\n",
    "        compList.append(titles[0]) # 회사명\n",
    "        modelList.append(titles[1]) # 모델명\n",
    "    else:\n",
    "        compList.append('') # 회사명은 비운다\n",
    "        modelList.append(titles[0]) # 모델명\n",
    "\n",
    "    count +=1    "
   ]
  },
  {
   "cell_type": "code",
   "execution_count": 28,
   "metadata": {
    "ExecuteTime": {
     "end_time": "2024-03-26T06:20:53.641478Z",
     "start_time": "2024-03-26T06:20:53.639723Z"
    }
   },
   "outputs": [
    {
     "data": {
      "text/plain": "2155"
     },
     "execution_count": 28,
     "metadata": {},
     "output_type": "execute_result"
    }
   ],
   "source": [
    "len(compList)"
   ]
  },
  {
   "cell_type": "code",
   "execution_count": 29,
   "metadata": {
    "ExecuteTime": {
     "end_time": "2024-03-26T06:20:53.647494Z",
     "start_time": "2024-03-26T06:20:53.645474Z"
    }
   },
   "outputs": [
    {
     "data": {
      "text/plain": "2155"
     },
     "execution_count": 29,
     "metadata": {},
     "output_type": "execute_result"
    }
   ],
   "source": [
    "len(modelList)"
   ]
  },
  {
   "cell_type": "code",
   "execution_count": 30,
   "metadata": {
    "ExecuteTime": {
     "end_time": "2024-03-26T06:20:53.649731Z",
     "start_time": "2024-03-26T06:20:53.648177Z"
    }
   },
   "outputs": [],
   "source": [
    "# 스펙목록 데이터\n",
    "specList = dfProdDanawa.loc[2000, '제품스펙'].split(' / ')"
   ]
  },
  {
   "cell_type": "code",
   "execution_count": 31,
   "metadata": {
    "ExecuteTime": {
     "end_time": "2024-03-26T06:20:53.652912Z",
     "start_time": "2024-03-26T06:20:53.650413Z"
    }
   },
   "outputs": [
    {
     "data": {
      "text/plain": "['물걸레청소기',\n '회전식',\n '물걸레전용',\n '무선',\n '소비전력: 30W',\n '[배터리] 리튬이온',\n '[기능] 물분사',\n '각도조절',\n '셀프스탠딩',\n '[부가] 색상: 화이트, 블랙',\n '패드: 극세사(벨크로형)',\n '크기(가로x세로x깊이): 345x1230x165mm']"
     },
     "execution_count": 31,
     "metadata": {},
     "output_type": "execute_result"
    }
   ],
   "source": [
    "specList"
   ]
  },
  {
   "cell_type": "code",
   "execution_count": 32,
   "metadata": {
    "ExecuteTime": {
     "end_time": "2024-03-26T06:20:53.787114Z",
     "start_time": "2024-03-26T06:20:53.653519Z"
    }
   },
   "outputs": [
    {
     "ename": "IndexError",
     "evalue": "list index out of range",
     "output_type": "error",
     "traceback": [
      "\u001B[0;31m---------------------------------------------------------------------------\u001B[0m",
      "\u001B[0;31mIndexError\u001B[0m                                Traceback (most recent call last)",
      "Cell \u001B[0;32mIn[32], line 9\u001B[0m\n\u001B[1;32m      6\u001B[0m     \u001B[38;5;28;01melif\u001B[39;00m \u001B[38;5;124m'\u001B[39m\u001B[38;5;124m흡입력\u001B[39m\u001B[38;5;124m'\u001B[39m \u001B[38;5;129;01min\u001B[39;00m spec:\n\u001B[1;32m      7\u001B[0m         suctionPow \u001B[38;5;241m=\u001B[39m spec\n\u001B[0;32m----> 9\u001B[0m \u001B[38;5;28mprint\u001B[39m(\u001B[43museTime\u001B[49m\u001B[38;5;241;43m.\u001B[39;49m\u001B[43msplit\u001B[49m\u001B[43m(\u001B[49m\u001B[38;5;124;43m'\u001B[39;49m\u001B[38;5;124;43m \u001B[39;49m\u001B[38;5;124;43m'\u001B[39;49m\u001B[43m)\u001B[49m\u001B[43m[\u001B[49m\u001B[38;5;241;43m1\u001B[39;49m\u001B[43m]\u001B[49m\u001B[38;5;241m.\u001B[39mstrip())\n\u001B[1;32m     10\u001B[0m \u001B[38;5;28mprint\u001B[39m(suctionPow\u001B[38;5;241m.\u001B[39msplit(\u001B[38;5;124m'\u001B[39m\u001B[38;5;124m \u001B[39m\u001B[38;5;124m'\u001B[39m)[\u001B[38;5;241m1\u001B[39m]\u001B[38;5;241m.\u001B[39mstrip()) \u001B[38;5;66;03m# 흡입력이 없어서 ''경우는 split(' ')에서 예외발생\u001B[39;00m\n",
      "\u001B[0;31mIndexError\u001B[0m: list index out of range"
     ]
    }
   ],
   "source": [
    "useTime = ''\n",
    "suctionPow = ''\n",
    "for spec in specList:\n",
    "    if '사용시간' in spec:\n",
    "        useTime = spec\n",
    "    elif '흡입력' in spec:\n",
    "        suctionPow = spec\n",
    "\n",
    "print(useTime.split(' ')[1].strip())\n",
    "print(suctionPow.split(' ')[1].strip()) # 흡입력이 없어서 ''경우는 split(' ')에서 예외발생"
   ]
  },
  {
   "cell_type": "code",
   "execution_count": null,
   "metadata": {},
   "outputs": [],
   "source": [
    "dfProdDanawa.loc[0, '제품스펙']"
   ]
  },
  {
   "cell_type": "code",
   "execution_count": null,
   "metadata": {},
   "outputs": [],
   "source": [
    "## 위의 테스트를 기반으로 카테고리, 사용시간, 흡입력 추출\n",
    "categoryList = []\n",
    "useTimeList = []\n",
    "suctionPowList = []\n",
    "count = 0\n",
    "\n",
    "for spec in dfProdDanawa['제품스펙']:\n",
    "    # ' / '로 문자열 분리\n",
    "    specList = spec.split(' / ')\n",
    "    # 카테고리 추출\n",
    "    category = specList[0]\n",
    "    categoryList.append(category)\n",
    "    # 사용시간, 흡입력 추출\n",
    "    useTimeVal = None\n",
    "    suctionPowVal = None\n",
    "\n",
    "    for temp in specList:\n",
    "        if '사용시간' in temp:\n",
    "            useTimeVal = temp.replace('[배터리] ', '') # 1. [배터리]가 값 오류 발생시킴\n",
    "        elif '흡입력' in temp:\n",
    "            suctionPowVal = temp\n",
    "\n",
    "    # 끝난 다음에도 사용시간, 흡입력이 None이면 스펙에 찾을값이 없었음\n",
    "    if useTimeVal != None:\n",
    "        useTime = useTimeVal.split(' ')[1].strip().replace('(최대)', '') # 2. (최대) 삭제\n",
    "    else:\n",
    "        useTime = ''\n",
    "\n",
    "    if suctionPowVal != None:\n",
    "        suctionPow = suctionPowVal.split(' ')[1].strip()\n",
    "    else:\n",
    "        suctionPow = ''\n",
    "\n",
    "    useTimeList.append(useTime)\n",
    "    suctionPowList.append(suctionPow)\n",
    "    count += 1\n",
    "    # print(count)"
   ]
  },
  {
   "cell_type": "code",
   "execution_count": null,
   "metadata": {},
   "outputs": [],
   "source": [
    "len(categoryList)"
   ]
  },
  {
   "cell_type": "code",
   "execution_count": null,
   "metadata": {},
   "outputs": [],
   "source": [
    "len(suctionPowList)"
   ]
  },
  {
   "cell_type": "code",
   "execution_count": null,
   "metadata": {},
   "outputs": [],
   "source": [
    "len(useTimeList)"
   ]
  },
  {
   "cell_type": "code",
   "execution_count": null,
   "metadata": {},
   "outputs": [],
   "source": [
    "time = '1시간20분'\n",
    "time.split('시간')[-1].split('분')[0]"
   ]
  },
  {
   "cell_type": "code",
   "execution_count": null,
   "metadata": {},
   "outputs": [],
   "source": [
    "## 사용시간 단위를 통일, \n",
    "# time = '1시간' ,'30분', '1시간20분'\n",
    "def convertHourToMin(time):\n",
    "    try:\n",
    "        if '시간' in time:\n",
    "            hour = time.split('시간')[0]\n",
    "            if '분' in time:\n",
    "                minute = time.split('시간')[-1].split('분')[0]\n",
    "            else:\n",
    "                minute = 0\n",
    "        else:\n",
    "            hour = 0\n",
    "            minute = time.split('분')[0]\n",
    "        return int(hour)*60 + int(minute)\n",
    "    except:\n",
    "        return None"
   ]
  },
  {
   "cell_type": "code",
   "execution_count": null,
   "metadata": {},
   "outputs": [],
   "source": [
    "newUseTimeList = []\n",
    "for time in useTimeList:\n",
    "    value = convertHourToMin(time)\n",
    "    newUseTimeList.append(value)"
   ]
  },
  {
   "cell_type": "code",
   "execution_count": null,
   "metadata": {},
   "outputs": [],
   "source": [
    "len(newUseTimeList)"
   ]
  },
  {
   "cell_type": "code",
   "execution_count": null,
   "metadata": {},
   "outputs": [],
   "source": [
    "## 흡입력 단위 통일 1W = 1AW = 100pa\n",
    "def convertPow(value):\n",
    "    try:\n",
    "        value = value.upper()\n",
    "        if 'AW' in value or 'W' in value:\n",
    "            result = value.replace('A', '').replace('W', '').replace(',', '') # A도 삭제, W도 삭제, 1000단위 쉼표 삭제\n",
    "            result = int(result)\n",
    "        elif 'PA' in value:\n",
    "            result = value.replace('PA', '').replace(',', '')  #PA 삭제, 1000단위 쉼표 삭제\n",
    "            result = int(result) // 100\n",
    "        else:\n",
    "            result = None\n",
    "        \n",
    "        return result\n",
    "    except:\n",
    "        return None"
   ]
  },
  {
   "cell_type": "code",
   "execution_count": null,
   "metadata": {},
   "outputs": [],
   "source": [
    "newSuctionList = []\n",
    "for power in suctionPowList:\n",
    "    value = convertPow(power)\n",
    "    newSuctionList.append(value)"
   ]
  },
  {
   "cell_type": "code",
   "execution_count": null,
   "metadata": {},
   "outputs": [],
   "source": [
    "len(newSuctionList)"
   ]
  },
  {
   "cell_type": "code",
   "execution_count": null,
   "metadata": {},
   "outputs": [],
   "source": [
    "# 최종 데이터 엑셀 저장\n",
    "dfLast = pd.DataFrame()\n",
    "dfLast['카테고리'] = categoryList\n",
    "dfLast['회사명'] = compList\n",
    "dfLast['제품명'] = modelList\n",
    "dfLast['가격'] = dfProdDanawa['최저가']\n",
    "dfLast['사용시간'] = newUseTimeList\n",
    "dfLast['흡입력'] = newSuctionList"
   ]
  },
  {
   "cell_type": "code",
   "execution_count": null,
   "metadata": {},
   "outputs": [],
   "source": [
    "dfLast.tail()"
   ]
  },
  {
   "cell_type": "code",
   "execution_count": null,
   "metadata": {},
   "outputs": [],
   "source": [
    "dfLast.to_excel('./data/다나와_무선청소기_전처리결과.xlsx', index=False)"
   ]
  },
  {
   "cell_type": "markdown",
   "metadata": {},
   "source": [
    "##### 무선청소기 분석전 결측치 제거"
   ]
  },
  {
   "cell_type": "code",
   "execution_count": null,
   "metadata": {},
   "outputs": [],
   "source": [
    "dfCleaner = pd.read_excel('./data/다나와_무선청소기_전처리결과.xlsx')"
   ]
  },
  {
   "cell_type": "code",
   "execution_count": null,
   "metadata": {},
   "outputs": [],
   "source": [
    "dfCleaner.info()"
   ]
  },
  {
   "cell_type": "code",
   "execution_count": null,
   "metadata": {},
   "outputs": [],
   "source": [
    "# 회사명 빠진조건\n",
    "condition = dfCleaner['회사명'].isnull() == True"
   ]
  },
  {
   "cell_type": "code",
   "execution_count": null,
   "metadata": {},
   "outputs": [],
   "source": [
    "## 회사명 빠진것 10건은 직접 수동으로 채워넣음\n",
    "dfCleaner[condition]"
   ]
  },
  {
   "cell_type": "code",
   "execution_count": null,
   "metadata": {},
   "outputs": [],
   "source": [
    "## 사용시간, 흡입력 NaN인 것은 전부 0으로 채워넣기\n",
    "dfCleaner = dfCleaner.fillna(0)"
   ]
  },
  {
   "cell_type": "code",
   "execution_count": null,
   "metadata": {},
   "outputs": [],
   "source": [
    "dfCleaner.info()"
   ]
  },
  {
   "cell_type": "markdown",
   "metadata": {},
   "source": [
    "##### 필요제품 선별"
   ]
  },
  {
   "cell_type": "code",
   "execution_count": null,
   "metadata": {},
   "outputs": [],
   "source": [
    "# 카테고리별 제품 개수 -> 워드클라우드 가능\n",
    "dfCleaner['카테고리'].value_counts()"
   ]
  },
  {
   "cell_type": "code",
   "execution_count": null,
   "metadata": {},
   "outputs": [],
   "source": [
    "dfCleaner['회사명'].value_counts()"
   ]
  },
  {
   "cell_type": "code",
   "execution_count": null,
   "metadata": {},
   "outputs": [],
   "source": [
    "# TEST -> 워드클라우드 가능\n",
    "dfTest = pd.DataFrame( dfCleaner['회사명'].value_counts())\n",
    "dfTest.reset_index().head(5)"
   ]
  },
  {
   "cell_type": "code",
   "execution_count": null,
   "metadata": {},
   "outputs": [],
   "source": [
    "## 핸드스틱청소기만 선택해서 분석\n",
    "dfDataFinal = dfCleaner[dfCleaner['카테고리'].isin(['핸디스틱청소기', '핸디스틱청소기+로봇청소기', '스틱청소기', '진공청소기'])]"
   ]
  },
  {
   "cell_type": "code",
   "execution_count": null,
   "metadata": {},
   "outputs": [],
   "source": [
    "dfDataFinal.to_excel('./data/2_danawa_data_final.xlsx', index=False)"
   ]
  },
  {
   "cell_type": "markdown",
   "metadata": {},
   "source": [
    "##### 분석용 재로드"
   ]
  },
  {
   "cell_type": "code",
   "execution_count": null,
   "metadata": {},
   "outputs": [],
   "source": [
    "dfDataFinal = pd.read_excel('./data/2_danawa_data_final.xlsx')"
   ]
  },
  {
   "cell_type": "code",
   "execution_count": null,
   "metadata": {},
   "outputs": [],
   "source": [
    "dfDataFinal.tail()"
   ]
  },
  {
   "cell_type": "code",
   "execution_count": null,
   "metadata": {},
   "outputs": [],
   "source": [
    "# 흡입력 기준으로 정렬, ascending=Treu(오름차순), ascending=False(내림차순)\n",
    "suctionTopList = dfDataFinal.sort_values(['흡입력'], ascending=False)\n",
    "suctionTopList.head()"
   ]
  },
  {
   "cell_type": "code",
   "execution_count": null,
   "metadata": {},
   "outputs": [],
   "source": [
    "# 사용시간 기준 정렬\n",
    "useTimeTopList = dfDataFinal.sort_values(['사용시간'], ascending=False)\n",
    "useTimeTopList.head()"
   ]
  },
  {
   "cell_type": "code",
   "execution_count": null,
   "metadata": {},
   "outputs": [],
   "source": [
    "# 사용시간, 흡입력 동시에 기준 정렬\n",
    "topList = dfDataFinal.sort_values(['사용시간', '흡입력'], ascending=False)\n",
    "topList.head()"
   ]
  },
  {
   "cell_type": "code",
   "execution_count": null,
   "metadata": {},
   "outputs": [],
   "source": [
    "## 가성비 좋은 제품 찾기 전\n",
    "# 평균값\n",
    "priceMean = int(dfDataFinal['가격'].mean()) # 47만원\n",
    "suctionMean = dfDataFinal['흡입력'].mean() # 115.8\n",
    "useTimeMean = dfDataFinal['사용시간'].mean() # 39분\n",
    "print(f'평균가격 : {priceMean:,d}원, 평균흡입력: {suctionMean:,.2f}W, 평균사용시간: {useTimeMean:,.2f}분')"
   ]
  },
  {
   "cell_type": "code",
   "execution_count": null,
   "metadata": {},
   "outputs": [],
   "source": [
    "## 가성비 좋은 제품 조건\n",
    "cond1 = dfDataFinal['가격'] <= priceMean\n",
    "cond2 = dfDataFinal['흡입력'] >= suctionMean\n",
    "cond3 = dfDataFinal['사용시간'] >= useTimeMean"
   ]
  },
  {
   "cell_type": "code",
   "execution_count": null,
   "metadata": {},
   "outputs": [],
   "source": [
    "## 가성비 좋은 제품 검색\n",
    "chartData = dfDataFinal[cond1 & cond2 & cond3]"
   ]
  },
  {
   "cell_type": "markdown",
   "metadata": {},
   "source": [
    "##### 데이터 시각화\n"
   ]
  },
  {
   "cell_type": "code",
   "execution_count": null,
   "metadata": {},
   "outputs": [],
   "source": [
    "# 필요라이브러리 사용등록\n",
    "import pandas as pd\n",
    "import numpy as np\n",
    "import matplotlib.pyplot as plt\n",
    "import seaborn as sns"
   ]
  },
  {
   "cell_type": "code",
   "execution_count": null,
   "metadata": {},
   "outputs": [],
   "source": [
    "sns.set_style('darkgrid')"
   ]
  },
  {
   "cell_type": "code",
   "execution_count": null,
   "metadata": {},
   "outputs": [],
   "source": [
    "# 한글 깨짐 문제 해결\n",
    "from matplotlib import rc\n",
    "\n",
    "rc('font', family='D2Coding')\n",
    "\n",
    "plt.rcParams['axes.unicode_minus'] = False"
   ]
  },
  {
   "cell_type": "code",
   "execution_count": null,
   "metadata": {},
   "outputs": [],
   "source": [
    "## 흡입력, 사용시간 최대값, 최소값\n",
    "suctionMax = chartData['흡입력'].max() # 420\n",
    "useTimeMax = chartData['사용시간'].max() # 180\n",
    "suctionMean2 = chartData['흡입력'].mean() # 229 \n",
    "useTimeMean2 = chartData['사용시간'].mean() # 51.9"
   ]
  },
  {
   "cell_type": "code",
   "execution_count": null,
   "metadata": {},
   "outputs": [],
   "source": [
    "suctionMean2"
   ]
  },
  {
   "cell_type": "code",
   "execution_count": null,
   "metadata": {},
   "outputs": [],
   "source": [
    "import mplcursors\n",
    "fig = plt.figure(figsize=(18, 8))\n",
    "\n",
    "sns.scatterplot(data=chartData, x='흡입력', y='사용시간', size='가격', sizes=(10, 400), hue=chartData['회사명'], legend=False)\n",
    "plt.plot([100, suctionMax], [useTimeMean2, useTimeMean2], 'r--', lw=1) # 사용시간 평균치 줄표시\n",
    "plt.plot([suctionMean2, suctionMean2], [20, useTimeMax], 'b--', lw=1) # 흡입력 평균치 줄표시\n",
    "\n",
    "mplcursors.Cursor(hover=True,artists='me')\n",
    "plt.show()"
   ]
  },
  {
   "cell_type": "code",
   "execution_count": null,
   "metadata": {},
   "outputs": [],
   "source": [
    "## 인기제품 데이터 시각화\n",
    "chartDataTop = chartData[:20]"
   ]
  },
  {
   "cell_type": "code",
   "execution_count": null,
   "metadata": {},
   "outputs": [],
   "source": [
    "import random\n",
    "\n",
    "# 인기제품 시각화\n",
    "fig = plt.figure(figsize=(20, 10))\n",
    "plt.title('무선청소기 Top20')\n",
    "sns.scatterplot(data=chartDataTop, x='흡입력', y='사용시간', size='가격', sizes=(20, 1000),\n",
    "                hue=chartDataTop['회사명'])\n",
    "\n",
    "for index, row in chartDataTop.iterrows():\n",
    "    x = row['흡입력'] + random.randrange(-10, 10)\n",
    "    y = row['사용시간'] + random.randrange(-5, 5)\n",
    "    s = row['제품명']\n",
    "    plt.text(x, y, s, size=13)\n",
    "\n",
    "plt.show()"
   ]
  },
  {
   "cell_type": "markdown",
   "metadata": {},
   "source": [
    "##### 결론\n",
    "- 데이터분석을 위한 전처리른 쉽지 않음\n",
    "- 결과들이 예상이나, 실제와 다를 수 있음"
   ]
  },
  {
   "cell_type": "code",
   "outputs": [],
   "source": [],
   "metadata": {
    "collapsed": false
   }
  }
 ],
 "metadata": {
  "kernelspec": {
   "display_name": "Python 3",
   "language": "python",
   "name": "python3"
  },
  "language_info": {
   "codemirror_mode": {
    "name": "ipython",
    "version": 3
   },
   "file_extension": ".py",
   "mimetype": "text/x-python",
   "name": "python",
   "nbconvert_exporter": "python",
   "pygments_lexer": "ipython3",
   "version": "3.12.2"
  }
 },
 "nbformat": 4,
 "nbformat_minor": 2
}
