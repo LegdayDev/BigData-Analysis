{
 "cells": [
  {
   "cell_type": "markdown",
   "source": [
    "## 머신러닝 실습\n",
    "### 텍스트 마이닝\n",
    "> 1. 테스트 마이닝 개념\n",
    "> 2. 데이터 수집"
   ],
   "metadata": {
    "collapsed": false
   },
   "id": "67bb85edca068136"
  },
  {
   "cell_type": "markdown",
   "source": [
    "### 텍스트 마이닝 개념\n",
    "- 비정형 텍스트데이터에서 패턴을 찾음\n",
    "- ***의미가 있는 정보들을 추출하고 분석하는 기법***\n",
    "- 데이터 마이닝, 자연어 처리, 정보 검색 등의 분야가 결합된 분석기법 이용\n",
    "- 프로세스 : 텍스트 전처리 -> 특성 벡터화 -> 머신러닝 모델 구축,학습,평가\n",
    "- 텍스트 전처리 : 토큰화, 불용어 제거, 표제어 추출, 형태소 분석, ....\n",
    "- 특성 벡터화/추출\n",
    "    - 컴퓨터는 글을 읽을 수 없기 때문에 단어기반으로 특성을 추출한다. 추출한 특성을 숫자형 벡터값으로 표현\n",
    "    - `Bow` , `Word2ve` 라이브러리(모듈) 존재 \n",
    "- LDA\n",
    "    - 문서에 잠재되어있는 토픽을 추론하는 확률 모델 알고리즘이다.\n",
    "    - `pyLDAvis` 시각화 라이브러리 사용 "
   ],
   "metadata": {
    "collapsed": false
   },
   "id": "1abba1ca2636cde1"
  },
  {
   "cell_type": "markdown",
   "source": [
    "#### 데이터 수집\n",
    "> - https://github.com/e9t/nsmc\n",
    "> - ratings.txt , ratings_test.txt, ratings_train.txt 다운\n",
    "- id(리뷰번호), documnet(리뷰), label(감성분류클래스 : 0 부정, 1 긍정)"
   ],
   "metadata": {
    "collapsed": false
   },
   "id": "46d69f81ab1caf3b"
  },
  {
   "cell_type": "code",
   "outputs": [],
   "source": [
    "# 필요 라이브러리 사용등록\n",
    "import pandas as pd\n",
    "import re"
   ],
   "metadata": {
    "collapsed": false,
    "ExecuteTime": {
     "end_time": "2024-03-25T08:07:38.354525Z",
     "start_time": "2024-03-25T08:07:38.352906Z"
    }
   },
   "id": "1d3bed98b31a8a92",
   "execution_count": 1
  },
  {
   "cell_type": "code",
   "outputs": [
    {
     "data": {
      "text/plain": "'2.2.1'"
     },
     "execution_count": 2,
     "metadata": {},
     "output_type": "execute_result"
    }
   ],
   "source": [
    "pd.__version__"
   ],
   "metadata": {
    "collapsed": false,
    "ExecuteTime": {
     "end_time": "2024-03-25T08:07:38.358245Z",
     "start_time": "2024-03-25T08:07:38.355326Z"
    }
   },
   "id": "295ccec5a145c806",
   "execution_count": 2
  },
  {
   "cell_type": "code",
   "outputs": [
    {
     "name": "stdout",
     "output_type": "stream",
     "text": [
      "\n",
      "INSTALLED VERSIONS\n",
      "------------------\n",
      "commit                : bdc79c146c2e32f2cab629be240f01658cfb6cc2\n",
      "python                : 3.12.2.final.0\n",
      "python-bits           : 64\n",
      "OS                    : Darwin\n",
      "OS-release            : 23.3.0\n",
      "Version               : Darwin Kernel Version 23.3.0: Wed Dec 20 21:30:44 PST 2023; root:xnu-10002.81.5~7/RELEASE_ARM64_T6000\n",
      "machine               : arm64\n",
      "processor             : arm\n",
      "byteorder             : little\n",
      "LC_ALL                : en_US.UTF-8\n",
      "LANG                  : en_US.UTF-8\n",
      "LOCALE                : en_US.UTF-8\n",
      "\n",
      "pandas                : 2.2.1\n",
      "numpy                 : 1.26.4\n",
      "pytz                  : 2024.1\n",
      "dateutil              : 2.9.0.post0\n",
      "setuptools            : None\n",
      "pip                   : 24.0\n",
      "Cython                : None\n",
      "pytest                : None\n",
      "hypothesis            : None\n",
      "sphinx                : None\n",
      "blosc                 : None\n",
      "feather               : None\n",
      "xlsxwriter            : None\n",
      "lxml.etree            : 5.1.0\n",
      "html5lib              : None\n",
      "pymysql               : None\n",
      "psycopg2              : None\n",
      "jinja2                : 3.1.3\n",
      "IPython               : 8.22.2\n",
      "pandas_datareader     : None\n",
      "adbc-driver-postgresql: None\n",
      "adbc-driver-sqlite    : None\n",
      "bs4                   : 4.12.3\n",
      "bottleneck            : None\n",
      "dataframe-api-compat  : None\n",
      "fastparquet           : None\n",
      "fsspec                : None\n",
      "gcsfs                 : None\n",
      "matplotlib            : 3.8.3\n",
      "numba                 : None\n",
      "numexpr               : None\n",
      "odfpy                 : None\n",
      "openpyxl              : 3.1.2\n",
      "pandas_gbq            : None\n",
      "pyarrow               : None\n",
      "pyreadstat            : None\n",
      "python-calamine       : None\n",
      "pyxlsb                : None\n",
      "s3fs                  : None\n",
      "scipy                 : 1.12.0\n",
      "sqlalchemy            : None\n",
      "tables                : None\n",
      "tabulate              : None\n",
      "xarray                : None\n",
      "xlrd                  : None\n",
      "zstandard             : None\n",
      "tzdata                : 2024.1\n",
      "qtpy                  : 2.4.1\n",
      "pyqt5                 : None\n"
     ]
    }
   ],
   "source": [
    "# 상세한 버전 정보\n",
    "pd.show_versions()"
   ],
   "metadata": {
    "collapsed": false,
    "ExecuteTime": {
     "end_time": "2024-03-25T08:07:38.535657Z",
     "start_time": "2024-03-25T08:07:38.359825Z"
    }
   },
   "id": "ed6a1a51352fe116",
   "execution_count": 3
  },
  {
   "cell_type": "markdown",
   "source": [
    "#### 데이터 로드"
   ],
   "metadata": {
    "collapsed": false
   },
   "id": "9751ebaf6149aa8a"
  },
  {
   "cell_type": "code",
   "outputs": [],
   "source": [
    "# 훈련용 데이터 가져오기\n",
    "dfNsmcTrain = pd.read_csv('./data/ratings_train.txt', engine='python', sep='\\t', encoding='utf-8')"
   ],
   "metadata": {
    "collapsed": false,
    "ExecuteTime": {
     "end_time": "2024-03-25T08:07:38.852074Z",
     "start_time": "2024-03-25T08:07:38.536299Z"
    }
   },
   "id": "8714dc80fc9a0b2b",
   "execution_count": 4
  },
  {
   "cell_type": "code",
   "outputs": [
    {
     "data": {
      "text/plain": "             id                         document  label\n149995  6222902              인간이 문제지.. 소는 뭔죄인가..      0\n149996  8549745                    평점이 너무 낮아서...      1\n149997  9311800  이게 뭐요? 한국인은 거들먹거리고 필리핀 혼혈은 착하다?      0\n149998  2376369      청춘 영화의 최고봉.방황과 우울했던 날들의 자화상      1\n149999  9619869         한국 영화 최초로 수간하는 내용이 담긴 영화      0",
      "text/html": "<div>\n<style scoped>\n    .dataframe tbody tr th:only-of-type {\n        vertical-align: middle;\n    }\n\n    .dataframe tbody tr th {\n        vertical-align: top;\n    }\n\n    .dataframe thead th {\n        text-align: right;\n    }\n</style>\n<table border=\"1\" class=\"dataframe\">\n  <thead>\n    <tr style=\"text-align: right;\">\n      <th></th>\n      <th>id</th>\n      <th>document</th>\n      <th>label</th>\n    </tr>\n  </thead>\n  <tbody>\n    <tr>\n      <th>149995</th>\n      <td>6222902</td>\n      <td>인간이 문제지.. 소는 뭔죄인가..</td>\n      <td>0</td>\n    </tr>\n    <tr>\n      <th>149996</th>\n      <td>8549745</td>\n      <td>평점이 너무 낮아서...</td>\n      <td>1</td>\n    </tr>\n    <tr>\n      <th>149997</th>\n      <td>9311800</td>\n      <td>이게 뭐요? 한국인은 거들먹거리고 필리핀 혼혈은 착하다?</td>\n      <td>0</td>\n    </tr>\n    <tr>\n      <th>149998</th>\n      <td>2376369</td>\n      <td>청춘 영화의 최고봉.방황과 우울했던 날들의 자화상</td>\n      <td>1</td>\n    </tr>\n    <tr>\n      <th>149999</th>\n      <td>9619869</td>\n      <td>한국 영화 최초로 수간하는 내용이 담긴 영화</td>\n      <td>0</td>\n    </tr>\n  </tbody>\n</table>\n</div>"
     },
     "execution_count": 5,
     "metadata": {},
     "output_type": "execute_result"
    }
   ],
   "source": [
    "dfNsmcTrain.tail()"
   ],
   "metadata": {
    "collapsed": false,
    "ExecuteTime": {
     "end_time": "2024-03-25T08:07:38.858070Z",
     "start_time": "2024-03-25T08:07:38.852797Z"
    }
   },
   "id": "158972a8d5c5fee9",
   "execution_count": 5
  },
  {
   "cell_type": "code",
   "outputs": [
    {
     "name": "stdout",
     "output_type": "stream",
     "text": [
      "<class 'pandas.core.frame.DataFrame'>\n",
      "RangeIndex: 150000 entries, 0 to 149999\n",
      "Data columns (total 3 columns):\n",
      " #   Column    Non-Null Count   Dtype \n",
      "---  ------    --------------   ----- \n",
      " 0   id        150000 non-null  int64 \n",
      " 1   document  149995 non-null  object\n",
      " 2   label     150000 non-null  int64 \n",
      "dtypes: int64(2), object(1)\n",
      "memory usage: 3.4+ MB\n"
     ]
    }
   ],
   "source": [
    "# 결측치 발견\n",
    "dfNsmcTrain.info()"
   ],
   "metadata": {
    "collapsed": false,
    "ExecuteTime": {
     "end_time": "2024-03-25T08:07:38.866717Z",
     "start_time": "2024-03-25T08:07:38.858781Z"
    }
   },
   "id": "66e6e70a80b5f0c3",
   "execution_count": 6
  },
  {
   "cell_type": "code",
   "outputs": [
    {
     "data": {
      "text/plain": "             id document  label\n25857   2172111      NaN      1\n55737   6369843      NaN      1\n110014  1034280      NaN      0\n126782  5942978      NaN      0\n140721  1034283      NaN      0",
      "text/html": "<div>\n<style scoped>\n    .dataframe tbody tr th:only-of-type {\n        vertical-align: middle;\n    }\n\n    .dataframe tbody tr th {\n        vertical-align: top;\n    }\n\n    .dataframe thead th {\n        text-align: right;\n    }\n</style>\n<table border=\"1\" class=\"dataframe\">\n  <thead>\n    <tr style=\"text-align: right;\">\n      <th></th>\n      <th>id</th>\n      <th>document</th>\n      <th>label</th>\n    </tr>\n  </thead>\n  <tbody>\n    <tr>\n      <th>25857</th>\n      <td>2172111</td>\n      <td>NaN</td>\n      <td>1</td>\n    </tr>\n    <tr>\n      <th>55737</th>\n      <td>6369843</td>\n      <td>NaN</td>\n      <td>1</td>\n    </tr>\n    <tr>\n      <th>110014</th>\n      <td>1034280</td>\n      <td>NaN</td>\n      <td>0</td>\n    </tr>\n    <tr>\n      <th>126782</th>\n      <td>5942978</td>\n      <td>NaN</td>\n      <td>0</td>\n    </tr>\n    <tr>\n      <th>140721</th>\n      <td>1034283</td>\n      <td>NaN</td>\n      <td>0</td>\n    </tr>\n  </tbody>\n</table>\n</div>"
     },
     "execution_count": 7,
     "metadata": {},
     "output_type": "execute_result"
    }
   ],
   "source": [
    "# 결측치 확인\n",
    "dfNsmcTrain[dfNsmcTrain['document'].isnull()]"
   ],
   "metadata": {
    "collapsed": false,
    "ExecuteTime": {
     "end_time": "2024-03-25T08:07:38.874072Z",
     "start_time": "2024-03-25T08:07:38.867314Z"
    }
   },
   "id": "f880264a566be35a",
   "execution_count": 7
  },
  {
   "cell_type": "code",
   "outputs": [],
   "source": [
    "# 결측치 컬럼을 제외한 컬럼들을 다시 저장\n",
    "dfNsmcTrain = dfNsmcTrain[dfNsmcTrain['document'].notnull()]"
   ],
   "metadata": {
    "collapsed": false,
    "ExecuteTime": {
     "end_time": "2024-03-25T08:07:38.882182Z",
     "start_time": "2024-03-25T08:07:38.874710Z"
    }
   },
   "id": "203b06dbd3a367d2",
   "execution_count": 8
  },
  {
   "cell_type": "code",
   "outputs": [
    {
     "name": "stdout",
     "output_type": "stream",
     "text": [
      "<class 'pandas.core.frame.DataFrame'>\n",
      "Index: 149995 entries, 0 to 149999\n",
      "Data columns (total 3 columns):\n",
      " #   Column    Non-Null Count   Dtype \n",
      "---  ------    --------------   ----- \n",
      " 0   id        149995 non-null  int64 \n",
      " 1   document  149995 non-null  object\n",
      " 2   label     149995 non-null  int64 \n",
      "dtypes: int64(2), object(1)\n",
      "memory usage: 4.6+ MB\n"
     ]
    }
   ],
   "source": [
    "dfNsmcTrain.info()"
   ],
   "metadata": {
    "collapsed": false,
    "ExecuteTime": {
     "end_time": "2024-03-25T08:07:38.891021Z",
     "start_time": "2024-03-25T08:07:38.884057Z"
    }
   },
   "id": "7b459175eb0374e8",
   "execution_count": 9
  },
  {
   "cell_type": "code",
   "outputs": [
    {
     "data": {
      "text/plain": "label\n0    75170\n1    74825\nName: count, dtype: int64"
     },
     "execution_count": 10,
     "metadata": {},
     "output_type": "execute_result"
    }
   ],
   "source": [
    "dfNsmcTrain['label'].value_counts()"
   ],
   "metadata": {
    "collapsed": false,
    "ExecuteTime": {
     "end_time": "2024-03-25T08:07:38.894778Z",
     "start_time": "2024-03-25T08:07:38.891668Z"
    }
   },
   "id": "55ae02aa1122c3df",
   "execution_count": 10
  },
  {
   "cell_type": "code",
   "outputs": [
    {
     "data": {
      "text/plain": "          id                                           document  label\n10   9008700                                   걍인피니트가짱이다.진짜짱이다♥      1\n11  10217543        볼때마다 눈물나서 죽겠다90년대의 향수자극!!허진호는 감성절제멜로의 달인이다~      1\n12   5957425                울면서 손들고 횡단보도 건널때 뛰쳐나올뻔 이범수 연기 드럽게못해      0\n13   8628627  담백하고 깔끔해서 좋다. 신문기사로만 보다 보면 자꾸 잊어버린다. 그들도 사람이었다...      1\n14   9864035  취향은 존중한다지만 진짜 내생에 극장에서 본 영화중 가장 노잼 노감동임 스토리도 어...      0\n15   6852435                                   ㄱ냥 매번 긴장되고 재밋음ㅠㅠ      1\n16   9143163  참 사람들 웃긴게 바스코가 이기면 락스코라고 까고바비가 이기면 아이돌이라고 깐다.그...      1\n17   4891476                 굿바이 레닌 표절인것은 이해하는데 왜 뒤로 갈수록 재미없어지냐      0\n18   7465483      이건 정말 깨알 캐스팅과 질퍽하지않은 산뜻한 내용구성이 잘 버무러진 깨알일드!!♥      1\n19   3989148                 약탈자를 위한 변명, 이라. 저놈들은 착한놈들 절대 아닌걸요.      1\n20   4581211          나름 심오한 뜻도 있는 듯. 그냥 학생이 선생과 놀아나는 영화는 절대 아님      1\n21   2718894                                  보면서 웃지 않는 건 불가능하다      1\n22   9705777  재미없다 지루하고. 같은 음식 영화인데도 바베트의 만찬하고 넘 차이남....바베트의...      0\n23    471131                       절대 평범한 영화가 아닌 수작이라는걸 말씀드립니다.      1\n24   8480268                                  주제는 좋은데 중반부터 지루하다      0\n25   4254115       다 짤랐을꺼야. 그래서 납득할 수 없었던거야.. 그럴꺼야.. 꼭 그랬던걸꺼야..      0\n26   7295746                                 kl2g 고추를 털어버려야 할텐데      1\n27   5457633                                           카밀라벨 발연기      0\n28   6091784                                               재밋는뎅      1\n29   8322926             센스있는 연출력..탁월한 캐스팅..90년대의 향수.. 그래서 9점..      1",
      "text/html": "<div>\n<style scoped>\n    .dataframe tbody tr th:only-of-type {\n        vertical-align: middle;\n    }\n\n    .dataframe tbody tr th {\n        vertical-align: top;\n    }\n\n    .dataframe thead th {\n        text-align: right;\n    }\n</style>\n<table border=\"1\" class=\"dataframe\">\n  <thead>\n    <tr style=\"text-align: right;\">\n      <th></th>\n      <th>id</th>\n      <th>document</th>\n      <th>label</th>\n    </tr>\n  </thead>\n  <tbody>\n    <tr>\n      <th>10</th>\n      <td>9008700</td>\n      <td>걍인피니트가짱이다.진짜짱이다♥</td>\n      <td>1</td>\n    </tr>\n    <tr>\n      <th>11</th>\n      <td>10217543</td>\n      <td>볼때마다 눈물나서 죽겠다90년대의 향수자극!!허진호는 감성절제멜로의 달인이다~</td>\n      <td>1</td>\n    </tr>\n    <tr>\n      <th>12</th>\n      <td>5957425</td>\n      <td>울면서 손들고 횡단보도 건널때 뛰쳐나올뻔 이범수 연기 드럽게못해</td>\n      <td>0</td>\n    </tr>\n    <tr>\n      <th>13</th>\n      <td>8628627</td>\n      <td>담백하고 깔끔해서 좋다. 신문기사로만 보다 보면 자꾸 잊어버린다. 그들도 사람이었다...</td>\n      <td>1</td>\n    </tr>\n    <tr>\n      <th>14</th>\n      <td>9864035</td>\n      <td>취향은 존중한다지만 진짜 내생에 극장에서 본 영화중 가장 노잼 노감동임 스토리도 어...</td>\n      <td>0</td>\n    </tr>\n    <tr>\n      <th>15</th>\n      <td>6852435</td>\n      <td>ㄱ냥 매번 긴장되고 재밋음ㅠㅠ</td>\n      <td>1</td>\n    </tr>\n    <tr>\n      <th>16</th>\n      <td>9143163</td>\n      <td>참 사람들 웃긴게 바스코가 이기면 락스코라고 까고바비가 이기면 아이돌이라고 깐다.그...</td>\n      <td>1</td>\n    </tr>\n    <tr>\n      <th>17</th>\n      <td>4891476</td>\n      <td>굿바이 레닌 표절인것은 이해하는데 왜 뒤로 갈수록 재미없어지냐</td>\n      <td>0</td>\n    </tr>\n    <tr>\n      <th>18</th>\n      <td>7465483</td>\n      <td>이건 정말 깨알 캐스팅과 질퍽하지않은 산뜻한 내용구성이 잘 버무러진 깨알일드!!♥</td>\n      <td>1</td>\n    </tr>\n    <tr>\n      <th>19</th>\n      <td>3989148</td>\n      <td>약탈자를 위한 변명, 이라. 저놈들은 착한놈들 절대 아닌걸요.</td>\n      <td>1</td>\n    </tr>\n    <tr>\n      <th>20</th>\n      <td>4581211</td>\n      <td>나름 심오한 뜻도 있는 듯. 그냥 학생이 선생과 놀아나는 영화는 절대 아님</td>\n      <td>1</td>\n    </tr>\n    <tr>\n      <th>21</th>\n      <td>2718894</td>\n      <td>보면서 웃지 않는 건 불가능하다</td>\n      <td>1</td>\n    </tr>\n    <tr>\n      <th>22</th>\n      <td>9705777</td>\n      <td>재미없다 지루하고. 같은 음식 영화인데도 바베트의 만찬하고 넘 차이남....바베트의...</td>\n      <td>0</td>\n    </tr>\n    <tr>\n      <th>23</th>\n      <td>471131</td>\n      <td>절대 평범한 영화가 아닌 수작이라는걸 말씀드립니다.</td>\n      <td>1</td>\n    </tr>\n    <tr>\n      <th>24</th>\n      <td>8480268</td>\n      <td>주제는 좋은데 중반부터 지루하다</td>\n      <td>0</td>\n    </tr>\n    <tr>\n      <th>25</th>\n      <td>4254115</td>\n      <td>다 짤랐을꺼야. 그래서 납득할 수 없었던거야.. 그럴꺼야.. 꼭 그랬던걸꺼야..</td>\n      <td>0</td>\n    </tr>\n    <tr>\n      <th>26</th>\n      <td>7295746</td>\n      <td>kl2g 고추를 털어버려야 할텐데</td>\n      <td>1</td>\n    </tr>\n    <tr>\n      <th>27</th>\n      <td>5457633</td>\n      <td>카밀라벨 발연기</td>\n      <td>0</td>\n    </tr>\n    <tr>\n      <th>28</th>\n      <td>6091784</td>\n      <td>재밋는뎅</td>\n      <td>1</td>\n    </tr>\n    <tr>\n      <th>29</th>\n      <td>8322926</td>\n      <td>센스있는 연출력..탁월한 캐스팅..90년대의 향수.. 그래서 9점..</td>\n      <td>1</td>\n    </tr>\n  </tbody>\n</table>\n</div>"
     },
     "execution_count": 11,
     "metadata": {},
     "output_type": "execute_result"
    }
   ],
   "source": [
    "dfNsmcTrain[10:30]"
   ],
   "metadata": {
    "collapsed": false,
    "ExecuteTime": {
     "end_time": "2024-03-25T08:07:38.898833Z",
     "start_time": "2024-03-25T08:07:38.895513Z"
    }
   },
   "id": "d9cfef0d6778bae8",
   "execution_count": 11
  },
  {
   "cell_type": "markdown",
   "source": [
    "#### 데이터 전처리\n",
    "- Regular Expression(정규식)으로 한글 이외의 문자는 다 제거"
   ],
   "metadata": {
    "collapsed": false
   },
   "id": "88d227aa4347512c"
  },
  {
   "cell_type": "code",
   "outputs": [],
   "source": [
    "dfNsmcTrain['document'] = dfNsmcTrain['document'].apply(lambda x: re.sub(r'[^ ㄱ-ㅎ|가-힣]+', ' ', x))\n",
    "# dfNsmcTrain['document'] = dfNsmcTrain['document'].apply(lambda x: re.sub(r'[^ 가-힣|ㄱ-]+', '', x))"
   ],
   "metadata": {
    "collapsed": false,
    "ExecuteTime": {
     "end_time": "2024-03-25T08:07:39.037859Z",
     "start_time": "2024-03-25T08:07:38.899506Z"
    }
   },
   "id": "d57a7a2f27a1a7da",
   "execution_count": 12
  },
  {
   "cell_type": "code",
   "outputs": [
    {
     "data": {
      "text/plain": "         id                                           document  label\n0   9976970                                 아 더빙  진짜 짜증나네요 목소리      0\n1   3819312                       흠 포스터보고 초딩영화줄 오버연기조차 가볍지 않구나      1\n2  10265843                                  너무재밓었다그래서보는것을추천한다      0\n3   9045019                        교도소 이야기구먼  솔직히 재미는 없다 평점 조정      0\n4   6483659  사이몬페그의 익살스런 연기가 돋보였던 영화 스파이더맨에서 늙어보이기만 했던 커스틴 ...      1",
      "text/html": "<div>\n<style scoped>\n    .dataframe tbody tr th:only-of-type {\n        vertical-align: middle;\n    }\n\n    .dataframe tbody tr th {\n        vertical-align: top;\n    }\n\n    .dataframe thead th {\n        text-align: right;\n    }\n</style>\n<table border=\"1\" class=\"dataframe\">\n  <thead>\n    <tr style=\"text-align: right;\">\n      <th></th>\n      <th>id</th>\n      <th>document</th>\n      <th>label</th>\n    </tr>\n  </thead>\n  <tbody>\n    <tr>\n      <th>0</th>\n      <td>9976970</td>\n      <td>아 더빙  진짜 짜증나네요 목소리</td>\n      <td>0</td>\n    </tr>\n    <tr>\n      <th>1</th>\n      <td>3819312</td>\n      <td>흠 포스터보고 초딩영화줄 오버연기조차 가볍지 않구나</td>\n      <td>1</td>\n    </tr>\n    <tr>\n      <th>2</th>\n      <td>10265843</td>\n      <td>너무재밓었다그래서보는것을추천한다</td>\n      <td>0</td>\n    </tr>\n    <tr>\n      <th>3</th>\n      <td>9045019</td>\n      <td>교도소 이야기구먼  솔직히 재미는 없다 평점 조정</td>\n      <td>0</td>\n    </tr>\n    <tr>\n      <th>4</th>\n      <td>6483659</td>\n      <td>사이몬페그의 익살스런 연기가 돋보였던 영화 스파이더맨에서 늙어보이기만 했던 커스틴 ...</td>\n      <td>1</td>\n    </tr>\n  </tbody>\n</table>\n</div>"
     },
     "execution_count": 13,
     "metadata": {},
     "output_type": "execute_result"
    }
   ],
   "source": [
    "dfNsmcTrain.head()"
   ],
   "metadata": {
    "collapsed": false,
    "ExecuteTime": {
     "end_time": "2024-03-25T08:07:39.042888Z",
     "start_time": "2024-03-25T08:07:39.038752Z"
    }
   },
   "id": "2e73f0d414c66753",
   "execution_count": 13
  },
  {
   "cell_type": "code",
   "outputs": [
    {
     "data": {
      "text/plain": "        id                                           document  label\n0  6270596                                                굳 ㅋ      1\n1  9274899                               GDNTOPCLASSINTHECLUB      0\n2  8544678             뭐야 이 평점들은.... 나쁘진 않지만 10점 짜리는 더더욱 아니잖아      0\n3  6825595                   지루하지는 않은데 완전 막장임... 돈주고 보기에는....      0\n4  6723715  3D만 아니었어도 별 다섯 개 줬을텐데.. 왜 3D로 나와서 제 심기를 불편하게 하죠??      0\n5  7898805                                 음악이 주가 된, 최고의 음악영화      1\n6  6315043                                            진정한 쓰레기      0\n7  6097171           마치 미국애니에서 튀어나온듯한 창의력없는 로봇디자인부터가,고개를 젖게한다      0\n8  8932678  갈수록 개판되가는 중국영화 유치하고 내용없음 폼잡다 끝남 말도안되는 무기에 유치한c...      0\n9  6242223     이별의 아픔뒤에 찾아오는 새로운 인연의 기쁨 But, 모든 사람이 그렇지는 않네..      1",
      "text/html": "<div>\n<style scoped>\n    .dataframe tbody tr th:only-of-type {\n        vertical-align: middle;\n    }\n\n    .dataframe tbody tr th {\n        vertical-align: top;\n    }\n\n    .dataframe thead th {\n        text-align: right;\n    }\n</style>\n<table border=\"1\" class=\"dataframe\">\n  <thead>\n    <tr style=\"text-align: right;\">\n      <th></th>\n      <th>id</th>\n      <th>document</th>\n      <th>label</th>\n    </tr>\n  </thead>\n  <tbody>\n    <tr>\n      <th>0</th>\n      <td>6270596</td>\n      <td>굳 ㅋ</td>\n      <td>1</td>\n    </tr>\n    <tr>\n      <th>1</th>\n      <td>9274899</td>\n      <td>GDNTOPCLASSINTHECLUB</td>\n      <td>0</td>\n    </tr>\n    <tr>\n      <th>2</th>\n      <td>8544678</td>\n      <td>뭐야 이 평점들은.... 나쁘진 않지만 10점 짜리는 더더욱 아니잖아</td>\n      <td>0</td>\n    </tr>\n    <tr>\n      <th>3</th>\n      <td>6825595</td>\n      <td>지루하지는 않은데 완전 막장임... 돈주고 보기에는....</td>\n      <td>0</td>\n    </tr>\n    <tr>\n      <th>4</th>\n      <td>6723715</td>\n      <td>3D만 아니었어도 별 다섯 개 줬을텐데.. 왜 3D로 나와서 제 심기를 불편하게 하죠??</td>\n      <td>0</td>\n    </tr>\n    <tr>\n      <th>5</th>\n      <td>7898805</td>\n      <td>음악이 주가 된, 최고의 음악영화</td>\n      <td>1</td>\n    </tr>\n    <tr>\n      <th>6</th>\n      <td>6315043</td>\n      <td>진정한 쓰레기</td>\n      <td>0</td>\n    </tr>\n    <tr>\n      <th>7</th>\n      <td>6097171</td>\n      <td>마치 미국애니에서 튀어나온듯한 창의력없는 로봇디자인부터가,고개를 젖게한다</td>\n      <td>0</td>\n    </tr>\n    <tr>\n      <th>8</th>\n      <td>8932678</td>\n      <td>갈수록 개판되가는 중국영화 유치하고 내용없음 폼잡다 끝남 말도안되는 무기에 유치한c...</td>\n      <td>0</td>\n    </tr>\n    <tr>\n      <th>9</th>\n      <td>6242223</td>\n      <td>이별의 아픔뒤에 찾아오는 새로운 인연의 기쁨 But, 모든 사람이 그렇지는 않네..</td>\n      <td>1</td>\n    </tr>\n  </tbody>\n</table>\n</div>"
     },
     "execution_count": 14,
     "metadata": {},
     "output_type": "execute_result"
    }
   ],
   "source": [
    "# 평가용 데이터 준비\n",
    "dfNsmcTest = pd.read_csv('./data/ratings_test.txt', engine='python', sep='\\t', encoding='utf-8')\n",
    "dfNsmcTest.head(10)"
   ],
   "metadata": {
    "collapsed": false,
    "ExecuteTime": {
     "end_time": "2024-03-25T08:07:39.128243Z",
     "start_time": "2024-03-25T08:07:39.043745Z"
    }
   },
   "id": "494373c65fc50b3e",
   "execution_count": 14
  },
  {
   "cell_type": "code",
   "outputs": [
    {
     "name": "stdout",
     "output_type": "stream",
     "text": [
      "<class 'pandas.core.frame.DataFrame'>\n",
      "RangeIndex: 50000 entries, 0 to 49999\n",
      "Data columns (total 3 columns):\n",
      " #   Column    Non-Null Count  Dtype \n",
      "---  ------    --------------  ----- \n",
      " 0   id        50000 non-null  int64 \n",
      " 1   document  49997 non-null  object\n",
      " 2   label     50000 non-null  int64 \n",
      "dtypes: int64(2), object(1)\n",
      "memory usage: 1.1+ MB\n"
     ]
    }
   ],
   "source": [
    "# 결측치 발견\n",
    "dfNsmcTest.info()"
   ],
   "metadata": {
    "collapsed": false,
    "ExecuteTime": {
     "end_time": "2024-03-25T08:07:39.133591Z",
     "start_time": "2024-03-25T08:07:39.128897Z"
    }
   },
   "id": "2bdacf6da2945dce",
   "execution_count": 15
  },
  {
   "cell_type": "code",
   "outputs": [],
   "source": [
    "# 결측치 제거\n",
    "dfNsmcTest = dfNsmcTest[dfNsmcTest['document'].notnull()]"
   ],
   "metadata": {
    "collapsed": false,
    "ExecuteTime": {
     "end_time": "2024-03-25T08:07:39.138373Z",
     "start_time": "2024-03-25T08:07:39.134342Z"
    }
   },
   "id": "7da26f511b392167",
   "execution_count": 16
  },
  {
   "cell_type": "code",
   "outputs": [
    {
     "name": "stdout",
     "output_type": "stream",
     "text": [
      "<class 'pandas.core.frame.DataFrame'>\n",
      "Index: 49997 entries, 0 to 49999\n",
      "Data columns (total 3 columns):\n",
      " #   Column    Non-Null Count  Dtype \n",
      "---  ------    --------------  ----- \n",
      " 0   id        49997 non-null  int64 \n",
      " 1   document  49997 non-null  object\n",
      " 2   label     49997 non-null  int64 \n",
      "dtypes: int64(2), object(1)\n",
      "memory usage: 1.5+ MB\n"
     ]
    }
   ],
   "source": [
    "dfNsmcTest.info()"
   ],
   "metadata": {
    "collapsed": false,
    "ExecuteTime": {
     "end_time": "2024-03-25T08:07:39.143729Z",
     "start_time": "2024-03-25T08:07:39.139029Z"
    }
   },
   "id": "7f7c401e2b90d380",
   "execution_count": 17
  },
  {
   "cell_type": "code",
   "outputs": [],
   "source": [
    "dfNsmcTest['document'] = dfNsmcTest['document'].apply(lambda x: re.sub(r'[^ ㄱ-ㅎ|가-힣]+', ' ', x))"
   ],
   "metadata": {
    "collapsed": false,
    "ExecuteTime": {
     "end_time": "2024-03-25T08:07:39.192737Z",
     "start_time": "2024-03-25T08:07:39.144612Z"
    }
   },
   "id": "b0cde393a048e598",
   "execution_count": 18
  },
  {
   "cell_type": "code",
   "outputs": [
    {
     "data": {
      "text/plain": "        id                                           document  label\n0  6270596                                                굳 ㅋ      1\n1  9274899                                                         0\n2  8544678                 뭐야 이 평점들은  나쁘진 않지만  점 짜리는 더더욱 아니잖아      0\n3  6825595                        지루하지는 않은데 완전 막장임  돈주고 보기에는       0\n4  6723715       만 아니었어도 별 다섯 개 줬을텐데  왜  로 나와서 제 심기를 불편하게 하죠       0\n5  7898805                                 음악이 주가 된  최고의 음악영화      1\n6  6315043                                            진정한 쓰레기      0\n7  6097171           마치 미국애니에서 튀어나온듯한 창의력없는 로봇디자인부터가 고개를 젖게한다      0\n8  8932678  갈수록 개판되가는 중국영화 유치하고 내용없음 폼잡다 끝남 말도안되는 무기에 유치한 ...      0\n9  6242223         이별의 아픔뒤에 찾아오는 새로운 인연의 기쁨   모든 사람이 그렇지는 않네       1",
      "text/html": "<div>\n<style scoped>\n    .dataframe tbody tr th:only-of-type {\n        vertical-align: middle;\n    }\n\n    .dataframe tbody tr th {\n        vertical-align: top;\n    }\n\n    .dataframe thead th {\n        text-align: right;\n    }\n</style>\n<table border=\"1\" class=\"dataframe\">\n  <thead>\n    <tr style=\"text-align: right;\">\n      <th></th>\n      <th>id</th>\n      <th>document</th>\n      <th>label</th>\n    </tr>\n  </thead>\n  <tbody>\n    <tr>\n      <th>0</th>\n      <td>6270596</td>\n      <td>굳 ㅋ</td>\n      <td>1</td>\n    </tr>\n    <tr>\n      <th>1</th>\n      <td>9274899</td>\n      <td></td>\n      <td>0</td>\n    </tr>\n    <tr>\n      <th>2</th>\n      <td>8544678</td>\n      <td>뭐야 이 평점들은  나쁘진 않지만  점 짜리는 더더욱 아니잖아</td>\n      <td>0</td>\n    </tr>\n    <tr>\n      <th>3</th>\n      <td>6825595</td>\n      <td>지루하지는 않은데 완전 막장임  돈주고 보기에는</td>\n      <td>0</td>\n    </tr>\n    <tr>\n      <th>4</th>\n      <td>6723715</td>\n      <td>만 아니었어도 별 다섯 개 줬을텐데  왜  로 나와서 제 심기를 불편하게 하죠</td>\n      <td>0</td>\n    </tr>\n    <tr>\n      <th>5</th>\n      <td>7898805</td>\n      <td>음악이 주가 된  최고의 음악영화</td>\n      <td>1</td>\n    </tr>\n    <tr>\n      <th>6</th>\n      <td>6315043</td>\n      <td>진정한 쓰레기</td>\n      <td>0</td>\n    </tr>\n    <tr>\n      <th>7</th>\n      <td>6097171</td>\n      <td>마치 미국애니에서 튀어나온듯한 창의력없는 로봇디자인부터가 고개를 젖게한다</td>\n      <td>0</td>\n    </tr>\n    <tr>\n      <th>8</th>\n      <td>8932678</td>\n      <td>갈수록 개판되가는 중국영화 유치하고 내용없음 폼잡다 끝남 말도안되는 무기에 유치한 ...</td>\n      <td>0</td>\n    </tr>\n    <tr>\n      <th>9</th>\n      <td>6242223</td>\n      <td>이별의 아픔뒤에 찾아오는 새로운 인연의 기쁨   모든 사람이 그렇지는 않네</td>\n      <td>1</td>\n    </tr>\n  </tbody>\n</table>\n</div>"
     },
     "execution_count": 19,
     "metadata": {},
     "output_type": "execute_result"
    }
   ],
   "source": [
    "# 공백제거\n",
    "dfNsmcTest.head(10)"
   ],
   "metadata": {
    "collapsed": false,
    "ExecuteTime": {
     "end_time": "2024-03-25T08:07:39.197112Z",
     "start_time": "2024-03-25T08:07:39.193430Z"
    }
   },
   "id": "c825c15418dbb791",
   "execution_count": 19
  },
  {
   "cell_type": "markdown",
   "source": [
    "#### 분석모델 구축\n",
    "- 이전, 특징 벡터화 작업, 단어로 분리(토큰화) 후 TF-IDF 방식으로 벡터화\n",
    "- 한글 형태소 분석은 konlpy 패키의 Okt 클래스 사용\n",
    "#### KoNLpy 라이브러리 설치\n",
    "- JDK 설치\n",
    "- JPype1 : 파이썬에서 JDK를 사용하게 해주는 프로그램\n",
    "- KoNLPy 설치"
   ],
   "metadata": {
    "collapsed": false
   },
   "id": "aa1c602e875b3c03"
  },
  {
   "cell_type": "code",
   "outputs": [
    {
     "name": "stdout",
     "output_type": "stream",
     "text": [
      "Requirement already satisfied: JPype1 in /Library/Frameworks/Python.framework/Versions/3.12/lib/python3.12/site-packages (1.5.0)\r\n",
      "Requirement already satisfied: packaging in /Library/Frameworks/Python.framework/Versions/3.12/lib/python3.12/site-packages (from JPype1) (23.2)\r\n"
     ]
    }
   ],
   "source": [
    "# Jpype1 설치\n",
    "!pip3 install JPype1"
   ],
   "metadata": {
    "collapsed": false,
    "ExecuteTime": {
     "end_time": "2024-03-25T08:07:40.218996Z",
     "start_time": "2024-03-25T08:07:39.197889Z"
    }
   },
   "id": "e74631cb0bbc9809",
   "execution_count": 20
  },
  {
   "cell_type": "code",
   "outputs": [
    {
     "name": "stdout",
     "output_type": "stream",
     "text": [
      "Requirement already satisfied: koNLPy in /Library/Frameworks/Python.framework/Versions/3.12/lib/python3.12/site-packages (0.6.0)\r\n",
      "Requirement already satisfied: JPype1>=0.7.0 in /Library/Frameworks/Python.framework/Versions/3.12/lib/python3.12/site-packages (from koNLPy) (1.5.0)\r\n",
      "Requirement already satisfied: lxml>=4.1.0 in /Library/Frameworks/Python.framework/Versions/3.12/lib/python3.12/site-packages (from koNLPy) (5.1.0)\r\n",
      "Requirement already satisfied: numpy>=1.6 in /Library/Frameworks/Python.framework/Versions/3.12/lib/python3.12/site-packages (from koNLPy) (1.26.4)\r\n",
      "Requirement already satisfied: packaging in /Library/Frameworks/Python.framework/Versions/3.12/lib/python3.12/site-packages (from JPype1>=0.7.0->koNLPy) (23.2)\r\n"
     ]
    }
   ],
   "source": [
    "# koNLPy 설치\n",
    "!pip3 install koNLPy"
   ],
   "metadata": {
    "collapsed": false,
    "ExecuteTime": {
     "end_time": "2024-03-25T08:07:41.137481Z",
     "start_time": "2024-03-25T08:07:40.220243Z"
    }
   },
   "id": "69cd066b22923ca4",
   "execution_count": 21
  },
  {
   "cell_type": "code",
   "outputs": [],
   "source": [
    "import konlpy"
   ],
   "metadata": {
    "collapsed": false,
    "ExecuteTime": {
     "end_time": "2024-03-25T08:07:41.154741Z",
     "start_time": "2024-03-25T08:07:41.138622Z"
    }
   },
   "id": "e4f3a7078896a741",
   "execution_count": 22
  },
  {
   "cell_type": "code",
   "outputs": [
    {
     "data": {
      "text/plain": "'0.6.0'"
     },
     "execution_count": 23,
     "metadata": {},
     "output_type": "execute_result"
    }
   ],
   "source": [
    "konlpy.__version__"
   ],
   "metadata": {
    "collapsed": false,
    "ExecuteTime": {
     "end_time": "2024-03-25T08:07:41.157854Z",
     "start_time": "2024-03-25T08:07:41.155461Z"
    }
   },
   "id": "20187126f1feb1c0",
   "execution_count": 23
  },
  {
   "cell_type": "code",
   "outputs": [],
   "source": [
    "# 특성 벡터화 작업\n",
    "from konlpy.tag import Okt\n",
    "from sklearn.feature_extraction.text import TfidfVectorizer"
   ],
   "metadata": {
    "collapsed": false,
    "ExecuteTime": {
     "end_time": "2024-03-25T08:07:41.219754Z",
     "start_time": "2024-03-25T08:07:41.158590Z"
    }
   },
   "id": "4a82bd0596d074fc",
   "execution_count": 24
  },
  {
   "cell_type": "code",
   "outputs": [],
   "source": [
    "okt = Okt()"
   ],
   "metadata": {
    "collapsed": false,
    "ExecuteTime": {
     "end_time": "2024-03-25T08:07:41.559096Z",
     "start_time": "2024-03-25T08:07:41.220420Z"
    }
   },
   "id": "2199a177b0f5dfc2",
   "execution_count": 25
  },
  {
   "cell_type": "code",
   "outputs": [],
   "source": [
    "def oktTokenizer(text):\n",
    "    tokens = okt.morphs(text)\n",
    "    return tokens"
   ],
   "metadata": {
    "collapsed": false,
    "ExecuteTime": {
     "end_time": "2024-03-25T08:07:41.561141Z",
     "start_time": "2024-03-25T08:07:41.559651Z"
    }
   },
   "id": "9b0e5bc55ce97d02",
   "execution_count": 26
  },
  {
   "cell_type": "code",
   "outputs": [],
   "source": [
    "tfidf = TfidfVectorizer(tokenizer=oktTokenizer, ngram_range=(1, 2), min_df=3, max_df=0.9)"
   ],
   "metadata": {
    "collapsed": false,
    "ExecuteTime": {
     "end_time": "2024-03-25T08:07:41.566158Z",
     "start_time": "2024-03-25T08:07:41.564366Z"
    }
   },
   "id": "73fd3555d517d3d5",
   "execution_count": 27
  },
  {
   "cell_type": "code",
   "outputs": [
    {
     "name": "stderr",
     "output_type": "stream",
     "text": [
      "/Library/Frameworks/Python.framework/Versions/3.12/lib/python3.12/site-packages/sklearn/feature_extraction/text.py:525: UserWarning: The parameter 'token_pattern' will not be used since 'tokenizer' is not None'\n",
      "  warnings.warn(\n"
     ]
    }
   ],
   "source": [
    "tfidf.fit(dfNsmcTrain['document'])\n",
    "nsmc_train_tfidf = tfidf.transform(dfNsmcTrain['document'])"
   ],
   "metadata": {
    "collapsed": false,
    "ExecuteTime": {
     "end_time": "2024-03-25T08:12:43.952678Z",
     "start_time": "2024-03-25T08:07:41.566725Z"
    }
   },
   "id": "3987132b1677c64b",
   "execution_count": 28
  },
  {
   "cell_type": "code",
   "outputs": [
    {
     "data": {
      "text/plain": "<149995x115041 sparse matrix of type '<class 'numpy.float64'>'\n\twith 2701302 stored elements in Compressed Sparse Row format>"
     },
     "execution_count": 29,
     "metadata": {},
     "output_type": "execute_result"
    }
   ],
   "source": [
    "nsmc_train_tfidf"
   ],
   "metadata": {
    "collapsed": false,
    "ExecuteTime": {
     "end_time": "2024-03-25T08:21:34.957373Z",
     "start_time": "2024-03-25T08:21:34.954729Z"
    }
   },
   "id": "a56f76abb9a531e3",
   "execution_count": 29
  },
  {
   "cell_type": "code",
   "outputs": [],
   "source": [
    "import numpy as np\n",
    "with open('./data/result.npy','wb') as f:\n",
    "    np.save(f, nsmc_train_tfidf)"
   ],
   "metadata": {
    "collapsed": false,
    "ExecuteTime": {
     "end_time": "2024-03-25T08:23:42.190676Z",
     "start_time": "2024-03-25T08:23:42.171982Z"
    }
   },
   "id": "d1e824abe7895cc7",
   "execution_count": 30
  },
  {
   "cell_type": "code",
   "outputs": [],
   "source": [],
   "metadata": {
    "collapsed": false
   },
   "id": "ed1213524294ce38"
  }
 ],
 "metadata": {
  "kernelspec": {
   "display_name": "Python 3",
   "language": "python",
   "name": "python3"
  },
  "language_info": {
   "codemirror_mode": {
    "name": "ipython",
    "version": 2
   },
   "file_extension": ".py",
   "mimetype": "text/x-python",
   "name": "python",
   "nbconvert_exporter": "python",
   "pygments_lexer": "ipython2",
   "version": "2.7.6"
  }
 },
 "nbformat": 4,
 "nbformat_minor": 5
}
