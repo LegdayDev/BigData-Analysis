{
 "cells": [
  {
   "cell_type": "markdown",
   "source": [
    "## 빅데이터 실습\n",
    "\n",
    "### 다나와 무선청소기 상품 분석\n",
    "> 1. 데이터 수집 - Selenium 이용"
   ],
   "metadata": {
    "collapsed": false
   },
   "id": "4513b5fdc44381c"
  },
  {
   "cell_type": "code",
   "execution_count": 1,
   "id": "initial_id",
   "metadata": {
    "collapsed": true,
    "ExecuteTime": {
     "end_time": "2024-03-18T08:01:40.280985Z",
     "start_time": "2024-03-18T08:01:39.913623Z"
    }
   },
   "outputs": [],
   "source": [
    "# 필요 라이브러리 등록\n",
    "from selenium import webdriver\n",
    "from bs4 import BeautifulSoup\n",
    "import pandas as pd\n",
    "from urllib import parse  # url encode\n",
    "from tqdm import tqdm\n",
    "\n",
    "import time"
   ]
  },
  {
   "cell_type": "code",
   "outputs": [],
   "source": [
    "url = r'https://search.danawa.com/dsearch.php?query=무선청소기&page=1&limit=120&sort=saveDESC'\n"
   ],
   "metadata": {
    "collapsed": false,
    "ExecuteTime": {
     "end_time": "2024-03-18T08:01:40.760383Z",
     "start_time": "2024-03-18T08:01:40.757826Z"
    }
   },
   "id": "c91422912274e653",
   "execution_count": 2
  },
  {
   "cell_type": "code",
   "outputs": [],
   "source": [
    "driver = webdriver.Chrome()\n",
    "driver.get(url)"
   ],
   "metadata": {
    "collapsed": false,
    "ExecuteTime": {
     "end_time": "2024-03-18T08:01:48.004602Z",
     "start_time": "2024-03-18T08:01:41.351847Z"
    }
   },
   "id": "ca3788aac1bc0fe7",
   "execution_count": 3
  },
  {
   "cell_type": "code",
   "outputs": [],
   "source": [
    "html = driver.page_source\n",
    "soup = BeautifulSoup(html, 'html.parser')"
   ],
   "metadata": {
    "collapsed": false,
    "ExecuteTime": {
     "end_time": "2024-03-18T08:01:51.619398Z",
     "start_time": "2024-03-18T08:01:50.669856Z"
    }
   },
   "id": "252d37efdb0afd13",
   "execution_count": 4
  },
  {
   "cell_type": "code",
   "outputs": [],
   "source": [
    "prodItems = soup.select('ul.product_list > li.prod_item')"
   ],
   "metadata": {
    "collapsed": false,
    "ExecuteTime": {
     "end_time": "2024-03-18T08:01:51.673623Z",
     "start_time": "2024-03-18T08:01:51.620284Z"
    }
   },
   "id": "c5895dc026fc4919",
   "execution_count": 5
  },
  {
   "cell_type": "code",
   "outputs": [
    {
     "data": {
      "text/plain": "'LG전자 오브제컬렉션 코드제로 A9S AX9884'"
     },
     "execution_count": 6,
     "metadata": {},
     "output_type": "execute_result"
    }
   ],
   "source": [
    "# HTML 에서 광고표시(에드스마트)가 걸리면 pass\n",
    "prodItems[0].select('p.prod_name > a')[0].text"
   ],
   "metadata": {
    "collapsed": false,
    "ExecuteTime": {
     "end_time": "2024-03-18T08:01:52.389411Z",
     "start_time": "2024-03-18T08:01:52.384848Z"
    }
   },
   "id": "ae6d65dfb731bfc6",
   "execution_count": 6
  },
  {
   "cell_type": "code",
   "outputs": [
    {
     "data": {
      "text/plain": "'핸디스틱청소기 ,무선 ,흡입+물걸레(동시) ,흡입력: 250W ,소비전력: 620W ,2023년형 ,[구성] 거치대: 올인원타워 ,먼지비움 ,충전 ,UVC LED ,액서서리수납 ,스탠드거치 ,먼지비움시간: 30초 ,브러쉬: 와이드바닥 ,물걸레: 스팀, 고온, 일반 ,솔형 ,틈새 ,먼지봉투: 2.5L ,[배터리] 사용시간: 30분(최대) ,충전시간: 4시간 ,분리형(2개) ,리튬이온 ,25.2V ,[청소] 싸이클론흡입 ,LED라이트 ,자동물공급 ,스마트인버터모터 ,[부가] 스마트폰제어 ,대화형알림창 ,워셔블헤파필터 ,5단계여과 ,색상: 카밍베이지 ,무게: 2.47kg ,크기(가로x세로x깊이): 300x1120x245mm'"
     },
     "execution_count": 7,
     "metadata": {},
     "output_type": "execute_result"
    }
   ],
   "source": [
    "# 제품사용\n",
    "prodItems[0].select('div.spec_list')[0].text.strip().replace('\\t', '').replace(' / ', ' ,')"
   ],
   "metadata": {
    "collapsed": false,
    "ExecuteTime": {
     "end_time": "2024-03-18T08:01:53.156849Z",
     "start_time": "2024-03-18T08:01:53.153158Z"
    }
   },
   "id": "19311286ce334db5",
   "execution_count": 7
  },
  {
   "cell_type": "code",
   "outputs": [
    {
     "data": {
      "text/plain": "'873728'"
     },
     "execution_count": 8,
     "metadata": {},
     "output_type": "execute_result"
    }
   ],
   "source": [
    "# 제품가격\n",
    "prodItems[0].select('input')[1].get('value')"
   ],
   "metadata": {
    "collapsed": false,
    "ExecuteTime": {
     "end_time": "2024-03-18T08:01:53.725209Z",
     "start_time": "2024-03-18T08:01:53.722643Z"
    }
   },
   "id": "d55a51afd6b2926a",
   "execution_count": 8
  },
  {
   "cell_type": "markdown",
   "source": [],
   "metadata": {
    "collapsed": false
   },
   "id": "37f0c9ab97911107"
  },
  {
   "cell_type": "code",
   "outputs": [
    {
     "data": {
      "text/plain": "'가장 프리미엄 라인업(AX)으로 스팀물걸레 포함 구성, AX9988보다 흡입력만 낮음'"
     },
     "execution_count": 9,
     "metadata": {},
     "output_type": "execute_result"
    }
   ],
   "source": [
    "# 제품 인트로\n",
    "prodItems[0].select('p.intro_text')[0].text"
   ],
   "metadata": {
    "collapsed": false,
    "ExecuteTime": {
     "end_time": "2024-03-18T08:01:54.715629Z",
     "start_time": "2024-03-18T08:01:54.712952Z"
    }
   },
   "id": "dd31efe46b089eae",
   "execution_count": 9
  },
  {
   "cell_type": "markdown",
   "source": [
    "#### 1번 페이지에서 상품 정보 추출"
   ],
   "metadata": {
    "collapsed": false
   },
   "id": "5a0b1e0d9c4cc418"
  },
  {
   "cell_type": "code",
   "outputs": [],
   "source": [
    "prodData = []\n",
    "loop = 0\n",
    "for prodItem in prodItems:\n",
    "    try:\n",
    "        prodName = prodItem.select('p.prod_name > a')[0].text.strip()\n",
    "        specList = prodItem.select('div.spec_list')[0].text.strip().replace('\\t', '')\n",
    "        price = prodItem.select('input')[1].get('value')\n",
    "        loop += 1\n",
    "        prodData.append([prodName, specList, price])\n",
    "    except:\n",
    "        pass"
   ],
   "metadata": {
    "collapsed": false,
    "ExecuteTime": {
     "end_time": "2024-03-18T08:01:56.436379Z",
     "start_time": "2024-03-18T08:01:56.351698Z"
    }
   },
   "id": "53092eb514ef7ad7",
   "execution_count": 10
  },
  {
   "cell_type": "code",
   "outputs": [
    {
     "data": {
      "text/plain": "120"
     },
     "execution_count": 11,
     "metadata": {},
     "output_type": "execute_result"
    }
   ],
   "source": [
    "# 결과 확인\n",
    "len(prodData)"
   ],
   "metadata": {
    "collapsed": false,
    "ExecuteTime": {
     "end_time": "2024-03-18T08:01:57.450624Z",
     "start_time": "2024-03-18T08:01:57.447493Z"
    }
   },
   "id": "50dd6da0b7def443",
   "execution_count": 11
  },
  {
   "cell_type": "markdown",
   "source": [
    "#### 여러 페이지 크롤링"
   ],
   "metadata": {
    "collapsed": false
   },
   "id": "e6bd3ffdf3e7269a"
  },
  {
   "cell_type": "code",
   "outputs": [],
   "source": [
    "# 검색어, 페이지를 변경하면서 URL 생성함수\n",
    "def getSearchPageUrl(keyword, page):\n",
    "    encodekeyword = parse.quote(keyword)\n",
    "    url = f'https://search.danawa.com/dsearch.php?query={encodekeyword}&originalQuery={encodekeyword}&previousKeyword={encodekeyword}&checkedInfo=N&volumeType=allvs&page={page}&limit=120&sort=saveDESC&list=list&boost=true&tab=goods&addDelivery=N&coupangMemberSort=N&mode=simple&isInitTireSmartFinder=N&recommendedSort=N&defaultUICategoryCode=10325109&defaultPhysicsCategoryCode=72%7C80%7C81%7C0&defaultVmTab=3138&defaultVaTab=1098867&isZeroPrice=Y&quickProductYN=N&priceUnitSort=N&priceUnitSortOrder=A'\n",
    "    return url\n"
   ],
   "metadata": {
    "collapsed": false,
    "ExecuteTime": {
     "end_time": "2024-03-18T08:02:00.007200Z",
     "start_time": "2024-03-18T08:02:00.003920Z"
    }
   },
   "id": "1e1a44e08c7cdba3",
   "execution_count": 12
  },
  {
   "cell_type": "code",
   "outputs": [],
   "source": [
    "# 상품정보 추출하는 함수\n",
    "def getProdItems(prodItems):\n",
    "    prodData = []\n",
    "    loop = 0\n",
    "    for prodItem in prodItems:\n",
    "        try:\n",
    "            prodName = prodItem.select('p.prod_name > a')[0].text.strip()\n",
    "            specList = prodItem.select('div.spec_list')[0].text.strip().replace('\\t', '')\n",
    "            price = prodItem.select('input')[1].get('value')\n",
    "            loop += 1\n",
    "            prodData.append([prodName, specList, price])\n",
    "        except:\n",
    "            pass\n",
    "    \n",
    "    return prodData"
   ],
   "metadata": {
    "collapsed": false,
    "ExecuteTime": {
     "end_time": "2024-03-18T08:02:00.975131Z",
     "start_time": "2024-03-18T08:02:00.971814Z"
    }
   },
   "id": "a9481e8fa5d933d1",
   "execution_count": 13
  },
  {
   "cell_type": "code",
   "outputs": [
    {
     "data": {
      "text/plain": "'https://search.danawa.com/dsearch.php?query=%EB%A7%88%EC%9D%B4%ED%81%AC%EB%A1%9C%20sd%EC%B9%B4%EB%93%9C&originalQuery=%EB%A7%88%EC%9D%B4%ED%81%AC%EB%A1%9C%20sd%EC%B9%B4%EB%93%9C&previousKeyword=%EB%A7%88%EC%9D%B4%ED%81%AC%EB%A1%9C%20sd%EC%B9%B4%EB%93%9C&checkedInfo=N&volumeType=allvs&page=5&limit=120&sort=saveDESC&list=list&boost=true&tab=goods&addDelivery=N&coupangMemberSort=N&mode=simple&isInitTireSmartFinder=N&recommendedSort=N&defaultUICategoryCode=10325109&defaultPhysicsCategoryCode=72%7C80%7C81%7C0&defaultVmTab=3138&defaultVaTab=1098867&isZeroPrice=Y&quickProductYN=N&priceUnitSort=N&priceUnitSortOrder=A'"
     },
     "execution_count": 14,
     "metadata": {},
     "output_type": "execute_result"
    }
   ],
   "source": [
    "# 검색어에 ' '(공백)이 있으면 URL에서 링크 클릭이 안되는 문제(VSCode 기준) -> urlEncode : parse.quoto(keyword)\n",
    "getSearchPageUrl('마이크로 sd카드', 5)"
   ],
   "metadata": {
    "collapsed": false,
    "ExecuteTime": {
     "end_time": "2024-03-18T08:02:02.176376Z",
     "start_time": "2024-03-18T08:02:02.173024Z"
    }
   },
   "id": "249f61a12f3fa183",
   "execution_count": 14
  },
  {
   "cell_type": "code",
   "outputs": [
    {
     "name": "stderr",
     "output_type": "stream",
     "text": [
      "100%|██████████| 10/10 [01:24<00:00,  8.41s/it]\n"
     ]
    }
   ],
   "source": [
    "# 여러페이지 검색 후 크롤링하는 작업\n",
    "driver = webdriver.Chrome()\n",
    "# 암묵적으로 웹 자원 로드를 위해 3초정도 대기\n",
    "driver.implicitly_wait(3.0)\n",
    "\n",
    "keyword = '무선청소기'\n",
    "totalPage = 10\n",
    "prodDataTotal = []\n",
    "\n",
    "for page in tqdm(range(1, totalPage+1)):\n",
    "    url = getSearchPageUrl(keyword, page)\n",
    "    driver.get(url)\n",
    "    time.sleep(5)\n",
    "    \n",
    "    # 현재 페이지 HTML 가져오기\n",
    "    html = driver.page_source\n",
    "    soup = BeautifulSoup(html, 'html.parser')\n",
    "    \n",
    "    # 상품정보 추출\n",
    "    prodItems = soup.select('ul.product_list > li.prod_item')\n",
    "    prodItemList = getProdItems(prodItems)\n",
    "    \n",
    "    # 추출된 정보를 prodDataTotal 추가\n",
    "    prodDataTotal += prodItemList\n",
    "    "
   ],
   "metadata": {
    "collapsed": false,
    "ExecuteTime": {
     "end_time": "2024-03-18T08:03:29.552896Z",
     "start_time": "2024-03-18T08:02:03.179149Z"
    }
   },
   "id": "a310a32e5fee0691",
   "execution_count": 15
  },
  {
   "cell_type": "code",
   "outputs": [],
   "source": [
    "dfProdData = pd.DataFrame(prodDataTotal)"
   ],
   "metadata": {
    "collapsed": false,
    "ExecuteTime": {
     "end_time": "2024-03-18T08:04:02.692033Z",
     "start_time": "2024-03-18T08:04:02.689598Z"
    }
   },
   "id": "1794b7d1737d3fa1",
   "execution_count": 17
  },
  {
   "cell_type": "code",
   "outputs": [],
   "source": [
    "dfProdData.columns = [['상품명', '스펙정보', '가격']]"
   ],
   "metadata": {
    "collapsed": false,
    "ExecuteTime": {
     "end_time": "2024-03-18T08:04:20.829762Z",
     "start_time": "2024-03-18T08:04:20.827597Z"
    }
   },
   "id": "3466355e36a3707b",
   "execution_count": 20
  },
  {
   "cell_type": "code",
   "outputs": [
    {
     "data": {
      "text/plain": "                          상품명  \\\n1195   삼성전자 제트 VS20T9213QDCSW   \n1196      삼성전자 제트 VS15T7037P1   \n1197      디오바코 V200 LDVCLA200   \n1198  TIANHONG 리락쿠마 미니 고급 청소기   \n1199            파나소닉 MC-WDD91   \n\n                                                   스펙정보      가격  \n1195  핸디스틱청소기 / 무선 / 흡입+물걸레(교체) / 흡입력: 200W / 소비전력: ...  869000  \n1196  핸디스틱청소기 / 무선 / 흡입+물걸레(교체) / 흡입력: 150W / 소비전력: ...  735900  \n1197  핸디스틱청소기 / 무선 / 흡입형 / 흡입력: 9000Pa / 소비전력: 120W ...   92000  \n1198  탁상용청소기 / 무선 / 흡입형 / [부가] 색상: 옐로우, 블루 / 크기(가로x세...    8970  \n1199  핸디스틱청소기 / 무선 / 흡입형 / 흡입력: 100W / 흡입력: 18000Pa ...  179000  ",
      "text/html": "<div>\n<style scoped>\n    .dataframe tbody tr th:only-of-type {\n        vertical-align: middle;\n    }\n\n    .dataframe tbody tr th {\n        vertical-align: top;\n    }\n\n    .dataframe thead tr th {\n        text-align: left;\n    }\n</style>\n<table border=\"1\" class=\"dataframe\">\n  <thead>\n    <tr>\n      <th></th>\n      <th>상품명</th>\n      <th>스펙정보</th>\n      <th>가격</th>\n    </tr>\n  </thead>\n  <tbody>\n    <tr>\n      <th>1195</th>\n      <td>삼성전자 제트 VS20T9213QDCSW</td>\n      <td>핸디스틱청소기 / 무선 / 흡입+물걸레(교체) / 흡입력: 200W / 소비전력: ...</td>\n      <td>869000</td>\n    </tr>\n    <tr>\n      <th>1196</th>\n      <td>삼성전자 제트 VS15T7037P1</td>\n      <td>핸디스틱청소기 / 무선 / 흡입+물걸레(교체) / 흡입력: 150W / 소비전력: ...</td>\n      <td>735900</td>\n    </tr>\n    <tr>\n      <th>1197</th>\n      <td>디오바코 V200 LDVCLA200</td>\n      <td>핸디스틱청소기 / 무선 / 흡입형 / 흡입력: 9000Pa / 소비전력: 120W ...</td>\n      <td>92000</td>\n    </tr>\n    <tr>\n      <th>1198</th>\n      <td>TIANHONG 리락쿠마 미니 고급 청소기</td>\n      <td>탁상용청소기 / 무선 / 흡입형 / [부가] 색상: 옐로우, 블루 / 크기(가로x세...</td>\n      <td>8970</td>\n    </tr>\n    <tr>\n      <th>1199</th>\n      <td>파나소닉 MC-WDD91</td>\n      <td>핸디스틱청소기 / 무선 / 흡입형 / 흡입력: 100W / 흡입력: 18000Pa ...</td>\n      <td>179000</td>\n    </tr>\n  </tbody>\n</table>\n</div>"
     },
     "execution_count": 22,
     "metadata": {},
     "output_type": "execute_result"
    }
   ],
   "source": [
    "dfProdData.tail()"
   ],
   "metadata": {
    "collapsed": false,
    "ExecuteTime": {
     "end_time": "2024-03-18T08:04:26.724495Z",
     "start_time": "2024-03-18T08:04:26.718575Z"
    }
   },
   "id": "6572b9402fb88340",
   "execution_count": 22
  },
  {
   "cell_type": "code",
   "outputs": [],
   "source": [
    "dfProdData.to_excel('./data/다나와_무선청소기_결과.xlsx')"
   ],
   "metadata": {
    "collapsed": false,
    "ExecuteTime": {
     "end_time": "2024-03-18T08:06:22.655875Z",
     "start_time": "2024-03-18T08:06:22.164116Z"
    }
   },
   "id": "9d5db337046c21fe",
   "execution_count": 23
  },
  {
   "cell_type": "code",
   "outputs": [],
   "source": [],
   "metadata": {
    "collapsed": false
   },
   "id": "4dc8161df769c9e6"
  }
 ],
 "metadata": {
  "kernelspec": {
   "display_name": "Python 3",
   "language": "python",
   "name": "python3"
  },
  "language_info": {
   "codemirror_mode": {
    "name": "ipython",
    "version": 2
   },
   "file_extension": ".py",
   "mimetype": "text/x-python",
   "name": "python",
   "nbconvert_exporter": "python",
   "pygments_lexer": "ipython2",
   "version": "2.7.6"
  }
 },
 "nbformat": 4,
 "nbformat_minor": 5
}
