{
 "cells": [
  {
   "cell_type": "markdown",
   "source": [
    "## 머신러닝 실습\n",
    "### 텍스트 마이닝\n",
    "> 1. 데이터 수집"
   ],
   "metadata": {
    "collapsed": false
   },
   "id": "827311bfd8fe89c0"
  },
  {
   "cell_type": "markdown",
   "source": [
    "#### 네이버 코로나 뉴스로 감성분석"
   ],
   "metadata": {
    "collapsed": false
   },
   "id": "d1d287345c6d2919"
  },
  {
   "cell_type": "code",
   "execution_count": 1,
   "id": "initial_id",
   "metadata": {
    "collapsed": true,
    "ExecuteTime": {
     "end_time": "2024-03-26T06:09:08.088643Z",
     "start_time": "2024-03-26T06:09:08.086664Z"
    }
   },
   "outputs": [],
   "source": [
    "# 필요 라이브러리 등록\n",
    "import json"
   ]
  },
  {
   "cell_type": "code",
   "outputs": [],
   "source": [
    "with open('./data/코로나_naver_news.json', encoding='utf-8') as f:\n",
    "    data = json.load(f)"
   ],
   "metadata": {
    "collapsed": false,
    "ExecuteTime": {
     "end_time": "2024-03-26T06:09:08.167126Z",
     "start_time": "2024-03-26T06:09:08.163595Z"
    }
   },
   "id": "f51f2554bc06bb76",
   "execution_count": 2
  },
  {
   "cell_type": "code",
   "outputs": [],
   "source": [
    "# 추가 라이브러리 등록\n",
    "import pandas as pd\n",
    "import re"
   ],
   "metadata": {
    "collapsed": false,
    "ExecuteTime": {
     "end_time": "2024-03-26T06:09:08.198949Z",
     "start_time": "2024-03-26T06:09:08.197356Z"
    }
   },
   "id": "30cfca6824f9215f",
   "execution_count": 3
  },
  {
   "cell_type": "code",
   "outputs": [],
   "source": [
    "dfData = pd.DataFrame(data)"
   ],
   "metadata": {
    "collapsed": false,
    "ExecuteTime": {
     "end_time": "2024-03-26T06:09:08.222620Z",
     "start_time": "2024-03-26T06:09:08.219999Z"
    }
   },
   "id": "a0a7e7953bf22fae",
   "execution_count": 4
  },
  {
   "cell_type": "code",
   "outputs": [
    {
     "data": {
      "text/plain": "   cnt                                        description  \\\n0    1  <b>코로나</b>발 경제 위기 대응을 위해 돈 쓸 곳은 늘어났지만, 국세 수입은 ...   \n1    2  ▲ 지난 2일 창녕군보건소 앞에 설치한 선별진료소에서 검사자가 체온을 측정하고 있다...   \n2    3  한편, ‘설현’은 최근 <b>코로나</b>19 바이러스를 다룬, MBC ‘시리즈M’...   \n3    4  변화의 핵심 중에서는 우리 사회가 신종 <b>코로나</b>바이러스 감염증(<b>코로...   \n4    5   이재갑 고용노동부 장관은 6월3일(수) 11시에 <b>코로나</b>19 긴급 고용...   \n5    6  하지만 올해 신종 <b>코로나</b>바이러스 감염증(<b>코로나</b>19) 여파로...   \n6    7  경찰은 <b>코로나</b>19 감염이 우려된다며 8명 이상을 모이는 집회를 봉쇄해왔...   \n7    8  전국 컨테이너 처리량 243만TEU…2.5%↓ 국내 항만은 4월 들어 신종 <b>코...   \n8    9  한편, '<b>코로나</b>19'로 인한 해외의 식재료 사재기에서 보듯이 국민들의 ...   \n9   10  이용빈 의원실 제공 이용빈 민주당 원내부대표가 4일 &quot;<b>코로나</b> ...   \n\n                 pDate                                              title  \n0  2020-06-04 14:12:00      결국 '증세론' 먼저 꺼내든 與…&quot;증세없는 '기본소득' 불가능&quot;  \n1  2020-06-04 14:12:00                             창녕군, ‘창녕형’비대면 선별진료소 운영  \n2  2020-06-04 14:12:00                       DK모바일, 메인 홍보 모델로 AOA '설현' 선정  \n3  2020-06-04 14:12:00       김병민 &quot;기본소득도 필요하면 논의 테이블에 올려야&quot; [인터뷰]  \n4  2020-06-04 14:12:00                            이재갑 장관, 고용안정지원금 서울센터 방문  \n5  2020-06-04 14:12:00             '부산행'→'반도'로 이어지는 한국형 좀비 세계관, 칸의 선택 받았다  \n6  2020-06-04 14:12:00                        31년만 첫 '불허'에도 홍콩, 톈안문 추모 촛불  \n7  2020-06-04 14:12:00                        국내 3대 항만 4월 물동량 ‘인천항만 상승곡선’  \n8  2020-06-04 14:12:00          경기도의회 농정해양위, 농민기본소득 도입 이재명 지사와 집행부에 강력 촉구  \n9  2020-06-04 14:12:00  이용빈 원내부대표 &quot;<b>코로나</b> 대응 의료진·노동자 건강권 보장해야...  ",
      "text/html": "<div>\n<style scoped>\n    .dataframe tbody tr th:only-of-type {\n        vertical-align: middle;\n    }\n\n    .dataframe tbody tr th {\n        vertical-align: top;\n    }\n\n    .dataframe thead th {\n        text-align: right;\n    }\n</style>\n<table border=\"1\" class=\"dataframe\">\n  <thead>\n    <tr style=\"text-align: right;\">\n      <th></th>\n      <th>cnt</th>\n      <th>description</th>\n      <th>pDate</th>\n      <th>title</th>\n    </tr>\n  </thead>\n  <tbody>\n    <tr>\n      <th>0</th>\n      <td>1</td>\n      <td>&lt;b&gt;코로나&lt;/b&gt;발 경제 위기 대응을 위해 돈 쓸 곳은 늘어났지만, 국세 수입은 ...</td>\n      <td>2020-06-04 14:12:00</td>\n      <td>결국 '증세론' 먼저 꺼내든 與…&amp;quot;증세없는 '기본소득' 불가능&amp;quot;</td>\n    </tr>\n    <tr>\n      <th>1</th>\n      <td>2</td>\n      <td>▲ 지난 2일 창녕군보건소 앞에 설치한 선별진료소에서 검사자가 체온을 측정하고 있다...</td>\n      <td>2020-06-04 14:12:00</td>\n      <td>창녕군, ‘창녕형’비대면 선별진료소 운영</td>\n    </tr>\n    <tr>\n      <th>2</th>\n      <td>3</td>\n      <td>한편, ‘설현’은 최근 &lt;b&gt;코로나&lt;/b&gt;19 바이러스를 다룬, MBC ‘시리즈M’...</td>\n      <td>2020-06-04 14:12:00</td>\n      <td>DK모바일, 메인 홍보 모델로 AOA '설현' 선정</td>\n    </tr>\n    <tr>\n      <th>3</th>\n      <td>4</td>\n      <td>변화의 핵심 중에서는 우리 사회가 신종 &lt;b&gt;코로나&lt;/b&gt;바이러스 감염증(&lt;b&gt;코로...</td>\n      <td>2020-06-04 14:12:00</td>\n      <td>김병민 &amp;quot;기본소득도 필요하면 논의 테이블에 올려야&amp;quot; [인터뷰]</td>\n    </tr>\n    <tr>\n      <th>4</th>\n      <td>5</td>\n      <td>이재갑 고용노동부 장관은 6월3일(수) 11시에 &lt;b&gt;코로나&lt;/b&gt;19 긴급 고용...</td>\n      <td>2020-06-04 14:12:00</td>\n      <td>이재갑 장관, 고용안정지원금 서울센터 방문</td>\n    </tr>\n    <tr>\n      <th>5</th>\n      <td>6</td>\n      <td>하지만 올해 신종 &lt;b&gt;코로나&lt;/b&gt;바이러스 감염증(&lt;b&gt;코로나&lt;/b&gt;19) 여파로...</td>\n      <td>2020-06-04 14:12:00</td>\n      <td>'부산행'→'반도'로 이어지는 한국형 좀비 세계관, 칸의 선택 받았다</td>\n    </tr>\n    <tr>\n      <th>6</th>\n      <td>7</td>\n      <td>경찰은 &lt;b&gt;코로나&lt;/b&gt;19 감염이 우려된다며 8명 이상을 모이는 집회를 봉쇄해왔...</td>\n      <td>2020-06-04 14:12:00</td>\n      <td>31년만 첫 '불허'에도 홍콩, 톈안문 추모 촛불</td>\n    </tr>\n    <tr>\n      <th>7</th>\n      <td>8</td>\n      <td>전국 컨테이너 처리량 243만TEU…2.5%↓ 국내 항만은 4월 들어 신종 &lt;b&gt;코...</td>\n      <td>2020-06-04 14:12:00</td>\n      <td>국내 3대 항만 4월 물동량 ‘인천항만 상승곡선’</td>\n    </tr>\n    <tr>\n      <th>8</th>\n      <td>9</td>\n      <td>한편, '&lt;b&gt;코로나&lt;/b&gt;19'로 인한 해외의 식재료 사재기에서 보듯이 국민들의 ...</td>\n      <td>2020-06-04 14:12:00</td>\n      <td>경기도의회 농정해양위, 농민기본소득 도입 이재명 지사와 집행부에 강력 촉구</td>\n    </tr>\n    <tr>\n      <th>9</th>\n      <td>10</td>\n      <td>이용빈 의원실 제공 이용빈 민주당 원내부대표가 4일 &amp;quot;&lt;b&gt;코로나&lt;/b&gt; ...</td>\n      <td>2020-06-04 14:12:00</td>\n      <td>이용빈 원내부대표 &amp;quot;&lt;b&gt;코로나&lt;/b&gt; 대응 의료진·노동자 건강권 보장해야...</td>\n    </tr>\n  </tbody>\n</table>\n</div>"
     },
     "execution_count": 5,
     "metadata": {},
     "output_type": "execute_result"
    }
   ],
   "source": [
    "dfData.head(10)"
   ],
   "metadata": {
    "collapsed": false,
    "ExecuteTime": {
     "end_time": "2024-03-26T06:09:08.243818Z",
     "start_time": "2024-03-26T06:09:08.237726Z"
    }
   },
   "id": "31f0abe9afc3ba49",
   "execution_count": 5
  },
  {
   "cell_type": "code",
   "outputs": [],
   "source": [
    "# 한글 이외의 것을 다 제거, title,description 컬럼만\n",
    "dfData['title'] = dfData['title'].apply(lambda x: re.sub(r'[^가-힣|ㄱ-]+', ' ', x))\n",
    "dfData['description'] = dfData['description'].apply(lambda x: re.sub(r'[^가-힣|ㄱ-]+', ' ', x))"
   ],
   "metadata": {
    "collapsed": false,
    "ExecuteTime": {
     "end_time": "2024-03-26T06:09:08.270028Z",
     "start_time": "2024-03-26T06:09:08.261902Z"
    }
   },
   "id": "912b4b4ac7c473b6",
   "execution_count": 6
  },
  {
   "cell_type": "code",
   "outputs": [],
   "source": [
    "# 엑셀로 저장(필요한 컬럼만 따로 저장)\n",
    "dfData[['title', 'pDate', 'description']].to_excel('./data/코로나뉴스_전처리.xlsx', index=False)"
   ],
   "metadata": {
    "collapsed": false,
    "ExecuteTime": {
     "end_time": "2024-03-26T06:09:08.419865Z",
     "start_time": "2024-03-26T06:09:08.279912Z"
    }
   },
   "id": "b31be8aebe380f",
   "execution_count": 7
  },
  {
   "cell_type": "code",
   "outputs": [],
   "source": [
    "# 전처리 완료한 파일을 다시 읽어오기\n",
    "dfData = pd.read_excel('./data/코로나뉴스_전처리.xlsx')"
   ],
   "metadata": {
    "collapsed": false,
    "ExecuteTime": {
     "end_time": "2024-03-26T06:09:08.451536Z",
     "start_time": "2024-03-26T06:09:08.420921Z"
    }
   },
   "id": "6b19a155ab78305f",
   "execution_count": 8
  },
  {
   "cell_type": "code",
   "outputs": [
    {
     "data": {
      "text/plain": "                                     title                pDate  \\\n795   세계의 눈 코로나 영향 현대차 매출 큰 타격 하지만 차량은 순항   2020-06-04 13:36:00   \n796             중부발전 소규모 태양광사업자 판매대금 선 지급   2020-06-04 13:36:00   \n797          코로나 함께 극복 박종환 자유총연맹 총재 캠페인 참여  2020-06-04 13:36:00   \n798      치과의사 명 모이는 행사 앞두고 치협 회장 행사 취소해달라   2020-06-04 13:36:00   \n799                  포토|대종상영화제 문가영 발랄 듬 뿍   2020-06-04 13:36:00   \n\n                                           description  \n795  글로벌기업 현대 기아차가 코로나 의 여파로 해외시장에서 고전을 면치 못하고 있는 가...  \n796  한국중부발전 본사 전경 한국중부발전 사장 박형구 은 코로나 장기화로 인해 경제적 어...  \n797  박종환 한국자유총연맹 총재 신종 코로나 바이러스 감염증 코로나 극복과 조기 종식을 ...  \n798  이상훈 회장은 코로나 신규 확진자가 수도권에서 발생했고 정부는 수도권 한정 사회적 ...  \n799  제 회 대종상영화제 참석한 문가영제 회 대종상영화제 참석한 문가영 코로나 여파로 무...  ",
      "text/html": "<div>\n<style scoped>\n    .dataframe tbody tr th:only-of-type {\n        vertical-align: middle;\n    }\n\n    .dataframe tbody tr th {\n        vertical-align: top;\n    }\n\n    .dataframe thead th {\n        text-align: right;\n    }\n</style>\n<table border=\"1\" class=\"dataframe\">\n  <thead>\n    <tr style=\"text-align: right;\">\n      <th></th>\n      <th>title</th>\n      <th>pDate</th>\n      <th>description</th>\n    </tr>\n  </thead>\n  <tbody>\n    <tr>\n      <th>795</th>\n      <td>세계의 눈 코로나 영향 현대차 매출 큰 타격 하지만 차량은 순항</td>\n      <td>2020-06-04 13:36:00</td>\n      <td>글로벌기업 현대 기아차가 코로나 의 여파로 해외시장에서 고전을 면치 못하고 있는 가...</td>\n    </tr>\n    <tr>\n      <th>796</th>\n      <td>중부발전 소규모 태양광사업자 판매대금 선 지급</td>\n      <td>2020-06-04 13:36:00</td>\n      <td>한국중부발전 본사 전경 한국중부발전 사장 박형구 은 코로나 장기화로 인해 경제적 어...</td>\n    </tr>\n    <tr>\n      <th>797</th>\n      <td>코로나 함께 극복 박종환 자유총연맹 총재 캠페인 참여</td>\n      <td>2020-06-04 13:36:00</td>\n      <td>박종환 한국자유총연맹 총재 신종 코로나 바이러스 감염증 코로나 극복과 조기 종식을 ...</td>\n    </tr>\n    <tr>\n      <th>798</th>\n      <td>치과의사 명 모이는 행사 앞두고 치협 회장 행사 취소해달라</td>\n      <td>2020-06-04 13:36:00</td>\n      <td>이상훈 회장은 코로나 신규 확진자가 수도권에서 발생했고 정부는 수도권 한정 사회적 ...</td>\n    </tr>\n    <tr>\n      <th>799</th>\n      <td>포토|대종상영화제 문가영 발랄 듬 뿍</td>\n      <td>2020-06-04 13:36:00</td>\n      <td>제 회 대종상영화제 참석한 문가영제 회 대종상영화제 참석한 문가영 코로나 여파로 무...</td>\n    </tr>\n  </tbody>\n</table>\n</div>"
     },
     "execution_count": 9,
     "metadata": {},
     "output_type": "execute_result"
    }
   ],
   "source": [
    "dfData.tail()"
   ],
   "metadata": {
    "collapsed": false,
    "ExecuteTime": {
     "end_time": "2024-03-26T06:09:08.455912Z",
     "start_time": "2024-03-26T06:09:08.452339Z"
    }
   },
   "id": "5c4d99e4b292fdf9",
   "execution_count": 9
  },
  {
   "cell_type": "markdown",
   "source": [
    "#### 감성분석 모델 재구축"
   ],
   "metadata": {
    "collapsed": false
   },
   "id": "ee12deb5a8d2c18c"
  },
  {
   "cell_type": "code",
   "outputs": [],
   "source": [
    "# 훈련용 데이터 가져오기\n",
    "dfNsmcTrain = pd.read_csv('../day12/data/ratings_train.txt', engine='python', sep='\\t', encoding='utf-8')"
   ],
   "metadata": {
    "collapsed": false,
    "ExecuteTime": {
     "end_time": "2024-03-26T06:09:08.772781Z",
     "start_time": "2024-03-26T06:09:08.457327Z"
    }
   },
   "id": "4fdd9af5e5e94f46",
   "execution_count": 10
  },
  {
   "cell_type": "code",
   "outputs": [
    {
     "data": {
      "text/plain": "         id                                           document  label\n0   9976970                                아 더빙.. 진짜 짜증나네요 목소리      0\n1   3819312                  흠...포스터보고 초딩영화줄....오버연기조차 가볍지 않구나      1\n2  10265843                                  너무재밓었다그래서보는것을추천한다      0\n3   9045019                      교도소 이야기구먼 ..솔직히 재미는 없다..평점 조정      0\n4   6483659  사이몬페그의 익살스런 연기가 돋보였던 영화!스파이더맨에서 늙어보이기만 했던 커스틴 ...      1",
      "text/html": "<div>\n<style scoped>\n    .dataframe tbody tr th:only-of-type {\n        vertical-align: middle;\n    }\n\n    .dataframe tbody tr th {\n        vertical-align: top;\n    }\n\n    .dataframe thead th {\n        text-align: right;\n    }\n</style>\n<table border=\"1\" class=\"dataframe\">\n  <thead>\n    <tr style=\"text-align: right;\">\n      <th></th>\n      <th>id</th>\n      <th>document</th>\n      <th>label</th>\n    </tr>\n  </thead>\n  <tbody>\n    <tr>\n      <th>0</th>\n      <td>9976970</td>\n      <td>아 더빙.. 진짜 짜증나네요 목소리</td>\n      <td>0</td>\n    </tr>\n    <tr>\n      <th>1</th>\n      <td>3819312</td>\n      <td>흠...포스터보고 초딩영화줄....오버연기조차 가볍지 않구나</td>\n      <td>1</td>\n    </tr>\n    <tr>\n      <th>2</th>\n      <td>10265843</td>\n      <td>너무재밓었다그래서보는것을추천한다</td>\n      <td>0</td>\n    </tr>\n    <tr>\n      <th>3</th>\n      <td>9045019</td>\n      <td>교도소 이야기구먼 ..솔직히 재미는 없다..평점 조정</td>\n      <td>0</td>\n    </tr>\n    <tr>\n      <th>4</th>\n      <td>6483659</td>\n      <td>사이몬페그의 익살스런 연기가 돋보였던 영화!스파이더맨에서 늙어보이기만 했던 커스틴 ...</td>\n      <td>1</td>\n    </tr>\n  </tbody>\n</table>\n</div>"
     },
     "execution_count": 11,
     "metadata": {},
     "output_type": "execute_result"
    }
   ],
   "source": [
    "dfNsmcTrain.head()"
   ],
   "metadata": {
    "collapsed": false,
    "ExecuteTime": {
     "end_time": "2024-03-26T06:09:08.776520Z",
     "start_time": "2024-03-26T06:09:08.773420Z"
    }
   },
   "id": "c1206275789e28f7",
   "execution_count": 11
  },
  {
   "cell_type": "code",
   "outputs": [],
   "source": [
    "dfNsmcTrain = dfNsmcTrain[dfNsmcTrain['document'].notnull()]"
   ],
   "metadata": {
    "collapsed": false,
    "ExecuteTime": {
     "end_time": "2024-03-26T06:09:08.785905Z",
     "start_time": "2024-03-26T06:09:08.777279Z"
    }
   },
   "id": "b50bbac41c65994b",
   "execution_count": 12
  },
  {
   "cell_type": "code",
   "outputs": [
    {
     "name": "stdout",
     "output_type": "stream",
     "text": [
      "<class 'pandas.core.frame.DataFrame'>\n",
      "Index: 149995 entries, 0 to 149999\n",
      "Data columns (total 3 columns):\n",
      " #   Column    Non-Null Count   Dtype \n",
      "---  ------    --------------   ----- \n",
      " 0   id        149995 non-null  int64 \n",
      " 1   document  149995 non-null  object\n",
      " 2   label     149995 non-null  int64 \n",
      "dtypes: int64(2), object(1)\n",
      "memory usage: 4.6+ MB\n"
     ]
    }
   ],
   "source": [
    "dfNsmcTrain.info()"
   ],
   "metadata": {
    "collapsed": false,
    "ExecuteTime": {
     "end_time": "2024-03-26T06:09:08.794496Z",
     "start_time": "2024-03-26T06:09:08.786661Z"
    }
   },
   "id": "91a3ece4abe64651",
   "execution_count": 13
  },
  {
   "cell_type": "code",
   "outputs": [],
   "source": [
    "# 불필요한 글자들 제거\n",
    "dfNsmcTrain['document'] = dfNsmcTrain['document'].apply(lambda x: re.sub(r'[^가-힣|ㄱ-]+', ' ', x))"
   ],
   "metadata": {
    "collapsed": false,
    "ExecuteTime": {
     "end_time": "2024-03-26T06:09:09.030571Z",
     "start_time": "2024-03-26T06:09:08.795145Z"
    }
   },
   "id": "4b175c1952ec66f8",
   "execution_count": 14
  },
  {
   "cell_type": "code",
   "outputs": [
    {
     "data": {
      "text/plain": "         id                                           document  label\n0   9976970                                  아 더빙 진짜 짜증나네요 목소리      0\n1   3819312                       흠 포스터보고 초딩영화줄 오버연기조차 가볍지 않구나      1\n2  10265843                                  너무재밓었다그래서보는것을추천한다      0\n3   9045019                         교도소 이야기구먼 솔직히 재미는 없다 평점 조정      0\n4   6483659  사이몬페그의 익살스런 연기가 돋보였던 영화 스파이더맨에서 늙어보이기만 했던 커스틴 ...      1",
      "text/html": "<div>\n<style scoped>\n    .dataframe tbody tr th:only-of-type {\n        vertical-align: middle;\n    }\n\n    .dataframe tbody tr th {\n        vertical-align: top;\n    }\n\n    .dataframe thead th {\n        text-align: right;\n    }\n</style>\n<table border=\"1\" class=\"dataframe\">\n  <thead>\n    <tr style=\"text-align: right;\">\n      <th></th>\n      <th>id</th>\n      <th>document</th>\n      <th>label</th>\n    </tr>\n  </thead>\n  <tbody>\n    <tr>\n      <th>0</th>\n      <td>9976970</td>\n      <td>아 더빙 진짜 짜증나네요 목소리</td>\n      <td>0</td>\n    </tr>\n    <tr>\n      <th>1</th>\n      <td>3819312</td>\n      <td>흠 포스터보고 초딩영화줄 오버연기조차 가볍지 않구나</td>\n      <td>1</td>\n    </tr>\n    <tr>\n      <th>2</th>\n      <td>10265843</td>\n      <td>너무재밓었다그래서보는것을추천한다</td>\n      <td>0</td>\n    </tr>\n    <tr>\n      <th>3</th>\n      <td>9045019</td>\n      <td>교도소 이야기구먼 솔직히 재미는 없다 평점 조정</td>\n      <td>0</td>\n    </tr>\n    <tr>\n      <th>4</th>\n      <td>6483659</td>\n      <td>사이몬페그의 익살스런 연기가 돋보였던 영화 스파이더맨에서 늙어보이기만 했던 커스틴 ...</td>\n      <td>1</td>\n    </tr>\n  </tbody>\n</table>\n</div>"
     },
     "execution_count": 15,
     "metadata": {},
     "output_type": "execute_result"
    }
   ],
   "source": [
    "dfNsmcTrain.head()"
   ],
   "metadata": {
    "collapsed": false,
    "ExecuteTime": {
     "end_time": "2024-03-26T06:09:09.034487Z",
     "start_time": "2024-03-26T06:09:09.031254Z"
    }
   },
   "id": "deeee5e8ba454c3e",
   "execution_count": 15
  },
  {
   "cell_type": "code",
   "outputs": [],
   "source": [
    "# 빈 row 제거\n",
    "dfNsmcTrain = dfNsmcTrain[dfNsmcTrain['document'] != ' ']"
   ],
   "metadata": {
    "collapsed": false,
    "ExecuteTime": {
     "end_time": "2024-03-26T06:09:09.047117Z",
     "start_time": "2024-03-26T06:09:09.036680Z"
    }
   },
   "id": "7132a127755a3ff5",
   "execution_count": 16
  },
  {
   "cell_type": "code",
   "outputs": [],
   "source": [
    "# 벡터화 라이브러리 등록\n",
    "import konlpy\n",
    "from konlpy.tag import Okt\n",
    "from sklearn.feature_extraction.text import TfidfVectorizer\n",
    "\n",
    "# 로지스틱회귀 라이브러리 등록\n",
    "from sklearn.linear_model import LogisticRegression\n",
    "from sklearn.model_selection import GridSearchCV\n",
    "from sklearn.metrics import accuracy_score"
   ],
   "metadata": {
    "collapsed": false,
    "ExecuteTime": {
     "end_time": "2024-03-26T06:09:09.196775Z",
     "start_time": "2024-03-26T06:09:09.047903Z"
    }
   },
   "id": "e7f0ff2b60695e8c",
   "execution_count": 17
  },
  {
   "cell_type": "code",
   "outputs": [],
   "source": [
    "okt = Okt()"
   ],
   "metadata": {
    "collapsed": false,
    "ExecuteTime": {
     "end_time": "2024-03-26T06:09:09.544844Z",
     "start_time": "2024-03-26T06:09:09.197622Z"
    }
   },
   "id": "49c0e0f4fcd415ab",
   "execution_count": 18
  },
  {
   "cell_type": "code",
   "outputs": [],
   "source": [
    "def oktToken(text):\n",
    "    tokens = okt.morphs(text)\n",
    "    return tokens"
   ],
   "metadata": {
    "collapsed": false,
    "ExecuteTime": {
     "end_time": "2024-03-26T06:09:09.547312Z",
     "start_time": "2024-03-26T06:09:09.545484Z"
    }
   },
   "id": "be2f459c8a08ed2e",
   "execution_count": 19
  },
  {
   "cell_type": "code",
   "outputs": [],
   "source": [
    "# 벡터화 객체 생성\n",
    "tfidf = TfidfVectorizer(tokenizer=oktToken, ngram_range=(1, 2), min_df=3, max_df=0.9)"
   ],
   "metadata": {
    "collapsed": false,
    "ExecuteTime": {
     "end_time": "2024-03-26T06:09:09.549801Z",
     "start_time": "2024-03-26T06:09:09.548114Z"
    }
   },
   "id": "f804f9bd32b1d2e3",
   "execution_count": 20
  },
  {
   "cell_type": "code",
   "outputs": [
    {
     "name": "stderr",
     "output_type": "stream",
     "text": [
      "/Library/Frameworks/Python.framework/Versions/3.12/lib/python3.12/site-packages/sklearn/feature_extraction/text.py:525: UserWarning: The parameter 'token_pattern' will not be used since 'tokenizer' is not None'\n",
      "  warnings.warn(\n"
     ]
    }
   ],
   "source": [
    "tfidf.fit(dfNsmcTrain['document'])\n",
    "nsmc_train_tfidf = tfidf.transform(dfNsmcTrain['document'])"
   ],
   "metadata": {
    "collapsed": false,
    "ExecuteTime": {
     "end_time": "2024-03-26T06:14:07.923558Z",
     "start_time": "2024-03-26T06:09:09.550336Z"
    }
   },
   "id": "2d11302502634178",
   "execution_count": 21
  },
  {
   "cell_type": "code",
   "outputs": [],
   "source": [
    "# 로지스틱회귀 모델 생성\n",
    "model = LogisticRegression(random_state=0, C=3.5)"
   ],
   "metadata": {
    "collapsed": false,
    "ExecuteTime": {
     "end_time": "2024-03-26T06:14:07.925884Z",
     "start_time": "2024-03-26T06:14:07.924139Z"
    }
   },
   "id": "9bfbeaf14a87f9e2",
   "execution_count": 22
  },
  {
   "cell_type": "code",
   "outputs": [
    {
     "data": {
      "text/plain": "{'C': 3.5,\n 'class_weight': None,\n 'dual': False,\n 'fit_intercept': True,\n 'intercept_scaling': 1,\n 'l1_ratio': None,\n 'max_iter': 100,\n 'multi_class': 'auto',\n 'n_jobs': None,\n 'penalty': 'l2',\n 'random_state': 0,\n 'solver': 'lbfgs',\n 'tol': 0.0001,\n 'verbose': 0,\n 'warm_start': False}"
     },
     "execution_count": 23,
     "metadata": {},
     "output_type": "execute_result"
    }
   ],
   "source": [
    "model.get_params()"
   ],
   "metadata": {
    "collapsed": false,
    "ExecuteTime": {
     "end_time": "2024-03-26T06:14:07.928798Z",
     "start_time": "2024-03-26T06:14:07.926670Z"
    }
   },
   "id": "a26b8c9d2721b9a",
   "execution_count": 23
  },
  {
   "cell_type": "code",
   "outputs": [
    {
     "name": "stderr",
     "output_type": "stream",
     "text": [
      "/Library/Frameworks/Python.framework/Versions/3.12/lib/python3.12/site-packages/sklearn/linear_model/_logistic.py:469: ConvergenceWarning: lbfgs failed to converge (status=1):\n",
      "STOP: TOTAL NO. of ITERATIONS REACHED LIMIT.\n",
      "\n",
      "Increase the number of iterations (max_iter) or scale the data as shown in:\n",
      "    https://scikit-learn.org/stable/modules/preprocessing.html\n",
      "Please also refer to the documentation for alternative solver options:\n",
      "    https://scikit-learn.org/stable/modules/linear_model.html#logistic-regression\n",
      "  n_iter_i = _check_optimize_result(\n"
     ]
    },
    {
     "data": {
      "text/plain": "LogisticRegression(C=3.5, random_state=0)",
      "text/html": "<style>#sk-container-id-1 {\n  /* Definition of color scheme common for light and dark mode */\n  --sklearn-color-text: black;\n  --sklearn-color-line: gray;\n  /* Definition of color scheme for unfitted estimators */\n  --sklearn-color-unfitted-level-0: #fff5e6;\n  --sklearn-color-unfitted-level-1: #f6e4d2;\n  --sklearn-color-unfitted-level-2: #ffe0b3;\n  --sklearn-color-unfitted-level-3: chocolate;\n  /* Definition of color scheme for fitted estimators */\n  --sklearn-color-fitted-level-0: #f0f8ff;\n  --sklearn-color-fitted-level-1: #d4ebff;\n  --sklearn-color-fitted-level-2: #b3dbfd;\n  --sklearn-color-fitted-level-3: cornflowerblue;\n\n  /* Specific color for light theme */\n  --sklearn-color-text-on-default-background: var(--sg-text-color, var(--theme-code-foreground, var(--jp-content-font-color1, black)));\n  --sklearn-color-background: var(--sg-background-color, var(--theme-background, var(--jp-layout-color0, white)));\n  --sklearn-color-border-box: var(--sg-text-color, var(--theme-code-foreground, var(--jp-content-font-color1, black)));\n  --sklearn-color-icon: #696969;\n\n  @media (prefers-color-scheme: dark) {\n    /* Redefinition of color scheme for dark theme */\n    --sklearn-color-text-on-default-background: var(--sg-text-color, var(--theme-code-foreground, var(--jp-content-font-color1, white)));\n    --sklearn-color-background: var(--sg-background-color, var(--theme-background, var(--jp-layout-color0, #111)));\n    --sklearn-color-border-box: var(--sg-text-color, var(--theme-code-foreground, var(--jp-content-font-color1, white)));\n    --sklearn-color-icon: #878787;\n  }\n}\n\n#sk-container-id-1 {\n  color: var(--sklearn-color-text);\n}\n\n#sk-container-id-1 pre {\n  padding: 0;\n}\n\n#sk-container-id-1 input.sk-hidden--visually {\n  border: 0;\n  clip: rect(1px 1px 1px 1px);\n  clip: rect(1px, 1px, 1px, 1px);\n  height: 1px;\n  margin: -1px;\n  overflow: hidden;\n  padding: 0;\n  position: absolute;\n  width: 1px;\n}\n\n#sk-container-id-1 div.sk-dashed-wrapped {\n  border: 1px dashed var(--sklearn-color-line);\n  margin: 0 0.4em 0.5em 0.4em;\n  box-sizing: border-box;\n  padding-bottom: 0.4em;\n  background-color: var(--sklearn-color-background);\n}\n\n#sk-container-id-1 div.sk-container {\n  /* jupyter's `normalize.less` sets `[hidden] { display: none; }`\n     but bootstrap.min.css set `[hidden] { display: none !important; }`\n     so we also need the `!important` here to be able to override the\n     default hidden behavior on the sphinx rendered scikit-learn.org.\n     See: https://github.com/scikit-learn/scikit-learn/issues/21755 */\n  display: inline-block !important;\n  position: relative;\n}\n\n#sk-container-id-1 div.sk-text-repr-fallback {\n  display: none;\n}\n\ndiv.sk-parallel-item,\ndiv.sk-serial,\ndiv.sk-item {\n  /* draw centered vertical line to link estimators */\n  background-image: linear-gradient(var(--sklearn-color-text-on-default-background), var(--sklearn-color-text-on-default-background));\n  background-size: 2px 100%;\n  background-repeat: no-repeat;\n  background-position: center center;\n}\n\n/* Parallel-specific style estimator block */\n\n#sk-container-id-1 div.sk-parallel-item::after {\n  content: \"\";\n  width: 100%;\n  border-bottom: 2px solid var(--sklearn-color-text-on-default-background);\n  flex-grow: 1;\n}\n\n#sk-container-id-1 div.sk-parallel {\n  display: flex;\n  align-items: stretch;\n  justify-content: center;\n  background-color: var(--sklearn-color-background);\n  position: relative;\n}\n\n#sk-container-id-1 div.sk-parallel-item {\n  display: flex;\n  flex-direction: column;\n}\n\n#sk-container-id-1 div.sk-parallel-item:first-child::after {\n  align-self: flex-end;\n  width: 50%;\n}\n\n#sk-container-id-1 div.sk-parallel-item:last-child::after {\n  align-self: flex-start;\n  width: 50%;\n}\n\n#sk-container-id-1 div.sk-parallel-item:only-child::after {\n  width: 0;\n}\n\n/* Serial-specific style estimator block */\n\n#sk-container-id-1 div.sk-serial {\n  display: flex;\n  flex-direction: column;\n  align-items: center;\n  background-color: var(--sklearn-color-background);\n  padding-right: 1em;\n  padding-left: 1em;\n}\n\n\n/* Toggleable style: style used for estimator/Pipeline/ColumnTransformer box that is\nclickable and can be expanded/collapsed.\n- Pipeline and ColumnTransformer use this feature and define the default style\n- Estimators will overwrite some part of the style using the `sk-estimator` class\n*/\n\n/* Pipeline and ColumnTransformer style (default) */\n\n#sk-container-id-1 div.sk-toggleable {\n  /* Default theme specific background. It is overwritten whether we have a\n  specific estimator or a Pipeline/ColumnTransformer */\n  background-color: var(--sklearn-color-background);\n}\n\n/* Toggleable label */\n#sk-container-id-1 label.sk-toggleable__label {\n  cursor: pointer;\n  display: block;\n  width: 100%;\n  margin-bottom: 0;\n  padding: 0.5em;\n  box-sizing: border-box;\n  text-align: center;\n}\n\n#sk-container-id-1 label.sk-toggleable__label-arrow:before {\n  /* Arrow on the left of the label */\n  content: \"▸\";\n  float: left;\n  margin-right: 0.25em;\n  color: var(--sklearn-color-icon);\n}\n\n#sk-container-id-1 label.sk-toggleable__label-arrow:hover:before {\n  color: var(--sklearn-color-text);\n}\n\n/* Toggleable content - dropdown */\n\n#sk-container-id-1 div.sk-toggleable__content {\n  max-height: 0;\n  max-width: 0;\n  overflow: hidden;\n  text-align: left;\n  /* unfitted */\n  background-color: var(--sklearn-color-unfitted-level-0);\n}\n\n#sk-container-id-1 div.sk-toggleable__content.fitted {\n  /* fitted */\n  background-color: var(--sklearn-color-fitted-level-0);\n}\n\n#sk-container-id-1 div.sk-toggleable__content pre {\n  margin: 0.2em;\n  border-radius: 0.25em;\n  color: var(--sklearn-color-text);\n  /* unfitted */\n  background-color: var(--sklearn-color-unfitted-level-0);\n}\n\n#sk-container-id-1 div.sk-toggleable__content.fitted pre {\n  /* unfitted */\n  background-color: var(--sklearn-color-fitted-level-0);\n}\n\n#sk-container-id-1 input.sk-toggleable__control:checked~div.sk-toggleable__content {\n  /* Expand drop-down */\n  max-height: 200px;\n  max-width: 100%;\n  overflow: auto;\n}\n\n#sk-container-id-1 input.sk-toggleable__control:checked~label.sk-toggleable__label-arrow:before {\n  content: \"▾\";\n}\n\n/* Pipeline/ColumnTransformer-specific style */\n\n#sk-container-id-1 div.sk-label input.sk-toggleable__control:checked~label.sk-toggleable__label {\n  color: var(--sklearn-color-text);\n  background-color: var(--sklearn-color-unfitted-level-2);\n}\n\n#sk-container-id-1 div.sk-label.fitted input.sk-toggleable__control:checked~label.sk-toggleable__label {\n  background-color: var(--sklearn-color-fitted-level-2);\n}\n\n/* Estimator-specific style */\n\n/* Colorize estimator box */\n#sk-container-id-1 div.sk-estimator input.sk-toggleable__control:checked~label.sk-toggleable__label {\n  /* unfitted */\n  background-color: var(--sklearn-color-unfitted-level-2);\n}\n\n#sk-container-id-1 div.sk-estimator.fitted input.sk-toggleable__control:checked~label.sk-toggleable__label {\n  /* fitted */\n  background-color: var(--sklearn-color-fitted-level-2);\n}\n\n#sk-container-id-1 div.sk-label label.sk-toggleable__label,\n#sk-container-id-1 div.sk-label label {\n  /* The background is the default theme color */\n  color: var(--sklearn-color-text-on-default-background);\n}\n\n/* On hover, darken the color of the background */\n#sk-container-id-1 div.sk-label:hover label.sk-toggleable__label {\n  color: var(--sklearn-color-text);\n  background-color: var(--sklearn-color-unfitted-level-2);\n}\n\n/* Label box, darken color on hover, fitted */\n#sk-container-id-1 div.sk-label.fitted:hover label.sk-toggleable__label.fitted {\n  color: var(--sklearn-color-text);\n  background-color: var(--sklearn-color-fitted-level-2);\n}\n\n/* Estimator label */\n\n#sk-container-id-1 div.sk-label label {\n  font-family: monospace;\n  font-weight: bold;\n  display: inline-block;\n  line-height: 1.2em;\n}\n\n#sk-container-id-1 div.sk-label-container {\n  text-align: center;\n}\n\n/* Estimator-specific */\n#sk-container-id-1 div.sk-estimator {\n  font-family: monospace;\n  border: 1px dotted var(--sklearn-color-border-box);\n  border-radius: 0.25em;\n  box-sizing: border-box;\n  margin-bottom: 0.5em;\n  /* unfitted */\n  background-color: var(--sklearn-color-unfitted-level-0);\n}\n\n#sk-container-id-1 div.sk-estimator.fitted {\n  /* fitted */\n  background-color: var(--sklearn-color-fitted-level-0);\n}\n\n/* on hover */\n#sk-container-id-1 div.sk-estimator:hover {\n  /* unfitted */\n  background-color: var(--sklearn-color-unfitted-level-2);\n}\n\n#sk-container-id-1 div.sk-estimator.fitted:hover {\n  /* fitted */\n  background-color: var(--sklearn-color-fitted-level-2);\n}\n\n/* Specification for estimator info (e.g. \"i\" and \"?\") */\n\n/* Common style for \"i\" and \"?\" */\n\n.sk-estimator-doc-link,\na:link.sk-estimator-doc-link,\na:visited.sk-estimator-doc-link {\n  float: right;\n  font-size: smaller;\n  line-height: 1em;\n  font-family: monospace;\n  background-color: var(--sklearn-color-background);\n  border-radius: 1em;\n  height: 1em;\n  width: 1em;\n  text-decoration: none !important;\n  margin-left: 1ex;\n  /* unfitted */\n  border: var(--sklearn-color-unfitted-level-1) 1pt solid;\n  color: var(--sklearn-color-unfitted-level-1);\n}\n\n.sk-estimator-doc-link.fitted,\na:link.sk-estimator-doc-link.fitted,\na:visited.sk-estimator-doc-link.fitted {\n  /* fitted */\n  border: var(--sklearn-color-fitted-level-1) 1pt solid;\n  color: var(--sklearn-color-fitted-level-1);\n}\n\n/* On hover */\ndiv.sk-estimator:hover .sk-estimator-doc-link:hover,\n.sk-estimator-doc-link:hover,\ndiv.sk-label-container:hover .sk-estimator-doc-link:hover,\n.sk-estimator-doc-link:hover {\n  /* unfitted */\n  background-color: var(--sklearn-color-unfitted-level-3);\n  color: var(--sklearn-color-background);\n  text-decoration: none;\n}\n\ndiv.sk-estimator.fitted:hover .sk-estimator-doc-link.fitted:hover,\n.sk-estimator-doc-link.fitted:hover,\ndiv.sk-label-container:hover .sk-estimator-doc-link.fitted:hover,\n.sk-estimator-doc-link.fitted:hover {\n  /* fitted */\n  background-color: var(--sklearn-color-fitted-level-3);\n  color: var(--sklearn-color-background);\n  text-decoration: none;\n}\n\n/* Span, style for the box shown on hovering the info icon */\n.sk-estimator-doc-link span {\n  display: none;\n  z-index: 9999;\n  position: relative;\n  font-weight: normal;\n  right: .2ex;\n  padding: .5ex;\n  margin: .5ex;\n  width: min-content;\n  min-width: 20ex;\n  max-width: 50ex;\n  color: var(--sklearn-color-text);\n  box-shadow: 2pt 2pt 4pt #999;\n  /* unfitted */\n  background: var(--sklearn-color-unfitted-level-0);\n  border: .5pt solid var(--sklearn-color-unfitted-level-3);\n}\n\n.sk-estimator-doc-link.fitted span {\n  /* fitted */\n  background: var(--sklearn-color-fitted-level-0);\n  border: var(--sklearn-color-fitted-level-3);\n}\n\n.sk-estimator-doc-link:hover span {\n  display: block;\n}\n\n/* \"?\"-specific style due to the `<a>` HTML tag */\n\n#sk-container-id-1 a.estimator_doc_link {\n  float: right;\n  font-size: 1rem;\n  line-height: 1em;\n  font-family: monospace;\n  background-color: var(--sklearn-color-background);\n  border-radius: 1rem;\n  height: 1rem;\n  width: 1rem;\n  text-decoration: none;\n  /* unfitted */\n  color: var(--sklearn-color-unfitted-level-1);\n  border: var(--sklearn-color-unfitted-level-1) 1pt solid;\n}\n\n#sk-container-id-1 a.estimator_doc_link.fitted {\n  /* fitted */\n  border: var(--sklearn-color-fitted-level-1) 1pt solid;\n  color: var(--sklearn-color-fitted-level-1);\n}\n\n/* On hover */\n#sk-container-id-1 a.estimator_doc_link:hover {\n  /* unfitted */\n  background-color: var(--sklearn-color-unfitted-level-3);\n  color: var(--sklearn-color-background);\n  text-decoration: none;\n}\n\n#sk-container-id-1 a.estimator_doc_link.fitted:hover {\n  /* fitted */\n  background-color: var(--sklearn-color-fitted-level-3);\n}\n</style><div id=\"sk-container-id-1\" class=\"sk-top-container\"><div class=\"sk-text-repr-fallback\"><pre>LogisticRegression(C=3.5, random_state=0)</pre><b>In a Jupyter environment, please rerun this cell to show the HTML representation or trust the notebook. <br />On GitHub, the HTML representation is unable to render, please try loading this page with nbviewer.org.</b></div><div class=\"sk-container\" hidden><div class=\"sk-item\"><div class=\"sk-estimator fitted sk-toggleable\"><input class=\"sk-toggleable__control sk-hidden--visually\" id=\"sk-estimator-id-1\" type=\"checkbox\" checked><label for=\"sk-estimator-id-1\" class=\"sk-toggleable__label fitted sk-toggleable__label-arrow fitted\">&nbsp;&nbsp;LogisticRegression<a class=\"sk-estimator-doc-link fitted\" rel=\"noreferrer\" target=\"_blank\" href=\"https://scikit-learn.org/1.4/modules/generated/sklearn.linear_model.LogisticRegression.html\">?<span>Documentation for LogisticRegression</span></a><span class=\"sk-estimator-doc-link fitted\">i<span>Fitted</span></span></label><div class=\"sk-toggleable__content fitted\"><pre>LogisticRegression(C=3.5, random_state=0)</pre></div> </div></div></div></div>"
     },
     "execution_count": 24,
     "metadata": {},
     "output_type": "execute_result"
    }
   ],
   "source": [
    "model.fit(nsmc_train_tfidf, dfNsmcTrain['label'])"
   ],
   "metadata": {
    "collapsed": false,
    "ExecuteTime": {
     "end_time": "2024-03-26T06:14:09.546917Z",
     "start_time": "2024-03-26T06:14:07.929416Z"
    }
   },
   "id": "27a311b3c8e908f4",
   "execution_count": 24
  },
  {
   "cell_type": "markdown",
   "source": [
    "#### 네이버 뉴스 타이틀로 감성 분석"
   ],
   "metadata": {
    "collapsed": false
   },
   "id": "3e7c31b641bb4c62"
  },
  {
   "cell_type": "code",
   "outputs": [],
   "source": [
    "# 분석할 데이터의 벡터화\n",
    "data_title_tfidf = tfidf.transform(dfData['title'])"
   ],
   "metadata": {
    "collapsed": false,
    "ExecuteTime": {
     "end_time": "2024-03-26T06:14:09.988255Z",
     "start_time": "2024-03-26T06:14:09.547595Z"
    }
   },
   "id": "ef1e42c9b85edc18",
   "execution_count": 25
  },
  {
   "cell_type": "code",
   "outputs": [],
   "source": [
    "# 감성 분석(로지스틱회귀)\n",
    "title_predict = model.predict(data_title_tfidf)"
   ],
   "metadata": {
    "collapsed": false,
    "ExecuteTime": {
     "end_time": "2024-03-26T06:14:09.990551Z",
     "start_time": "2024-03-26T06:14:09.988848Z"
    }
   },
   "id": "a717676f727a7a5",
   "execution_count": 26
  },
  {
   "cell_type": "code",
   "outputs": [],
   "source": [
    "# 감성분석 결과를 DataFrame으로 저장\n",
    "dfData['title_label'] = title_predict"
   ],
   "metadata": {
    "collapsed": false,
    "ExecuteTime": {
     "end_time": "2024-03-26T06:14:09.993280Z",
     "start_time": "2024-03-26T06:14:09.991349Z"
    }
   },
   "id": "b29dc92915fd36bb",
   "execution_count": 27
  },
  {
   "cell_type": "code",
   "outputs": [
    {
     "data": {
      "text/plain": "                             title                pDate  \\\n0     결국 증세론 먼저 꺼내든 증세없는 기본소득 불가능   2020-06-04 14:12:00   \n1             창녕군 창녕형 비대면 선별진료소 운영  2020-06-04 14:12:00   \n2              모바일 메인 홍보 모델로 설현 선정  2020-06-04 14:12:00   \n3  김병민 기본소득도 필요하면 논의 테이블에 올려야 인터뷰   2020-06-04 14:12:00   \n4           이재갑 장관 고용안정지원금 서울센터 방문  2020-06-04 14:12:00   \n\n                                         description  title_label  \n0   코로나 발 경제 위기 대응을 위해 돈 쓸 곳은 늘어났지만 국세 수입은 줄어들면서 ...            0  \n1   지난 일 창녕군보건소 앞에 설치한 선별진료소에서 검사자가 체온을 측정하고 있다 사...            0  \n2  한편 설현 은 최근 코로나 바이러스를 다룬 시리즈 세계적 유행 에서 다큐멘터리 내레...            1  \n3  변화의 핵심 중에서는 우리 사회가 신종 코로나 바이러스 감염증 코로나 의 위기를 마...            0  \n4   이재갑 고용노동부 장관은 월 일 수 시에 코로나 긴급 고용안정지원금 서울 센터 서...            1  ",
      "text/html": "<div>\n<style scoped>\n    .dataframe tbody tr th:only-of-type {\n        vertical-align: middle;\n    }\n\n    .dataframe tbody tr th {\n        vertical-align: top;\n    }\n\n    .dataframe thead th {\n        text-align: right;\n    }\n</style>\n<table border=\"1\" class=\"dataframe\">\n  <thead>\n    <tr style=\"text-align: right;\">\n      <th></th>\n      <th>title</th>\n      <th>pDate</th>\n      <th>description</th>\n      <th>title_label</th>\n    </tr>\n  </thead>\n  <tbody>\n    <tr>\n      <th>0</th>\n      <td>결국 증세론 먼저 꺼내든 증세없는 기본소득 불가능</td>\n      <td>2020-06-04 14:12:00</td>\n      <td>코로나 발 경제 위기 대응을 위해 돈 쓸 곳은 늘어났지만 국세 수입은 줄어들면서 ...</td>\n      <td>0</td>\n    </tr>\n    <tr>\n      <th>1</th>\n      <td>창녕군 창녕형 비대면 선별진료소 운영</td>\n      <td>2020-06-04 14:12:00</td>\n      <td>지난 일 창녕군보건소 앞에 설치한 선별진료소에서 검사자가 체온을 측정하고 있다 사...</td>\n      <td>0</td>\n    </tr>\n    <tr>\n      <th>2</th>\n      <td>모바일 메인 홍보 모델로 설현 선정</td>\n      <td>2020-06-04 14:12:00</td>\n      <td>한편 설현 은 최근 코로나 바이러스를 다룬 시리즈 세계적 유행 에서 다큐멘터리 내레...</td>\n      <td>1</td>\n    </tr>\n    <tr>\n      <th>3</th>\n      <td>김병민 기본소득도 필요하면 논의 테이블에 올려야 인터뷰</td>\n      <td>2020-06-04 14:12:00</td>\n      <td>변화의 핵심 중에서는 우리 사회가 신종 코로나 바이러스 감염증 코로나 의 위기를 마...</td>\n      <td>0</td>\n    </tr>\n    <tr>\n      <th>4</th>\n      <td>이재갑 장관 고용안정지원금 서울센터 방문</td>\n      <td>2020-06-04 14:12:00</td>\n      <td>이재갑 고용노동부 장관은 월 일 수 시에 코로나 긴급 고용안정지원금 서울 센터 서...</td>\n      <td>1</td>\n    </tr>\n  </tbody>\n</table>\n</div>"
     },
     "execution_count": 28,
     "metadata": {},
     "output_type": "execute_result"
    }
   ],
   "source": [
    "dfData.head()"
   ],
   "metadata": {
    "collapsed": false,
    "ExecuteTime": {
     "end_time": "2024-03-26T06:14:09.997052Z",
     "start_time": "2024-03-26T06:14:09.993767Z"
    }
   },
   "id": "87e1ff373fadde60",
   "execution_count": 28
  },
  {
   "cell_type": "code",
   "outputs": [],
   "source": [
    "# 설명(description)도 동일하게 감성분석\n",
    "data_desc_tfidf = tfidf.transform(dfData['description'])"
   ],
   "metadata": {
    "collapsed": false,
    "ExecuteTime": {
     "end_time": "2024-03-26T06:14:11.824874Z",
     "start_time": "2024-03-26T06:14:09.997655Z"
    }
   },
   "id": "5fb5ff7241dbb05c",
   "execution_count": 29
  },
  {
   "cell_type": "code",
   "outputs": [],
   "source": [
    "desc_predict = model.predict(data_desc_tfidf)"
   ],
   "metadata": {
    "collapsed": false,
    "ExecuteTime": {
     "end_time": "2024-03-26T06:14:11.827692Z",
     "start_time": "2024-03-26T06:14:11.825725Z"
    }
   },
   "id": "d5fee44f26979997",
   "execution_count": 30
  },
  {
   "cell_type": "code",
   "outputs": [],
   "source": [
    "dfData['desc_label'] = desc_predict"
   ],
   "metadata": {
    "collapsed": false,
    "ExecuteTime": {
     "end_time": "2024-03-26T06:14:11.830397Z",
     "start_time": "2024-03-26T06:14:11.828388Z"
    }
   },
   "id": "bf71753ed478e154",
   "execution_count": 31
  },
  {
   "cell_type": "code",
   "outputs": [
    {
     "data": {
      "text/plain": "                             title                pDate  \\\n0     결국 증세론 먼저 꺼내든 증세없는 기본소득 불가능   2020-06-04 14:12:00   \n1             창녕군 창녕형 비대면 선별진료소 운영  2020-06-04 14:12:00   \n2              모바일 메인 홍보 모델로 설현 선정  2020-06-04 14:12:00   \n3  김병민 기본소득도 필요하면 논의 테이블에 올려야 인터뷰   2020-06-04 14:12:00   \n4           이재갑 장관 고용안정지원금 서울센터 방문  2020-06-04 14:12:00   \n\n                                         description  title_label  desc_label  \n0   코로나 발 경제 위기 대응을 위해 돈 쓸 곳은 늘어났지만 국세 수입은 줄어들면서 ...            0           0  \n1   지난 일 창녕군보건소 앞에 설치한 선별진료소에서 검사자가 체온을 측정하고 있다 사...            0           0  \n2  한편 설현 은 최근 코로나 바이러스를 다룬 시리즈 세계적 유행 에서 다큐멘터리 내레...            1           0  \n3  변화의 핵심 중에서는 우리 사회가 신종 코로나 바이러스 감염증 코로나 의 위기를 마...            0           1  \n4   이재갑 고용노동부 장관은 월 일 수 시에 코로나 긴급 고용안정지원금 서울 센터 서...            1           0  ",
      "text/html": "<div>\n<style scoped>\n    .dataframe tbody tr th:only-of-type {\n        vertical-align: middle;\n    }\n\n    .dataframe tbody tr th {\n        vertical-align: top;\n    }\n\n    .dataframe thead th {\n        text-align: right;\n    }\n</style>\n<table border=\"1\" class=\"dataframe\">\n  <thead>\n    <tr style=\"text-align: right;\">\n      <th></th>\n      <th>title</th>\n      <th>pDate</th>\n      <th>description</th>\n      <th>title_label</th>\n      <th>desc_label</th>\n    </tr>\n  </thead>\n  <tbody>\n    <tr>\n      <th>0</th>\n      <td>결국 증세론 먼저 꺼내든 증세없는 기본소득 불가능</td>\n      <td>2020-06-04 14:12:00</td>\n      <td>코로나 발 경제 위기 대응을 위해 돈 쓸 곳은 늘어났지만 국세 수입은 줄어들면서 ...</td>\n      <td>0</td>\n      <td>0</td>\n    </tr>\n    <tr>\n      <th>1</th>\n      <td>창녕군 창녕형 비대면 선별진료소 운영</td>\n      <td>2020-06-04 14:12:00</td>\n      <td>지난 일 창녕군보건소 앞에 설치한 선별진료소에서 검사자가 체온을 측정하고 있다 사...</td>\n      <td>0</td>\n      <td>0</td>\n    </tr>\n    <tr>\n      <th>2</th>\n      <td>모바일 메인 홍보 모델로 설현 선정</td>\n      <td>2020-06-04 14:12:00</td>\n      <td>한편 설현 은 최근 코로나 바이러스를 다룬 시리즈 세계적 유행 에서 다큐멘터리 내레...</td>\n      <td>1</td>\n      <td>0</td>\n    </tr>\n    <tr>\n      <th>3</th>\n      <td>김병민 기본소득도 필요하면 논의 테이블에 올려야 인터뷰</td>\n      <td>2020-06-04 14:12:00</td>\n      <td>변화의 핵심 중에서는 우리 사회가 신종 코로나 바이러스 감염증 코로나 의 위기를 마...</td>\n      <td>0</td>\n      <td>1</td>\n    </tr>\n    <tr>\n      <th>4</th>\n      <td>이재갑 장관 고용안정지원금 서울센터 방문</td>\n      <td>2020-06-04 14:12:00</td>\n      <td>이재갑 고용노동부 장관은 월 일 수 시에 코로나 긴급 고용안정지원금 서울 센터 서...</td>\n      <td>1</td>\n      <td>0</td>\n    </tr>\n  </tbody>\n</table>\n</div>"
     },
     "execution_count": 32,
     "metadata": {},
     "output_type": "execute_result"
    }
   ],
   "source": [
    "dfData.head()"
   ],
   "metadata": {
    "collapsed": false,
    "ExecuteTime": {
     "end_time": "2024-03-26T06:14:11.834436Z",
     "start_time": "2024-03-26T06:14:11.831021Z"
    }
   },
   "id": "2bf81502a65a7efc",
   "execution_count": 32
  },
  {
   "cell_type": "code",
   "outputs": [],
   "source": [
    "# 엑셀파일로 저장\n",
    "dfData.to_excel('./data/코로나뉴스_감성분석_결과.xlsx', index=False)"
   ],
   "metadata": {
    "collapsed": false,
    "ExecuteTime": {
     "end_time": "2024-03-26T06:14:11.905938Z",
     "start_time": "2024-03-26T06:14:11.835364Z"
    }
   },
   "id": "2b0042e9a2057457",
   "execution_count": 33
  },
  {
   "cell_type": "markdown",
   "source": [
    "#### 시각화 준비"
   ],
   "metadata": {
    "collapsed": false
   },
   "id": "868f41bdea2b52dd"
  },
  {
   "cell_type": "code",
   "outputs": [],
   "source": [
    "# 최종데이터 로드\n",
    "dfResult = pd.read_excel('./data/코로나뉴스_감성분석_결과.xlsx')"
   ],
   "metadata": {
    "collapsed": false,
    "ExecuteTime": {
     "end_time": "2024-03-26T06:14:11.945596Z",
     "start_time": "2024-03-26T06:14:11.909748Z"
    }
   },
   "id": "40bc644781df621d",
   "execution_count": 34
  },
  {
   "cell_type": "code",
   "outputs": [
    {
     "data": {
      "text/plain": "                                     title                pDate  \\\n795   세계의 눈 코로나 영향 현대차 매출 큰 타격 하지만 차량은 순항   2020-06-04 13:36:00   \n796             중부발전 소규모 태양광사업자 판매대금 선 지급   2020-06-04 13:36:00   \n797          코로나 함께 극복 박종환 자유총연맹 총재 캠페인 참여  2020-06-04 13:36:00   \n798      치과의사 명 모이는 행사 앞두고 치협 회장 행사 취소해달라   2020-06-04 13:36:00   \n799                  포토|대종상영화제 문가영 발랄 듬 뿍   2020-06-04 13:36:00   \n\n                                           description  title_label  \\\n795  글로벌기업 현대 기아차가 코로나 의 여파로 해외시장에서 고전을 면치 못하고 있는 가...            0   \n796  한국중부발전 본사 전경 한국중부발전 사장 박형구 은 코로나 장기화로 인해 경제적 어...            1   \n797  박종환 한국자유총연맹 총재 신종 코로나 바이러스 감염증 코로나 극복과 조기 종식을 ...            1   \n798  이상훈 회장은 코로나 신규 확진자가 수도권에서 발생했고 정부는 수도권 한정 사회적 ...            0   \n799  제 회 대종상영화제 참석한 문가영제 회 대종상영화제 참석한 문가영 코로나 여파로 무...            0   \n\n     desc_label  \n795           0  \n796           1  \n797           1  \n798           1  \n799           0  ",
      "text/html": "<div>\n<style scoped>\n    .dataframe tbody tr th:only-of-type {\n        vertical-align: middle;\n    }\n\n    .dataframe tbody tr th {\n        vertical-align: top;\n    }\n\n    .dataframe thead th {\n        text-align: right;\n    }\n</style>\n<table border=\"1\" class=\"dataframe\">\n  <thead>\n    <tr style=\"text-align: right;\">\n      <th></th>\n      <th>title</th>\n      <th>pDate</th>\n      <th>description</th>\n      <th>title_label</th>\n      <th>desc_label</th>\n    </tr>\n  </thead>\n  <tbody>\n    <tr>\n      <th>795</th>\n      <td>세계의 눈 코로나 영향 현대차 매출 큰 타격 하지만 차량은 순항</td>\n      <td>2020-06-04 13:36:00</td>\n      <td>글로벌기업 현대 기아차가 코로나 의 여파로 해외시장에서 고전을 면치 못하고 있는 가...</td>\n      <td>0</td>\n      <td>0</td>\n    </tr>\n    <tr>\n      <th>796</th>\n      <td>중부발전 소규모 태양광사업자 판매대금 선 지급</td>\n      <td>2020-06-04 13:36:00</td>\n      <td>한국중부발전 본사 전경 한국중부발전 사장 박형구 은 코로나 장기화로 인해 경제적 어...</td>\n      <td>1</td>\n      <td>1</td>\n    </tr>\n    <tr>\n      <th>797</th>\n      <td>코로나 함께 극복 박종환 자유총연맹 총재 캠페인 참여</td>\n      <td>2020-06-04 13:36:00</td>\n      <td>박종환 한국자유총연맹 총재 신종 코로나 바이러스 감염증 코로나 극복과 조기 종식을 ...</td>\n      <td>1</td>\n      <td>1</td>\n    </tr>\n    <tr>\n      <th>798</th>\n      <td>치과의사 명 모이는 행사 앞두고 치협 회장 행사 취소해달라</td>\n      <td>2020-06-04 13:36:00</td>\n      <td>이상훈 회장은 코로나 신규 확진자가 수도권에서 발생했고 정부는 수도권 한정 사회적 ...</td>\n      <td>0</td>\n      <td>1</td>\n    </tr>\n    <tr>\n      <th>799</th>\n      <td>포토|대종상영화제 문가영 발랄 듬 뿍</td>\n      <td>2020-06-04 13:36:00</td>\n      <td>제 회 대종상영화제 참석한 문가영제 회 대종상영화제 참석한 문가영 코로나 여파로 무...</td>\n      <td>0</td>\n      <td>0</td>\n    </tr>\n  </tbody>\n</table>\n</div>"
     },
     "execution_count": 35,
     "metadata": {},
     "output_type": "execute_result"
    }
   ],
   "source": [
    "dfResult.tail()"
   ],
   "metadata": {
    "collapsed": false,
    "ExecuteTime": {
     "end_time": "2024-03-26T06:14:11.949518Z",
     "start_time": "2024-03-26T06:14:11.946211Z"
    }
   },
   "id": "4196c7d7f691db19",
   "execution_count": 35
  },
  {
   "cell_type": "code",
   "outputs": [
    {
     "data": {
      "text/plain": "title_label\n0    479\n1    321\nName: count, dtype: int64"
     },
     "execution_count": 36,
     "metadata": {},
     "output_type": "execute_result"
    }
   ],
   "source": [
    "dfResult['title_label'].value_counts()"
   ],
   "metadata": {
    "collapsed": false,
    "ExecuteTime": {
     "end_time": "2024-03-26T06:14:11.952358Z",
     "start_time": "2024-03-26T06:14:11.950027Z"
    }
   },
   "id": "9c906abd5e5f59a9",
   "execution_count": 36
  },
  {
   "cell_type": "code",
   "outputs": [
    {
     "data": {
      "text/plain": "desc_label\n0    447\n1    353\nName: count, dtype: int64"
     },
     "execution_count": 37,
     "metadata": {},
     "output_type": "execute_result"
    }
   ],
   "source": [
    "dfResult['desc_label'].value_counts()"
   ],
   "metadata": {
    "collapsed": false,
    "ExecuteTime": {
     "end_time": "2024-03-26T06:14:11.955421Z",
     "start_time": "2024-03-26T06:14:11.952980Z"
    }
   },
   "id": "ed66b7950769165b",
   "execution_count": 37
  },
  {
   "cell_type": "code",
   "outputs": [],
   "source": [
    "# 긍정적결과와 부정적결과를 분리\n",
    "column_names = dfResult.columns.tolist()"
   ],
   "metadata": {
    "collapsed": false,
    "ExecuteTime": {
     "end_time": "2024-03-26T06:14:11.957472Z",
     "start_time": "2024-03-26T06:14:11.956055Z"
    }
   },
   "id": "56a5d3bcce9bd1bb",
   "execution_count": 38
  },
  {
   "cell_type": "code",
   "outputs": [],
   "source": [
    "column_names.remove('pDate')"
   ],
   "metadata": {
    "collapsed": false,
    "ExecuteTime": {
     "end_time": "2024-03-26T06:14:11.959491Z",
     "start_time": "2024-03-26T06:14:11.958113Z"
    }
   },
   "id": "511cd0deb15886e8",
   "execution_count": 39
  },
  {
   "cell_type": "code",
   "outputs": [
    {
     "data": {
      "text/plain": "['title', 'description', 'title_label', 'desc_label']"
     },
     "execution_count": 40,
     "metadata": {},
     "output_type": "execute_result"
    }
   ],
   "source": [
    "column_names"
   ],
   "metadata": {
    "collapsed": false,
    "ExecuteTime": {
     "end_time": "2024-03-26T06:14:11.961863Z",
     "start_time": "2024-03-26T06:14:11.960083Z"
    }
   },
   "id": "b72402b79e402270",
   "execution_count": 40
  },
  {
   "cell_type": "code",
   "outputs": [
    {
     "data": {
      "text/plain": "                             title                pDate  \\\n0     결국 증세론 먼저 꺼내든 증세없는 기본소득 불가능   2020-06-04 14:12:00   \n1             창녕군 창녕형 비대면 선별진료소 운영  2020-06-04 14:12:00   \n2              모바일 메인 홍보 모델로 설현 선정  2020-06-04 14:12:00   \n3  김병민 기본소득도 필요하면 논의 테이블에 올려야 인터뷰   2020-06-04 14:12:00   \n4           이재갑 장관 고용안정지원금 서울센터 방문  2020-06-04 14:12:00   \n\n                                         description  title_label  desc_label  \n0   코로나 발 경제 위기 대응을 위해 돈 쓸 곳은 늘어났지만 국세 수입은 줄어들면서 ...            0           0  \n1   지난 일 창녕군보건소 앞에 설치한 선별진료소에서 검사자가 체온을 측정하고 있다 사...            0           0  \n2  한편 설현 은 최근 코로나 바이러스를 다룬 시리즈 세계적 유행 에서 다큐멘터리 내레...            1           0  \n3  변화의 핵심 중에서는 우리 사회가 신종 코로나 바이러스 감염증 코로나 의 위기를 마...            0           1  \n4   이재갑 고용노동부 장관은 월 일 수 시에 코로나 긴급 고용안정지원금 서울 센터 서...            1           0  ",
      "text/html": "<div>\n<style scoped>\n    .dataframe tbody tr th:only-of-type {\n        vertical-align: middle;\n    }\n\n    .dataframe tbody tr th {\n        vertical-align: top;\n    }\n\n    .dataframe thead th {\n        text-align: right;\n    }\n</style>\n<table border=\"1\" class=\"dataframe\">\n  <thead>\n    <tr style=\"text-align: right;\">\n      <th></th>\n      <th>title</th>\n      <th>pDate</th>\n      <th>description</th>\n      <th>title_label</th>\n      <th>desc_label</th>\n    </tr>\n  </thead>\n  <tbody>\n    <tr>\n      <th>0</th>\n      <td>결국 증세론 먼저 꺼내든 증세없는 기본소득 불가능</td>\n      <td>2020-06-04 14:12:00</td>\n      <td>코로나 발 경제 위기 대응을 위해 돈 쓸 곳은 늘어났지만 국세 수입은 줄어들면서 ...</td>\n      <td>0</td>\n      <td>0</td>\n    </tr>\n    <tr>\n      <th>1</th>\n      <td>창녕군 창녕형 비대면 선별진료소 운영</td>\n      <td>2020-06-04 14:12:00</td>\n      <td>지난 일 창녕군보건소 앞에 설치한 선별진료소에서 검사자가 체온을 측정하고 있다 사...</td>\n      <td>0</td>\n      <td>0</td>\n    </tr>\n    <tr>\n      <th>2</th>\n      <td>모바일 메인 홍보 모델로 설현 선정</td>\n      <td>2020-06-04 14:12:00</td>\n      <td>한편 설현 은 최근 코로나 바이러스를 다룬 시리즈 세계적 유행 에서 다큐멘터리 내레...</td>\n      <td>1</td>\n      <td>0</td>\n    </tr>\n    <tr>\n      <th>3</th>\n      <td>김병민 기본소득도 필요하면 논의 테이블에 올려야 인터뷰</td>\n      <td>2020-06-04 14:12:00</td>\n      <td>변화의 핵심 중에서는 우리 사회가 신종 코로나 바이러스 감염증 코로나 의 위기를 마...</td>\n      <td>0</td>\n      <td>1</td>\n    </tr>\n    <tr>\n      <th>4</th>\n      <td>이재갑 장관 고용안정지원금 서울센터 방문</td>\n      <td>2020-06-04 14:12:00</td>\n      <td>이재갑 고용노동부 장관은 월 일 수 시에 코로나 긴급 고용안정지원금 서울 센터 서...</td>\n      <td>1</td>\n      <td>0</td>\n    </tr>\n  </tbody>\n</table>\n</div>"
     },
     "execution_count": 41,
     "metadata": {},
     "output_type": "execute_result"
    }
   ],
   "source": [
    "dfData.head()"
   ],
   "metadata": {
    "collapsed": false,
    "ExecuteTime": {
     "end_time": "2024-03-26T06:14:11.965439Z",
     "start_time": "2024-03-26T06:14:11.962416Z"
    }
   },
   "id": "6081a2fa5f60c1b5",
   "execution_count": 41
  },
  {
   "cell_type": "code",
   "outputs": [],
   "source": [
    "# 빈 DataFrame 생성\n",
    "dfPositiveData = pd.DataFrame(columns=column_names)\n",
    "dfnegativeData = pd.DataFrame(columns=column_names)\n",
    "\n",
    "# desc_label 이 긍정인지 부정인지에 따라 dfPositiveData 와 dfNegativeData에 나눠서 할당\n",
    "for i, data in dfData.iterrows():\n",
    "    title = data['title']\n",
    "    description = data['description']\n",
    "    title_label = data['title_label']\n",
    "    desc_label = data['desc_label']\n",
    "\n",
    "    if desc_label == 1:  # 긍정\n",
    "        dfTemp = pd.DataFrame([[title, description, title_label, desc_label]], columns=dfPositiveData.columns)\n",
    "        dfPositiveData = pd.concat([dfPositiveData, dfTemp])\n",
    "    else:  # 부정\n",
    "        dfTemp = pd.DataFrame([[title, description, title_label, desc_label]], columns=dfnegativeData.columns)\n",
    "        dfnegativeData = pd.concat([dfnegativeData, dfTemp])"
   ],
   "metadata": {
    "collapsed": false,
    "ExecuteTime": {
     "end_time": "2024-03-26T06:14:12.083736Z",
     "start_time": "2024-03-26T06:14:11.966163Z"
    }
   },
   "id": "59a94c2531dcfa1a",
   "execution_count": 42
  },
  {
   "cell_type": "code",
   "outputs": [
    {
     "data": {
      "text/plain": "353"
     },
     "execution_count": 43,
     "metadata": {},
     "output_type": "execute_result"
    }
   ],
   "source": [
    "len(dfPositiveData)"
   ],
   "metadata": {
    "collapsed": false,
    "ExecuteTime": {
     "end_time": "2024-03-26T06:14:12.087416Z",
     "start_time": "2024-03-26T06:14:12.084385Z"
    }
   },
   "id": "9b411821f36a7e8d",
   "execution_count": 43
  },
  {
   "cell_type": "code",
   "outputs": [
    {
     "data": {
      "text/plain": "447"
     },
     "execution_count": 44,
     "metadata": {},
     "output_type": "execute_result"
    }
   ],
   "source": [
    "len(dfnegativeData)"
   ],
   "metadata": {
    "collapsed": false,
    "ExecuteTime": {
     "end_time": "2024-03-26T06:14:12.090323Z",
     "start_time": "2024-03-26T06:14:12.088181Z"
    }
   },
   "id": "2fc1f939d09373ae",
   "execution_count": 44
  },
  {
   "cell_type": "markdown",
   "source": [
    "#### 시각화"
   ],
   "metadata": {
    "collapsed": false
   },
   "id": "cc944abcbce1f89b"
  },
  {
   "cell_type": "code",
   "outputs": [],
   "source": [
    "# 긍정 데이터에서 단어 추출\n",
    "posDescriptions = dfPositiveData['description']"
   ],
   "metadata": {
    "collapsed": false,
    "ExecuteTime": {
     "end_time": "2024-03-26T06:14:12.092743Z",
     "start_time": "2024-03-26T06:14:12.090967Z"
    }
   },
   "id": "958b6816eb3b2081",
   "execution_count": 45
  },
  {
   "cell_type": "code",
   "outputs": [],
   "source": [
    "posDescriptionWords = []\n",
    "\n",
    "for d in posDescriptions:\n",
    "    posDescriptionWords.append(okt.nouns(d))  # 명사 형태소만 추출"
   ],
   "metadata": {
    "collapsed": false,
    "ExecuteTime": {
     "end_time": "2024-03-26T06:14:13.026477Z",
     "start_time": "2024-03-26T06:14:12.093766Z"
    }
   },
   "id": "93dce6fd5e95c5e3",
   "execution_count": 46
  },
  {
   "cell_type": "code",
   "outputs": [
    {
     "data": {
      "text/plain": "353"
     },
     "execution_count": 47,
     "metadata": {},
     "output_type": "execute_result"
    }
   ],
   "source": [
    "len(posDescriptionWords)"
   ],
   "metadata": {
    "collapsed": false,
    "ExecuteTime": {
     "end_time": "2024-03-26T06:14:13.029470Z",
     "start_time": "2024-03-26T06:14:13.027195Z"
    }
   },
   "id": "20797458f7640652",
   "execution_count": 47
  },
  {
   "cell_type": "code",
   "outputs": [],
   "source": [
    "finalPosDescWords = []\n",
    "\n",
    "for d in posDescriptionWords:\n",
    "    d2 = [w for w in d if len(w) > 1]  # 글자길이가 1보다 큰 것만 추출\n",
    "    finalPosDescWords.append(' '.join(d2))"
   ],
   "metadata": {
    "collapsed": false,
    "ExecuteTime": {
     "end_time": "2024-03-26T06:14:13.032527Z",
     "start_time": "2024-03-26T06:14:13.030050Z"
    }
   },
   "id": "9b0255c4196981d9",
   "execution_count": 48
  },
  {
   "cell_type": "code",
   "outputs": [],
   "source": [
    "# TF-IDF 기반 단어별 출현빈도 계산\n",
    "posTfidf = TfidfVectorizer(tokenizer=oktToken, min_df=2)"
   ],
   "metadata": {
    "collapsed": false,
    "ExecuteTime": {
     "end_time": "2024-03-26T06:14:13.034666Z",
     "start_time": "2024-03-26T06:14:13.033217Z"
    }
   },
   "id": "8c00ebbead38153d",
   "execution_count": 49
  },
  {
   "cell_type": "code",
   "outputs": [
    {
     "name": "stderr",
     "output_type": "stream",
     "text": [
      "/Library/Frameworks/Python.framework/Versions/3.12/lib/python3.12/site-packages/sklearn/feature_extraction/text.py:525: UserWarning: The parameter 'token_pattern' will not be used since 'tokenizer' is not None'\n",
      "  warnings.warn(\n"
     ]
    }
   ],
   "source": [
    "posDtm = posTfidf.fit_transform(finalPosDescWords)"
   ],
   "metadata": {
    "collapsed": false,
    "ExecuteTime": {
     "end_time": "2024-03-26T06:14:13.276098Z",
     "start_time": "2024-03-26T06:14:13.035342Z"
    }
   },
   "id": "3fa778f46e2c49cd",
   "execution_count": 50
  },
  {
   "cell_type": "code",
   "outputs": [],
   "source": [
    "posVocas = dict()\n",
    "\n",
    "for i, word in enumerate(posTfidf.get_feature_names_out()):\n",
    "    posVocas[word] = posDtm.getcol(i).sum()  # 해당 단어의 빈도수"
   ],
   "metadata": {
    "collapsed": false,
    "ExecuteTime": {
     "end_time": "2024-03-26T06:14:13.306757Z",
     "start_time": "2024-03-26T06:14:13.276988Z"
    }
   },
   "id": "25d6db5d1ed632b8",
   "execution_count": 51
  },
  {
   "cell_type": "code",
   "outputs": [],
   "source": [
    "posWords = sorted(posVocas.items(), key=(lambda x: x[1]), reverse=True)"
   ],
   "metadata": {
    "collapsed": false,
    "ExecuteTime": {
     "end_time": "2024-03-26T06:14:13.309408Z",
     "start_time": "2024-03-26T06:14:13.307417Z"
    }
   },
   "id": "983c29cf00b9e051",
   "execution_count": 52
  },
  {
   "cell_type": "code",
   "outputs": [],
   "source": [
    "# 추가 라이브러리 등록\n",
    "import matplotlib.pyplot as plt\n",
    "import seaborn as sns"
   ],
   "metadata": {
    "collapsed": false,
    "ExecuteTime": {
     "end_time": "2024-03-26T06:14:13.311644Z",
     "start_time": "2024-03-26T06:14:13.310081Z"
    }
   },
   "id": "bd7348aefffe37a",
   "execution_count": 53
  },
  {
   "cell_type": "code",
   "outputs": [],
   "source": [
    "sns.set_style('darkgrid')"
   ],
   "metadata": {
    "collapsed": false,
    "ExecuteTime": {
     "end_time": "2024-03-26T06:14:13.313702Z",
     "start_time": "2024-03-26T06:14:13.312346Z"
    }
   },
   "id": "3998cc5afa98be98",
   "execution_count": 54
  },
  {
   "cell_type": "code",
   "outputs": [],
   "source": [
    "# 한글 깨짐 문제 해결\n",
    "from matplotlib import rc\n",
    "\n",
    "rc('font', family='D2Coding')\n",
    "\n",
    "plt.rcParams['axes.unicode_minus'] = False"
   ],
   "metadata": {
    "collapsed": false,
    "ExecuteTime": {
     "end_time": "2024-03-26T06:14:13.315797Z",
     "start_time": "2024-03-26T06:14:13.314256Z"
    }
   },
   "id": "f801275477e9477a",
   "execution_count": 55
  },
  {
   "cell_type": "code",
   "outputs": [
    {
     "data": {
      "text/plain": "<Figure size 1500x500 with 1 Axes>",
      "image/png": "[encoded data removed]"
     },
     "metadata": {},
     "output_type": "display_data"
    }
   ],
   "source": [
    "max = 15\n",
    "plt.figure(figsize=(15, 5))\n",
    "plt.bar(range(max), [i[1] for i in posWords[:max]], color='skyblue')\n",
    "plt.title('네이버 긍정뉴스 단어 상위 15개', fontsize=14)\n",
    "plt.xlabel('단어', fontsize=12)\n",
    "plt.ylabel('빈도수', fontsize=12)\n",
    "\n",
    "# x축 단어 표시\n",
    "plt.xticks(range(max), [i[0] for i in posWords[:max]], rotation=30)\n",
    "\n",
    "plt.show()"
   ],
   "metadata": {
    "collapsed": false,
    "ExecuteTime": {
     "end_time": "2024-03-26T06:14:13.485537Z",
     "start_time": "2024-03-26T06:14:13.316373Z"
    }
   },
   "id": "fe848dfea916e0f1",
   "execution_count": 56
  }
 ],
 "metadata": {
  "kernelspec": {
   "display_name": "Python 3",
   "language": "python",
   "name": "python3"
  },
  "language_info": {
   "codemirror_mode": {
    "name": "ipython",
    "version": 2
   },
   "file_extension": ".py",
   "mimetype": "text/x-python",
   "name": "python",
   "nbconvert_exporter": "python",
   "pygments_lexer": "ipython2",
   "version": "2.7.6"
  }
 },
 "nbformat": 4,
 "nbformat_minor": 5
}
