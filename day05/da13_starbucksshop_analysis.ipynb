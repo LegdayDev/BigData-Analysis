{
 "cells": [
  {
   "cell_type": "markdown",
   "source": [
    "## 빅데이터 실습\n",
    "\n",
    "### 스타벅스 입지 분석\n",
    "> 1. 데이터 수집 : Selenium 사용 자동화\n",
    "> 2. 데이터 긁어오기 : bs4 사용\n",
    "> 3. 서울열린데이터광장 OpenAPI 공공데이터 수집"
   ],
   "metadata": {
    "collapsed": false
   },
   "id": "1249b29aa90118e5"
  },
  {
   "cell_type": "code",
   "execution_count": 1,
   "id": "initial_id",
   "metadata": {
    "collapsed": true,
    "ExecuteTime": {
     "end_time": "2024-03-14T08:26:42.038513Z",
     "start_time": "2024-03-14T08:26:41.676605Z"
    }
   },
   "outputs": [],
   "source": [
    "# 필요 라이브러리 등록\n",
    "from selenium import webdriver\n",
    "from selenium.webdriver.common.by import By\n",
    "from bs4 import BeautifulSoup\n",
    "import pandas as pd"
   ]
  },
  {
   "cell_type": "code",
   "outputs": [],
   "source": [
    "# 웹드라이버 스타벅스 웹사이트 조작\n",
    "driver = webdriver.Chrome()\n",
    "url = 'https://www.starbucks.co.kr/store/store_map.do?disp=locale'\n",
    "\n",
    "driver.get(url)"
   ],
   "metadata": {
    "collapsed": false,
    "ExecuteTime": {
     "end_time": "2024-03-14T08:26:48.360072Z",
     "start_time": "2024-03-14T08:26:42.627988Z"
    }
   },
   "id": "5ac87dbfc321e5b9",
   "execution_count": 2
  },
  {
   "cell_type": "code",
   "outputs": [],
   "source": [
    "# webdriver로 조작하여 '서울'링크 클릭 : 서울은 0번째 인덱스, 부산은 5번째 인덱스\n",
    "path = 'set_sido_cd_btn'\n",
    "driver.find_elements(By.CLASS_NAME, path)[0].click()"
   ],
   "metadata": {
    "collapsed": false,
    "ExecuteTime": {
     "end_time": "2024-03-14T08:26:53.650456Z",
     "start_time": "2024-03-14T08:26:53.614053Z"
    }
   },
   "id": "62128ab899a31252",
   "execution_count": 3
  },
  {
   "cell_type": "code",
   "outputs": [],
   "source": [
    "# webdriver로 조작하여 서울시 내 '구'를 클릭 : 전체는 0번째 인덱스\n",
    "name = 'set_gugun_cd_btn'\n",
    "driver.find_elements(By.CLASS_NAME, name)[0].click()"
   ],
   "metadata": {
    "collapsed": false,
    "ExecuteTime": {
     "end_time": "2024-03-14T08:26:55.075563Z",
     "start_time": "2024-03-14T08:26:55.049789Z"
    }
   },
   "id": "c50233e98ae68938",
   "execution_count": 4
  },
  {
   "cell_type": "markdown",
   "source": [
    "#### BeautifulSoup으로 HTML 파싱하여 가져오기"
   ],
   "metadata": {
    "collapsed": false
   },
   "id": "e325fb009f51c76a"
  },
  {
   "cell_type": "code",
   "outputs": [],
   "source": [
    "html = driver.page_source\n",
    "soup = BeautifulSoup(html, 'html.parser')"
   ],
   "metadata": {
    "collapsed": false,
    "ExecuteTime": {
     "end_time": "2024-03-14T08:26:57.014809Z",
     "start_time": "2024-03-14T08:26:56.862554Z"
    }
   },
   "id": "cac0a17c057ac34f",
   "execution_count": 5
  },
  {
   "cell_type": "code",
   "outputs": [
    {
     "data": {
      "text/plain": "613"
     },
     "execution_count": 6,
     "metadata": {},
     "output_type": "execute_result"
    }
   ],
   "source": [
    "sbSeoulList = soup.select('li.quickResultLstCon')\n",
    "len(sbSeoulList)"
   ],
   "metadata": {
    "collapsed": false,
    "ExecuteTime": {
     "end_time": "2024-03-14T08:26:57.546557Z",
     "start_time": "2024-03-14T08:26:57.525557Z"
    }
   },
   "id": "3d9efa210f5680f1",
   "execution_count": 6
  },
  {
   "cell_type": "code",
   "outputs": [
    {
     "data": {
      "text/plain": "<li class=\"quickResultLstCon\" data-code=\"3648\" data-hlytag=\"null\" data-index=\"8\" data-lat=\"37.507750\" data-long=\"127.060651\" data-name=\"삼성역섬유센터R\" data-storecd=\"1438\" style=\"background:#fff\"> <strong data-my_siren_order_store_yn=\"N\" data-name=\"삼성역섬유센터R\" data-store=\"1438\" data-yn=\"N\">삼성역섬유센터R  </strong> <p class=\"result_details\">서울특별시 강남구 테헤란로 518 (대치동)<br/>1522-3232</p> <i class=\"pin_reserve\">리저브 매장 2번</i></li>"
     },
     "execution_count": 7,
     "metadata": {},
     "output_type": "execute_result"
    }
   ],
   "source": [
    "sbSeoulList[8]"
   ],
   "metadata": {
    "collapsed": false,
    "ExecuteTime": {
     "end_time": "2024-03-14T08:26:58.410830Z",
     "start_time": "2024-03-14T08:26:58.408220Z"
    }
   },
   "id": "841161f7503722c4",
   "execution_count": 7
  },
  {
   "cell_type": "markdown",
   "source": [
    "#### 서울 매장 리스트를 DataFrame 으로 만든다"
   ],
   "metadata": {
    "collapsed": false
   },
   "id": "64b853df23b58729"
  },
  {
   "cell_type": "code",
   "outputs": [],
   "source": [
    "sbSeoulStores = []\n",
    "for item in sbSeoulList:\n",
    "    name = item.select('strong')[0].text.strip()  # 지점명\n",
    "    lat = item['data-lat'].strip()  # 위도\n",
    "    lng = item['data-long'].strip()  # 경도\n",
    "    storeType = item.select('i')[0]['class'][0].split('_')[1]  # 가게종류(일반, 리저브, DT, WT)\n",
    "    address = str(item.select('p.result_details')[0]).split('<br/>')[0].split('>')[1]  # 주소\n",
    "    phone = str(item.select('p.result_details')[0]).split('<br/>')[1].split('<')[0]  # 전화번호\n",
    "    sbSeoulStores.append([name, lat, lng, storeType, address, phone])"
   ],
   "metadata": {
    "collapsed": false,
    "ExecuteTime": {
     "end_time": "2024-03-14T08:26:59.559491Z",
     "start_time": "2024-03-14T08:26:59.509500Z"
    }
   },
   "id": "c1d92d56067c1b68",
   "execution_count": 8
  },
  {
   "cell_type": "code",
   "outputs": [],
   "source": [
    "dfStarBucksSeoul = pd.DataFrame(sbSeoulStores, columns=['매장명', '위도', '경도', '매장타입', '주소', '전화번호'])"
   ],
   "metadata": {
    "collapsed": false,
    "ExecuteTime": {
     "end_time": "2024-03-14T08:27:00.455288Z",
     "start_time": "2024-03-14T08:27:00.451195Z"
    }
   },
   "id": "c9fe787ac3350803",
   "execution_count": 9
  },
  {
   "cell_type": "code",
   "outputs": [
    {
     "data": {
      "text/plain": "        매장명          위도           경도     매장타입                          주소  \\\n0   역삼아레나빌딩   37.501087   127.043069  general     서울특별시 강남구 언주로 425 (역삼동)   \n1    논현역사거리   37.510178   127.022223  general    서울특별시 강남구 강남대로 538 (논현동)   \n2   신사역성일빌딩  37.5139309  127.0206057  general    서울특별시 강남구 강남대로 584 (논현동)   \n3    국기원사거리   37.499517   127.031495  general    서울특별시 강남구 테헤란로 125 (역삼동)   \n4    대치재경빌딩   37.494668   127.062583  general  서울특별시 강남구 남부순환로 2947 (대치동)   \n5      봉은사역   37.515000   127.063196  general    서울특별시 강남구 봉은사로 619 (삼성동)   \n6   압구정윤성빌딩  37.5227934  127.0286009  general     서울특별시 강남구 논현로 834 (신사동)   \n7    코엑스별마당   37.510150   127.060275  general    서울특별시 강남구 영동대로 513 (삼성동)   \n8  삼성역섬유센터R   37.507750   127.060651  reserve    서울특별시 강남구 테헤란로 518 (대치동)   \n9      압구정R  37.5273669   127.033061  reserve     서울특별시 강남구 언주로 861 (신사동)   \n\n        전화번호  \n0  1522-3232  \n1  1522-3232  \n2  1522-3232  \n3  1522-3232  \n4  1522-3232  \n5  1522-3232  \n6  1522-3232  \n7  1522-3232  \n8  1522-3232  \n9  1522-3232  ",
      "text/html": "<div>\n<style scoped>\n    .dataframe tbody tr th:only-of-type {\n        vertical-align: middle;\n    }\n\n    .dataframe tbody tr th {\n        vertical-align: top;\n    }\n\n    .dataframe thead th {\n        text-align: right;\n    }\n</style>\n<table border=\"1\" class=\"dataframe\">\n  <thead>\n    <tr style=\"text-align: right;\">\n      <th></th>\n      <th>매장명</th>\n      <th>위도</th>\n      <th>경도</th>\n      <th>매장타입</th>\n      <th>주소</th>\n      <th>전화번호</th>\n    </tr>\n  </thead>\n  <tbody>\n    <tr>\n      <th>0</th>\n      <td>역삼아레나빌딩</td>\n      <td>37.501087</td>\n      <td>127.043069</td>\n      <td>general</td>\n      <td>서울특별시 강남구 언주로 425 (역삼동)</td>\n      <td>1522-3232</td>\n    </tr>\n    <tr>\n      <th>1</th>\n      <td>논현역사거리</td>\n      <td>37.510178</td>\n      <td>127.022223</td>\n      <td>general</td>\n      <td>서울특별시 강남구 강남대로 538 (논현동)</td>\n      <td>1522-3232</td>\n    </tr>\n    <tr>\n      <th>2</th>\n      <td>신사역성일빌딩</td>\n      <td>37.5139309</td>\n      <td>127.0206057</td>\n      <td>general</td>\n      <td>서울특별시 강남구 강남대로 584 (논현동)</td>\n      <td>1522-3232</td>\n    </tr>\n    <tr>\n      <th>3</th>\n      <td>국기원사거리</td>\n      <td>37.499517</td>\n      <td>127.031495</td>\n      <td>general</td>\n      <td>서울특별시 강남구 테헤란로 125 (역삼동)</td>\n      <td>1522-3232</td>\n    </tr>\n    <tr>\n      <th>4</th>\n      <td>대치재경빌딩</td>\n      <td>37.494668</td>\n      <td>127.062583</td>\n      <td>general</td>\n      <td>서울특별시 강남구 남부순환로 2947 (대치동)</td>\n      <td>1522-3232</td>\n    </tr>\n    <tr>\n      <th>5</th>\n      <td>봉은사역</td>\n      <td>37.515000</td>\n      <td>127.063196</td>\n      <td>general</td>\n      <td>서울특별시 강남구 봉은사로 619 (삼성동)</td>\n      <td>1522-3232</td>\n    </tr>\n    <tr>\n      <th>6</th>\n      <td>압구정윤성빌딩</td>\n      <td>37.5227934</td>\n      <td>127.0286009</td>\n      <td>general</td>\n      <td>서울특별시 강남구 논현로 834 (신사동)</td>\n      <td>1522-3232</td>\n    </tr>\n    <tr>\n      <th>7</th>\n      <td>코엑스별마당</td>\n      <td>37.510150</td>\n      <td>127.060275</td>\n      <td>general</td>\n      <td>서울특별시 강남구 영동대로 513 (삼성동)</td>\n      <td>1522-3232</td>\n    </tr>\n    <tr>\n      <th>8</th>\n      <td>삼성역섬유센터R</td>\n      <td>37.507750</td>\n      <td>127.060651</td>\n      <td>reserve</td>\n      <td>서울특별시 강남구 테헤란로 518 (대치동)</td>\n      <td>1522-3232</td>\n    </tr>\n    <tr>\n      <th>9</th>\n      <td>압구정R</td>\n      <td>37.5273669</td>\n      <td>127.033061</td>\n      <td>reserve</td>\n      <td>서울특별시 강남구 언주로 861 (신사동)</td>\n      <td>1522-3232</td>\n    </tr>\n  </tbody>\n</table>\n</div>"
     },
     "execution_count": 10,
     "metadata": {},
     "output_type": "execute_result"
    }
   ],
   "source": [
    "dfStarBucksSeoul.head(10)"
   ],
   "metadata": {
    "collapsed": false,
    "ExecuteTime": {
     "end_time": "2024-03-14T08:27:00.855686Z",
     "start_time": "2024-03-14T08:27:00.850769Z"
    }
   },
   "id": "eda289808f947c48",
   "execution_count": 10
  },
  {
   "cell_type": "code",
   "outputs": [
    {
     "data": {
      "text/plain": "      매장명                 위도                  경도     매장타입  \\\n608  사가정역          37.579594          127.087966  general   \n609   상봉역           37.59689           127.08647  general   \n610    묵동          37.615368          127.076633  general   \n611   양원역   37.6066536267232    127.106359790053  general   \n612   중화역  37.60170912407773  127.07841136432036  general   \n\n                                        주소       전화번호  \n608                      서울특별시 중랑구 면목로 310  1522-3232  \n609                서울특별시 중랑구 망우로 307 (상봉동)  1522-3232  \n610  서울특별시 중랑구 동일로 952 (묵동, 로프트원 태릉입구역) 1층  1522-3232  \n611              서울특별시 중랑구 양원역로10길 3 (망우동)  1522-3232  \n612                   서울특별시 중랑구 봉화산로 35 1층  1522-3232  ",
      "text/html": "<div>\n<style scoped>\n    .dataframe tbody tr th:only-of-type {\n        vertical-align: middle;\n    }\n\n    .dataframe tbody tr th {\n        vertical-align: top;\n    }\n\n    .dataframe thead th {\n        text-align: right;\n    }\n</style>\n<table border=\"1\" class=\"dataframe\">\n  <thead>\n    <tr style=\"text-align: right;\">\n      <th></th>\n      <th>매장명</th>\n      <th>위도</th>\n      <th>경도</th>\n      <th>매장타입</th>\n      <th>주소</th>\n      <th>전화번호</th>\n    </tr>\n  </thead>\n  <tbody>\n    <tr>\n      <th>608</th>\n      <td>사가정역</td>\n      <td>37.579594</td>\n      <td>127.087966</td>\n      <td>general</td>\n      <td>서울특별시 중랑구 면목로 310</td>\n      <td>1522-3232</td>\n    </tr>\n    <tr>\n      <th>609</th>\n      <td>상봉역</td>\n      <td>37.59689</td>\n      <td>127.08647</td>\n      <td>general</td>\n      <td>서울특별시 중랑구 망우로 307 (상봉동)</td>\n      <td>1522-3232</td>\n    </tr>\n    <tr>\n      <th>610</th>\n      <td>묵동</td>\n      <td>37.615368</td>\n      <td>127.076633</td>\n      <td>general</td>\n      <td>서울특별시 중랑구 동일로 952 (묵동, 로프트원 태릉입구역) 1층</td>\n      <td>1522-3232</td>\n    </tr>\n    <tr>\n      <th>611</th>\n      <td>양원역</td>\n      <td>37.6066536267232</td>\n      <td>127.106359790053</td>\n      <td>general</td>\n      <td>서울특별시 중랑구 양원역로10길 3 (망우동)</td>\n      <td>1522-3232</td>\n    </tr>\n    <tr>\n      <th>612</th>\n      <td>중화역</td>\n      <td>37.60170912407773</td>\n      <td>127.07841136432036</td>\n      <td>general</td>\n      <td>서울특별시 중랑구 봉화산로 35 1층</td>\n      <td>1522-3232</td>\n    </tr>\n  </tbody>\n</table>\n</div>"
     },
     "execution_count": 11,
     "metadata": {},
     "output_type": "execute_result"
    }
   ],
   "source": [
    "dfStarBucksSeoul.tail()"
   ],
   "metadata": {
    "collapsed": false,
    "ExecuteTime": {
     "end_time": "2024-03-14T08:27:01.558258Z",
     "start_time": "2024-03-14T08:27:01.552416Z"
    }
   },
   "id": "f951d833c837ebf8",
   "execution_count": 11
  },
  {
   "cell_type": "code",
   "outputs": [
    {
     "name": "stdout",
     "output_type": "stream",
     "text": [
      "<class 'pandas.core.frame.DataFrame'>\n",
      "RangeIndex: 613 entries, 0 to 612\n",
      "Data columns (total 6 columns):\n",
      " #   Column  Non-Null Count  Dtype \n",
      "---  ------  --------------  ----- \n",
      " 0   매장명     613 non-null    object\n",
      " 1   위도      613 non-null    object\n",
      " 2   경도      613 non-null    object\n",
      " 3   매장타입    613 non-null    object\n",
      " 4   주소      613 non-null    object\n",
      " 5   전화번호    613 non-null    object\n",
      "dtypes: object(6)\n",
      "memory usage: 28.9+ KB\n"
     ]
    }
   ],
   "source": [
    "# 결측치가 하나도 없다 !!\n",
    "dfStarBucksSeoul.info()"
   ],
   "metadata": {
    "collapsed": false,
    "ExecuteTime": {
     "end_time": "2024-03-14T08:27:02.076787Z",
     "start_time": "2024-03-14T08:27:02.072547Z"
    }
   },
   "id": "8f66ab93c5e9a807",
   "execution_count": 12
  },
  {
   "cell_type": "code",
   "outputs": [],
   "source": [
    "# 엑셀파일로 저장\n",
    "dfStarBucksSeoul.to_excel('./data/starbucks_seoul_list.xlsx')"
   ],
   "metadata": {
    "collapsed": false,
    "ExecuteTime": {
     "end_time": "2024-03-14T08:27:02.990225Z",
     "start_time": "2024-03-14T08:27:02.840063Z"
    }
   },
   "id": "47c24a1788a58674",
   "execution_count": 13
  },
  {
   "cell_type": "markdown",
   "source": [
    "#### 서울열린데이터광장 OpenAPI 공공데이터 수집"
   ],
   "metadata": {
    "collapsed": false
   },
   "id": "219789231324fc6b"
  },
  {
   "cell_type": "code",
   "outputs": [],
   "source": [
    "# Open API 키\n",
    "SEOUL_API_KEY = '5946456f6863686c38315166705346'"
   ],
   "metadata": {
    "collapsed": false,
    "ExecuteTime": {
     "end_time": "2024-03-14T08:27:05.536061Z",
     "start_time": "2024-03-14T08:27:05.533302Z"
    }
   },
   "id": "1b729c4e60ba2317",
   "execution_count": 14
  },
  {
   "cell_type": "code",
   "outputs": [
    {
     "data": {
      "text/plain": "'http://openapi.seoul.go.kr:8088/5946456f6863686c38315166705346/json/SdeTlSccoSigW/1/25'"
     },
     "execution_count": 15,
     "metadata": {},
     "output_type": "execute_result"
    }
   ],
   "source": [
    "# API 호출 URL\n",
    "url = f'http://openapi.seoul.go.kr:8088/{SEOUL_API_KEY}/json/SdeTlSccoSigW/1/25'\n",
    "url"
   ],
   "metadata": {
    "collapsed": false,
    "ExecuteTime": {
     "end_time": "2024-03-14T08:27:07.679098Z",
     "start_time": "2024-03-14T08:27:07.675874Z"
    }
   },
   "id": "b5130416af2a81de",
   "execution_count": 15
  },
  {
   "cell_type": "markdown",
   "source": [
    "#### 행정구역 데이터(위/경도 + 구역)\n",
    "- https://github.com/southkorea/seoul-maps"
   ],
   "metadata": {
    "collapsed": false
   },
   "id": "f9435f8a9b9921fd"
  },
  {
   "cell_type": "code",
   "outputs": [],
   "source": [],
   "metadata": {
    "collapsed": false
   },
   "id": "dada8eeaea8c91f7"
  }
 ],
 "metadata": {
  "kernelspec": {
   "display_name": "Python 3",
   "language": "python",
   "name": "python3"
  },
  "language_info": {
   "codemirror_mode": {
    "name": "ipython",
    "version": 2
   },
   "file_extension": ".py",
   "mimetype": "text/x-python",
   "name": "python",
   "nbconvert_exporter": "python",
   "pygments_lexer": "ipython2",
   "version": "2.7.6"
  }
 },
 "nbformat": 4,
 "nbformat_minor": 5
}
