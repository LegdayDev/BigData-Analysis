{
 "cells": [
  {
   "cell_type": "markdown",
   "source": [
    "## 빅데이터 실습\n",
    "### 데이터포털 OpenAPI 활용\n",
    "> 1. 공공데이터포털에 있는 한국관광공사_관광빅데이터 OpenAPI 활용\n",
    ">> - 기본 URL : http://apis.data.go.kr/B551011/DataLabService/metcoRegnVisitrDDList\n",
    ">>     - _https 프로토콜로 서비스 요청을 하면 SSL 에러가 뜬다._ \n",
    ">> - 쿼리파라미터\n",
    ">>     - `serviceKey` = 본인 서비스 키\n",
    ">>     - `numOfRows` = 한 페이지에 나타낼 결과수(10)\n",
    ">>     - `pageNo` = 페이지번호\n",
    ">>     - `MobileOS` = IOS , AND , WIN , ETC(기타)\n",
    ">>     - `startYmd` = 시작일자\n",
    ">>     - `endYmd` = 종료일자\n",
    ">>     - `MobileApp` = AppTest"
   ],
   "metadata": {
    "collapsed": false
   },
   "id": "a02da72faecd1470"
  },
  {
   "cell_type": "code",
   "outputs": [],
   "source": [
    "# 필수 라이브러리 등록\n",
    "import requests\n",
    "import json\n",
    "import xmltodict\n",
    "import pandas as pd"
   ],
   "metadata": {
    "collapsed": false,
    "ExecuteTime": {
     "end_time": "2024-03-20T06:16:02.035962Z",
     "start_time": "2024-03-20T06:16:01.777073Z"
    }
   },
   "id": "33c1e5641ddf56c3",
   "execution_count": 1
  },
  {
   "cell_type": "markdown",
   "source": [
    "#### 추가 모듈\n",
    "- XML 을 딕셔너리로 변환해주는 모듈 : `xmltodict`\n",
    "- 명령어 : `pip3 install xmltodict`"
   ],
   "metadata": {
    "collapsed": false
   },
   "id": "ffce9e56802236a9"
  },
  {
   "cell_type": "code",
   "outputs": [
    {
     "name": "stdout",
     "output_type": "stream",
     "text": [
      "Requirement already satisfied: xmltodict in /Library/Frameworks/Python.framework/Versions/3.12/lib/python3.12/site-packages (0.13.0)\r\n"
     ]
    }
   ],
   "source": [
    "!pip3 install xmltodict"
   ],
   "metadata": {
    "collapsed": false,
    "ExecuteTime": {
     "end_time": "2024-03-20T06:16:02.866311Z",
     "start_time": "2024-03-20T06:16:02.040994Z"
    }
   },
   "id": "5fc6c57beee25dc5",
   "execution_count": 2
  },
  {
   "cell_type": "code",
   "outputs": [],
   "source": [
    "# Open API 서비스키 \n",
    "apiKey = r'API KEY'\n",
    "\n",
    "# 기준날자\n",
    "ymd = '20231201'"
   ],
   "metadata": {
    "collapsed": false,
    "ExecuteTime": {
     "end_time": "2024-03-20T06:16:02.869287Z",
     "start_time": "2024-03-20T06:16:02.867292Z"
    }
   },
   "id": "e1bd9994b78243e6",
   "execution_count": 3
  },
  {
   "cell_type": "code",
   "outputs": [
    {
     "name": "stdout",
     "output_type": "stream",
     "text": [
      "http://apis.data.go.kr/B551011/DataLabService/metcoRegnVisitrDDList?numOfRows=60&pageNo=1&MobileOS=ETC&MobileApp=AppTest&serviceKey=%2FBKGfux%2Bde%2Bi0jFLG%2BmFKccXFkvro4xnwk9SpIptRUr6KXmn7wNn7FJCquD4VzMZKSuR%2BjoNcP9jo%2FxzTJNs9A%3D%3D&startYmd=20231201&endYmd=20231201\n"
     ]
    }
   ],
   "source": [
    "# 필요 URL 생성\n",
    "baseUrl = 'http://apis.data.go.kr/B551011/DataLabService/metcoRegnVisitrDDList?'\n",
    "param = 'numOfRows=60&pageNo=1&MobileOS=ETC&MobileApp=AppTest&' + \\\n",
    "        f'serviceKey={apiKey}&startYmd={ymd}&endYmd={ymd}'\n",
    "\n",
    "totalUrl = baseUrl + param\n",
    "print(totalUrl)"
   ],
   "metadata": {
    "collapsed": false,
    "ExecuteTime": {
     "end_time": "2024-03-20T06:16:02.872688Z",
     "start_time": "2024-03-20T06:16:02.870651Z"
    }
   },
   "id": "f9c31217e413c804",
   "execution_count": 4
  },
  {
   "cell_type": "markdown",
   "source": [
    "#### 함수 생성"
   ],
   "metadata": {
    "collapsed": false
   },
   "id": "c600f205584b5de9"
  },
  {
   "cell_type": "code",
   "outputs": [],
   "source": [
    "# 웹으로 OpenAPI 호출\n",
    "def getRequestUrl(url):\n",
    "    try:\n",
    "        res = requests.get(url, verify=False)\n",
    "        if res.status_code == 200:\n",
    "            return res.text\n",
    "    except Exception as e:\n",
    "        print(f'getRequestUrl() 호출 예외 : {e}')\n",
    "        return None"
   ],
   "metadata": {
    "collapsed": false,
    "ExecuteTime": {
     "end_time": "2024-03-20T06:16:02.875261Z",
     "start_time": "2024-03-20T06:16:02.873296Z"
    }
   },
   "id": "4ba7ca3ead6566ad",
   "execution_count": 5
  },
  {
   "cell_type": "code",
   "outputs": [],
   "source": [
    "# OpenAPI 호출 함수\n",
    "def getTouristDataService(ymd):\n",
    "    apiKey = r'API KEY'\n",
    "\n",
    "    baseUrl = 'http://apis.data.go.kr/B551011/DataLabService/metcoRegnVisitrDDList?'\n",
    "    param = 'numOfRows=60&pageNo=1&MobileOS=ETC&MobileApp=AppTest&' + \\\n",
    "            f'serviceKey={apiKey}&startYmd={ymd}&endYmd={ymd}'\n",
    "    totalUrl = baseUrl + param\n",
    "    result = getRequestUrl(totalUrl)\n",
    "\n",
    "    if result == None:\n",
    "        return None\n",
    "    else:\n",
    "        return result"
   ],
   "metadata": {
    "collapsed": false,
    "ExecuteTime": {
     "end_time": "2024-03-20T06:16:02.877835Z",
     "start_time": "2024-03-20T06:16:02.875919Z"
    }
   },
   "id": "ea7461465b457f42",
   "execution_count": 6
  },
  {
   "cell_type": "code",
   "outputs": [],
   "source": [
    "# 실행테스트\n",
    "xmlData = getTouristDataService('20231202')\n"
   ],
   "metadata": {
    "collapsed": false,
    "ExecuteTime": {
     "end_time": "2024-03-20T06:16:06.070629Z",
     "start_time": "2024-03-20T06:16:02.878643Z"
    }
   },
   "id": "feee735074f1f91f",
   "execution_count": 7
  },
  {
   "cell_type": "code",
   "outputs": [],
   "source": [
    "# XML 데이터를 Dict 로 변환\n",
    "dictData = xmltodict.parse(xmlData)"
   ],
   "metadata": {
    "collapsed": false,
    "ExecuteTime": {
     "end_time": "2024-03-20T06:16:06.074339Z",
     "start_time": "2024-03-20T06:16:06.071323Z"
    }
   },
   "id": "7d9edd7b812b43dd",
   "execution_count": 8
  },
  {
   "cell_type": "code",
   "outputs": [],
   "source": [
    "# 추가 라이브러리 등록\n",
    "from tqdm import tqdm\n",
    "import time"
   ],
   "metadata": {
    "collapsed": false,
    "ExecuteTime": {
     "end_time": "2024-03-20T06:16:06.080002Z",
     "start_time": "2024-03-20T06:16:06.075008Z"
    }
   },
   "id": "e38e85d2450c1fa8",
   "execution_count": 9
  },
  {
   "cell_type": "code",
   "outputs": [],
   "source": [],
   "metadata": {
    "collapsed": false,
    "ExecuteTime": {
     "end_time": "2024-03-20T06:16:06.083327Z",
     "start_time": "2024-03-20T06:16:06.082037Z"
    }
   },
   "id": "ed3bd1341e994860",
   "execution_count": 9
  },
  {
   "cell_type": "code",
   "outputs": [
    {
     "name": "stderr",
     "output_type": "stream",
     "text": [
      "100%|██████████| 31/31 [01:42<00:00,  3.31s/it]\n"
     ]
    }
   ],
   "source": [
    "# 반복문으로 처리\n",
    "totalList = []\n",
    "year = 2023\n",
    "month = 12\n",
    "\n",
    "for day in tqdm(range(1, 32)):  # 1일부터 31일까지 반복\n",
    "    reqYmd = f'{year}{month}{day:02d}'\n",
    "    data = getTouristDataService(reqYmd)\n",
    "    if xmltodict.parse(data)['response']['body']['items'] == None:\n",
    "        resList = []\n",
    "    else:\n",
    "        resList = xmltodict.parse(data)['response']['body']['items']['item']\n",
    "    totalList = totalList + resList\n"
   ],
   "metadata": {
    "collapsed": false,
    "ExecuteTime": {
     "end_time": "2024-03-20T06:17:48.571982Z",
     "start_time": "2024-03-20T06:16:06.084047Z"
    }
   },
   "id": "12cc910d10204487",
   "execution_count": 10
  },
  {
   "cell_type": "code",
   "outputs": [
    {
     "data": {
      "text/plain": "1530"
     },
     "execution_count": 11,
     "metadata": {},
     "output_type": "execute_result"
    }
   ],
   "source": [
    "len(totalList)"
   ],
   "metadata": {
    "collapsed": false,
    "ExecuteTime": {
     "end_time": "2024-03-20T06:17:48.576835Z",
     "start_time": "2024-03-20T06:17:48.573001Z"
    }
   },
   "id": "65947c48be1a8b2d",
   "execution_count": 11
  },
  {
   "cell_type": "code",
   "outputs": [],
   "source": [
    "dfTourist = pd.DataFrame(totalList)"
   ],
   "metadata": {
    "collapsed": false,
    "ExecuteTime": {
     "end_time": "2024-03-20T06:17:48.581397Z",
     "start_time": "2024-03-20T06:17:48.577630Z"
    }
   },
   "id": "71829b5f41f40065",
   "execution_count": 12
  },
  {
   "cell_type": "code",
   "outputs": [
    {
     "data": {
      "text/plain": "     areaCode   areaNm daywkDivCd daywkDivNm touDivCd touDivNm  \\\n1525       51  강원특별자치도          7        일요일        2   외지인(b)   \n1526       51  강원특별자치도          7        일요일        3   외국인(c)   \n1527       52  전북특별자치도          7        일요일        1   현지인(a)   \n1528       52  전북특별자치도          7        일요일        2   외지인(b)   \n1529       52  전북특별자치도          7        일요일        3   외국인(c)   \n\n                  touNum   baseYmd  \n1525            694498.0  20231231  \n1526  2551.5179999999996  20231231  \n1527            910780.5  20231231  \n1528            408299.5  20231231  \n1529  1043.7619000000004  20231231  ",
      "text/html": "<div>\n<style scoped>\n    .dataframe tbody tr th:only-of-type {\n        vertical-align: middle;\n    }\n\n    .dataframe tbody tr th {\n        vertical-align: top;\n    }\n\n    .dataframe thead th {\n        text-align: right;\n    }\n</style>\n<table border=\"1\" class=\"dataframe\">\n  <thead>\n    <tr style=\"text-align: right;\">\n      <th></th>\n      <th>areaCode</th>\n      <th>areaNm</th>\n      <th>daywkDivCd</th>\n      <th>daywkDivNm</th>\n      <th>touDivCd</th>\n      <th>touDivNm</th>\n      <th>touNum</th>\n      <th>baseYmd</th>\n    </tr>\n  </thead>\n  <tbody>\n    <tr>\n      <th>1525</th>\n      <td>51</td>\n      <td>강원특별자치도</td>\n      <td>7</td>\n      <td>일요일</td>\n      <td>2</td>\n      <td>외지인(b)</td>\n      <td>694498.0</td>\n      <td>20231231</td>\n    </tr>\n    <tr>\n      <th>1526</th>\n      <td>51</td>\n      <td>강원특별자치도</td>\n      <td>7</td>\n      <td>일요일</td>\n      <td>3</td>\n      <td>외국인(c)</td>\n      <td>2551.5179999999996</td>\n      <td>20231231</td>\n    </tr>\n    <tr>\n      <th>1527</th>\n      <td>52</td>\n      <td>전북특별자치도</td>\n      <td>7</td>\n      <td>일요일</td>\n      <td>1</td>\n      <td>현지인(a)</td>\n      <td>910780.5</td>\n      <td>20231231</td>\n    </tr>\n    <tr>\n      <th>1528</th>\n      <td>52</td>\n      <td>전북특별자치도</td>\n      <td>7</td>\n      <td>일요일</td>\n      <td>2</td>\n      <td>외지인(b)</td>\n      <td>408299.5</td>\n      <td>20231231</td>\n    </tr>\n    <tr>\n      <th>1529</th>\n      <td>52</td>\n      <td>전북특별자치도</td>\n      <td>7</td>\n      <td>일요일</td>\n      <td>3</td>\n      <td>외국인(c)</td>\n      <td>1043.7619000000004</td>\n      <td>20231231</td>\n    </tr>\n  </tbody>\n</table>\n</div>"
     },
     "execution_count": 13,
     "metadata": {},
     "output_type": "execute_result"
    }
   ],
   "source": [
    "dfTourist.tail()"
   ],
   "metadata": {
    "collapsed": false,
    "ExecuteTime": {
     "end_time": "2024-03-20T06:17:48.588052Z",
     "start_time": "2024-03-20T06:17:48.582153Z"
    }
   },
   "id": "7c1c4ee7ee26f2f8",
   "execution_count": 13
  },
  {
   "cell_type": "code",
   "outputs": [
    {
     "name": "stdout",
     "output_type": "stream",
     "text": [
      "<class 'pandas.core.frame.DataFrame'>\n",
      "RangeIndex: 1530 entries, 0 to 1529\n",
      "Data columns (total 8 columns):\n",
      " #   Column      Non-Null Count  Dtype \n",
      "---  ------      --------------  ----- \n",
      " 0   areaCode    1530 non-null   object\n",
      " 1   areaNm      1530 non-null   object\n",
      " 2   daywkDivCd  1530 non-null   object\n",
      " 3   daywkDivNm  1530 non-null   object\n",
      " 4   touDivCd    1530 non-null   object\n",
      " 5   touDivNm    1530 non-null   object\n",
      " 6   touNum      1530 non-null   object\n",
      " 7   baseYmd     1530 non-null   object\n",
      "dtypes: object(8)\n",
      "memory usage: 95.8+ KB\n"
     ]
    }
   ],
   "source": [
    "# 결측치가 없다\n",
    "dfTourist.info()"
   ],
   "metadata": {
    "collapsed": false,
    "ExecuteTime": {
     "end_time": "2024-03-20T06:17:48.593820Z",
     "start_time": "2024-03-20T06:17:48.588770Z"
    }
   },
   "id": "b2656f7a5e7f7840",
   "execution_count": 14
  },
  {
   "cell_type": "code",
   "outputs": [],
   "source": [
    "# 엑셀로 저장\n",
    "dfTourist.to_excel('./data/Tourist_datapotal.xlsx')"
   ],
   "metadata": {
    "collapsed": false,
    "ExecuteTime": {
     "end_time": "2024-03-20T06:17:48.852238Z",
     "start_time": "2024-03-20T06:17:48.594572Z"
    }
   },
   "id": "681393ec0db53063",
   "execution_count": 15
  },
  {
   "cell_type": "code",
   "outputs": [],
   "source": [],
   "metadata": {
    "collapsed": false,
    "ExecuteTime": {
     "end_time": "2024-03-20T06:17:48.854393Z",
     "start_time": "2024-03-20T06:17:48.853093Z"
    }
   },
   "id": "23d07af2f7311796",
   "execution_count": 15
  }
 ],
 "metadata": {
  "kernelspec": {
   "display_name": "Python 3",
   "language": "python",
   "name": "python3"
  },
  "language_info": {
   "codemirror_mode": {
    "name": "ipython",
    "version": 2
   },
   "file_extension": ".py",
   "mimetype": "text/x-python",
   "name": "python",
   "nbconvert_exporter": "python",
   "pygments_lexer": "ipython2",
   "version": "2.7.6"
  }
 },
 "nbformat": 4,
 "nbformat_minor": 5
}
