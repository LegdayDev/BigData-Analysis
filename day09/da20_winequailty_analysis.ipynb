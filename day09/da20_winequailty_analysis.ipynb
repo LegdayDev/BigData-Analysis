{
 "cells": [
  {
   "cell_type": "markdown",
   "id": "3de29cee7864b3ee",
   "metadata": {
    "collapsed": false
   },
   "source": [
    "## 빅데이터 실습\n",
    "\n",
    "### 와인품질 등급 분석 및 예측\n",
    "> 1. 데이터 수집 : [UC 어바인 머신러닝 연구소 데이터](https://archive.ics.uci.edu/dataset/186/wine+qualty)\n",
    "> 2. "
   ]
  },
  {
   "cell_type": "code",
   "execution_count": 1,
   "id": "4ae66e16f15013ae",
   "metadata": {
    "collapsed": false,
    "ExecuteTime": {
     "end_time": "2024-03-20T08:26:17.511891Z",
     "start_time": "2024-03-20T08:26:17.183267Z"
    }
   },
   "outputs": [],
   "source": [
    "# 필수 라이브러리 사용등록\n",
    "import pandas as pd"
   ]
  },
  {
   "cell_type": "code",
   "execution_count": 2,
   "id": "initial_id",
   "metadata": {
    "collapsed": true,
    "ExecuteTime": {
     "end_time": "2024-03-20T08:26:17.529010Z",
     "start_time": "2024-03-20T08:26:17.513096Z"
    }
   },
   "outputs": [
    {
     "data": {
      "text/plain": "      fixed acidity  volatile acidity  citric acid  residual sugar  chlorides  \\\n1594            6.2             0.600         0.08             2.0      0.090   \n1595            5.9             0.550         0.10             2.2      0.062   \n1596            6.3             0.510         0.13             2.3      0.076   \n1597            5.9             0.645         0.12             2.0      0.075   \n1598            6.0             0.310         0.47             3.6      0.067   \n\n      free sulfur dioxide  total sulfur dioxide  density    pH  sulphates  \\\n1594                 32.0                  44.0  0.99490  3.45       0.58   \n1595                 39.0                  51.0  0.99512  3.52       0.76   \n1596                 29.0                  40.0  0.99574  3.42       0.75   \n1597                 32.0                  44.0  0.99547  3.57       0.71   \n1598                 18.0                  42.0  0.99549  3.39       0.66   \n\n      alcohol  quality  \n1594     10.5        5  \n1595     11.2        6  \n1596     11.0        6  \n1597     10.2        5  \n1598     11.0        6  ",
      "text/html": "<div>\n<style scoped>\n    .dataframe tbody tr th:only-of-type {\n        vertical-align: middle;\n    }\n\n    .dataframe tbody tr th {\n        vertical-align: top;\n    }\n\n    .dataframe thead th {\n        text-align: right;\n    }\n</style>\n<table border=\"1\" class=\"dataframe\">\n  <thead>\n    <tr style=\"text-align: right;\">\n      <th></th>\n      <th>fixed acidity</th>\n      <th>volatile acidity</th>\n      <th>citric acid</th>\n      <th>residual sugar</th>\n      <th>chlorides</th>\n      <th>free sulfur dioxide</th>\n      <th>total sulfur dioxide</th>\n      <th>density</th>\n      <th>pH</th>\n      <th>sulphates</th>\n      <th>alcohol</th>\n      <th>quality</th>\n    </tr>\n  </thead>\n  <tbody>\n    <tr>\n      <th>1594</th>\n      <td>6.2</td>\n      <td>0.600</td>\n      <td>0.08</td>\n      <td>2.0</td>\n      <td>0.090</td>\n      <td>32.0</td>\n      <td>44.0</td>\n      <td>0.99490</td>\n      <td>3.45</td>\n      <td>0.58</td>\n      <td>10.5</td>\n      <td>5</td>\n    </tr>\n    <tr>\n      <th>1595</th>\n      <td>5.9</td>\n      <td>0.550</td>\n      <td>0.10</td>\n      <td>2.2</td>\n      <td>0.062</td>\n      <td>39.0</td>\n      <td>51.0</td>\n      <td>0.99512</td>\n      <td>3.52</td>\n      <td>0.76</td>\n      <td>11.2</td>\n      <td>6</td>\n    </tr>\n    <tr>\n      <th>1596</th>\n      <td>6.3</td>\n      <td>0.510</td>\n      <td>0.13</td>\n      <td>2.3</td>\n      <td>0.076</td>\n      <td>29.0</td>\n      <td>40.0</td>\n      <td>0.99574</td>\n      <td>3.42</td>\n      <td>0.75</td>\n      <td>11.0</td>\n      <td>6</td>\n    </tr>\n    <tr>\n      <th>1597</th>\n      <td>5.9</td>\n      <td>0.645</td>\n      <td>0.12</td>\n      <td>2.0</td>\n      <td>0.075</td>\n      <td>32.0</td>\n      <td>44.0</td>\n      <td>0.99547</td>\n      <td>3.57</td>\n      <td>0.71</td>\n      <td>10.2</td>\n      <td>5</td>\n    </tr>\n    <tr>\n      <th>1598</th>\n      <td>6.0</td>\n      <td>0.310</td>\n      <td>0.47</td>\n      <td>3.6</td>\n      <td>0.067</td>\n      <td>18.0</td>\n      <td>42.0</td>\n      <td>0.99549</td>\n      <td>3.39</td>\n      <td>0.66</td>\n      <td>11.0</td>\n      <td>6</td>\n    </tr>\n  </tbody>\n</table>\n</div>"
     },
     "execution_count": 2,
     "metadata": {},
     "output_type": "execute_result"
    }
   ],
   "source": [
    "# ;(세미콜론) 구분자로 CSV 파일 로드\n",
    "dfRedWine = pd.read_csv('./data/winequality-red.csv', sep=';', engine='python', encoding='utf-8', header=0)\n",
    "dfRedWine.tail()"
   ]
  },
  {
   "cell_type": "code",
   "execution_count": 3,
   "id": "c50566f78e30b51a",
   "metadata": {
    "collapsed": false,
    "ExecuteTime": {
     "end_time": "2024-03-20T08:26:17.555669Z",
     "start_time": "2024-03-20T08:26:17.529648Z"
    }
   },
   "outputs": [
    {
     "data": {
      "text/plain": "      fixed acidity  volatile acidity  citric acid  residual sugar  chlorides  \\\n4893            6.2              0.21         0.29             1.6      0.039   \n4894            6.6              0.32         0.36             8.0      0.047   \n4895            6.5              0.24         0.19             1.2      0.041   \n4896            5.5              0.29         0.30             1.1      0.022   \n4897            6.0              0.21         0.38             0.8      0.020   \n\n      free sulfur dioxide  total sulfur dioxide  density    pH  sulphates  \\\n4893                 24.0                  92.0  0.99114  3.27       0.50   \n4894                 57.0                 168.0  0.99490  3.15       0.46   \n4895                 30.0                 111.0  0.99254  2.99       0.46   \n4896                 20.0                 110.0  0.98869  3.34       0.38   \n4897                 22.0                  98.0  0.98941  3.26       0.32   \n\n      alcohol  quality  \n4893     11.2        6  \n4894      9.6        5  \n4895      9.4        6  \n4896     12.8        7  \n4897     11.8        6  ",
      "text/html": "<div>\n<style scoped>\n    .dataframe tbody tr th:only-of-type {\n        vertical-align: middle;\n    }\n\n    .dataframe tbody tr th {\n        vertical-align: top;\n    }\n\n    .dataframe thead th {\n        text-align: right;\n    }\n</style>\n<table border=\"1\" class=\"dataframe\">\n  <thead>\n    <tr style=\"text-align: right;\">\n      <th></th>\n      <th>fixed acidity</th>\n      <th>volatile acidity</th>\n      <th>citric acid</th>\n      <th>residual sugar</th>\n      <th>chlorides</th>\n      <th>free sulfur dioxide</th>\n      <th>total sulfur dioxide</th>\n      <th>density</th>\n      <th>pH</th>\n      <th>sulphates</th>\n      <th>alcohol</th>\n      <th>quality</th>\n    </tr>\n  </thead>\n  <tbody>\n    <tr>\n      <th>4893</th>\n      <td>6.2</td>\n      <td>0.21</td>\n      <td>0.29</td>\n      <td>1.6</td>\n      <td>0.039</td>\n      <td>24.0</td>\n      <td>92.0</td>\n      <td>0.99114</td>\n      <td>3.27</td>\n      <td>0.50</td>\n      <td>11.2</td>\n      <td>6</td>\n    </tr>\n    <tr>\n      <th>4894</th>\n      <td>6.6</td>\n      <td>0.32</td>\n      <td>0.36</td>\n      <td>8.0</td>\n      <td>0.047</td>\n      <td>57.0</td>\n      <td>168.0</td>\n      <td>0.99490</td>\n      <td>3.15</td>\n      <td>0.46</td>\n      <td>9.6</td>\n      <td>5</td>\n    </tr>\n    <tr>\n      <th>4895</th>\n      <td>6.5</td>\n      <td>0.24</td>\n      <td>0.19</td>\n      <td>1.2</td>\n      <td>0.041</td>\n      <td>30.0</td>\n      <td>111.0</td>\n      <td>0.99254</td>\n      <td>2.99</td>\n      <td>0.46</td>\n      <td>9.4</td>\n      <td>6</td>\n    </tr>\n    <tr>\n      <th>4896</th>\n      <td>5.5</td>\n      <td>0.29</td>\n      <td>0.30</td>\n      <td>1.1</td>\n      <td>0.022</td>\n      <td>20.0</td>\n      <td>110.0</td>\n      <td>0.98869</td>\n      <td>3.34</td>\n      <td>0.38</td>\n      <td>12.8</td>\n      <td>7</td>\n    </tr>\n    <tr>\n      <th>4897</th>\n      <td>6.0</td>\n      <td>0.21</td>\n      <td>0.38</td>\n      <td>0.8</td>\n      <td>0.020</td>\n      <td>22.0</td>\n      <td>98.0</td>\n      <td>0.98941</td>\n      <td>3.26</td>\n      <td>0.32</td>\n      <td>11.8</td>\n      <td>6</td>\n    </tr>\n  </tbody>\n</table>\n</div>"
     },
     "execution_count": 3,
     "metadata": {},
     "output_type": "execute_result"
    }
   ],
   "source": [
    "dfWhiteWine = pd.read_csv('./data/winequality-white.csv', sep=';', engine='python', encoding='utf-8', header=0)\n",
    "dfWhiteWine.tail()"
   ]
  },
  {
   "cell_type": "markdown",
   "id": "e35ebd9b4e17b4fa",
   "metadata": {
    "collapsed": false
   },
   "source": [
    "#### 컬럼 설명\n",
    "> 11가지 독립변수, 1가지 종속변수(출력변수)\n",
    "\n",
    "> |fixed acidity|volatile acidity|citric acid|residual sugar|chlorides|free sulfur dioxide|total sulfur dioxide|density|pH|sulphates|alcohol|quality|\n",
    "|---|---|---|---|---|---|---|---|---|---|---|---|\n",
    "|고정산|휘발산|구연산|잔당|염화물|유리 이산화황|총 이산화황|밀도|산도|황산염|알코올|품질|"
   ]
  },
  {
   "cell_type": "markdown",
   "id": "41a3902e23be401c",
   "metadata": {
    "collapsed": false
   },
   "source": [
    "#### UC 어바인 연구소에서 제공하는 모듈로 import\n",
    "\n",
    "`!pip3 install ucimlrepo` : 연구소에 있는 데이터를 Python 으로 바로 불러올 수 있다.\n",
    "`!pip3 install dotdict` : 추가로 필요한 모듈\n"
   ]
  },
  {
   "cell_type": "code",
   "execution_count": 4,
   "id": "15a93822bec4c6b0",
   "metadata": {
    "collapsed": false,
    "ExecuteTime": {
     "end_time": "2024-03-20T08:26:18.571494Z",
     "start_time": "2024-03-20T08:26:17.557335Z"
    }
   },
   "outputs": [
    {
     "name": "stdout",
     "output_type": "stream",
     "text": [
      "Requirement already satisfied: ucimlrepo in /Library/Frameworks/Python.framework/Versions/3.12/lib/python3.12/site-packages (0.0.5)\r\n"
     ]
    }
   ],
   "source": [
    "!pip3 install ucimlrepo"
   ]
  },
  {
   "cell_type": "code",
   "execution_count": 5,
   "id": "93f986366433d537",
   "metadata": {
    "collapsed": false,
    "ExecuteTime": {
     "end_time": "2024-03-20T08:26:19.437433Z",
     "start_time": "2024-03-20T08:26:18.572450Z"
    }
   },
   "outputs": [
    {
     "name": "stdout",
     "output_type": "stream",
     "text": [
      "Requirement already satisfied: dotdict in /Library/Frameworks/Python.framework/Versions/3.12/lib/python3.12/site-packages (0.1)\r\n"
     ]
    }
   ],
   "source": [
    "!pip3 install dotdict"
   ]
  },
  {
   "cell_type": "code",
   "execution_count": 6,
   "id": "7d5453f25b1bac1f",
   "metadata": {
    "collapsed": false,
    "ExecuteTime": {
     "end_time": "2024-03-20T08:26:19.443087Z",
     "start_time": "2024-03-20T08:26:19.438677Z"
    }
   },
   "outputs": [],
   "source": [
    "# 추가 라이브러리 사용 등록\n",
    "from ucimlrepo import fetch_ucirepo"
   ]
  },
  {
   "cell_type": "code",
   "execution_count": 7,
   "id": "356937d31956994c",
   "metadata": {
    "collapsed": false,
    "ExecuteTime": {
     "end_time": "2024-03-20T08:26:23.383457Z",
     "start_time": "2024-03-20T08:26:19.443950Z"
    }
   },
   "outputs": [],
   "source": [
    "# fetch dataset\n",
    "wineQuality = fetch_ucirepo(id=186)"
   ]
  },
  {
   "cell_type": "code",
   "execution_count": 8,
   "id": "92feb7625fb11134",
   "metadata": {
    "collapsed": false,
    "ExecuteTime": {
     "end_time": "2024-03-20T08:26:23.390632Z",
     "start_time": "2024-03-20T08:26:23.384553Z"
    }
   },
   "outputs": [
    {
     "data": {
      "text/plain": "{'uci_id': 186,\n 'name': 'Wine Quality',\n 'repository_url': 'https://archive.ics.uci.edu/dataset/186/wine+quality',\n 'data_url': 'https://archive.ics.uci.edu/static/public/186/data.csv',\n 'abstract': 'Two datasets are included, related to red and white vinho verde wine samples, from the north of Portugal. The goal is to model wine quality based on physicochemical tests (see [Cortez et al., 2009], http://www3.dsi.uminho.pt/pcortez/wine/).',\n 'area': 'Business',\n 'tasks': ['Classification', 'Regression'],\n 'characteristics': ['Multivariate'],\n 'num_instances': 4898,\n 'num_features': 11,\n 'feature_types': ['Real'],\n 'demographics': [],\n 'target_col': ['quality'],\n 'index_col': None,\n 'has_missing_values': 'no',\n 'missing_values_symbol': None,\n 'year_of_dataset_creation': 2009,\n 'last_updated': 'Wed Nov 15 2023',\n 'dataset_doi': '10.24432/C56S3T',\n 'creators': ['Paulo Cortez',\n  'A. Cerdeira',\n  'F. Almeida',\n  'T. Matos',\n  'J. Reis'],\n 'intro_paper': {'title': 'Modeling wine preferences by data mining from physicochemical properties',\n  'authors': 'P. Cortez, A. Cerdeira, Fernando Almeida, Telmo Matos, J. Reis',\n  'published_in': 'Decision Support Systems',\n  'year': 2009,\n  'url': 'https://www.semanticscholar.org/paper/Modeling-wine-preferences-by-data-mining-from-Cortez-Cerdeira/bf15a0ccc14ac1deb5cea570c870389c16be019c',\n  'doi': None},\n 'additional_info': {'summary': 'The two datasets are related to red and white variants of the Portuguese \"Vinho Verde\" wine. For more details, consult: http://www.vinhoverde.pt/en/ or the reference [Cortez et al., 2009].  Due to privacy and logistic issues, only physicochemical (inputs) and sensory (the output) variables are available (e.g. there is no data about grape types, wine brand, wine selling price, etc.).\\n\\nThese datasets can be viewed as classification or regression tasks.  The classes are ordered and not balanced (e.g. there are many more normal wines than excellent or poor ones). Outlier detection algorithms could be used to detect the few excellent or poor wines. Also, we are not sure if all input variables are relevant. So it could be interesting to test feature selection methods.\\n',\n  'purpose': None,\n  'funded_by': None,\n  'instances_represent': None,\n  'recommended_data_splits': None,\n  'sensitive_data': None,\n  'preprocessing_description': None,\n  'variable_info': 'For more information, read [Cortez et al., 2009].\\r\\nInput variables (based on physicochemical tests):\\r\\n   1 - fixed acidity\\r\\n   2 - volatile acidity\\r\\n   3 - citric acid\\r\\n   4 - residual sugar\\r\\n   5 - chlorides\\r\\n   6 - free sulfur dioxide\\r\\n   7 - total sulfur dioxide\\r\\n   8 - density\\r\\n   9 - pH\\r\\n   10 - sulphates\\r\\n   11 - alcohol\\r\\nOutput variable (based on sensory data): \\r\\n   12 - quality (score between 0 and 10)',\n  'citation': None}}"
     },
     "execution_count": 8,
     "metadata": {},
     "output_type": "execute_result"
    }
   ],
   "source": [
    "wineQuality.metadata"
   ]
  },
  {
   "cell_type": "code",
   "execution_count": 9,
   "id": "7e4f8fbed52f728b",
   "metadata": {
    "collapsed": false,
    "ExecuteTime": {
     "end_time": "2024-03-20T08:26:23.396552Z",
     "start_time": "2024-03-20T08:26:23.391862Z"
    }
   },
   "outputs": [
    {
     "data": {
      "text/plain": "      quality\n6492        6\n6493        5\n6494        6\n6495        7\n6496        6",
      "text/html": "<div>\n<style scoped>\n    .dataframe tbody tr th:only-of-type {\n        vertical-align: middle;\n    }\n\n    .dataframe tbody tr th {\n        vertical-align: top;\n    }\n\n    .dataframe thead th {\n        text-align: right;\n    }\n</style>\n<table border=\"1\" class=\"dataframe\">\n  <thead>\n    <tr style=\"text-align: right;\">\n      <th></th>\n      <th>quality</th>\n    </tr>\n  </thead>\n  <tbody>\n    <tr>\n      <th>6492</th>\n      <td>6</td>\n    </tr>\n    <tr>\n      <th>6493</th>\n      <td>5</td>\n    </tr>\n    <tr>\n      <th>6494</th>\n      <td>6</td>\n    </tr>\n    <tr>\n      <th>6495</th>\n      <td>7</td>\n    </tr>\n    <tr>\n      <th>6496</th>\n      <td>6</td>\n    </tr>\n  </tbody>\n</table>\n</div>"
     },
     "execution_count": 9,
     "metadata": {},
     "output_type": "execute_result"
    }
   ],
   "source": [
    "wineQuality.data.targets.tail()"
   ]
  },
  {
   "cell_type": "code",
   "execution_count": 10,
   "id": "5bc2ef8958d015bd",
   "metadata": {
    "collapsed": false,
    "ExecuteTime": {
     "end_time": "2024-03-20T08:26:23.404657Z",
     "start_time": "2024-03-20T08:26:23.399539Z"
    }
   },
   "outputs": [
    {
     "data": {
      "text/plain": "         name     role         type demographic             description units  \\\n8          pH  Feature   Continuous        None                    None  None   \n9   sulphates  Feature   Continuous        None                    None  None   \n10    alcohol  Feature   Continuous        None                    None  None   \n11    quality   Target      Integer        None  score between 0 and 10  None   \n12      color    Other  Categorical        None            red or white  None   \n\n   missing_values  \n8              no  \n9              no  \n10             no  \n11             no  \n12             no  ",
      "text/html": "<div>\n<style scoped>\n    .dataframe tbody tr th:only-of-type {\n        vertical-align: middle;\n    }\n\n    .dataframe tbody tr th {\n        vertical-align: top;\n    }\n\n    .dataframe thead th {\n        text-align: right;\n    }\n</style>\n<table border=\"1\" class=\"dataframe\">\n  <thead>\n    <tr style=\"text-align: right;\">\n      <th></th>\n      <th>name</th>\n      <th>role</th>\n      <th>type</th>\n      <th>demographic</th>\n      <th>description</th>\n      <th>units</th>\n      <th>missing_values</th>\n    </tr>\n  </thead>\n  <tbody>\n    <tr>\n      <th>8</th>\n      <td>pH</td>\n      <td>Feature</td>\n      <td>Continuous</td>\n      <td>None</td>\n      <td>None</td>\n      <td>None</td>\n      <td>no</td>\n    </tr>\n    <tr>\n      <th>9</th>\n      <td>sulphates</td>\n      <td>Feature</td>\n      <td>Continuous</td>\n      <td>None</td>\n      <td>None</td>\n      <td>None</td>\n      <td>no</td>\n    </tr>\n    <tr>\n      <th>10</th>\n      <td>alcohol</td>\n      <td>Feature</td>\n      <td>Continuous</td>\n      <td>None</td>\n      <td>None</td>\n      <td>None</td>\n      <td>no</td>\n    </tr>\n    <tr>\n      <th>11</th>\n      <td>quality</td>\n      <td>Target</td>\n      <td>Integer</td>\n      <td>None</td>\n      <td>score between 0 and 10</td>\n      <td>None</td>\n      <td>no</td>\n    </tr>\n    <tr>\n      <th>12</th>\n      <td>color</td>\n      <td>Other</td>\n      <td>Categorical</td>\n      <td>None</td>\n      <td>red or white</td>\n      <td>None</td>\n      <td>no</td>\n    </tr>\n  </tbody>\n</table>\n</div>"
     },
     "execution_count": 10,
     "metadata": {},
     "output_type": "execute_result"
    }
   ],
   "source": [
    "wineQuality.variables.tail()"
   ]
  },
  {
   "cell_type": "code",
   "execution_count": 11,
   "id": "935530fa9830c163",
   "metadata": {
    "collapsed": false,
    "ExecuteTime": {
     "end_time": "2024-03-20T08:26:23.413019Z",
     "start_time": "2024-03-20T08:26:23.405408Z"
    }
   },
   "outputs": [
    {
     "data": {
      "text/plain": "      fixed_acidity  volatile_acidity  citric_acid  residual_sugar  chlorides  \\\n6492            6.2              0.21         0.29             1.6      0.039   \n6493            6.6              0.32         0.36             8.0      0.047   \n6494            6.5              0.24         0.19             1.2      0.041   \n6495            5.5              0.29         0.30             1.1      0.022   \n6496            6.0              0.21         0.38             0.8      0.020   \n\n      free_sulfur_dioxide  total_sulfur_dioxide  density    pH  sulphates  \\\n6492                 24.0                  92.0  0.99114  3.27       0.50   \n6493                 57.0                 168.0  0.99490  3.15       0.46   \n6494                 30.0                 111.0  0.99254  2.99       0.46   \n6495                 20.0                 110.0  0.98869  3.34       0.38   \n6496                 22.0                  98.0  0.98941  3.26       0.32   \n\n      alcohol  quality  color  \n6492     11.2        6  white  \n6493      9.6        5  white  \n6494      9.4        6  white  \n6495     12.8        7  white  \n6496     11.8        6  white  ",
      "text/html": "<div>\n<style scoped>\n    .dataframe tbody tr th:only-of-type {\n        vertical-align: middle;\n    }\n\n    .dataframe tbody tr th {\n        vertical-align: top;\n    }\n\n    .dataframe thead th {\n        text-align: right;\n    }\n</style>\n<table border=\"1\" class=\"dataframe\">\n  <thead>\n    <tr style=\"text-align: right;\">\n      <th></th>\n      <th>fixed_acidity</th>\n      <th>volatile_acidity</th>\n      <th>citric_acid</th>\n      <th>residual_sugar</th>\n      <th>chlorides</th>\n      <th>free_sulfur_dioxide</th>\n      <th>total_sulfur_dioxide</th>\n      <th>density</th>\n      <th>pH</th>\n      <th>sulphates</th>\n      <th>alcohol</th>\n      <th>quality</th>\n      <th>color</th>\n    </tr>\n  </thead>\n  <tbody>\n    <tr>\n      <th>6492</th>\n      <td>6.2</td>\n      <td>0.21</td>\n      <td>0.29</td>\n      <td>1.6</td>\n      <td>0.039</td>\n      <td>24.0</td>\n      <td>92.0</td>\n      <td>0.99114</td>\n      <td>3.27</td>\n      <td>0.50</td>\n      <td>11.2</td>\n      <td>6</td>\n      <td>white</td>\n    </tr>\n    <tr>\n      <th>6493</th>\n      <td>6.6</td>\n      <td>0.32</td>\n      <td>0.36</td>\n      <td>8.0</td>\n      <td>0.047</td>\n      <td>57.0</td>\n      <td>168.0</td>\n      <td>0.99490</td>\n      <td>3.15</td>\n      <td>0.46</td>\n      <td>9.6</td>\n      <td>5</td>\n      <td>white</td>\n    </tr>\n    <tr>\n      <th>6494</th>\n      <td>6.5</td>\n      <td>0.24</td>\n      <td>0.19</td>\n      <td>1.2</td>\n      <td>0.041</td>\n      <td>30.0</td>\n      <td>111.0</td>\n      <td>0.99254</td>\n      <td>2.99</td>\n      <td>0.46</td>\n      <td>9.4</td>\n      <td>6</td>\n      <td>white</td>\n    </tr>\n    <tr>\n      <th>6495</th>\n      <td>5.5</td>\n      <td>0.29</td>\n      <td>0.30</td>\n      <td>1.1</td>\n      <td>0.022</td>\n      <td>20.0</td>\n      <td>110.0</td>\n      <td>0.98869</td>\n      <td>3.34</td>\n      <td>0.38</td>\n      <td>12.8</td>\n      <td>7</td>\n      <td>white</td>\n    </tr>\n    <tr>\n      <th>6496</th>\n      <td>6.0</td>\n      <td>0.21</td>\n      <td>0.38</td>\n      <td>0.8</td>\n      <td>0.020</td>\n      <td>22.0</td>\n      <td>98.0</td>\n      <td>0.98941</td>\n      <td>3.26</td>\n      <td>0.32</td>\n      <td>11.8</td>\n      <td>6</td>\n      <td>white</td>\n    </tr>\n  </tbody>\n</table>\n</div>"
     },
     "execution_count": 11,
     "metadata": {},
     "output_type": "execute_result"
    }
   ],
   "source": [
    "wineQuality.data.original.tail()"
   ]
  },
  {
   "cell_type": "code",
   "execution_count": 12,
   "id": "f90766c127642889",
   "metadata": {
    "collapsed": false,
    "ExecuteTime": {
     "end_time": "2024-03-20T08:26:23.415617Z",
     "start_time": "2024-03-20T08:26:23.413910Z"
    }
   },
   "outputs": [],
   "source": [
    "dfTotalWine = wineQuality.data.original"
   ]
  },
  {
   "cell_type": "code",
   "execution_count": 13,
   "id": "f2f15e638ab6960",
   "metadata": {
    "collapsed": false,
    "ExecuteTime": {
     "end_time": "2024-03-20T08:26:23.422048Z",
     "start_time": "2024-03-20T08:26:23.416553Z"
    }
   },
   "outputs": [
    {
     "name": "stdout",
     "output_type": "stream",
     "text": [
      "<class 'pandas.core.frame.DataFrame'>\n",
      "RangeIndex: 6497 entries, 0 to 6496\n",
      "Data columns (total 13 columns):\n",
      " #   Column                Non-Null Count  Dtype  \n",
      "---  ------                --------------  -----  \n",
      " 0   fixed_acidity         6497 non-null   float64\n",
      " 1   volatile_acidity      6497 non-null   float64\n",
      " 2   citric_acid           6497 non-null   float64\n",
      " 3   residual_sugar        6497 non-null   float64\n",
      " 4   chlorides             6497 non-null   float64\n",
      " 5   free_sulfur_dioxide   6497 non-null   float64\n",
      " 6   total_sulfur_dioxide  6497 non-null   float64\n",
      " 7   density               6497 non-null   float64\n",
      " 8   pH                    6497 non-null   float64\n",
      " 9   sulphates             6497 non-null   float64\n",
      " 10  alcohol               6497 non-null   float64\n",
      " 11  quality               6497 non-null   int64  \n",
      " 12  color                 6497 non-null   object \n",
      "dtypes: float64(11), int64(1), object(1)\n",
      "memory usage: 660.0+ KB\n"
     ]
    }
   ],
   "source": [
    "dfTotalWine.info()"
   ]
  },
  {
   "cell_type": "code",
   "execution_count": 14,
   "id": "be1aed4369c27bae",
   "metadata": {
    "collapsed": false,
    "ExecuteTime": {
     "end_time": "2024-03-20T08:26:23.436686Z",
     "start_time": "2024-03-20T08:26:23.422688Z"
    }
   },
   "outputs": [
    {
     "data": {
      "text/plain": "       fixed_acidity  volatile_acidity  citric_acid  residual_sugar  \\\ncount    6497.000000       6497.000000  6497.000000     6497.000000   \nmean        7.215307          0.339666     0.318633        5.443235   \nstd         1.296434          0.164636     0.145318        4.757804   \nmin         3.800000          0.080000     0.000000        0.600000   \n25%         6.400000          0.230000     0.250000        1.800000   \n50%         7.000000          0.290000     0.310000        3.000000   \n75%         7.700000          0.400000     0.390000        8.100000   \nmax        15.900000          1.580000     1.660000       65.800000   \n\n         chlorides  free_sulfur_dioxide  total_sulfur_dioxide      density  \\\ncount  6497.000000          6497.000000           6497.000000  6497.000000   \nmean      0.056034            30.525319            115.744574     0.994697   \nstd       0.035034            17.749400             56.521855     0.002999   \nmin       0.009000             1.000000              6.000000     0.987110   \n25%       0.038000            17.000000             77.000000     0.992340   \n50%       0.047000            29.000000            118.000000     0.994890   \n75%       0.065000            41.000000            156.000000     0.996990   \nmax       0.611000           289.000000            440.000000     1.038980   \n\n                pH    sulphates      alcohol      quality  \ncount  6497.000000  6497.000000  6497.000000  6497.000000  \nmean      3.218501     0.531268    10.491801     5.818378  \nstd       0.160787     0.148806     1.192712     0.873255  \nmin       2.720000     0.220000     8.000000     3.000000  \n25%       3.110000     0.430000     9.500000     5.000000  \n50%       3.210000     0.510000    10.300000     6.000000  \n75%       3.320000     0.600000    11.300000     6.000000  \nmax       4.010000     2.000000    14.900000     9.000000  ",
      "text/html": "<div>\n<style scoped>\n    .dataframe tbody tr th:only-of-type {\n        vertical-align: middle;\n    }\n\n    .dataframe tbody tr th {\n        vertical-align: top;\n    }\n\n    .dataframe thead th {\n        text-align: right;\n    }\n</style>\n<table border=\"1\" class=\"dataframe\">\n  <thead>\n    <tr style=\"text-align: right;\">\n      <th></th>\n      <th>fixed_acidity</th>\n      <th>volatile_acidity</th>\n      <th>citric_acid</th>\n      <th>residual_sugar</th>\n      <th>chlorides</th>\n      <th>free_sulfur_dioxide</th>\n      <th>total_sulfur_dioxide</th>\n      <th>density</th>\n      <th>pH</th>\n      <th>sulphates</th>\n      <th>alcohol</th>\n      <th>quality</th>\n    </tr>\n  </thead>\n  <tbody>\n    <tr>\n      <th>count</th>\n      <td>6497.000000</td>\n      <td>6497.000000</td>\n      <td>6497.000000</td>\n      <td>6497.000000</td>\n      <td>6497.000000</td>\n      <td>6497.000000</td>\n      <td>6497.000000</td>\n      <td>6497.000000</td>\n      <td>6497.000000</td>\n      <td>6497.000000</td>\n      <td>6497.000000</td>\n      <td>6497.000000</td>\n    </tr>\n    <tr>\n      <th>mean</th>\n      <td>7.215307</td>\n      <td>0.339666</td>\n      <td>0.318633</td>\n      <td>5.443235</td>\n      <td>0.056034</td>\n      <td>30.525319</td>\n      <td>115.744574</td>\n      <td>0.994697</td>\n      <td>3.218501</td>\n      <td>0.531268</td>\n      <td>10.491801</td>\n      <td>5.818378</td>\n    </tr>\n    <tr>\n      <th>std</th>\n      <td>1.296434</td>\n      <td>0.164636</td>\n      <td>0.145318</td>\n      <td>4.757804</td>\n      <td>0.035034</td>\n      <td>17.749400</td>\n      <td>56.521855</td>\n      <td>0.002999</td>\n      <td>0.160787</td>\n      <td>0.148806</td>\n      <td>1.192712</td>\n      <td>0.873255</td>\n    </tr>\n    <tr>\n      <th>min</th>\n      <td>3.800000</td>\n      <td>0.080000</td>\n      <td>0.000000</td>\n      <td>0.600000</td>\n      <td>0.009000</td>\n      <td>1.000000</td>\n      <td>6.000000</td>\n      <td>0.987110</td>\n      <td>2.720000</td>\n      <td>0.220000</td>\n      <td>8.000000</td>\n      <td>3.000000</td>\n    </tr>\n    <tr>\n      <th>25%</th>\n      <td>6.400000</td>\n      <td>0.230000</td>\n      <td>0.250000</td>\n      <td>1.800000</td>\n      <td>0.038000</td>\n      <td>17.000000</td>\n      <td>77.000000</td>\n      <td>0.992340</td>\n      <td>3.110000</td>\n      <td>0.430000</td>\n      <td>9.500000</td>\n      <td>5.000000</td>\n    </tr>\n    <tr>\n      <th>50%</th>\n      <td>7.000000</td>\n      <td>0.290000</td>\n      <td>0.310000</td>\n      <td>3.000000</td>\n      <td>0.047000</td>\n      <td>29.000000</td>\n      <td>118.000000</td>\n      <td>0.994890</td>\n      <td>3.210000</td>\n      <td>0.510000</td>\n      <td>10.300000</td>\n      <td>6.000000</td>\n    </tr>\n    <tr>\n      <th>75%</th>\n      <td>7.700000</td>\n      <td>0.400000</td>\n      <td>0.390000</td>\n      <td>8.100000</td>\n      <td>0.065000</td>\n      <td>41.000000</td>\n      <td>156.000000</td>\n      <td>0.996990</td>\n      <td>3.320000</td>\n      <td>0.600000</td>\n      <td>11.300000</td>\n      <td>6.000000</td>\n    </tr>\n    <tr>\n      <th>max</th>\n      <td>15.900000</td>\n      <td>1.580000</td>\n      <td>1.660000</td>\n      <td>65.800000</td>\n      <td>0.611000</td>\n      <td>289.000000</td>\n      <td>440.000000</td>\n      <td>1.038980</td>\n      <td>4.010000</td>\n      <td>2.000000</td>\n      <td>14.900000</td>\n      <td>9.000000</td>\n    </tr>\n  </tbody>\n</table>\n</div>"
     },
     "execution_count": 14,
     "metadata": {},
     "output_type": "execute_result"
    }
   ],
   "source": [
    "# 12개가 float 또는 int 기술통계\n",
    "dfTotalWine.describe()"
   ]
  },
  {
   "cell_type": "code",
   "execution_count": 15,
   "id": "5d9af86aac10934d",
   "metadata": {
    "collapsed": false,
    "ExecuteTime": {
     "end_time": "2024-03-20T08:26:23.439974Z",
     "start_time": "2024-03-20T08:26:23.437318Z"
    }
   },
   "outputs": [
    {
     "data": {
      "text/plain": "[3, 4, 5, 6, 7, 8, 9]"
     },
     "execution_count": 15,
     "metadata": {},
     "output_type": "execute_result"
    }
   ],
   "source": [
    "# 와인 품질 분류 : 3 ~ 9 사이로 분륭\n",
    "sorted(dfTotalWine.quality.unique())"
   ]
  },
  {
   "cell_type": "markdown",
   "source": [],
   "metadata": {
    "collapsed": false
   },
   "id": "367df099ac037ce4"
  },
  {
   "cell_type": "code",
   "outputs": [
    {
     "data": {
      "text/plain": "quality\n6    2836\n5    2138\n7    1079\n4     216\n8     193\n3      30\n9       5\nName: count, dtype: int64"
     },
     "execution_count": 16,
     "metadata": {},
     "output_type": "execute_result"
    }
   ],
   "source": [
    "# 전체 와인 품질 별 갯수\n",
    "dfTotalWine.quality.value_counts()"
   ],
   "metadata": {
    "collapsed": false,
    "ExecuteTime": {
     "end_time": "2024-03-20T08:26:23.443258Z",
     "start_time": "2024-03-20T08:26:23.440460Z"
    }
   },
   "id": "a3b0d27f551ee011",
   "execution_count": 16
  },
  {
   "cell_type": "code",
   "outputs": [
    {
     "data": {
      "text/plain": "        count      mean       std  min  25%  50%  75%  max\ncolor                                                     \nred    1599.0  5.636023  0.807569  3.0  5.0  6.0  6.0  8.0\nwhite  4898.0  5.877909  0.885639  3.0  5.0  6.0  6.0  9.0",
      "text/html": "<div>\n<style scoped>\n    .dataframe tbody tr th:only-of-type {\n        vertical-align: middle;\n    }\n\n    .dataframe tbody tr th {\n        vertical-align: top;\n    }\n\n    .dataframe thead th {\n        text-align: right;\n    }\n</style>\n<table border=\"1\" class=\"dataframe\">\n  <thead>\n    <tr style=\"text-align: right;\">\n      <th></th>\n      <th>count</th>\n      <th>mean</th>\n      <th>std</th>\n      <th>min</th>\n      <th>25%</th>\n      <th>50%</th>\n      <th>75%</th>\n      <th>max</th>\n    </tr>\n    <tr>\n      <th>color</th>\n      <th></th>\n      <th></th>\n      <th></th>\n      <th></th>\n      <th></th>\n      <th></th>\n      <th></th>\n      <th></th>\n    </tr>\n  </thead>\n  <tbody>\n    <tr>\n      <th>red</th>\n      <td>1599.0</td>\n      <td>5.636023</td>\n      <td>0.807569</td>\n      <td>3.0</td>\n      <td>5.0</td>\n      <td>6.0</td>\n      <td>6.0</td>\n      <td>8.0</td>\n    </tr>\n    <tr>\n      <th>white</th>\n      <td>4898.0</td>\n      <td>5.877909</td>\n      <td>0.885639</td>\n      <td>3.0</td>\n      <td>5.0</td>\n      <td>6.0</td>\n      <td>6.0</td>\n      <td>9.0</td>\n    </tr>\n  </tbody>\n</table>\n</div>"
     },
     "execution_count": 17,
     "metadata": {},
     "output_type": "execute_result"
    }
   ],
   "source": [
    "# 그룹핑\n",
    "dfTotalWine.groupby('color')['quality'].describe()"
   ],
   "metadata": {
    "collapsed": false,
    "ExecuteTime": {
     "end_time": "2024-03-20T08:26:23.451501Z",
     "start_time": "2024-03-20T08:26:23.443863Z"
    }
   },
   "id": "383be48576d955f",
   "execution_count": 17
  },
  {
   "cell_type": "markdown",
   "source": [
    "#### T-검정, 회귀분석\n",
    "`!pip3 install scipy`\n",
    "`!pip3 install statsmodels`"
   ],
   "metadata": {
    "collapsed": false
   },
   "id": "24b70e136415ae6e"
  },
  {
   "cell_type": "code",
   "outputs": [
    {
     "name": "stdout",
     "output_type": "stream",
     "text": [
      "Requirement already satisfied: scipy in /Library/Frameworks/Python.framework/Versions/3.12/lib/python3.12/site-packages (1.12.0)\r\n",
      "Requirement already satisfied: numpy<1.29.0,>=1.22.4 in /Library/Frameworks/Python.framework/Versions/3.12/lib/python3.12/site-packages (from scipy) (1.26.4)\r\n"
     ]
    }
   ],
   "source": [
    "!pip3 install scipy"
   ],
   "metadata": {
    "collapsed": false,
    "ExecuteTime": {
     "end_time": "2024-03-20T08:26:24.379550Z",
     "start_time": "2024-03-20T08:26:23.452088Z"
    }
   },
   "id": "a17511d3452a42a",
   "execution_count": 18
  },
  {
   "cell_type": "code",
   "outputs": [
    {
     "name": "stdout",
     "output_type": "stream",
     "text": [
      "Requirement already satisfied: statsmodels in /Library/Frameworks/Python.framework/Versions/3.12/lib/python3.12/site-packages (0.14.1)\r\n",
      "Requirement already satisfied: numpy<2,>=1.18 in /Library/Frameworks/Python.framework/Versions/3.12/lib/python3.12/site-packages (from statsmodels) (1.26.4)\r\n",
      "Requirement already satisfied: scipy!=1.9.2,>=1.4 in /Library/Frameworks/Python.framework/Versions/3.12/lib/python3.12/site-packages (from statsmodels) (1.12.0)\r\n",
      "Requirement already satisfied: pandas!=2.1.0,>=1.0 in /Library/Frameworks/Python.framework/Versions/3.12/lib/python3.12/site-packages (from statsmodels) (2.2.1)\r\n",
      "Requirement already satisfied: patsy>=0.5.4 in /Library/Frameworks/Python.framework/Versions/3.12/lib/python3.12/site-packages (from statsmodels) (0.5.6)\r\n",
      "Requirement already satisfied: packaging>=21.3 in /Library/Frameworks/Python.framework/Versions/3.12/lib/python3.12/site-packages (from statsmodels) (23.2)\r\n",
      "Requirement already satisfied: python-dateutil>=2.8.2 in /Users/jaeyoung/Library/Python/3.12/lib/python/site-packages (from pandas!=2.1.0,>=1.0->statsmodels) (2.9.0.post0)\r\n",
      "Requirement already satisfied: pytz>=2020.1 in /Library/Frameworks/Python.framework/Versions/3.12/lib/python3.12/site-packages (from pandas!=2.1.0,>=1.0->statsmodels) (2024.1)\r\n",
      "Requirement already satisfied: tzdata>=2022.7 in /Library/Frameworks/Python.framework/Versions/3.12/lib/python3.12/site-packages (from pandas!=2.1.0,>=1.0->statsmodels) (2024.1)\r\n",
      "Requirement already satisfied: six in /Users/jaeyoung/Library/Python/3.12/lib/python/site-packages (from patsy>=0.5.4->statsmodels) (1.16.0)\r\n"
     ]
    }
   ],
   "source": [
    "!pip3 install statsmodels"
   ],
   "metadata": {
    "collapsed": false,
    "ExecuteTime": {
     "end_time": "2024-03-20T08:26:25.350258Z",
     "start_time": "2024-03-20T08:26:24.380558Z"
    }
   },
   "id": "89aece0f64a5918",
   "execution_count": 19
  },
  {
   "cell_type": "code",
   "outputs": [],
   "source": [
    "# T-검정, 회귀분석을 위한 라이브러리 사용등록\n",
    "from scipy import stats\n",
    "from statsmodels.formula.api import ols, glm"
   ],
   "metadata": {
    "collapsed": false,
    "ExecuteTime": {
     "end_time": "2024-03-20T08:26:25.775208Z",
     "start_time": "2024-03-20T08:26:25.351338Z"
    }
   },
   "id": "b3f5ff0d6994313",
   "execution_count": 20
  },
  {
   "cell_type": "code",
   "outputs": [],
   "source": [
    "# 레드와인 필터링 조건\n",
    "condition = dfTotalWine['color'] == 'red'"
   ],
   "metadata": {
    "collapsed": false,
    "ExecuteTime": {
     "end_time": "2024-03-20T08:26:25.778456Z",
     "start_time": "2024-03-20T08:26:25.776130Z"
    }
   },
   "id": "d33cd2ea6d5e33c3",
   "execution_count": 21
  },
  {
   "cell_type": "code",
   "outputs": [],
   "source": [
    "# 화이트와인 필터링 조건\n",
    "condition2 = dfTotalWine['color'] == 'white'"
   ],
   "metadata": {
    "collapsed": false,
    "ExecuteTime": {
     "end_time": "2024-03-20T08:26:25.781330Z",
     "start_time": "2024-03-20T08:26:25.779247Z"
    }
   },
   "id": "a98b7a5137b1bbe5",
   "execution_count": 22
  },
  {
   "cell_type": "markdown",
   "source": [],
   "metadata": {
    "collapsed": false
   },
   "id": "e16a8af62123ccb3"
  },
  {
   "cell_type": "code",
   "outputs": [],
   "source": [
    "# 레드와인의 품질만\n",
    "redWineQuality = dfTotalWine[condition]['quality']"
   ],
   "metadata": {
    "collapsed": false,
    "ExecuteTime": {
     "end_time": "2024-03-20T08:26:25.784200Z",
     "start_time": "2024-03-20T08:26:25.781972Z"
    }
   },
   "id": "7cd3e5fbe2cdec21",
   "execution_count": 23
  },
  {
   "cell_type": "code",
   "outputs": [
    {
     "data": {
      "text/plain": "quality\n5    681\n6    638\n7    199\n4     53\n8     18\n3     10\nName: count, dtype: int64"
     },
     "execution_count": 24,
     "metadata": {},
     "output_type": "execute_result"
    }
   ],
   "source": [
    "redWineQuality.value_counts()"
   ],
   "metadata": {
    "collapsed": false,
    "ExecuteTime": {
     "end_time": "2024-03-20T08:26:25.787556Z",
     "start_time": "2024-03-20T08:26:25.784926Z"
    }
   },
   "id": "7a8c1140d8740343",
   "execution_count": 24
  },
  {
   "cell_type": "code",
   "outputs": [],
   "source": [
    "# 화이트와인의 품질만\n",
    "whiteWineQuality = dfTotalWine[condition2]['quality']"
   ],
   "metadata": {
    "collapsed": false,
    "ExecuteTime": {
     "end_time": "2024-03-20T08:26:25.790126Z",
     "start_time": "2024-03-20T08:26:25.788386Z"
    }
   },
   "id": "df02d5e5e9fcd6d5",
   "execution_count": 25
  },
  {
   "cell_type": "code",
   "outputs": [
    {
     "data": {
      "text/plain": "quality\n6    2198\n5    1457\n7     880\n8     175\n4     163\n3      20\n9       5\nName: count, dtype: int64"
     },
     "execution_count": 26,
     "metadata": {},
     "output_type": "execute_result"
    }
   ],
   "source": [
    "whiteWineQuality.value_counts()"
   ],
   "metadata": {
    "collapsed": false,
    "ExecuteTime": {
     "end_time": "2024-03-20T08:26:25.793437Z",
     "start_time": "2024-03-20T08:26:25.790885Z"
    }
   },
   "id": "a4c46af27cf1cb53",
   "execution_count": 26
  },
  {
   "cell_type": "code",
   "outputs": [
    {
     "data": {
      "text/plain": "count    1599.000000\nmean        5.636023\nstd         0.807569\nmin         3.000000\n25%         5.000000\n50%         6.000000\n75%         6.000000\nmax         8.000000\nName: quality, dtype: float64"
     },
     "execution_count": 27,
     "metadata": {},
     "output_type": "execute_result"
    }
   ],
   "source": [
    "redWineQuality.describe()"
   ],
   "metadata": {
    "collapsed": false,
    "ExecuteTime": {
     "end_time": "2024-03-20T08:26:25.798089Z",
     "start_time": "2024-03-20T08:26:25.793937Z"
    }
   },
   "id": "b7046a6f7d45e039",
   "execution_count": 27
  },
  {
   "cell_type": "code",
   "outputs": [
    {
     "data": {
      "text/plain": "TtestResult(statistic=-9.685649554187696, pvalue=4.888069044201508e-22, df=6495.0)"
     },
     "execution_count": 28,
     "metadata": {},
     "output_type": "execute_result"
    }
   ],
   "source": [
    "# pvalue = 0.05 이상이면 이 검정은 신뢰할 수 없다.\n",
    "# statisti 값이 양수이# redWineQuality 평균이 whiteWineQuality 의 평균보다 크다\n",
    "# red 평균이 white 평균보다 작다.\n",
    "stats.ttest_ind(redWineQuality, whiteWineQuality, equal_var=True)"
   ],
   "metadata": {
    "collapsed": false,
    "ExecuteTime": {
     "end_time": "2024-03-20T08:26:25.804610Z",
     "start_time": "2024-03-20T08:26:25.801189Z"
    }
   },
   "id": "aa81bf56790770d1",
   "execution_count": 28
  },
  {
   "cell_type": "code",
   "outputs": [],
   "source": [
    "# 회귀분석\n",
    "RFormula = 'quality ~ fixed_acidity + volatile_acidity + citric_acid + residual_sugar + chlorides + free_sulfur_dioxide + total_sulfur_dioxide + density + pH + sulphates + alcohol' "
   ],
   "metadata": {
    "collapsed": false,
    "ExecuteTime": {
     "end_time": "2024-03-20T08:26:25.806732Z",
     "start_time": "2024-03-20T08:26:25.805241Z"
    }
   },
   "id": "dd828534c96fe565",
   "execution_count": 29
  },
  {
   "cell_type": "code",
   "outputs": [],
   "source": [
    "regrResult = ols(RFormula, data=dfTotalWine).fit()"
   ],
   "metadata": {
    "collapsed": false,
    "ExecuteTime": {
     "end_time": "2024-03-20T08:26:25.824069Z",
     "start_time": "2024-03-20T08:26:25.807306Z"
    }
   },
   "id": "b25890ed96247ca7",
   "execution_count": 30
  },
  {
   "cell_type": "code",
   "outputs": [
    {
     "data": {
      "text/plain": "<class 'statsmodels.iolib.summary.Summary'>\n\"\"\"\n                            OLS Regression Results                            \n==============================================================================\nDep. Variable:                quality   R-squared:                       0.292\nModel:                            OLS   Adj. R-squared:                  0.291\nMethod:                 Least Squares   F-statistic:                     243.3\nDate:                Wed, 20 Mar 2024   Prob (F-statistic):               0.00\nTime:                        17:26:25   Log-Likelihood:                -7215.5\nNo. Observations:                6497   AIC:                         1.445e+04\nDf Residuals:                    6485   BIC:                         1.454e+04\nDf Model:                          11                                         \nCovariance Type:            nonrobust                                         \n========================================================================================\n                           coef    std err          t      P>|t|      [0.025      0.975]\n----------------------------------------------------------------------------------------\nIntercept               55.7627     11.894      4.688      0.000      32.447      79.079\nfixed_acidity            0.0677      0.016      4.346      0.000       0.037       0.098\nvolatile_acidity        -1.3279      0.077    -17.162      0.000      -1.480      -1.176\ncitric_acid             -0.1097      0.080     -1.377      0.168      -0.266       0.046\nresidual_sugar           0.0436      0.005      8.449      0.000       0.033       0.054\nchlorides               -0.4837      0.333     -1.454      0.146      -1.136       0.168\nfree_sulfur_dioxide      0.0060      0.001      7.948      0.000       0.004       0.007\ntotal_sulfur_dioxide    -0.0025      0.000     -8.969      0.000      -0.003      -0.002\ndensity                -54.9669     12.137     -4.529      0.000     -78.760     -31.173\npH                       0.4393      0.090      4.861      0.000       0.262       0.616\nsulphates                0.7683      0.076     10.092      0.000       0.619       0.917\nalcohol                  0.2670      0.017     15.963      0.000       0.234       0.300\n==============================================================================\nOmnibus:                      144.075   Durbin-Watson:                   1.646\nProb(Omnibus):                  0.000   Jarque-Bera (JB):              324.712\nSkew:                          -0.006   Prob(JB):                     3.09e-71\nKurtosis:                       4.095   Cond. No.                     2.49e+05\n==============================================================================\n\nNotes:\n[1] Standard Errors assume that the covariance matrix of the errors is correctly specified.\n[2] The condition number is large, 2.49e+05. This might indicate that there are\nstrong multicollinearity or other numerical problems.\n\"\"\"",
      "text/html": "<table class=\"simpletable\">\n<caption>OLS Regression Results</caption>\n<tr>\n  <th>Dep. Variable:</th>         <td>quality</td>     <th>  R-squared:         </th> <td>   0.292</td> \n</tr>\n<tr>\n  <th>Model:</th>                   <td>OLS</td>       <th>  Adj. R-squared:    </th> <td>   0.291</td> \n</tr>\n<tr>\n  <th>Method:</th>             <td>Least Squares</td>  <th>  F-statistic:       </th> <td>   243.3</td> \n</tr>\n<tr>\n  <th>Date:</th>             <td>Wed, 20 Mar 2024</td> <th>  Prob (F-statistic):</th>  <td>  0.00</td>  \n</tr>\n<tr>\n  <th>Time:</th>                 <td>17:26:25</td>     <th>  Log-Likelihood:    </th> <td> -7215.5</td> \n</tr>\n<tr>\n  <th>No. Observations:</th>      <td>  6497</td>      <th>  AIC:               </th> <td>1.445e+04</td>\n</tr>\n<tr>\n  <th>Df Residuals:</th>          <td>  6485</td>      <th>  BIC:               </th> <td>1.454e+04</td>\n</tr>\n<tr>\n  <th>Df Model:</th>              <td>    11</td>      <th>                     </th>     <td> </td>    \n</tr>\n<tr>\n  <th>Covariance Type:</th>      <td>nonrobust</td>    <th>                     </th>     <td> </td>    \n</tr>\n</table>\n<table class=\"simpletable\">\n<tr>\n            <td></td>              <th>coef</th>     <th>std err</th>      <th>t</th>      <th>P>|t|</th>  <th>[0.025</th>    <th>0.975]</th>  \n</tr>\n<tr>\n  <th>Intercept</th>            <td>   55.7627</td> <td>   11.894</td> <td>    4.688</td> <td> 0.000</td> <td>   32.447</td> <td>   79.079</td>\n</tr>\n<tr>\n  <th>fixed_acidity</th>        <td>    0.0677</td> <td>    0.016</td> <td>    4.346</td> <td> 0.000</td> <td>    0.037</td> <td>    0.098</td>\n</tr>\n<tr>\n  <th>volatile_acidity</th>     <td>   -1.3279</td> <td>    0.077</td> <td>  -17.162</td> <td> 0.000</td> <td>   -1.480</td> <td>   -1.176</td>\n</tr>\n<tr>\n  <th>citric_acid</th>          <td>   -0.1097</td> <td>    0.080</td> <td>   -1.377</td> <td> 0.168</td> <td>   -0.266</td> <td>    0.046</td>\n</tr>\n<tr>\n  <th>residual_sugar</th>       <td>    0.0436</td> <td>    0.005</td> <td>    8.449</td> <td> 0.000</td> <td>    0.033</td> <td>    0.054</td>\n</tr>\n<tr>\n  <th>chlorides</th>            <td>   -0.4837</td> <td>    0.333</td> <td>   -1.454</td> <td> 0.146</td> <td>   -1.136</td> <td>    0.168</td>\n</tr>\n<tr>\n  <th>free_sulfur_dioxide</th>  <td>    0.0060</td> <td>    0.001</td> <td>    7.948</td> <td> 0.000</td> <td>    0.004</td> <td>    0.007</td>\n</tr>\n<tr>\n  <th>total_sulfur_dioxide</th> <td>   -0.0025</td> <td>    0.000</td> <td>   -8.969</td> <td> 0.000</td> <td>   -0.003</td> <td>   -0.002</td>\n</tr>\n<tr>\n  <th>density</th>              <td>  -54.9669</td> <td>   12.137</td> <td>   -4.529</td> <td> 0.000</td> <td>  -78.760</td> <td>  -31.173</td>\n</tr>\n<tr>\n  <th>pH</th>                   <td>    0.4393</td> <td>    0.090</td> <td>    4.861</td> <td> 0.000</td> <td>    0.262</td> <td>    0.616</td>\n</tr>\n<tr>\n  <th>sulphates</th>            <td>    0.7683</td> <td>    0.076</td> <td>   10.092</td> <td> 0.000</td> <td>    0.619</td> <td>    0.917</td>\n</tr>\n<tr>\n  <th>alcohol</th>              <td>    0.2670</td> <td>    0.017</td> <td>   15.963</td> <td> 0.000</td> <td>    0.234</td> <td>    0.300</td>\n</tr>\n</table>\n<table class=\"simpletable\">\n<tr>\n  <th>Omnibus:</th>       <td>144.075</td> <th>  Durbin-Watson:     </th> <td>   1.646</td>\n</tr>\n<tr>\n  <th>Prob(Omnibus):</th> <td> 0.000</td>  <th>  Jarque-Bera (JB):  </th> <td> 324.712</td>\n</tr>\n<tr>\n  <th>Skew:</th>          <td>-0.006</td>  <th>  Prob(JB):          </th> <td>3.09e-71</td>\n</tr>\n<tr>\n  <th>Kurtosis:</th>      <td> 4.095</td>  <th>  Cond. No.          </th> <td>2.49e+05</td>\n</tr>\n</table><br/><br/>Notes:<br/>[1] Standard Errors assume that the covariance matrix of the errors is correctly specified.<br/>[2] The condition number is large, 2.49e+05. This might indicate that there are<br/>strong multicollinearity or other numerical problems.",
      "text/latex": "\\begin{center}\n\\begin{tabular}{lclc}\n\\toprule\n\\textbf{Dep. Variable:}         &     quality      & \\textbf{  R-squared:         } &     0.292   \\\\\n\\textbf{Model:}                 &       OLS        & \\textbf{  Adj. R-squared:    } &     0.291   \\\\\n\\textbf{Method:}                &  Least Squares   & \\textbf{  F-statistic:       } &     243.3   \\\\\n\\textbf{Date:}                  & Wed, 20 Mar 2024 & \\textbf{  Prob (F-statistic):} &     0.00    \\\\\n\\textbf{Time:}                  &     17:26:25     & \\textbf{  Log-Likelihood:    } &   -7215.5   \\\\\n\\textbf{No. Observations:}      &        6497      & \\textbf{  AIC:               } & 1.445e+04   \\\\\n\\textbf{Df Residuals:}          &        6485      & \\textbf{  BIC:               } & 1.454e+04   \\\\\n\\textbf{Df Model:}              &          11      & \\textbf{                     } &             \\\\\n\\textbf{Covariance Type:}       &    nonrobust     & \\textbf{                     } &             \\\\\n\\bottomrule\n\\end{tabular}\n\\begin{tabular}{lcccccc}\n                                & \\textbf{coef} & \\textbf{std err} & \\textbf{t} & \\textbf{P$> |$t$|$} & \\textbf{[0.025} & \\textbf{0.975]}  \\\\\n\\midrule\n\\textbf{Intercept}              &      55.7627  &       11.894     &     4.688  &         0.000        &       32.447    &       79.079     \\\\\n\\textbf{fixed\\_acidity}         &       0.0677  &        0.016     &     4.346  &         0.000        &        0.037    &        0.098     \\\\\n\\textbf{volatile\\_acidity}      &      -1.3279  &        0.077     &   -17.162  &         0.000        &       -1.480    &       -1.176     \\\\\n\\textbf{citric\\_acid}           &      -0.1097  &        0.080     &    -1.377  &         0.168        &       -0.266    &        0.046     \\\\\n\\textbf{residual\\_sugar}        &       0.0436  &        0.005     &     8.449  &         0.000        &        0.033    &        0.054     \\\\\n\\textbf{chlorides}              &      -0.4837  &        0.333     &    -1.454  &         0.146        &       -1.136    &        0.168     \\\\\n\\textbf{free\\_sulfur\\_dioxide}  &       0.0060  &        0.001     &     7.948  &         0.000        &        0.004    &        0.007     \\\\\n\\textbf{total\\_sulfur\\_dioxide} &      -0.0025  &        0.000     &    -8.969  &         0.000        &       -0.003    &       -0.002     \\\\\n\\textbf{density}                &     -54.9669  &       12.137     &    -4.529  &         0.000        &      -78.760    &      -31.173     \\\\\n\\textbf{pH}                     &       0.4393  &        0.090     &     4.861  &         0.000        &        0.262    &        0.616     \\\\\n\\textbf{sulphates}              &       0.7683  &        0.076     &    10.092  &         0.000        &        0.619    &        0.917     \\\\\n\\textbf{alcohol}                &       0.2670  &        0.017     &    15.963  &         0.000        &        0.234    &        0.300     \\\\\n\\bottomrule\n\\end{tabular}\n\\begin{tabular}{lclc}\n\\textbf{Omnibus:}       & 144.075 & \\textbf{  Durbin-Watson:     } &    1.646  \\\\\n\\textbf{Prob(Omnibus):} &   0.000 & \\textbf{  Jarque-Bera (JB):  } &  324.712  \\\\\n\\textbf{Skew:}          &  -0.006 & \\textbf{  Prob(JB):          } & 3.09e-71  \\\\\n\\textbf{Kurtosis:}      &   4.095 & \\textbf{  Cond. No.          } & 2.49e+05  \\\\\n\\bottomrule\n\\end{tabular}\n%\\caption{OLS Regression Results}\n\\end{center}\n\nNotes: \\newline\n [1] Standard Errors assume that the covariance matrix of the errors is correctly specified. \\newline\n [2] The condition number is large, 2.49e+05. This might indicate that there are \\newline\n strong multicollinearity or other numerical problems."
     },
     "execution_count": 31,
     "metadata": {},
     "output_type": "execute_result"
    }
   ],
   "source": [
    "regrResult.summary()"
   ],
   "metadata": {
    "collapsed": false,
    "ExecuteTime": {
     "end_time": "2024-03-20T08:26:25.962220Z",
     "start_time": "2024-03-20T08:26:25.830215Z"
    }
   },
   "id": "68ed7f8779764ab1",
   "execution_count": 31
  }
 ],
 "metadata": {
  "kernelspec": {
   "display_name": "Python 3",
   "language": "python",
   "name": "python3"
  },
  "language_info": {
   "codemirror_mode": {
    "name": "ipython",
    "version": 3
   },
   "file_extension": ".py",
   "mimetype": "text/x-python",
   "name": "python",
   "nbconvert_exporter": "python",
   "pygments_lexer": "ipython3",
   "version": "3.12.2"
  }
 },
 "nbformat": 4,
 "nbformat_minor": 5
}
