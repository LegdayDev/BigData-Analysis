{
 "cells": [
  {
   "cell_type": "markdown",
   "source": [
    "## Pandas 학습\n",
    "\n",
    "### merge\n",
    "   - 데이터를 합칠때 컬럼을 옆으로 눌려서 합침\n",
    "   - DB 의 Join 과 같은 기능이다."
   ],
   "metadata": {
    "collapsed": false
   },
   "id": "a5522060498147c3"
  },
  {
   "cell_type": "code",
   "execution_count": 100,
   "id": "initial_id",
   "metadata": {
    "collapsed": true,
    "ExecuteTime": {
     "end_time": "2024-03-11T02:13:35.843518Z",
     "start_time": "2024-03-11T02:13:35.841740Z"
    }
   },
   "outputs": [],
   "source": [
    "import pandas as pd"
   ]
  },
  {
   "cell_type": "code",
   "outputs": [
    {
     "data": {
      "text/plain": "  국적코드  성별    입국객수    전년동기\n0  A01  남성  106320   85815\n1  A01  여성  191436  125241\n2  A31  남성     319     299\n3  A31  여성      42      54\n4  A18  남성  158912  124486\n5  A18  여성  232943  163466",
      "text/html": "<div>\n<style scoped>\n    .dataframe tbody tr th:only-of-type {\n        vertical-align: middle;\n    }\n\n    .dataframe tbody tr th {\n        vertical-align: top;\n    }\n\n    .dataframe thead th {\n        text-align: right;\n    }\n</style>\n<table border=\"1\" class=\"dataframe\">\n  <thead>\n    <tr style=\"text-align: right;\">\n      <th></th>\n      <th>국적코드</th>\n      <th>성별</th>\n      <th>입국객수</th>\n      <th>전년동기</th>\n    </tr>\n  </thead>\n  <tbody>\n    <tr>\n      <th>0</th>\n      <td>A01</td>\n      <td>남성</td>\n      <td>106320</td>\n      <td>85815</td>\n    </tr>\n    <tr>\n      <th>1</th>\n      <td>A01</td>\n      <td>여성</td>\n      <td>191436</td>\n      <td>125241</td>\n    </tr>\n    <tr>\n      <th>2</th>\n      <td>A31</td>\n      <td>남성</td>\n      <td>319</td>\n      <td>299</td>\n    </tr>\n    <tr>\n      <th>3</th>\n      <td>A31</td>\n      <td>여성</td>\n      <td>42</td>\n      <td>54</td>\n    </tr>\n    <tr>\n      <th>4</th>\n      <td>A18</td>\n      <td>남성</td>\n      <td>158912</td>\n      <td>124486</td>\n    </tr>\n    <tr>\n      <th>5</th>\n      <td>A18</td>\n      <td>여성</td>\n      <td>232943</td>\n      <td>163466</td>\n    </tr>\n  </tbody>\n</table>\n</div>"
     },
     "execution_count": 101,
     "metadata": {},
     "output_type": "execute_result"
    }
   ],
   "source": [
    "# header : 엑셀에서 필요없는 제목줄 등 없애기\n",
    "# skipfooter : 엑셀에서 아래쪽에 필요없는 행들을 삭제\n",
    "df_left = pd.read_excel('../day01/data/sample_1.xlsx', header=1, skipfooter=2)\n",
    "df_left"
   ],
   "metadata": {
    "collapsed": false,
    "ExecuteTime": {
     "end_time": "2024-03-11T02:13:35.881284Z",
     "start_time": "2024-03-11T02:13:35.873548Z"
    }
   },
   "id": "70720554db8527de",
   "execution_count": 101
  },
  {
   "cell_type": "code",
   "outputs": [
    {
     "data": {
      "text/plain": "  국적코드     국적명\n0  A01      일본\n1  A02      대만\n2  A03      홍콩\n3  A18      중국\n4  A19      이란\n5  A22  우즈베키스탄\n6  A23   카자흐스탄\n7  A99  아시아 기타",
      "text/html": "<div>\n<style scoped>\n    .dataframe tbody tr th:only-of-type {\n        vertical-align: middle;\n    }\n\n    .dataframe tbody tr th {\n        vertical-align: top;\n    }\n\n    .dataframe thead th {\n        text-align: right;\n    }\n</style>\n<table border=\"1\" class=\"dataframe\">\n  <thead>\n    <tr style=\"text-align: right;\">\n      <th></th>\n      <th>국적코드</th>\n      <th>국적명</th>\n    </tr>\n  </thead>\n  <tbody>\n    <tr>\n      <th>0</th>\n      <td>A01</td>\n      <td>일본</td>\n    </tr>\n    <tr>\n      <th>1</th>\n      <td>A02</td>\n      <td>대만</td>\n    </tr>\n    <tr>\n      <th>2</th>\n      <td>A03</td>\n      <td>홍콩</td>\n    </tr>\n    <tr>\n      <th>3</th>\n      <td>A18</td>\n      <td>중국</td>\n    </tr>\n    <tr>\n      <th>4</th>\n      <td>A19</td>\n      <td>이란</td>\n    </tr>\n    <tr>\n      <th>5</th>\n      <td>A22</td>\n      <td>우즈베키스탄</td>\n    </tr>\n    <tr>\n      <th>6</th>\n      <td>A23</td>\n      <td>카자흐스탄</td>\n    </tr>\n    <tr>\n      <th>7</th>\n      <td>A99</td>\n      <td>아시아 기타</td>\n    </tr>\n  </tbody>\n</table>\n</div>"
     },
     "execution_count": 102,
     "metadata": {},
     "output_type": "execute_result"
    }
   ],
   "source": [
    "df_right = pd.read_excel('../day01/data/sample_codemaster.xlsx')\n",
    "df_right"
   ],
   "metadata": {
    "collapsed": false,
    "ExecuteTime": {
     "end_time": "2024-03-11T02:13:35.888653Z",
     "start_time": "2024-03-11T02:13:35.882292Z"
    }
   },
   "id": "7f6d201e634c8210",
   "execution_count": 102
  },
  {
   "cell_type": "code",
   "outputs": [],
   "source": [
    "df_total = pd.merge(left=df_left, right=df_right, how='left',left_on='국적코드',right_on='국적코드')"
   ],
   "metadata": {
    "collapsed": false,
    "ExecuteTime": {
     "end_time": "2024-03-11T02:13:35.892239Z",
     "start_time": "2024-03-11T02:13:35.889573Z"
    }
   },
   "id": "2e1f74f80e9eb581",
   "execution_count": 103
  },
  {
   "cell_type": "code",
   "outputs": [
    {
     "data": {
      "text/plain": "  국적코드  성별    입국객수    전년동기  국적명\n0  A01  남성  106320   85815   일본\n1  A01  여성  191436  125241   일본\n2  A31  남성     319     299  NaN\n3  A31  여성      42      54  NaN\n4  A18  남성  158912  124486   중국\n5  A18  여성  232943  163466   중국",
      "text/html": "<div>\n<style scoped>\n    .dataframe tbody tr th:only-of-type {\n        vertical-align: middle;\n    }\n\n    .dataframe tbody tr th {\n        vertical-align: top;\n    }\n\n    .dataframe thead th {\n        text-align: right;\n    }\n</style>\n<table border=\"1\" class=\"dataframe\">\n  <thead>\n    <tr style=\"text-align: right;\">\n      <th></th>\n      <th>국적코드</th>\n      <th>성별</th>\n      <th>입국객수</th>\n      <th>전년동기</th>\n      <th>국적명</th>\n    </tr>\n  </thead>\n  <tbody>\n    <tr>\n      <th>0</th>\n      <td>A01</td>\n      <td>남성</td>\n      <td>106320</td>\n      <td>85815</td>\n      <td>일본</td>\n    </tr>\n    <tr>\n      <th>1</th>\n      <td>A01</td>\n      <td>여성</td>\n      <td>191436</td>\n      <td>125241</td>\n      <td>일본</td>\n    </tr>\n    <tr>\n      <th>2</th>\n      <td>A31</td>\n      <td>남성</td>\n      <td>319</td>\n      <td>299</td>\n      <td>NaN</td>\n    </tr>\n    <tr>\n      <th>3</th>\n      <td>A31</td>\n      <td>여성</td>\n      <td>42</td>\n      <td>54</td>\n      <td>NaN</td>\n    </tr>\n    <tr>\n      <th>4</th>\n      <td>A18</td>\n      <td>남성</td>\n      <td>158912</td>\n      <td>124486</td>\n      <td>중국</td>\n    </tr>\n    <tr>\n      <th>5</th>\n      <td>A18</td>\n      <td>여성</td>\n      <td>232943</td>\n      <td>163466</td>\n      <td>중국</td>\n    </tr>\n  </tbody>\n</table>\n</div>"
     },
     "execution_count": 104,
     "metadata": {},
     "output_type": "execute_result"
    }
   ],
   "source": [
    "df_total"
   ],
   "metadata": {
    "collapsed": false,
    "ExecuteTime": {
     "end_time": "2024-03-11T02:13:35.896353Z",
     "start_time": "2024-03-11T02:13:35.893104Z"
    }
   },
   "id": "cc339a489c57dcb",
   "execution_count": 104
  },
  {
   "cell_type": "code",
   "outputs": [
    {
     "data": {
      "text/plain": "  국적코드  성별    입국객수    전년동기 국적명\n0  A01  남성  106320   85815  일본\n1  A01  여성  191436  125241  일본\n2  A18  남성  158912  124486  중국\n3  A18  여성  232943  163466  중국",
      "text/html": "<div>\n<style scoped>\n    .dataframe tbody tr th:only-of-type {\n        vertical-align: middle;\n    }\n\n    .dataframe tbody tr th {\n        vertical-align: top;\n    }\n\n    .dataframe thead th {\n        text-align: right;\n    }\n</style>\n<table border=\"1\" class=\"dataframe\">\n  <thead>\n    <tr style=\"text-align: right;\">\n      <th></th>\n      <th>국적코드</th>\n      <th>성별</th>\n      <th>입국객수</th>\n      <th>전년동기</th>\n      <th>국적명</th>\n    </tr>\n  </thead>\n  <tbody>\n    <tr>\n      <th>0</th>\n      <td>A01</td>\n      <td>남성</td>\n      <td>106320</td>\n      <td>85815</td>\n      <td>일본</td>\n    </tr>\n    <tr>\n      <th>1</th>\n      <td>A01</td>\n      <td>여성</td>\n      <td>191436</td>\n      <td>125241</td>\n      <td>일본</td>\n    </tr>\n    <tr>\n      <th>2</th>\n      <td>A18</td>\n      <td>남성</td>\n      <td>158912</td>\n      <td>124486</td>\n      <td>중국</td>\n    </tr>\n    <tr>\n      <th>3</th>\n      <td>A18</td>\n      <td>여성</td>\n      <td>232943</td>\n      <td>163466</td>\n      <td>중국</td>\n    </tr>\n  </tbody>\n</table>\n</div>"
     },
     "execution_count": 105,
     "metadata": {},
     "output_type": "execute_result"
    }
   ],
   "source": [
    "# DB : Inner Join 과 같다.\n",
    "df_total = pd.merge(left=df_left, right=df_right, how='inner',left_on='국적코드',right_on='국적코드')\n",
    "df_total"
   ],
   "metadata": {
    "collapsed": false,
    "ExecuteTime": {
     "end_time": "2024-03-11T02:13:35.901255Z",
     "start_time": "2024-03-11T02:13:35.897134Z"
    }
   },
   "id": "10bdf6efe2661dd0",
   "execution_count": 105
  },
  {
   "cell_type": "markdown",
   "source": [
    "### append\n",
    "- 데이터를 합칠 때 데이터 수(row)를 늘도록 합치는 방법\n",
    "- DB에 UNION 과 동일하다."
   ],
   "metadata": {
    "collapsed": false
   },
   "id": "14e7dca826bc08f0"
  },
  {
   "cell_type": "code",
   "outputs": [
    {
     "data": {
      "text/plain": "  국적코드  성별    입국객수    전년동기\n0  A01  남성   92556   75992\n1  A01  여성  163737  115397\n2  A18  남성  155540  129908\n3  A18  여성  249023  191236",
      "text/html": "<div>\n<style scoped>\n    .dataframe tbody tr th:only-of-type {\n        vertical-align: middle;\n    }\n\n    .dataframe tbody tr th {\n        vertical-align: top;\n    }\n\n    .dataframe thead th {\n        text-align: right;\n    }\n</style>\n<table border=\"1\" class=\"dataframe\">\n  <thead>\n    <tr style=\"text-align: right;\">\n      <th></th>\n      <th>국적코드</th>\n      <th>성별</th>\n      <th>입국객수</th>\n      <th>전년동기</th>\n    </tr>\n  </thead>\n  <tbody>\n    <tr>\n      <th>0</th>\n      <td>A01</td>\n      <td>남성</td>\n      <td>92556</td>\n      <td>75992</td>\n    </tr>\n    <tr>\n      <th>1</th>\n      <td>A01</td>\n      <td>여성</td>\n      <td>163737</td>\n      <td>115397</td>\n    </tr>\n    <tr>\n      <th>2</th>\n      <td>A18</td>\n      <td>남성</td>\n      <td>155540</td>\n      <td>129908</td>\n    </tr>\n    <tr>\n      <th>3</th>\n      <td>A18</td>\n      <td>여성</td>\n      <td>249023</td>\n      <td>191236</td>\n    </tr>\n  </tbody>\n</table>\n</div>"
     },
     "execution_count": 106,
     "metadata": {},
     "output_type": "execute_result"
    }
   ],
   "source": [
    "# append 를 하기위한 데이터 생성\n",
    "df_left2 = pd.read_excel('./data/sample_2.xlsx',header=1, skipfooter=2, usecols=\"A:D\")\n",
    "df_left2"
   ],
   "metadata": {
    "collapsed": false,
    "ExecuteTime": {
     "end_time": "2024-03-11T02:13:35.932771Z",
     "start_time": "2024-03-11T02:13:35.925087Z"
    }
   },
   "id": "f9990851f97f6352",
   "execution_count": 106
  },
  {
   "cell_type": "code",
   "outputs": [],
   "source": [
    "# pandas 2.x 버전 이상에서는 append() -> concat() 으로 대체됨!\n",
    "# df_all = df_left.append(df_left2)"
   ],
   "metadata": {
    "collapsed": false,
    "ExecuteTime": {
     "end_time": "2024-03-11T02:13:35.965880Z",
     "start_time": "2024-03-11T02:13:35.964347Z"
    }
   },
   "id": "27e5fa2cdf3c045",
   "execution_count": 107
  },
  {
   "cell_type": "code",
   "outputs": [
    {
     "data": {
      "text/plain": "  국적코드  성별    입국객수    전년동기\n0  A01  남성  106320   85815\n1  A01  여성  191436  125241\n2  A31  남성     319     299\n3  A31  여성      42      54\n4  A18  남성  158912  124486\n5  A18  여성  232943  163466\n0  A01  남성   92556   75992\n1  A01  여성  163737  115397\n2  A18  남성  155540  129908\n3  A18  여성  249023  191236",
      "text/html": "<div>\n<style scoped>\n    .dataframe tbody tr th:only-of-type {\n        vertical-align: middle;\n    }\n\n    .dataframe tbody tr th {\n        vertical-align: top;\n    }\n\n    .dataframe thead th {\n        text-align: right;\n    }\n</style>\n<table border=\"1\" class=\"dataframe\">\n  <thead>\n    <tr style=\"text-align: right;\">\n      <th></th>\n      <th>국적코드</th>\n      <th>성별</th>\n      <th>입국객수</th>\n      <th>전년동기</th>\n    </tr>\n  </thead>\n  <tbody>\n    <tr>\n      <th>0</th>\n      <td>A01</td>\n      <td>남성</td>\n      <td>106320</td>\n      <td>85815</td>\n    </tr>\n    <tr>\n      <th>1</th>\n      <td>A01</td>\n      <td>여성</td>\n      <td>191436</td>\n      <td>125241</td>\n    </tr>\n    <tr>\n      <th>2</th>\n      <td>A31</td>\n      <td>남성</td>\n      <td>319</td>\n      <td>299</td>\n    </tr>\n    <tr>\n      <th>3</th>\n      <td>A31</td>\n      <td>여성</td>\n      <td>42</td>\n      <td>54</td>\n    </tr>\n    <tr>\n      <th>4</th>\n      <td>A18</td>\n      <td>남성</td>\n      <td>158912</td>\n      <td>124486</td>\n    </tr>\n    <tr>\n      <th>5</th>\n      <td>A18</td>\n      <td>여성</td>\n      <td>232943</td>\n      <td>163466</td>\n    </tr>\n    <tr>\n      <th>0</th>\n      <td>A01</td>\n      <td>남성</td>\n      <td>92556</td>\n      <td>75992</td>\n    </tr>\n    <tr>\n      <th>1</th>\n      <td>A01</td>\n      <td>여성</td>\n      <td>163737</td>\n      <td>115397</td>\n    </tr>\n    <tr>\n      <th>2</th>\n      <td>A18</td>\n      <td>남성</td>\n      <td>155540</td>\n      <td>129908</td>\n    </tr>\n    <tr>\n      <th>3</th>\n      <td>A18</td>\n      <td>여성</td>\n      <td>249023</td>\n      <td>191236</td>\n    </tr>\n  </tbody>\n</table>\n</div>"
     },
     "execution_count": 108,
     "metadata": {},
     "output_type": "execute_result"
    }
   ],
   "source": [
    "pd.concat([df_left,df_left2])"
   ],
   "metadata": {
    "collapsed": false,
    "ExecuteTime": {
     "end_time": "2024-03-11T02:13:36.019660Z",
     "start_time": "2024-03-11T02:13:36.015581Z"
    }
   },
   "id": "6d48f5c5a2e8f9a0",
   "execution_count": 108
  },
  {
   "cell_type": "code",
   "outputs": [
    {
     "data": {
      "text/plain": "  국적코드  성별    입국객수    전년동기  국적명\n0  A01  남성  106320   85815   일본\n1  A01  여성  191436  125241   일본\n2  A18  남성  158912  124486   중국\n3  A18  여성  232943  163466   중국\n0  A01  남성   92556   75992  NaN\n1  A01  여성  163737  115397  NaN\n2  A18  남성  155540  129908  NaN\n3  A18  여성  249023  191236  NaN",
      "text/html": "<div>\n<style scoped>\n    .dataframe tbody tr th:only-of-type {\n        vertical-align: middle;\n    }\n\n    .dataframe tbody tr th {\n        vertical-align: top;\n    }\n\n    .dataframe thead th {\n        text-align: right;\n    }\n</style>\n<table border=\"1\" class=\"dataframe\">\n  <thead>\n    <tr style=\"text-align: right;\">\n      <th></th>\n      <th>국적코드</th>\n      <th>성별</th>\n      <th>입국객수</th>\n      <th>전년동기</th>\n      <th>국적명</th>\n    </tr>\n  </thead>\n  <tbody>\n    <tr>\n      <th>0</th>\n      <td>A01</td>\n      <td>남성</td>\n      <td>106320</td>\n      <td>85815</td>\n      <td>일본</td>\n    </tr>\n    <tr>\n      <th>1</th>\n      <td>A01</td>\n      <td>여성</td>\n      <td>191436</td>\n      <td>125241</td>\n      <td>일본</td>\n    </tr>\n    <tr>\n      <th>2</th>\n      <td>A18</td>\n      <td>남성</td>\n      <td>158912</td>\n      <td>124486</td>\n      <td>중국</td>\n    </tr>\n    <tr>\n      <th>3</th>\n      <td>A18</td>\n      <td>여성</td>\n      <td>232943</td>\n      <td>163466</td>\n      <td>중국</td>\n    </tr>\n    <tr>\n      <th>0</th>\n      <td>A01</td>\n      <td>남성</td>\n      <td>92556</td>\n      <td>75992</td>\n      <td>NaN</td>\n    </tr>\n    <tr>\n      <th>1</th>\n      <td>A01</td>\n      <td>여성</td>\n      <td>163737</td>\n      <td>115397</td>\n      <td>NaN</td>\n    </tr>\n    <tr>\n      <th>2</th>\n      <td>A18</td>\n      <td>남성</td>\n      <td>155540</td>\n      <td>129908</td>\n      <td>NaN</td>\n    </tr>\n    <tr>\n      <th>3</th>\n      <td>A18</td>\n      <td>여성</td>\n      <td>249023</td>\n      <td>191236</td>\n      <td>NaN</td>\n    </tr>\n  </tbody>\n</table>\n</div>"
     },
     "execution_count": 109,
     "metadata": {},
     "output_type": "execute_result"
    }
   ],
   "source": [
    "# 잘못된 방법\n",
    "pd.concat([df_total, df_left2])"
   ],
   "metadata": {
    "collapsed": false,
    "ExecuteTime": {
     "end_time": "2024-03-11T02:13:36.073054Z",
     "start_time": "2024-03-11T02:13:36.068822Z"
    }
   },
   "id": "b4b9ffbe39066d89",
   "execution_count": 109
  },
  {
   "cell_type": "code",
   "outputs": [
    {
     "data": {
      "text/plain": "  국적코드  성별    입국객수    전년동기 국적명\n0  A01  남성   92556   75992  일본\n1  A01  여성  163737  115397  일본\n2  A18  남성  155540  129908  중국\n3  A18  여성  249023  191236  중국",
      "text/html": "<div>\n<style scoped>\n    .dataframe tbody tr th:only-of-type {\n        vertical-align: middle;\n    }\n\n    .dataframe tbody tr th {\n        vertical-align: top;\n    }\n\n    .dataframe thead th {\n        text-align: right;\n    }\n</style>\n<table border=\"1\" class=\"dataframe\">\n  <thead>\n    <tr style=\"text-align: right;\">\n      <th></th>\n      <th>국적코드</th>\n      <th>성별</th>\n      <th>입국객수</th>\n      <th>전년동기</th>\n      <th>국적명</th>\n    </tr>\n  </thead>\n  <tbody>\n    <tr>\n      <th>0</th>\n      <td>A01</td>\n      <td>남성</td>\n      <td>92556</td>\n      <td>75992</td>\n      <td>일본</td>\n    </tr>\n    <tr>\n      <th>1</th>\n      <td>A01</td>\n      <td>여성</td>\n      <td>163737</td>\n      <td>115397</td>\n      <td>일본</td>\n    </tr>\n    <tr>\n      <th>2</th>\n      <td>A18</td>\n      <td>남성</td>\n      <td>155540</td>\n      <td>129908</td>\n      <td>중국</td>\n    </tr>\n    <tr>\n      <th>3</th>\n      <td>A18</td>\n      <td>여성</td>\n      <td>249023</td>\n      <td>191236</td>\n      <td>중국</td>\n    </tr>\n  </tbody>\n</table>\n</div>"
     },
     "execution_count": 110,
     "metadata": {},
     "output_type": "execute_result"
    }
   ],
   "source": [
    "# df_left2 를 가지고 df_total2 를 만든다.\n",
    "df_total2 = pd.merge(left=df_left2, right=df_right, how='left',left_on='국적코드',right_on='국적코드')\n",
    "df_total2"
   ],
   "metadata": {
    "collapsed": false,
    "ExecuteTime": {
     "end_time": "2024-03-11T02:13:36.114689Z",
     "start_time": "2024-03-11T02:13:36.110225Z"
    }
   },
   "id": "dcc90502b934469b",
   "execution_count": 110
  },
  {
   "cell_type": "code",
   "outputs": [],
   "source": [
    "df_all = pd.concat([df_total, df_total2], ignore_index=True)\n",
    "# ignore_index = 새로운 인덱스를 만들어주는 옵션"
   ],
   "metadata": {
    "collapsed": false,
    "ExecuteTime": {
     "end_time": "2024-03-11T02:13:36.147423Z",
     "start_time": "2024-03-11T02:13:36.145346Z"
    }
   },
   "id": "6f116e0cefa46e9",
   "execution_count": 111
  },
  {
   "cell_type": "code",
   "outputs": [
    {
     "data": {
      "text/plain": "  국적코드  성별    입국객수    전년동기 국적명\n0  A01  남성  106320   85815  일본\n1  A01  여성  191436  125241  일본\n2  A18  남성  158912  124486  중국\n3  A18  여성  232943  163466  중국\n4  A01  남성   92556   75992  일본\n5  A01  여성  163737  115397  일본\n6  A18  남성  155540  129908  중국\n7  A18  여성  249023  191236  중국",
      "text/html": "<div>\n<style scoped>\n    .dataframe tbody tr th:only-of-type {\n        vertical-align: middle;\n    }\n\n    .dataframe tbody tr th {\n        vertical-align: top;\n    }\n\n    .dataframe thead th {\n        text-align: right;\n    }\n</style>\n<table border=\"1\" class=\"dataframe\">\n  <thead>\n    <tr style=\"text-align: right;\">\n      <th></th>\n      <th>국적코드</th>\n      <th>성별</th>\n      <th>입국객수</th>\n      <th>전년동기</th>\n      <th>국적명</th>\n    </tr>\n  </thead>\n  <tbody>\n    <tr>\n      <th>0</th>\n      <td>A01</td>\n      <td>남성</td>\n      <td>106320</td>\n      <td>85815</td>\n      <td>일본</td>\n    </tr>\n    <tr>\n      <th>1</th>\n      <td>A01</td>\n      <td>여성</td>\n      <td>191436</td>\n      <td>125241</td>\n      <td>일본</td>\n    </tr>\n    <tr>\n      <th>2</th>\n      <td>A18</td>\n      <td>남성</td>\n      <td>158912</td>\n      <td>124486</td>\n      <td>중국</td>\n    </tr>\n    <tr>\n      <th>3</th>\n      <td>A18</td>\n      <td>여성</td>\n      <td>232943</td>\n      <td>163466</td>\n      <td>중국</td>\n    </tr>\n    <tr>\n      <th>4</th>\n      <td>A01</td>\n      <td>남성</td>\n      <td>92556</td>\n      <td>75992</td>\n      <td>일본</td>\n    </tr>\n    <tr>\n      <th>5</th>\n      <td>A01</td>\n      <td>여성</td>\n      <td>163737</td>\n      <td>115397</td>\n      <td>일본</td>\n    </tr>\n    <tr>\n      <th>6</th>\n      <td>A18</td>\n      <td>남성</td>\n      <td>155540</td>\n      <td>129908</td>\n      <td>중국</td>\n    </tr>\n    <tr>\n      <th>7</th>\n      <td>A18</td>\n      <td>여성</td>\n      <td>249023</td>\n      <td>191236</td>\n      <td>중국</td>\n    </tr>\n  </tbody>\n</table>\n</div>"
     },
     "execution_count": 112,
     "metadata": {},
     "output_type": "execute_result"
    }
   ],
   "source": [
    "df_all"
   ],
   "metadata": {
    "collapsed": false,
    "ExecuteTime": {
     "end_time": "2024-03-11T02:13:36.191859Z",
     "start_time": "2024-03-11T02:13:36.188214Z"
    }
   },
   "id": "d7b5910618ef538e",
   "execution_count": 112
  },
  {
   "cell_type": "code",
   "outputs": [],
   "source": [
    "# DataFrame 저장 to_xxx() 함수로 각각의 종류별로 저장가ㅡㄴㅇ\n",
    "df_all.to_excel('./data/df_all.xlsx', index=False)"
   ],
   "metadata": {
    "collapsed": false,
    "ExecuteTime": {
     "end_time": "2024-03-11T02:13:36.234270Z",
     "start_time": "2024-03-11T02:13:36.227795Z"
    }
   },
   "id": "5a0dc9457d497131",
   "execution_count": 113
  },
  {
   "cell_type": "code",
   "outputs": [
    {
     "data": {
      "text/plain": "  국적코드  성별    입국객수    전년동기 국적명     기준년월\n0  A01  남성  106320   85815  일본  2019-11\n1  A01  여성  191436  125241  일본  2019-11\n2  A18  남성  158912  124486  중국  2019-11\n3  A18  여성  232943  163466  중국  2019-11",
      "text/html": "<div>\n<style scoped>\n    .dataframe tbody tr th:only-of-type {\n        vertical-align: middle;\n    }\n\n    .dataframe tbody tr th {\n        vertical-align: top;\n    }\n\n    .dataframe thead th {\n        text-align: right;\n    }\n</style>\n<table border=\"1\" class=\"dataframe\">\n  <thead>\n    <tr style=\"text-align: right;\">\n      <th></th>\n      <th>국적코드</th>\n      <th>성별</th>\n      <th>입국객수</th>\n      <th>전년동기</th>\n      <th>국적명</th>\n      <th>기준년월</th>\n    </tr>\n  </thead>\n  <tbody>\n    <tr>\n      <th>0</th>\n      <td>A01</td>\n      <td>남성</td>\n      <td>106320</td>\n      <td>85815</td>\n      <td>일본</td>\n      <td>2019-11</td>\n    </tr>\n    <tr>\n      <th>1</th>\n      <td>A01</td>\n      <td>여성</td>\n      <td>191436</td>\n      <td>125241</td>\n      <td>일본</td>\n      <td>2019-11</td>\n    </tr>\n    <tr>\n      <th>2</th>\n      <td>A18</td>\n      <td>남성</td>\n      <td>158912</td>\n      <td>124486</td>\n      <td>중국</td>\n      <td>2019-11</td>\n    </tr>\n    <tr>\n      <th>3</th>\n      <td>A18</td>\n      <td>여성</td>\n      <td>232943</td>\n      <td>163466</td>\n      <td>중국</td>\n      <td>2019-11</td>\n    </tr>\n  </tbody>\n</table>\n</div>"
     },
     "execution_count": 114,
     "metadata": {},
     "output_type": "execute_result"
    }
   ],
   "source": [
    "# 기준년월 확인 \n",
    "df_total['기준년월'] = '2019-11'\n",
    "df_total"
   ],
   "metadata": {
    "collapsed": false,
    "ExecuteTime": {
     "end_time": "2024-03-11T02:13:36.280840Z",
     "start_time": "2024-03-11T02:13:36.276883Z"
    }
   },
   "id": "be9ca7f0ffeec2f4",
   "execution_count": 114
  },
  {
   "cell_type": "code",
   "outputs": [
    {
     "data": {
      "text/plain": "  국적코드  성별    입국객수    전년동기 국적명     기준년월\n0  A01  남성   92556   75992  일본  2019-12\n1  A01  여성  163737  115397  일본  2019-12\n2  A18  남성  155540  129908  중국  2019-12\n3  A18  여성  249023  191236  중국  2019-12",
      "text/html": "<div>\n<style scoped>\n    .dataframe tbody tr th:only-of-type {\n        vertical-align: middle;\n    }\n\n    .dataframe tbody tr th {\n        vertical-align: top;\n    }\n\n    .dataframe thead th {\n        text-align: right;\n    }\n</style>\n<table border=\"1\" class=\"dataframe\">\n  <thead>\n    <tr style=\"text-align: right;\">\n      <th></th>\n      <th>국적코드</th>\n      <th>성별</th>\n      <th>입국객수</th>\n      <th>전년동기</th>\n      <th>국적명</th>\n      <th>기준년월</th>\n    </tr>\n  </thead>\n  <tbody>\n    <tr>\n      <th>0</th>\n      <td>A01</td>\n      <td>남성</td>\n      <td>92556</td>\n      <td>75992</td>\n      <td>일본</td>\n      <td>2019-12</td>\n    </tr>\n    <tr>\n      <th>1</th>\n      <td>A01</td>\n      <td>여성</td>\n      <td>163737</td>\n      <td>115397</td>\n      <td>일본</td>\n      <td>2019-12</td>\n    </tr>\n    <tr>\n      <th>2</th>\n      <td>A18</td>\n      <td>남성</td>\n      <td>155540</td>\n      <td>129908</td>\n      <td>중국</td>\n      <td>2019-12</td>\n    </tr>\n    <tr>\n      <th>3</th>\n      <td>A18</td>\n      <td>여성</td>\n      <td>249023</td>\n      <td>191236</td>\n      <td>중국</td>\n      <td>2019-12</td>\n    </tr>\n  </tbody>\n</table>\n</div>"
     },
     "execution_count": 115,
     "metadata": {},
     "output_type": "execute_result"
    }
   ],
   "source": [
    "df_total2['기준년월'] = '2019-12'\n",
    "df_total2"
   ],
   "metadata": {
    "collapsed": false,
    "ExecuteTime": {
     "end_time": "2024-03-11T02:13:36.293793Z",
     "start_time": "2024-03-11T02:13:36.289923Z"
    }
   },
   "id": "2cb875ab4de0c381",
   "execution_count": 115
  },
  {
   "cell_type": "code",
   "outputs": [
    {
     "data": {
      "text/plain": "  국적코드  성별    입국객수    전년동기 국적명     기준년월\n0  A01  남성  106320   85815  일본  2019-11\n1  A01  여성  191436  125241  일본  2019-11\n2  A18  남성  158912  124486  중국  2019-11\n3  A18  여성  232943  163466  중국  2019-11\n4  A01  남성   92556   75992  일본  2019-12\n5  A01  여성  163737  115397  일본  2019-12\n6  A18  남성  155540  129908  중국  2019-12\n7  A18  여성  249023  191236  중국  2019-12",
      "text/html": "<div>\n<style scoped>\n    .dataframe tbody tr th:only-of-type {\n        vertical-align: middle;\n    }\n\n    .dataframe tbody tr th {\n        vertical-align: top;\n    }\n\n    .dataframe thead th {\n        text-align: right;\n    }\n</style>\n<table border=\"1\" class=\"dataframe\">\n  <thead>\n    <tr style=\"text-align: right;\">\n      <th></th>\n      <th>국적코드</th>\n      <th>성별</th>\n      <th>입국객수</th>\n      <th>전년동기</th>\n      <th>국적명</th>\n      <th>기준년월</th>\n    </tr>\n  </thead>\n  <tbody>\n    <tr>\n      <th>0</th>\n      <td>A01</td>\n      <td>남성</td>\n      <td>106320</td>\n      <td>85815</td>\n      <td>일본</td>\n      <td>2019-11</td>\n    </tr>\n    <tr>\n      <th>1</th>\n      <td>A01</td>\n      <td>여성</td>\n      <td>191436</td>\n      <td>125241</td>\n      <td>일본</td>\n      <td>2019-11</td>\n    </tr>\n    <tr>\n      <th>2</th>\n      <td>A18</td>\n      <td>남성</td>\n      <td>158912</td>\n      <td>124486</td>\n      <td>중국</td>\n      <td>2019-11</td>\n    </tr>\n    <tr>\n      <th>3</th>\n      <td>A18</td>\n      <td>여성</td>\n      <td>232943</td>\n      <td>163466</td>\n      <td>중국</td>\n      <td>2019-11</td>\n    </tr>\n    <tr>\n      <th>4</th>\n      <td>A01</td>\n      <td>남성</td>\n      <td>92556</td>\n      <td>75992</td>\n      <td>일본</td>\n      <td>2019-12</td>\n    </tr>\n    <tr>\n      <th>5</th>\n      <td>A01</td>\n      <td>여성</td>\n      <td>163737</td>\n      <td>115397</td>\n      <td>일본</td>\n      <td>2019-12</td>\n    </tr>\n    <tr>\n      <th>6</th>\n      <td>A18</td>\n      <td>남성</td>\n      <td>155540</td>\n      <td>129908</td>\n      <td>중국</td>\n      <td>2019-12</td>\n    </tr>\n    <tr>\n      <th>7</th>\n      <td>A18</td>\n      <td>여성</td>\n      <td>249023</td>\n      <td>191236</td>\n      <td>중국</td>\n      <td>2019-12</td>\n    </tr>\n  </tbody>\n</table>\n</div>"
     },
     "execution_count": 116,
     "metadata": {},
     "output_type": "execute_result"
    }
   ],
   "source": [
    "df_all = pd.concat([df_total,df_total2],ignore_index=True)\n",
    "df_all"
   ],
   "metadata": {
    "collapsed": false,
    "ExecuteTime": {
     "end_time": "2024-03-11T02:13:36.322810Z",
     "start_time": "2024-03-11T02:13:36.318764Z"
    }
   },
   "id": "d3f89c11ef55f536",
   "execution_count": 116
  },
  {
   "cell_type": "markdown",
   "source": [
    "### Pivot 테이블\n",
    "- 통계를 내면서 테이블을 세로로 된 DF를 가로로 바꿔주는 기능\n",
    "- "
   ],
   "metadata": {
    "collapsed": false
   },
   "id": "e6bf79bf0c8355fb"
  },
  {
   "cell_type": "code",
   "outputs": [
    {
     "data": {
      "text/plain": "기준년월  2019-11  2019-12\n국적코드                  \nA01    297756   256293\nA18    391855   404563",
      "text/html": "<div>\n<style scoped>\n    .dataframe tbody tr th:only-of-type {\n        vertical-align: middle;\n    }\n\n    .dataframe tbody tr th {\n        vertical-align: top;\n    }\n\n    .dataframe thead th {\n        text-align: right;\n    }\n</style>\n<table border=\"1\" class=\"dataframe\">\n  <thead>\n    <tr style=\"text-align: right;\">\n      <th>기준년월</th>\n      <th>2019-11</th>\n      <th>2019-12</th>\n    </tr>\n    <tr>\n      <th>국적코드</th>\n      <th></th>\n      <th></th>\n    </tr>\n  </thead>\n  <tbody>\n    <tr>\n      <th>A01</th>\n      <td>297756</td>\n      <td>256293</td>\n    </tr>\n    <tr>\n      <th>A18</th>\n      <td>391855</td>\n      <td>404563</td>\n    </tr>\n  </tbody>\n</table>\n</div>"
     },
     "execution_count": 117,
     "metadata": {},
     "output_type": "execute_result"
    }
   ],
   "source": [
    "# aggfunc -> sum:총합/mean:평균/min,max:최소,최대값/median:중앙값/count:갯수/unique:객수(중복제거)\n",
    "df_all.pivot_table(values='입국객수',index='국적코드',columns='기준년월', aggfunc='sum')"
   ],
   "metadata": {
    "collapsed": false,
    "ExecuteTime": {
     "end_time": "2024-03-11T02:13:36.349161Z",
     "start_time": "2024-03-11T02:13:36.343651Z"
    }
   },
   "id": "22f1261ceec268ce",
   "execution_count": 117
  }
 ],
 "metadata": {
  "kernelspec": {
   "display_name": "Python 3",
   "language": "python",
   "name": "python3"
  },
  "language_info": {
   "codemirror_mode": {
    "name": "ipython",
    "version": 2
   },
   "file_extension": ".py",
   "mimetype": "text/x-python",
   "name": "python",
   "nbconvert_exporter": "python",
   "pygments_lexer": "ipython2",
   "version": "2.7.6"
  }
 },
 "nbformat": 4,
 "nbformat_minor": 5
}
