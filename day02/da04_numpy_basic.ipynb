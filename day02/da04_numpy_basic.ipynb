{
 "cells": [
  {
   "cell_type": "markdown",
   "source": [
    "## Numpy 학습\n",
    "\n",
    "### Numpy 설치\n",
    "- Numpy 는 다른 모듈설치 시 대부분 같이 설치된다.\n",
    "    ```python\n",
    "    !pip3 install [update] numpy \n",
    "    ```"
   ],
   "metadata": {
    "collapsed": false
   },
   "id": "a689609587674f8a"
  },
  {
   "cell_type": "code",
   "execution_count": 1,
   "id": "initial_id",
   "metadata": {
    "collapsed": true,
    "ExecuteTime": {
     "end_time": "2024-03-11T12:29:22.313627Z",
     "start_time": "2024-03-11T12:29:21.396256Z"
    }
   },
   "outputs": [
    {
     "name": "stdout",
     "output_type": "stream",
     "text": [
      "Requirement already satisfied: update in /Library/Frameworks/Python.framework/Versions/3.12/lib/python3.12/site-packages (0.0.1)\r\n",
      "Requirement already satisfied: numpy in /Library/Frameworks/Python.framework/Versions/3.12/lib/python3.12/site-packages (1.26.4)\r\n",
      "Requirement already satisfied: style==1.1.0 in /Library/Frameworks/Python.framework/Versions/3.12/lib/python3.12/site-packages (from update) (1.1.0)\r\n"
     ]
    }
   ],
   "source": [
    "!pip3 install update numpy"
   ]
  },
  {
   "cell_type": "markdown",
   "source": [
    "### numpy 추가\n",
    "```python\n",
    "import numpy as np\n",
    "```"
   ],
   "metadata": {
    "collapsed": false
   },
   "id": "c8a80a3b60d7ba35"
  },
  {
   "cell_type": "code",
   "outputs": [],
   "source": [
    "import numpy as np"
   ],
   "metadata": {
    "collapsed": false,
    "ExecuteTime": {
     "end_time": "2024-03-11T12:29:22.316973Z",
     "start_time": "2024-03-11T12:29:22.314692Z"
    }
   },
   "id": "4cce652b776a231c",
   "execution_count": 2
  },
  {
   "cell_type": "code",
   "outputs": [
    {
     "data": {
      "text/plain": "[2, 6, 10, 14, 18]"
     },
     "execution_count": 3,
     "metadata": {},
     "output_type": "execute_result"
    }
   ],
   "source": [
    "pyList = [1, 3, 5, 7, 9]\n",
    "[i * 2 for i in pyList]"
   ],
   "metadata": {
    "collapsed": false,
    "ExecuteTime": {
     "end_time": "2024-03-11T12:29:22.322159Z",
     "start_time": "2024-03-11T12:29:22.317883Z"
    }
   },
   "id": "1901d7e88d11b4a",
   "execution_count": 3
  },
  {
   "cell_type": "code",
   "outputs": [
    {
     "data": {
      "text/plain": "array([1, 3, 5, 7, 9])"
     },
     "execution_count": 4,
     "metadata": {},
     "output_type": "execute_result"
    }
   ],
   "source": [
    "npList = np.array(pyList)\n",
    "npList"
   ],
   "metadata": {
    "collapsed": false,
    "ExecuteTime": {
     "end_time": "2024-03-11T12:29:22.325726Z",
     "start_time": "2024-03-11T12:29:22.323044Z"
    }
   },
   "id": "75d56702e8f14ccf",
   "execution_count": 4
  },
  {
   "cell_type": "code",
   "outputs": [
    {
     "data": {
      "text/plain": "array([ 2,  6, 10, 14, 18])"
     },
     "execution_count": 5,
     "metadata": {},
     "output_type": "execute_result"
    }
   ],
   "source": [
    "# 파이썬에서 * 를 리스트, 배열에 사용하면 반복이 되지만, Numpy에서는 우리가 수학에서 일반적으로 쓰는 곱하기가 그대로 사용\n",
    "npList*2"
   ],
   "metadata": {
    "collapsed": false,
    "ExecuteTime": {
     "end_time": "2024-03-11T12:29:22.329008Z",
     "start_time": "2024-03-11T12:29:22.326542Z"
    }
   },
   "id": "171c6b259d2489d6",
   "execution_count": 5
  },
  {
   "cell_type": "markdown",
   "source": [
    "### Numpy 와 List 의 처리속도 비교\n",
    "- `%timeit` 을 사용하여 각각의 처리속도를 비교할 수 있다.\n",
    "- `Numpy` 가 훨씬 처리속도가 빠르다"
   ],
   "metadata": {
    "collapsed": false
   },
   "id": "4531fe8209976ea2"
  },
  {
   "cell_type": "code",
   "outputs": [],
   "source": [
    "# 대량의 리스트 처리속도가 빠름\n",
    "npList = np.arange(1_000_000)\n",
    "pyList = list(range(1_000_000))"
   ],
   "metadata": {
    "collapsed": false,
    "ExecuteTime": {
     "end_time": "2024-03-11T12:29:22.343478Z",
     "start_time": "2024-03-11T12:29:22.329925Z"
    }
   },
   "id": "f6475bde4dd22a9a",
   "execution_count": 6
  },
  {
   "cell_type": "code",
   "outputs": [
    {
     "name": "stdout",
     "output_type": "stream",
     "text": [
      "34.2 ms ± 808 µs per loop (mean ± std. dev. of 7 runs, 10 loops each)\n"
     ]
    }
   ],
   "source": [
    "%timeit for _ in range(10): pyList2 = pyList*2"
   ],
   "metadata": {
    "collapsed": false,
    "ExecuteTime": {
     "end_time": "2024-03-11T12:29:25.138245Z",
     "start_time": "2024-03-11T12:29:22.344303Z"
    }
   },
   "id": "beeeccbc58d8a221",
   "execution_count": 7
  },
  {
   "cell_type": "code",
   "outputs": [
    {
     "name": "stdout",
     "output_type": "stream",
     "text": [
      "7.18 ms ± 192 µs per loop (mean ± std. dev. of 7 runs, 100 loops each)\n"
     ]
    }
   ],
   "source": [
    "%timeit for _ in range(10): npList2 = npList*2"
   ],
   "metadata": {
    "collapsed": false,
    "ExecuteTime": {
     "end_time": "2024-03-11T12:29:30.979576Z",
     "start_time": "2024-03-11T12:29:25.138995Z"
    }
   },
   "id": "dcd98cc6af8af0c",
   "execution_count": 8
  },
  {
   "cell_type": "code",
   "outputs": [],
   "source": [],
   "metadata": {
    "collapsed": false,
    "ExecuteTime": {
     "end_time": "2024-03-11T12:29:30.981513Z",
     "start_time": "2024-03-11T12:29:30.980145Z"
    }
   },
   "id": "aa83ee27ac87b22",
   "execution_count": 8
  }
 ],
 "metadata": {
  "kernelspec": {
   "display_name": "Python 3",
   "language": "python",
   "name": "python3"
  },
  "language_info": {
   "codemirror_mode": {
    "name": "ipython",
    "version": 2
   },
   "file_extension": ".py",
   "mimetype": "text/x-python",
   "name": "python",
   "nbconvert_exporter": "python",
   "pygments_lexer": "ipython2",
   "version": "2.7.6"
  }
 },
 "nbformat": 4,
 "nbformat_minor": 5
}
