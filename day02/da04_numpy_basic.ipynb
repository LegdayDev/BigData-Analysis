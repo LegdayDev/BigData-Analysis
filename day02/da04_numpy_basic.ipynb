{
 "cells": [
  {
   "cell_type": "markdown",
   "source": [
    "## Numpy 학습\n",
    "\n",
    "### Numpy 설치\n",
    "- Numpy 는 다른 모듈설치 시 대부분 같이 설치된다.\n",
    "    ```python\n",
    "    !pip3 install [update] numpy \n",
    "    ```"
   ],
   "metadata": {
    "collapsed": false
   },
   "id": "a689609587674f8a"
  },
  {
   "cell_type": "code",
   "execution_count": 1,
   "id": "initial_id",
   "metadata": {
    "collapsed": true,
    "ExecuteTime": {
     "end_time": "2024-03-11T02:14:59.528188Z",
     "start_time": "2024-03-11T02:14:58.406294Z"
    }
   },
   "outputs": [
    {
     "name": "stdout",
     "output_type": "stream",
     "text": [
      "Collecting update\r\n",
      "  Downloading update-0.0.1-py2.py3-none-any.whl.metadata (696 bytes)\r\n",
      "Requirement already satisfied: numpy in /Library/Frameworks/Python.framework/Versions/3.12/lib/python3.12/site-packages (1.26.4)\r\n",
      "Collecting style==1.1.0 (from update)\r\n",
      "  Downloading style-1.1.0-py2.py3-none-any.whl.metadata (2.8 kB)\r\n",
      "Downloading update-0.0.1-py2.py3-none-any.whl (2.9 kB)\r\n",
      "Downloading style-1.1.0-py2.py3-none-any.whl (6.4 kB)\r\n",
      "Installing collected packages: style, update\r\n",
      "Successfully installed style-1.1.0 update-0.0.1\r\n"
     ]
    }
   ],
   "source": [
    "!pip3 install update numpy"
   ]
  },
  {
   "cell_type": "markdown",
   "source": [
    "### numpy 추가\n",
    "```python\n",
    "import numpy as np\n",
    "```"
   ],
   "metadata": {
    "collapsed": false
   },
   "id": "c8a80a3b60d7ba35"
  },
  {
   "cell_type": "code",
   "outputs": [],
   "source": [
    "import numpy as np"
   ],
   "metadata": {
    "collapsed": false,
    "ExecuteTime": {
     "end_time": "2024-03-11T02:17:26.083679Z",
     "start_time": "2024-03-11T02:17:26.007568Z"
    }
   },
   "id": "4cce652b776a231c",
   "execution_count": 2
  },
  {
   "cell_type": "code",
   "outputs": [
    {
     "data": {
      "text/plain": "[2, 6, 10, 14, 18]"
     },
     "execution_count": 5,
     "metadata": {},
     "output_type": "execute_result"
    }
   ],
   "source": [
    "pyList = [1, 3, 5, 7, 9]\n",
    "[i * 2 for i in pyList]"
   ],
   "metadata": {
    "collapsed": false,
    "ExecuteTime": {
     "end_time": "2024-03-11T02:19:55.687032Z",
     "start_time": "2024-03-11T02:19:55.684366Z"
    }
   },
   "id": "1901d7e88d11b4a",
   "execution_count": 5
  },
  {
   "cell_type": "code",
   "outputs": [
    {
     "data": {
      "text/plain": "array([1, 3, 5, 7, 9])"
     },
     "execution_count": 6,
     "metadata": {},
     "output_type": "execute_result"
    }
   ],
   "source": [
    "npList = np.array(pyList)\n",
    "npList"
   ],
   "metadata": {
    "collapsed": false,
    "ExecuteTime": {
     "end_time": "2024-03-11T02:20:22.826057Z",
     "start_time": "2024-03-11T02:20:22.823219Z"
    }
   },
   "id": "75d56702e8f14ccf",
   "execution_count": 6
  },
  {
   "cell_type": "code",
   "outputs": [
    {
     "data": {
      "text/plain": "array([ 2,  6, 10, 14, 18])"
     },
     "execution_count": 7,
     "metadata": {},
     "output_type": "execute_result"
    }
   ],
   "source": [
    "# 파이썬에서 * 를 리스트, 배열에 사용하면 반복이 되지만, Numpy에서는 우리가 수학에서 일반적으로 쓰는 곱하기가 그대로 사용\n",
    "npList*2"
   ],
   "metadata": {
    "collapsed": false,
    "ExecuteTime": {
     "end_time": "2024-03-11T02:20:34.142486Z",
     "start_time": "2024-03-11T02:20:34.140083Z"
    }
   },
   "id": "171c6b259d2489d6",
   "execution_count": 7
  },
  {
   "cell_type": "markdown",
   "source": [
    "### Numpy 와 List 의 처리속도 비교\n",
    "- `%timeit` 을 사용하여 각각의 처리속도를 비교할 수 있다.\n",
    "- `Numpy` 가 훨씬 처리속도가 빠르다"
   ],
   "metadata": {
    "collapsed": false
   },
   "id": "4531fe8209976ea2"
  },
  {
   "cell_type": "code",
   "outputs": [],
   "source": [
    "# 대량의 리스트 처리속도가 빠름\n",
    "npList = np.arange(1_000_000)\n",
    "pyList = list(range(1_000_000))"
   ],
   "metadata": {
    "collapsed": false,
    "ExecuteTime": {
     "end_time": "2024-03-11T02:24:13.557826Z",
     "start_time": "2024-03-11T02:24:13.539620Z"
    }
   },
   "id": "f6475bde4dd22a9a",
   "execution_count": 8
  },
  {
   "cell_type": "code",
   "outputs": [
    {
     "name": "stdout",
     "output_type": "stream",
     "text": [
      "34.1 ms ± 427 µs per loop (mean ± std. dev. of 7 runs, 10 loops each)\n"
     ]
    }
   ],
   "source": [
    "%timeit for _ in range(10): pyList2 = pyList*2"
   ],
   "metadata": {
    "collapsed": false,
    "ExecuteTime": {
     "end_time": "2024-03-11T02:25:13.365271Z",
     "start_time": "2024-03-11T02:25:10.552672Z"
    }
   },
   "id": "beeeccbc58d8a221",
   "execution_count": 10
  },
  {
   "cell_type": "code",
   "outputs": [
    {
     "name": "stdout",
     "output_type": "stream",
     "text": [
      "7.17 ms ± 243 µs per loop (mean ± std. dev. of 7 runs, 100 loops each)\n"
     ]
    }
   ],
   "source": [
    "%timeit for _ in range(10): npList2 = npList*2"
   ],
   "metadata": {
    "collapsed": false,
    "ExecuteTime": {
     "end_time": "2024-03-11T02:25:47.781776Z",
     "start_time": "2024-03-11T02:25:41.943507Z"
    }
   },
   "id": "dcd98cc6af8af0c",
   "execution_count": 12
  },
  {
   "cell_type": "code",
   "outputs": [],
   "source": [],
   "metadata": {
    "collapsed": false
   },
   "id": "aa83ee27ac87b22"
  }
 ],
 "metadata": {
  "kernelspec": {
   "display_name": "Python 3",
   "language": "python",
   "name": "python3"
  },
  "language_info": {
   "codemirror_mode": {
    "name": "ipython",
    "version": 2
   },
   "file_extension": ".py",
   "mimetype": "text/x-python",
   "name": "python",
   "nbconvert_exporter": "python",
   "pygments_lexer": "ipython2",
   "version": "2.7.6"
  }
 },
 "nbformat": 4,
 "nbformat_minor": 5
}
