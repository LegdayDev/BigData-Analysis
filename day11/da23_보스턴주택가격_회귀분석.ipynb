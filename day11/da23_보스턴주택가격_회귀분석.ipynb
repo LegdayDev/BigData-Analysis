{
 "cells": [
  {
   "cell_type": "markdown",
   "source": [
    "## 머신러닝 실습\n",
    "\n",
    "### 머신러닝 개요\n",
    "- AI(Artificial Intelligence) > ML(Machine Learning) > DL(Deep Learning)\n",
    "- \n",
    "### AI 프레임워크\n",
    "- `Numpy` : 다양한 행렬에서 수학연산\n",
    "- `Scipy` : Numpy 기반으로 과학 및 기술 컴퓨팅을 수행, 대규모 데이터세트에 유용\n",
    "- `Pandas` : 데이터 분석 라이브러리\n",
    "- `Matplotlib` : 시각화 라이브러리\n",
    "- `Ploty` : Matplotlib 대체 라이브러리, 가장 우수한 시각화 라이브러리이다.\n",
    "- `Scikit-learn`(싸이킷런) : 고전적인 머신러닝 라이브러리\n",
    "- `Theano` : 머신러닝용 라이브러리\n",
    "- `Tensorflow` : 전세계 점유율1위 딥러닝 라이브러리(머신러닝도 사용가능하다) ,Google 에서 개발\n",
    "- `Keras` : 전세계 점유율3위, 딥러닝만을 위한 라이브러리(Tensorflow 2.0 부터는 Keras가 같이들어있다.)\n",
    "- `PyTorch` : 점유율2위 , 요새 핫한 딥러닝 라이브러리, Facebook(현 meta)에서 개발\n",
    "\n",
    "### Scikit-learn 으로 머신러닝\n",
    "- 일반 프로그램 : 입력값 x로 출력값 y도출\n",
    "- 머신러닝 : 입력값 x, 출력값 y를 넣어서 학습모델을 생성. _**새로운 x를 학습모델에 넣으면 새로운 y를 도출**_\n",
    "- 대부분의 머신러닝은 개발자가 어떤 결과가 나온다는 것을 지도하기 때문에 지도학습이라 한다.\n",
    "\n",
    "### 분석평가지표\n",
    "- 절댓값 평균오차(MAE: Mean Absolute Error)\n",
    "- 제곱 평균오차(MSE : Mean Square Error)\n",
    "- 제곱평균의 제곱근 오차(RMSE :Root Mean Squared Error) : scikit-learn 에 없다.\n",
    "- 분산비율(Variance Score)\n",
    "---\n",
    "### 보스턴주택가격 회귀분석\n",
    "> `Scikit-Learn` 라이브러리 내에 있는 데이터이용"
   ],
   "metadata": {
    "collapsed": false
   },
   "id": "eae79fcd917e1957"
  },
  {
   "cell_type": "markdown",
   "source": [
    "#### Scikit-learn 라이브러리 사용"
   ],
   "metadata": {
    "collapsed": false
   },
   "id": "16dc76c099df6834"
  },
  {
   "cell_type": "code",
   "outputs": [
    {
     "name": "stdout",
     "output_type": "stream",
     "text": [
      "Requirement already satisfied: scikit-learn in /Library/Frameworks/Python.framework/Versions/3.12/lib/python3.12/site-packages (1.4.1.post1)\r\n",
      "Requirement already satisfied: numpy<2.0,>=1.19.5 in /Library/Frameworks/Python.framework/Versions/3.12/lib/python3.12/site-packages (from scikit-learn) (1.26.4)\r\n",
      "Requirement already satisfied: scipy>=1.6.0 in /Library/Frameworks/Python.framework/Versions/3.12/lib/python3.12/site-packages (from scikit-learn) (1.12.0)\r\n",
      "Requirement already satisfied: joblib>=1.2.0 in /Library/Frameworks/Python.framework/Versions/3.12/lib/python3.12/site-packages (from scikit-learn) (1.3.2)\r\n",
      "Requirement already satisfied: threadpoolctl>=2.0.0 in /Library/Frameworks/Python.framework/Versions/3.12/lib/python3.12/site-packages (from scikit-learn) (3.4.0)\r\n"
     ]
    }
   ],
   "source": [
    "# scikit-learn 설치\n",
    "!pip3 install scikit-learn"
   ],
   "metadata": {
    "collapsed": false,
    "ExecuteTime": {
     "end_time": "2024-03-22T03:31:41.389286Z",
     "start_time": "2024-03-22T03:31:40.326832Z"
    }
   },
   "id": "ebb4b180af727352",
   "execution_count": 1
  },
  {
   "cell_type": "code",
   "outputs": [],
   "source": [
    "# 필수 라이브러리 사용 등록\n",
    "import numpy as np\n",
    "import pandas as pd\n",
    "import matplotlib.pyplot as plt\n",
    "import seaborn as sns\n",
    "\n",
    "# import sklearn.datasets import load_boston TODO : 윤리문제로 1.2버전 이후로 보스턴 데이터 삭제\n",
    "# from sklearn.datasets import fetch_california_housing 캘리포니아\n",
    "from sklearn.datasets import fetch_openml"
   ],
   "metadata": {
    "collapsed": false,
    "ExecuteTime": {
     "end_time": "2024-03-22T03:31:41.475480Z",
     "start_time": "2024-03-22T03:31:41.390495Z"
    }
   },
   "id": "initial_id",
   "execution_count": 2
  },
  {
   "cell_type": "code",
   "outputs": [
    {
     "name": "stderr",
     "output_type": "stream",
     "text": [
      "/Library/Frameworks/Python.framework/Versions/3.12/lib/python3.12/site-packages/sklearn/datasets/_openml.py:322: UserWarning: Multiple active versions of the dataset matching the name boston exist. Versions may be fundamentally different, returning version 1. Available versions:\n",
      "- version 1, status: active\n",
      "  url: https://www.openml.org/search?type=data&id=531\n",
      "- version 2, status: active\n",
      "  url: https://www.openml.org/search?type=data&id=853\n",
      "\n",
      "  warn(warning_msg)\n"
     ]
    }
   ],
   "source": [
    "# 보스턴 집값 데이터 다운로드\n",
    "X, y = fetch_openml('boston', return_X_y=True)"
   ],
   "metadata": {
    "collapsed": false,
    "ExecuteTime": {
     "end_time": "2024-03-22T03:31:41.485796Z",
     "start_time": "2024-03-22T03:31:41.476577Z"
    }
   },
   "id": "636a1e62b9ebeee9",
   "execution_count": 3
  },
  {
   "cell_type": "code",
   "outputs": [],
   "source": [
    "X['MEDV'] = y"
   ],
   "metadata": {
    "collapsed": false,
    "ExecuteTime": {
     "end_time": "2024-03-22T03:31:41.488536Z",
     "start_time": "2024-03-22T03:31:41.486514Z"
    }
   },
   "id": "85f3718d180cf319",
   "execution_count": 4
  },
  {
   "cell_type": "code",
   "outputs": [],
   "source": [
    "dfBostonHousing = X"
   ],
   "metadata": {
    "collapsed": false,
    "ExecuteTime": {
     "end_time": "2024-03-22T03:31:41.490739Z",
     "start_time": "2024-03-22T03:31:41.489343Z"
    }
   },
   "id": "323f6cd85c21be5",
   "execution_count": 5
  },
  {
   "cell_type": "code",
   "outputs": [],
   "source": [
    "# 엑셀파일로 저장\n",
    "dfBostonHousing.to_excel('./data/BostonHousing.xlsx', index=False)"
   ],
   "metadata": {
    "collapsed": false,
    "ExecuteTime": {
     "end_time": "2024-03-22T03:31:41.653495Z",
     "start_time": "2024-03-22T03:31:41.491307Z"
    }
   },
   "id": "ec06633f6aefa0b2",
   "execution_count": 6
  },
  {
   "cell_type": "code",
   "outputs": [
    {
     "data": {
      "text/plain": "        CRIM   ZN  INDUS CHAS    NOX     RM   AGE     DIS RAD    TAX  PTRATIO  \\\n501  0.06263  0.0  11.93    0  0.573  6.593  69.1  2.4786   1  273.0     21.0   \n502  0.04527  0.0  11.93    0  0.573  6.120  76.7  2.2875   1  273.0     21.0   \n503  0.06076  0.0  11.93    0  0.573  6.976  91.0  2.1675   1  273.0     21.0   \n504  0.10959  0.0  11.93    0  0.573  6.794  89.3  2.3889   1  273.0     21.0   \n505  0.04741  0.0  11.93    0  0.573  6.030  80.8  2.5050   1  273.0     21.0   \n\n          B  LSTAT  MEDV  \n501  391.99   9.67  22.4  \n502  396.90   9.08  20.6  \n503  396.90   5.64  23.9  \n504  393.45   6.48  22.0  \n505  396.90   7.88  11.9  ",
      "text/html": "<div>\n<style scoped>\n    .dataframe tbody tr th:only-of-type {\n        vertical-align: middle;\n    }\n\n    .dataframe tbody tr th {\n        vertical-align: top;\n    }\n\n    .dataframe thead th {\n        text-align: right;\n    }\n</style>\n<table border=\"1\" class=\"dataframe\">\n  <thead>\n    <tr style=\"text-align: right;\">\n      <th></th>\n      <th>CRIM</th>\n      <th>ZN</th>\n      <th>INDUS</th>\n      <th>CHAS</th>\n      <th>NOX</th>\n      <th>RM</th>\n      <th>AGE</th>\n      <th>DIS</th>\n      <th>RAD</th>\n      <th>TAX</th>\n      <th>PTRATIO</th>\n      <th>B</th>\n      <th>LSTAT</th>\n      <th>MEDV</th>\n    </tr>\n  </thead>\n  <tbody>\n    <tr>\n      <th>501</th>\n      <td>0.06263</td>\n      <td>0.0</td>\n      <td>11.93</td>\n      <td>0</td>\n      <td>0.573</td>\n      <td>6.593</td>\n      <td>69.1</td>\n      <td>2.4786</td>\n      <td>1</td>\n      <td>273.0</td>\n      <td>21.0</td>\n      <td>391.99</td>\n      <td>9.67</td>\n      <td>22.4</td>\n    </tr>\n    <tr>\n      <th>502</th>\n      <td>0.04527</td>\n      <td>0.0</td>\n      <td>11.93</td>\n      <td>0</td>\n      <td>0.573</td>\n      <td>6.120</td>\n      <td>76.7</td>\n      <td>2.2875</td>\n      <td>1</td>\n      <td>273.0</td>\n      <td>21.0</td>\n      <td>396.90</td>\n      <td>9.08</td>\n      <td>20.6</td>\n    </tr>\n    <tr>\n      <th>503</th>\n      <td>0.06076</td>\n      <td>0.0</td>\n      <td>11.93</td>\n      <td>0</td>\n      <td>0.573</td>\n      <td>6.976</td>\n      <td>91.0</td>\n      <td>2.1675</td>\n      <td>1</td>\n      <td>273.0</td>\n      <td>21.0</td>\n      <td>396.90</td>\n      <td>5.64</td>\n      <td>23.9</td>\n    </tr>\n    <tr>\n      <th>504</th>\n      <td>0.10959</td>\n      <td>0.0</td>\n      <td>11.93</td>\n      <td>0</td>\n      <td>0.573</td>\n      <td>6.794</td>\n      <td>89.3</td>\n      <td>2.3889</td>\n      <td>1</td>\n      <td>273.0</td>\n      <td>21.0</td>\n      <td>393.45</td>\n      <td>6.48</td>\n      <td>22.0</td>\n    </tr>\n    <tr>\n      <th>505</th>\n      <td>0.04741</td>\n      <td>0.0</td>\n      <td>11.93</td>\n      <td>0</td>\n      <td>0.573</td>\n      <td>6.030</td>\n      <td>80.8</td>\n      <td>2.5050</td>\n      <td>1</td>\n      <td>273.0</td>\n      <td>21.0</td>\n      <td>396.90</td>\n      <td>7.88</td>\n      <td>11.9</td>\n    </tr>\n  </tbody>\n</table>\n</div>"
     },
     "execution_count": 7,
     "metadata": {},
     "output_type": "execute_result"
    }
   ],
   "source": [
    "dfBostonHousing.tail()"
   ],
   "metadata": {
    "collapsed": false,
    "ExecuteTime": {
     "end_time": "2024-03-22T03:31:41.663467Z",
     "start_time": "2024-03-22T03:31:41.654204Z"
    }
   },
   "id": "4527d7ea4e8288a9",
   "execution_count": 7
  },
  {
   "cell_type": "markdown",
   "source": [
    "#### 컬럼 설명\n",
    "| CRIM  | ZN                     | INDUS       |CHAS|NOX|RM|AGE|\n",
    "|-------|------------------------|-------------|---|---|---|---|\n",
    "| 범죄발생률 | 25,000평 방 피트 초과거주지역 비율 | 비상업지역 넓이 비율 |찰스강 더미변수(1: 강경계, 0: 경계아님)|일산화질소 농도|거주가능방수|1940년 이전 건축주택 률|\n",
    "\n",
    "|  DIS  |RAD|TAX|PTRATIO|B|LSTAT|MEDV|\n",
    "| ---   |---|---|---|---|---|---|\n",
    "|5개 주요 고용센터까지 가중거리|고속도로 접근용이도|10,000 달러당 재산세 비율|지역교사와 학생 수 비율|흑인 거주비율|하위계층비율|가격(본인소유 주택가격 중앙값)|"
   ],
   "metadata": {
    "collapsed": false
   },
   "id": "9df65f7c9cfde4fd"
  },
  {
   "cell_type": "markdown",
   "source": [
    "#### 분석모델 구축, 결과를 분석\n",
    "- 전체 데이터(100)에서 보통 70~80% 훈련(train)시 사용, 20~30% 데이터를 검증(test)시 사용"
   ],
   "metadata": {
    "collapsed": false
   },
   "id": "61796f7c5a824737"
  },
  {
   "cell_type": "code",
   "outputs": [],
   "source": [
    "# 회귀분석 모델, 함수 사용등록\n",
    "from sklearn.linear_model import LinearRegression\n",
    "from sklearn.model_selection import train_test_split\n",
    "from sklearn.metrics import mean_squared_error"
   ],
   "metadata": {
    "collapsed": false,
    "ExecuteTime": {
     "end_time": "2024-03-22T03:31:41.732962Z",
     "start_time": "2024-03-22T03:31:41.664132Z"
    }
   },
   "id": "9b08a7b865c758eb",
   "execution_count": 8
  },
  {
   "cell_type": "code",
   "outputs": [
    {
     "data": {
      "text/plain": "0      24.0\n1      21.6\n2      34.7\n3      33.4\n4      36.2\n       ... \n501    22.4\n502    20.6\n503    23.9\n504    22.0\n505    11.9\nName: MEDV, Length: 506, dtype: float64"
     },
     "execution_count": 9,
     "metadata": {},
     "output_type": "execute_result"
    }
   ],
   "source": [
    "# X(독립변수 13가지 속성들) , y(종속변수, 독립변수에 영향을 받는 값)\n",
    "y"
   ],
   "metadata": {
    "collapsed": false,
    "ExecuteTime": {
     "end_time": "2024-03-22T03:31:41.738012Z",
     "start_time": "2024-03-22T03:31:41.734897Z"
    }
   },
   "id": "59b9113f2df6623d",
   "execution_count": 9
  },
  {
   "cell_type": "code",
   "outputs": [
    {
     "data": {
      "text/plain": "        CRIM    ZN  INDUS CHAS    NOX     RM   AGE     DIS RAD    TAX  \\\n0    0.00632  18.0   2.31    0  0.538  6.575  65.2  4.0900   1  296.0   \n1    0.02731   0.0   7.07    0  0.469  6.421  78.9  4.9671   2  242.0   \n2    0.02729   0.0   7.07    0  0.469  7.185  61.1  4.9671   2  242.0   \n3    0.03237   0.0   2.18    0  0.458  6.998  45.8  6.0622   3  222.0   \n4    0.06905   0.0   2.18    0  0.458  7.147  54.2  6.0622   3  222.0   \n..       ...   ...    ...  ...    ...    ...   ...     ...  ..    ...   \n501  0.06263   0.0  11.93    0  0.573  6.593  69.1  2.4786   1  273.0   \n502  0.04527   0.0  11.93    0  0.573  6.120  76.7  2.2875   1  273.0   \n503  0.06076   0.0  11.93    0  0.573  6.976  91.0  2.1675   1  273.0   \n504  0.10959   0.0  11.93    0  0.573  6.794  89.3  2.3889   1  273.0   \n505  0.04741   0.0  11.93    0  0.573  6.030  80.8  2.5050   1  273.0   \n\n     PTRATIO       B  LSTAT  MEDV  \n0       15.3  396.90   4.98  24.0  \n1       17.8  396.90   9.14  21.6  \n2       17.8  392.83   4.03  34.7  \n3       18.7  394.63   2.94  33.4  \n4       18.7  396.90   5.33  36.2  \n..       ...     ...    ...   ...  \n501     21.0  391.99   9.67  22.4  \n502     21.0  396.90   9.08  20.6  \n503     21.0  396.90   5.64  23.9  \n504     21.0  393.45   6.48  22.0  \n505     21.0  396.90   7.88  11.9  \n\n[506 rows x 14 columns]",
      "text/html": "<div>\n<style scoped>\n    .dataframe tbody tr th:only-of-type {\n        vertical-align: middle;\n    }\n\n    .dataframe tbody tr th {\n        vertical-align: top;\n    }\n\n    .dataframe thead th {\n        text-align: right;\n    }\n</style>\n<table border=\"1\" class=\"dataframe\">\n  <thead>\n    <tr style=\"text-align: right;\">\n      <th></th>\n      <th>CRIM</th>\n      <th>ZN</th>\n      <th>INDUS</th>\n      <th>CHAS</th>\n      <th>NOX</th>\n      <th>RM</th>\n      <th>AGE</th>\n      <th>DIS</th>\n      <th>RAD</th>\n      <th>TAX</th>\n      <th>PTRATIO</th>\n      <th>B</th>\n      <th>LSTAT</th>\n      <th>MEDV</th>\n    </tr>\n  </thead>\n  <tbody>\n    <tr>\n      <th>0</th>\n      <td>0.00632</td>\n      <td>18.0</td>\n      <td>2.31</td>\n      <td>0</td>\n      <td>0.538</td>\n      <td>6.575</td>\n      <td>65.2</td>\n      <td>4.0900</td>\n      <td>1</td>\n      <td>296.0</td>\n      <td>15.3</td>\n      <td>396.90</td>\n      <td>4.98</td>\n      <td>24.0</td>\n    </tr>\n    <tr>\n      <th>1</th>\n      <td>0.02731</td>\n      <td>0.0</td>\n      <td>7.07</td>\n      <td>0</td>\n      <td>0.469</td>\n      <td>6.421</td>\n      <td>78.9</td>\n      <td>4.9671</td>\n      <td>2</td>\n      <td>242.0</td>\n      <td>17.8</td>\n      <td>396.90</td>\n      <td>9.14</td>\n      <td>21.6</td>\n    </tr>\n    <tr>\n      <th>2</th>\n      <td>0.02729</td>\n      <td>0.0</td>\n      <td>7.07</td>\n      <td>0</td>\n      <td>0.469</td>\n      <td>7.185</td>\n      <td>61.1</td>\n      <td>4.9671</td>\n      <td>2</td>\n      <td>242.0</td>\n      <td>17.8</td>\n      <td>392.83</td>\n      <td>4.03</td>\n      <td>34.7</td>\n    </tr>\n    <tr>\n      <th>3</th>\n      <td>0.03237</td>\n      <td>0.0</td>\n      <td>2.18</td>\n      <td>0</td>\n      <td>0.458</td>\n      <td>6.998</td>\n      <td>45.8</td>\n      <td>6.0622</td>\n      <td>3</td>\n      <td>222.0</td>\n      <td>18.7</td>\n      <td>394.63</td>\n      <td>2.94</td>\n      <td>33.4</td>\n    </tr>\n    <tr>\n      <th>4</th>\n      <td>0.06905</td>\n      <td>0.0</td>\n      <td>2.18</td>\n      <td>0</td>\n      <td>0.458</td>\n      <td>7.147</td>\n      <td>54.2</td>\n      <td>6.0622</td>\n      <td>3</td>\n      <td>222.0</td>\n      <td>18.7</td>\n      <td>396.90</td>\n      <td>5.33</td>\n      <td>36.2</td>\n    </tr>\n    <tr>\n      <th>...</th>\n      <td>...</td>\n      <td>...</td>\n      <td>...</td>\n      <td>...</td>\n      <td>...</td>\n      <td>...</td>\n      <td>...</td>\n      <td>...</td>\n      <td>...</td>\n      <td>...</td>\n      <td>...</td>\n      <td>...</td>\n      <td>...</td>\n      <td>...</td>\n    </tr>\n    <tr>\n      <th>501</th>\n      <td>0.06263</td>\n      <td>0.0</td>\n      <td>11.93</td>\n      <td>0</td>\n      <td>0.573</td>\n      <td>6.593</td>\n      <td>69.1</td>\n      <td>2.4786</td>\n      <td>1</td>\n      <td>273.0</td>\n      <td>21.0</td>\n      <td>391.99</td>\n      <td>9.67</td>\n      <td>22.4</td>\n    </tr>\n    <tr>\n      <th>502</th>\n      <td>0.04527</td>\n      <td>0.0</td>\n      <td>11.93</td>\n      <td>0</td>\n      <td>0.573</td>\n      <td>6.120</td>\n      <td>76.7</td>\n      <td>2.2875</td>\n      <td>1</td>\n      <td>273.0</td>\n      <td>21.0</td>\n      <td>396.90</td>\n      <td>9.08</td>\n      <td>20.6</td>\n    </tr>\n    <tr>\n      <th>503</th>\n      <td>0.06076</td>\n      <td>0.0</td>\n      <td>11.93</td>\n      <td>0</td>\n      <td>0.573</td>\n      <td>6.976</td>\n      <td>91.0</td>\n      <td>2.1675</td>\n      <td>1</td>\n      <td>273.0</td>\n      <td>21.0</td>\n      <td>396.90</td>\n      <td>5.64</td>\n      <td>23.9</td>\n    </tr>\n    <tr>\n      <th>504</th>\n      <td>0.10959</td>\n      <td>0.0</td>\n      <td>11.93</td>\n      <td>0</td>\n      <td>0.573</td>\n      <td>6.794</td>\n      <td>89.3</td>\n      <td>2.3889</td>\n      <td>1</td>\n      <td>273.0</td>\n      <td>21.0</td>\n      <td>393.45</td>\n      <td>6.48</td>\n      <td>22.0</td>\n    </tr>\n    <tr>\n      <th>505</th>\n      <td>0.04741</td>\n      <td>0.0</td>\n      <td>11.93</td>\n      <td>0</td>\n      <td>0.573</td>\n      <td>6.030</td>\n      <td>80.8</td>\n      <td>2.5050</td>\n      <td>1</td>\n      <td>273.0</td>\n      <td>21.0</td>\n      <td>396.90</td>\n      <td>7.88</td>\n      <td>11.9</td>\n    </tr>\n  </tbody>\n</table>\n<p>506 rows × 14 columns</p>\n</div>"
     },
     "execution_count": 10,
     "metadata": {},
     "output_type": "execute_result"
    }
   ],
   "source": [
    "X"
   ],
   "metadata": {
    "collapsed": false,
    "ExecuteTime": {
     "end_time": "2024-03-22T03:31:41.746725Z",
     "start_time": "2024-03-22T03:31:41.738650Z"
    }
   },
   "id": "6bb66752d702898c",
   "execution_count": 10
  },
  {
   "cell_type": "code",
   "outputs": [
    {
     "data": {
      "text/plain": "        CRIM    ZN  INDUS CHAS    NOX     RM   AGE     DIS RAD    TAX  \\\n0    0.00632  18.0   2.31    0  0.538  6.575  65.2  4.0900   1  296.0   \n1    0.02731   0.0   7.07    0  0.469  6.421  78.9  4.9671   2  242.0   \n2    0.02729   0.0   7.07    0  0.469  7.185  61.1  4.9671   2  242.0   \n3    0.03237   0.0   2.18    0  0.458  6.998  45.8  6.0622   3  222.0   \n4    0.06905   0.0   2.18    0  0.458  7.147  54.2  6.0622   3  222.0   \n..       ...   ...    ...  ...    ...    ...   ...     ...  ..    ...   \n501  0.06263   0.0  11.93    0  0.573  6.593  69.1  2.4786   1  273.0   \n502  0.04527   0.0  11.93    0  0.573  6.120  76.7  2.2875   1  273.0   \n503  0.06076   0.0  11.93    0  0.573  6.976  91.0  2.1675   1  273.0   \n504  0.10959   0.0  11.93    0  0.573  6.794  89.3  2.3889   1  273.0   \n505  0.04741   0.0  11.93    0  0.573  6.030  80.8  2.5050   1  273.0   \n\n     PTRATIO       B  LSTAT  \n0       15.3  396.90   4.98  \n1       17.8  396.90   9.14  \n2       17.8  392.83   4.03  \n3       18.7  394.63   2.94  \n4       18.7  396.90   5.33  \n..       ...     ...    ...  \n501     21.0  391.99   9.67  \n502     21.0  396.90   9.08  \n503     21.0  396.90   5.64  \n504     21.0  393.45   6.48  \n505     21.0  396.90   7.88  \n\n[506 rows x 13 columns]",
      "text/html": "<div>\n<style scoped>\n    .dataframe tbody tr th:only-of-type {\n        vertical-align: middle;\n    }\n\n    .dataframe tbody tr th {\n        vertical-align: top;\n    }\n\n    .dataframe thead th {\n        text-align: right;\n    }\n</style>\n<table border=\"1\" class=\"dataframe\">\n  <thead>\n    <tr style=\"text-align: right;\">\n      <th></th>\n      <th>CRIM</th>\n      <th>ZN</th>\n      <th>INDUS</th>\n      <th>CHAS</th>\n      <th>NOX</th>\n      <th>RM</th>\n      <th>AGE</th>\n      <th>DIS</th>\n      <th>RAD</th>\n      <th>TAX</th>\n      <th>PTRATIO</th>\n      <th>B</th>\n      <th>LSTAT</th>\n    </tr>\n  </thead>\n  <tbody>\n    <tr>\n      <th>0</th>\n      <td>0.00632</td>\n      <td>18.0</td>\n      <td>2.31</td>\n      <td>0</td>\n      <td>0.538</td>\n      <td>6.575</td>\n      <td>65.2</td>\n      <td>4.0900</td>\n      <td>1</td>\n      <td>296.0</td>\n      <td>15.3</td>\n      <td>396.90</td>\n      <td>4.98</td>\n    </tr>\n    <tr>\n      <th>1</th>\n      <td>0.02731</td>\n      <td>0.0</td>\n      <td>7.07</td>\n      <td>0</td>\n      <td>0.469</td>\n      <td>6.421</td>\n      <td>78.9</td>\n      <td>4.9671</td>\n      <td>2</td>\n      <td>242.0</td>\n      <td>17.8</td>\n      <td>396.90</td>\n      <td>9.14</td>\n    </tr>\n    <tr>\n      <th>2</th>\n      <td>0.02729</td>\n      <td>0.0</td>\n      <td>7.07</td>\n      <td>0</td>\n      <td>0.469</td>\n      <td>7.185</td>\n      <td>61.1</td>\n      <td>4.9671</td>\n      <td>2</td>\n      <td>242.0</td>\n      <td>17.8</td>\n      <td>392.83</td>\n      <td>4.03</td>\n    </tr>\n    <tr>\n      <th>3</th>\n      <td>0.03237</td>\n      <td>0.0</td>\n      <td>2.18</td>\n      <td>0</td>\n      <td>0.458</td>\n      <td>6.998</td>\n      <td>45.8</td>\n      <td>6.0622</td>\n      <td>3</td>\n      <td>222.0</td>\n      <td>18.7</td>\n      <td>394.63</td>\n      <td>2.94</td>\n    </tr>\n    <tr>\n      <th>4</th>\n      <td>0.06905</td>\n      <td>0.0</td>\n      <td>2.18</td>\n      <td>0</td>\n      <td>0.458</td>\n      <td>7.147</td>\n      <td>54.2</td>\n      <td>6.0622</td>\n      <td>3</td>\n      <td>222.0</td>\n      <td>18.7</td>\n      <td>396.90</td>\n      <td>5.33</td>\n    </tr>\n    <tr>\n      <th>...</th>\n      <td>...</td>\n      <td>...</td>\n      <td>...</td>\n      <td>...</td>\n      <td>...</td>\n      <td>...</td>\n      <td>...</td>\n      <td>...</td>\n      <td>...</td>\n      <td>...</td>\n      <td>...</td>\n      <td>...</td>\n      <td>...</td>\n    </tr>\n    <tr>\n      <th>501</th>\n      <td>0.06263</td>\n      <td>0.0</td>\n      <td>11.93</td>\n      <td>0</td>\n      <td>0.573</td>\n      <td>6.593</td>\n      <td>69.1</td>\n      <td>2.4786</td>\n      <td>1</td>\n      <td>273.0</td>\n      <td>21.0</td>\n      <td>391.99</td>\n      <td>9.67</td>\n    </tr>\n    <tr>\n      <th>502</th>\n      <td>0.04527</td>\n      <td>0.0</td>\n      <td>11.93</td>\n      <td>0</td>\n      <td>0.573</td>\n      <td>6.120</td>\n      <td>76.7</td>\n      <td>2.2875</td>\n      <td>1</td>\n      <td>273.0</td>\n      <td>21.0</td>\n      <td>396.90</td>\n      <td>9.08</td>\n    </tr>\n    <tr>\n      <th>503</th>\n      <td>0.06076</td>\n      <td>0.0</td>\n      <td>11.93</td>\n      <td>0</td>\n      <td>0.573</td>\n      <td>6.976</td>\n      <td>91.0</td>\n      <td>2.1675</td>\n      <td>1</td>\n      <td>273.0</td>\n      <td>21.0</td>\n      <td>396.90</td>\n      <td>5.64</td>\n    </tr>\n    <tr>\n      <th>504</th>\n      <td>0.10959</td>\n      <td>0.0</td>\n      <td>11.93</td>\n      <td>0</td>\n      <td>0.573</td>\n      <td>6.794</td>\n      <td>89.3</td>\n      <td>2.3889</td>\n      <td>1</td>\n      <td>273.0</td>\n      <td>21.0</td>\n      <td>393.45</td>\n      <td>6.48</td>\n    </tr>\n    <tr>\n      <th>505</th>\n      <td>0.04741</td>\n      <td>0.0</td>\n      <td>11.93</td>\n      <td>0</td>\n      <td>0.573</td>\n      <td>6.030</td>\n      <td>80.8</td>\n      <td>2.5050</td>\n      <td>1</td>\n      <td>273.0</td>\n      <td>21.0</td>\n      <td>396.90</td>\n      <td>7.88</td>\n    </tr>\n  </tbody>\n</table>\n<p>506 rows × 13 columns</p>\n</div>"
     },
     "execution_count": 11,
     "metadata": {},
     "output_type": "execute_result"
    }
   ],
   "source": [
    "# 통합데이터(dfBostonHousing) 에서 독립변수만 다시 분리하려면(참조용)\n",
    "X = dfBostonHousing.drop(['MEDV'], axis=1)\n",
    "X"
   ],
   "metadata": {
    "collapsed": false,
    "ExecuteTime": {
     "end_time": "2024-03-22T03:31:41.755003Z",
     "start_time": "2024-03-22T03:31:41.747393Z"
    }
   },
   "id": "696d36d9cf96cced",
   "execution_count": 11
  },
  {
   "cell_type": "code",
   "outputs": [],
   "source": [
    "# 훈련용 데이터와 평가(검증)용 데이터 분할\n",
    "# pandas 에 있는 DataFrame 에서 순서대로 데이터를 자르면, 고가의 집데이터가 후반부에 몰려있으면 훈련데이터와 검증데이터의 편차가 너무 심해짐\n",
    "# train_test_split() 데이터를 랜덤으로 잘라서 훈련데이터와 검증데이터를 분할\n",
    "\n",
    "# test_size = 0.3(30%), random_state = 156,105, 80 조정가능\n",
    "## random_state=130 일 땐(mse/rmse/r^2) 19.4/4.4/0.7\n",
    "## 100일땐 29.7 / 5.4 / 0.7 , \n",
    "## 91일땐 23.8/4.8/0.7, \n",
    "## 80일떈 16.2/4.3/0.7, \n",
    "## 70일 떈 25.5/5.09/0.73\n",
    "## 50일땐 33.8 / 5.8 / 0.66\n",
    "X_train, X_test, y_train, y_test = train_test_split(X, y, test_size=0.3, random_state=70)"
   ],
   "metadata": {
    "collapsed": false,
    "ExecuteTime": {
     "end_time": "2024-03-22T03:31:41.758433Z",
     "start_time": "2024-03-22T03:31:41.755672Z"
    }
   },
   "id": "398b1707b8517dc1",
   "execution_count": 12
  },
  {
   "cell_type": "code",
   "outputs": [
    {
     "data": {
      "text/plain": "        CRIM    ZN  INDUS CHAS     NOX     RM   AGE     DIS RAD    TAX  \\\n316  0.31827   0.0   9.90    0  0.5440  5.914  83.2  3.9986   4  304.0   \n280  0.03578  20.0   3.33    0  0.4429  7.820  64.5  4.6947   5  216.0   \n114  0.14231   0.0  10.01    0  0.5470  6.254  84.2  2.2565   6  432.0   \n214  0.28955   0.0  10.59    0  0.4890  5.412   9.8  3.5875   4  277.0   \n334  0.03738   0.0   5.19    0  0.5150  6.310  38.5  6.4584   5  224.0   \n\n     PTRATIO       B  LSTAT  \n316     18.4  390.70  18.33  \n280     14.9  387.31   3.76  \n114     17.8  388.74  10.45  \n214     18.6  348.93  29.55  \n334     20.2  389.40   6.75  ",
      "text/html": "<div>\n<style scoped>\n    .dataframe tbody tr th:only-of-type {\n        vertical-align: middle;\n    }\n\n    .dataframe tbody tr th {\n        vertical-align: top;\n    }\n\n    .dataframe thead th {\n        text-align: right;\n    }\n</style>\n<table border=\"1\" class=\"dataframe\">\n  <thead>\n    <tr style=\"text-align: right;\">\n      <th></th>\n      <th>CRIM</th>\n      <th>ZN</th>\n      <th>INDUS</th>\n      <th>CHAS</th>\n      <th>NOX</th>\n      <th>RM</th>\n      <th>AGE</th>\n      <th>DIS</th>\n      <th>RAD</th>\n      <th>TAX</th>\n      <th>PTRATIO</th>\n      <th>B</th>\n      <th>LSTAT</th>\n    </tr>\n  </thead>\n  <tbody>\n    <tr>\n      <th>316</th>\n      <td>0.31827</td>\n      <td>0.0</td>\n      <td>9.90</td>\n      <td>0</td>\n      <td>0.5440</td>\n      <td>5.914</td>\n      <td>83.2</td>\n      <td>3.9986</td>\n      <td>4</td>\n      <td>304.0</td>\n      <td>18.4</td>\n      <td>390.70</td>\n      <td>18.33</td>\n    </tr>\n    <tr>\n      <th>280</th>\n      <td>0.03578</td>\n      <td>20.0</td>\n      <td>3.33</td>\n      <td>0</td>\n      <td>0.4429</td>\n      <td>7.820</td>\n      <td>64.5</td>\n      <td>4.6947</td>\n      <td>5</td>\n      <td>216.0</td>\n      <td>14.9</td>\n      <td>387.31</td>\n      <td>3.76</td>\n    </tr>\n    <tr>\n      <th>114</th>\n      <td>0.14231</td>\n      <td>0.0</td>\n      <td>10.01</td>\n      <td>0</td>\n      <td>0.5470</td>\n      <td>6.254</td>\n      <td>84.2</td>\n      <td>2.2565</td>\n      <td>6</td>\n      <td>432.0</td>\n      <td>17.8</td>\n      <td>388.74</td>\n      <td>10.45</td>\n    </tr>\n    <tr>\n      <th>214</th>\n      <td>0.28955</td>\n      <td>0.0</td>\n      <td>10.59</td>\n      <td>0</td>\n      <td>0.4890</td>\n      <td>5.412</td>\n      <td>9.8</td>\n      <td>3.5875</td>\n      <td>4</td>\n      <td>277.0</td>\n      <td>18.6</td>\n      <td>348.93</td>\n      <td>29.55</td>\n    </tr>\n    <tr>\n      <th>334</th>\n      <td>0.03738</td>\n      <td>0.0</td>\n      <td>5.19</td>\n      <td>0</td>\n      <td>0.5150</td>\n      <td>6.310</td>\n      <td>38.5</td>\n      <td>6.4584</td>\n      <td>5</td>\n      <td>224.0</td>\n      <td>20.2</td>\n      <td>389.40</td>\n      <td>6.75</td>\n    </tr>\n  </tbody>\n</table>\n</div>"
     },
     "execution_count": 13,
     "metadata": {},
     "output_type": "execute_result"
    }
   ],
   "source": [
    "X_train.tail()"
   ],
   "metadata": {
    "collapsed": false,
    "ExecuteTime": {
     "end_time": "2024-03-22T03:31:41.765069Z",
     "start_time": "2024-03-22T03:31:41.759181Z"
    }
   },
   "id": "81e6a03c70238787",
   "execution_count": 13
  },
  {
   "cell_type": "code",
   "outputs": [
    {
     "data": {
      "text/plain": "316    17.8\n280    45.4\n114    18.5\n214    23.7\n334    20.7\nName: MEDV, dtype: float64"
     },
     "execution_count": 14,
     "metadata": {},
     "output_type": "execute_result"
    }
   ],
   "source": [
    "y_train.tail()"
   ],
   "metadata": {
    "collapsed": false,
    "ExecuteTime": {
     "end_time": "2024-03-22T03:31:41.768348Z",
     "start_time": "2024-03-22T03:31:41.765809Z"
    }
   },
   "id": "d02c8ece00669624",
   "execution_count": 14
  },
  {
   "cell_type": "code",
   "outputs": [
    {
     "data": {
      "text/plain": "        CRIM    ZN  INDUS CHAS     NOX     RM   AGE     DIS RAD    TAX  \\\n62   0.11027  25.0   5.13    0  0.4530  6.456  67.8  7.2255   8  284.0   \n64   0.01951  17.5   1.38    0  0.4161  7.104  59.5  9.2229   3  216.0   \n134  0.97617   0.0  21.89    0  0.6240  5.757  98.4  2.3460   4  437.0   \n218  0.11069   0.0  13.89    1  0.5500  5.951  93.8  2.8893   5  276.0   \n177  0.05425   0.0   4.05    0  0.5100  6.315  73.4  3.3175   5  296.0   \n\n     PTRATIO       B  LSTAT  \n62      19.7  396.90   6.73  \n64      18.6  393.24   8.05  \n134     21.2  262.76  17.31  \n218     16.4  396.90  17.92  \n177     16.6  395.60   6.29  ",
      "text/html": "<div>\n<style scoped>\n    .dataframe tbody tr th:only-of-type {\n        vertical-align: middle;\n    }\n\n    .dataframe tbody tr th {\n        vertical-align: top;\n    }\n\n    .dataframe thead th {\n        text-align: right;\n    }\n</style>\n<table border=\"1\" class=\"dataframe\">\n  <thead>\n    <tr style=\"text-align: right;\">\n      <th></th>\n      <th>CRIM</th>\n      <th>ZN</th>\n      <th>INDUS</th>\n      <th>CHAS</th>\n      <th>NOX</th>\n      <th>RM</th>\n      <th>AGE</th>\n      <th>DIS</th>\n      <th>RAD</th>\n      <th>TAX</th>\n      <th>PTRATIO</th>\n      <th>B</th>\n      <th>LSTAT</th>\n    </tr>\n  </thead>\n  <tbody>\n    <tr>\n      <th>62</th>\n      <td>0.11027</td>\n      <td>25.0</td>\n      <td>5.13</td>\n      <td>0</td>\n      <td>0.4530</td>\n      <td>6.456</td>\n      <td>67.8</td>\n      <td>7.2255</td>\n      <td>8</td>\n      <td>284.0</td>\n      <td>19.7</td>\n      <td>396.90</td>\n      <td>6.73</td>\n    </tr>\n    <tr>\n      <th>64</th>\n      <td>0.01951</td>\n      <td>17.5</td>\n      <td>1.38</td>\n      <td>0</td>\n      <td>0.4161</td>\n      <td>7.104</td>\n      <td>59.5</td>\n      <td>9.2229</td>\n      <td>3</td>\n      <td>216.0</td>\n      <td>18.6</td>\n      <td>393.24</td>\n      <td>8.05</td>\n    </tr>\n    <tr>\n      <th>134</th>\n      <td>0.97617</td>\n      <td>0.0</td>\n      <td>21.89</td>\n      <td>0</td>\n      <td>0.6240</td>\n      <td>5.757</td>\n      <td>98.4</td>\n      <td>2.3460</td>\n      <td>4</td>\n      <td>437.0</td>\n      <td>21.2</td>\n      <td>262.76</td>\n      <td>17.31</td>\n    </tr>\n    <tr>\n      <th>218</th>\n      <td>0.11069</td>\n      <td>0.0</td>\n      <td>13.89</td>\n      <td>1</td>\n      <td>0.5500</td>\n      <td>5.951</td>\n      <td>93.8</td>\n      <td>2.8893</td>\n      <td>5</td>\n      <td>276.0</td>\n      <td>16.4</td>\n      <td>396.90</td>\n      <td>17.92</td>\n    </tr>\n    <tr>\n      <th>177</th>\n      <td>0.05425</td>\n      <td>0.0</td>\n      <td>4.05</td>\n      <td>0</td>\n      <td>0.5100</td>\n      <td>6.315</td>\n      <td>73.4</td>\n      <td>3.3175</td>\n      <td>5</td>\n      <td>296.0</td>\n      <td>16.6</td>\n      <td>395.60</td>\n      <td>6.29</td>\n    </tr>\n  </tbody>\n</table>\n</div>"
     },
     "execution_count": 15,
     "metadata": {},
     "output_type": "execute_result"
    }
   ],
   "source": [
    "X_test.tail()"
   ],
   "metadata": {
    "collapsed": false,
    "ExecuteTime": {
     "end_time": "2024-03-22T03:31:41.774663Z",
     "start_time": "2024-03-22T03:31:41.768969Z"
    }
   },
   "id": "1a29c90b5bc18762",
   "execution_count": 15
  },
  {
   "cell_type": "code",
   "outputs": [
    {
     "data": {
      "text/plain": "62     22.2\n64     33.0\n134    15.6\n218    21.5\n177    24.6\nName: MEDV, dtype: float64"
     },
     "execution_count": 16,
     "metadata": {},
     "output_type": "execute_result"
    }
   ],
   "source": [
    "y_test.tail()"
   ],
   "metadata": {
    "collapsed": false,
    "ExecuteTime": {
     "end_time": "2024-03-22T03:31:41.777979Z",
     "start_time": "2024-03-22T03:31:41.775424Z"
    }
   },
   "id": "2e50e125f2fcd1bf",
   "execution_count": 16
  },
  {
   "cell_type": "code",
   "outputs": [],
   "source": [
    "# 선형회귀 모델 생성\n",
    "lr = LinearRegression()"
   ],
   "metadata": {
    "collapsed": false,
    "ExecuteTime": {
     "end_time": "2024-03-22T03:31:41.779919Z",
     "start_time": "2024-03-22T03:31:41.778579Z"
    }
   },
   "id": "d0407e0b833b0e7a",
   "execution_count": 17
  },
  {
   "cell_type": "code",
   "outputs": [
    {
     "data": {
      "text/plain": "LinearRegression()",
      "text/html": "<style>#sk-container-id-1 {\n  /* Definition of color scheme common for light and dark mode */\n  --sklearn-color-text: black;\n  --sklearn-color-line: gray;\n  /* Definition of color scheme for unfitted estimators */\n  --sklearn-color-unfitted-level-0: #fff5e6;\n  --sklearn-color-unfitted-level-1: #f6e4d2;\n  --sklearn-color-unfitted-level-2: #ffe0b3;\n  --sklearn-color-unfitted-level-3: chocolate;\n  /* Definition of color scheme for fitted estimators */\n  --sklearn-color-fitted-level-0: #f0f8ff;\n  --sklearn-color-fitted-level-1: #d4ebff;\n  --sklearn-color-fitted-level-2: #b3dbfd;\n  --sklearn-color-fitted-level-3: cornflowerblue;\n\n  /* Specific color for light theme */\n  --sklearn-color-text-on-default-background: var(--sg-text-color, var(--theme-code-foreground, var(--jp-content-font-color1, black)));\n  --sklearn-color-background: var(--sg-background-color, var(--theme-background, var(--jp-layout-color0, white)));\n  --sklearn-color-border-box: var(--sg-text-color, var(--theme-code-foreground, var(--jp-content-font-color1, black)));\n  --sklearn-color-icon: #696969;\n\n  @media (prefers-color-scheme: dark) {\n    /* Redefinition of color scheme for dark theme */\n    --sklearn-color-text-on-default-background: var(--sg-text-color, var(--theme-code-foreground, var(--jp-content-font-color1, white)));\n    --sklearn-color-background: var(--sg-background-color, var(--theme-background, var(--jp-layout-color0, #111)));\n    --sklearn-color-border-box: var(--sg-text-color, var(--theme-code-foreground, var(--jp-content-font-color1, white)));\n    --sklearn-color-icon: #878787;\n  }\n}\n\n#sk-container-id-1 {\n  color: var(--sklearn-color-text);\n}\n\n#sk-container-id-1 pre {\n  padding: 0;\n}\n\n#sk-container-id-1 input.sk-hidden--visually {\n  border: 0;\n  clip: rect(1px 1px 1px 1px);\n  clip: rect(1px, 1px, 1px, 1px);\n  height: 1px;\n  margin: -1px;\n  overflow: hidden;\n  padding: 0;\n  position: absolute;\n  width: 1px;\n}\n\n#sk-container-id-1 div.sk-dashed-wrapped {\n  border: 1px dashed var(--sklearn-color-line);\n  margin: 0 0.4em 0.5em 0.4em;\n  box-sizing: border-box;\n  padding-bottom: 0.4em;\n  background-color: var(--sklearn-color-background);\n}\n\n#sk-container-id-1 div.sk-container {\n  /* jupyter's `normalize.less` sets `[hidden] { display: none; }`\n     but bootstrap.min.css set `[hidden] { display: none !important; }`\n     so we also need the `!important` here to be able to override the\n     default hidden behavior on the sphinx rendered scikit-learn.org.\n     See: https://github.com/scikit-learn/scikit-learn/issues/21755 */\n  display: inline-block !important;\n  position: relative;\n}\n\n#sk-container-id-1 div.sk-text-repr-fallback {\n  display: none;\n}\n\ndiv.sk-parallel-item,\ndiv.sk-serial,\ndiv.sk-item {\n  /* draw centered vertical line to link estimators */\n  background-image: linear-gradient(var(--sklearn-color-text-on-default-background), var(--sklearn-color-text-on-default-background));\n  background-size: 2px 100%;\n  background-repeat: no-repeat;\n  background-position: center center;\n}\n\n/* Parallel-specific style estimator block */\n\n#sk-container-id-1 div.sk-parallel-item::after {\n  content: \"\";\n  width: 100%;\n  border-bottom: 2px solid var(--sklearn-color-text-on-default-background);\n  flex-grow: 1;\n}\n\n#sk-container-id-1 div.sk-parallel {\n  display: flex;\n  align-items: stretch;\n  justify-content: center;\n  background-color: var(--sklearn-color-background);\n  position: relative;\n}\n\n#sk-container-id-1 div.sk-parallel-item {\n  display: flex;\n  flex-direction: column;\n}\n\n#sk-container-id-1 div.sk-parallel-item:first-child::after {\n  align-self: flex-end;\n  width: 50%;\n}\n\n#sk-container-id-1 div.sk-parallel-item:last-child::after {\n  align-self: flex-start;\n  width: 50%;\n}\n\n#sk-container-id-1 div.sk-parallel-item:only-child::after {\n  width: 0;\n}\n\n/* Serial-specific style estimator block */\n\n#sk-container-id-1 div.sk-serial {\n  display: flex;\n  flex-direction: column;\n  align-items: center;\n  background-color: var(--sklearn-color-background);\n  padding-right: 1em;\n  padding-left: 1em;\n}\n\n\n/* Toggleable style: style used for estimator/Pipeline/ColumnTransformer box that is\nclickable and can be expanded/collapsed.\n- Pipeline and ColumnTransformer use this feature and define the default style\n- Estimators will overwrite some part of the style using the `sk-estimator` class\n*/\n\n/* Pipeline and ColumnTransformer style (default) */\n\n#sk-container-id-1 div.sk-toggleable {\n  /* Default theme specific background. It is overwritten whether we have a\n  specific estimator or a Pipeline/ColumnTransformer */\n  background-color: var(--sklearn-color-background);\n}\n\n/* Toggleable label */\n#sk-container-id-1 label.sk-toggleable__label {\n  cursor: pointer;\n  display: block;\n  width: 100%;\n  margin-bottom: 0;\n  padding: 0.5em;\n  box-sizing: border-box;\n  text-align: center;\n}\n\n#sk-container-id-1 label.sk-toggleable__label-arrow:before {\n  /* Arrow on the left of the label */\n  content: \"▸\";\n  float: left;\n  margin-right: 0.25em;\n  color: var(--sklearn-color-icon);\n}\n\n#sk-container-id-1 label.sk-toggleable__label-arrow:hover:before {\n  color: var(--sklearn-color-text);\n}\n\n/* Toggleable content - dropdown */\n\n#sk-container-id-1 div.sk-toggleable__content {\n  max-height: 0;\n  max-width: 0;\n  overflow: hidden;\n  text-align: left;\n  /* unfitted */\n  background-color: var(--sklearn-color-unfitted-level-0);\n}\n\n#sk-container-id-1 div.sk-toggleable__content.fitted {\n  /* fitted */\n  background-color: var(--sklearn-color-fitted-level-0);\n}\n\n#sk-container-id-1 div.sk-toggleable__content pre {\n  margin: 0.2em;\n  border-radius: 0.25em;\n  color: var(--sklearn-color-text);\n  /* unfitted */\n  background-color: var(--sklearn-color-unfitted-level-0);\n}\n\n#sk-container-id-1 div.sk-toggleable__content.fitted pre {\n  /* unfitted */\n  background-color: var(--sklearn-color-fitted-level-0);\n}\n\n#sk-container-id-1 input.sk-toggleable__control:checked~div.sk-toggleable__content {\n  /* Expand drop-down */\n  max-height: 200px;\n  max-width: 100%;\n  overflow: auto;\n}\n\n#sk-container-id-1 input.sk-toggleable__control:checked~label.sk-toggleable__label-arrow:before {\n  content: \"▾\";\n}\n\n/* Pipeline/ColumnTransformer-specific style */\n\n#sk-container-id-1 div.sk-label input.sk-toggleable__control:checked~label.sk-toggleable__label {\n  color: var(--sklearn-color-text);\n  background-color: var(--sklearn-color-unfitted-level-2);\n}\n\n#sk-container-id-1 div.sk-label.fitted input.sk-toggleable__control:checked~label.sk-toggleable__label {\n  background-color: var(--sklearn-color-fitted-level-2);\n}\n\n/* Estimator-specific style */\n\n/* Colorize estimator box */\n#sk-container-id-1 div.sk-estimator input.sk-toggleable__control:checked~label.sk-toggleable__label {\n  /* unfitted */\n  background-color: var(--sklearn-color-unfitted-level-2);\n}\n\n#sk-container-id-1 div.sk-estimator.fitted input.sk-toggleable__control:checked~label.sk-toggleable__label {\n  /* fitted */\n  background-color: var(--sklearn-color-fitted-level-2);\n}\n\n#sk-container-id-1 div.sk-label label.sk-toggleable__label,\n#sk-container-id-1 div.sk-label label {\n  /* The background is the default theme color */\n  color: var(--sklearn-color-text-on-default-background);\n}\n\n/* On hover, darken the color of the background */\n#sk-container-id-1 div.sk-label:hover label.sk-toggleable__label {\n  color: var(--sklearn-color-text);\n  background-color: var(--sklearn-color-unfitted-level-2);\n}\n\n/* Label box, darken color on hover, fitted */\n#sk-container-id-1 div.sk-label.fitted:hover label.sk-toggleable__label.fitted {\n  color: var(--sklearn-color-text);\n  background-color: var(--sklearn-color-fitted-level-2);\n}\n\n/* Estimator label */\n\n#sk-container-id-1 div.sk-label label {\n  font-family: monospace;\n  font-weight: bold;\n  display: inline-block;\n  line-height: 1.2em;\n}\n\n#sk-container-id-1 div.sk-label-container {\n  text-align: center;\n}\n\n/* Estimator-specific */\n#sk-container-id-1 div.sk-estimator {\n  font-family: monospace;\n  border: 1px dotted var(--sklearn-color-border-box);\n  border-radius: 0.25em;\n  box-sizing: border-box;\n  margin-bottom: 0.5em;\n  /* unfitted */\n  background-color: var(--sklearn-color-unfitted-level-0);\n}\n\n#sk-container-id-1 div.sk-estimator.fitted {\n  /* fitted */\n  background-color: var(--sklearn-color-fitted-level-0);\n}\n\n/* on hover */\n#sk-container-id-1 div.sk-estimator:hover {\n  /* unfitted */\n  background-color: var(--sklearn-color-unfitted-level-2);\n}\n\n#sk-container-id-1 div.sk-estimator.fitted:hover {\n  /* fitted */\n  background-color: var(--sklearn-color-fitted-level-2);\n}\n\n/* Specification for estimator info (e.g. \"i\" and \"?\") */\n\n/* Common style for \"i\" and \"?\" */\n\n.sk-estimator-doc-link,\na:link.sk-estimator-doc-link,\na:visited.sk-estimator-doc-link {\n  float: right;\n  font-size: smaller;\n  line-height: 1em;\n  font-family: monospace;\n  background-color: var(--sklearn-color-background);\n  border-radius: 1em;\n  height: 1em;\n  width: 1em;\n  text-decoration: none !important;\n  margin-left: 1ex;\n  /* unfitted */\n  border: var(--sklearn-color-unfitted-level-1) 1pt solid;\n  color: var(--sklearn-color-unfitted-level-1);\n}\n\n.sk-estimator-doc-link.fitted,\na:link.sk-estimator-doc-link.fitted,\na:visited.sk-estimator-doc-link.fitted {\n  /* fitted */\n  border: var(--sklearn-color-fitted-level-1) 1pt solid;\n  color: var(--sklearn-color-fitted-level-1);\n}\n\n/* On hover */\ndiv.sk-estimator:hover .sk-estimator-doc-link:hover,\n.sk-estimator-doc-link:hover,\ndiv.sk-label-container:hover .sk-estimator-doc-link:hover,\n.sk-estimator-doc-link:hover {\n  /* unfitted */\n  background-color: var(--sklearn-color-unfitted-level-3);\n  color: var(--sklearn-color-background);\n  text-decoration: none;\n}\n\ndiv.sk-estimator.fitted:hover .sk-estimator-doc-link.fitted:hover,\n.sk-estimator-doc-link.fitted:hover,\ndiv.sk-label-container:hover .sk-estimator-doc-link.fitted:hover,\n.sk-estimator-doc-link.fitted:hover {\n  /* fitted */\n  background-color: var(--sklearn-color-fitted-level-3);\n  color: var(--sklearn-color-background);\n  text-decoration: none;\n}\n\n/* Span, style for the box shown on hovering the info icon */\n.sk-estimator-doc-link span {\n  display: none;\n  z-index: 9999;\n  position: relative;\n  font-weight: normal;\n  right: .2ex;\n  padding: .5ex;\n  margin: .5ex;\n  width: min-content;\n  min-width: 20ex;\n  max-width: 50ex;\n  color: var(--sklearn-color-text);\n  box-shadow: 2pt 2pt 4pt #999;\n  /* unfitted */\n  background: var(--sklearn-color-unfitted-level-0);\n  border: .5pt solid var(--sklearn-color-unfitted-level-3);\n}\n\n.sk-estimator-doc-link.fitted span {\n  /* fitted */\n  background: var(--sklearn-color-fitted-level-0);\n  border: var(--sklearn-color-fitted-level-3);\n}\n\n.sk-estimator-doc-link:hover span {\n  display: block;\n}\n\n/* \"?\"-specific style due to the `<a>` HTML tag */\n\n#sk-container-id-1 a.estimator_doc_link {\n  float: right;\n  font-size: 1rem;\n  line-height: 1em;\n  font-family: monospace;\n  background-color: var(--sklearn-color-background);\n  border-radius: 1rem;\n  height: 1rem;\n  width: 1rem;\n  text-decoration: none;\n  /* unfitted */\n  color: var(--sklearn-color-unfitted-level-1);\n  border: var(--sklearn-color-unfitted-level-1) 1pt solid;\n}\n\n#sk-container-id-1 a.estimator_doc_link.fitted {\n  /* fitted */\n  border: var(--sklearn-color-fitted-level-1) 1pt solid;\n  color: var(--sklearn-color-fitted-level-1);\n}\n\n/* On hover */\n#sk-container-id-1 a.estimator_doc_link:hover {\n  /* unfitted */\n  background-color: var(--sklearn-color-unfitted-level-3);\n  color: var(--sklearn-color-background);\n  text-decoration: none;\n}\n\n#sk-container-id-1 a.estimator_doc_link.fitted:hover {\n  /* fitted */\n  background-color: var(--sklearn-color-fitted-level-3);\n}\n</style><div id=\"sk-container-id-1\" class=\"sk-top-container\"><div class=\"sk-text-repr-fallback\"><pre>LinearRegression()</pre><b>In a Jupyter environment, please rerun this cell to show the HTML representation or trust the notebook. <br />On GitHub, the HTML representation is unable to render, please try loading this page with nbviewer.org.</b></div><div class=\"sk-container\" hidden><div class=\"sk-item\"><div class=\"sk-estimator fitted sk-toggleable\"><input class=\"sk-toggleable__control sk-hidden--visually\" id=\"sk-estimator-id-1\" type=\"checkbox\" checked><label for=\"sk-estimator-id-1\" class=\"sk-toggleable__label fitted sk-toggleable__label-arrow fitted\">&nbsp;&nbsp;LinearRegression<a class=\"sk-estimator-doc-link fitted\" rel=\"noreferrer\" target=\"_blank\" href=\"https://scikit-learn.org/1.4/modules/generated/sklearn.linear_model.LinearRegression.html\">?<span>Documentation for LinearRegression</span></a><span class=\"sk-estimator-doc-link fitted\">i<span>Fitted</span></span></label><div class=\"sk-toggleable__content fitted\"><pre>LinearRegression()</pre></div> </div></div></div></div>"
     },
     "execution_count": 18,
     "metadata": {},
     "output_type": "execute_result"
    }
   ],
   "source": [
    "# 선형회귀 모델 훈련\n",
    "lr.fit(X_train, y_train)"
   ],
   "metadata": {
    "collapsed": false,
    "ExecuteTime": {
     "end_time": "2024-03-22T03:31:41.785229Z",
     "start_time": "2024-03-22T03:31:41.780408Z"
    }
   },
   "id": "df95be52034572ac",
   "execution_count": 18
  },
  {
   "cell_type": "code",
   "outputs": [
    {
     "name": "stderr",
     "output_type": "stream",
     "text": [
      "/Library/Frameworks/Python.framework/Versions/3.12/lib/python3.12/site-packages/sklearn/base.py:493: UserWarning: X does not have valid feature names, but LinearRegression was fitted with feature names\n",
      "  warnings.warn(\n"
     ]
    }
   ],
   "source": [
    "# 선형회귀 분석 : 검증(평가)데이터를 넣어서 예측 수행\n",
    "# Numpy 배열로 변경하고 테스트\n",
    "y_predict = lr.predict(np.array(X_test))"
   ],
   "metadata": {
    "collapsed": false,
    "ExecuteTime": {
     "end_time": "2024-03-22T03:31:41.788559Z",
     "start_time": "2024-03-22T03:31:41.785897Z"
    }
   },
   "id": "947f5f6cdd0ffc52",
   "execution_count": 19
  },
  {
   "cell_type": "code",
   "outputs": [
    {
     "data": {
      "text/plain": "array([20.85634258, 25.34513399, 24.87477622, 15.40517818, 17.25878521,\n        1.37578564, 16.22029827, 27.98840501, 30.68773757, 25.68109167,\n       17.46440735, 30.24362049, 12.325743  , 30.93000623, 28.80011896,\n       21.17491684, 21.96172153, 14.70652855, 19.98901515, 16.46442828,\n       27.1748453 , 39.73477785, 19.32089996, 21.34852917, 20.66179818,\n       19.96306603, 28.32924465, 35.18517632, 14.9833051 , 17.75151951,\n       22.59634217, 25.94871002, 33.50939696, 41.38942124, 20.33522751,\n       18.67502072, 29.20213411, 14.03729142, 23.69956778, 37.6967535 ,\n       30.38826344, 24.93527128, 36.84577969, 24.49555952, 19.30866144,\n       25.26571974, 17.4330132 , 24.54448455, 13.53904998, 35.94603941,\n       17.59153933, 38.94482611, 23.03954046, 19.80624891, 14.75383844,\n       19.13836794, 23.078889  , 10.80082269, 30.26654672, 33.56729506,\n       13.29004009, 20.82585906, 25.0924484 , 19.44142049, 12.30823236,\n       23.07776074, 32.6586873 , 23.79001095, 13.71065903, 22.50675982,\n       25.48384521, 17.71696019, 22.63841369,  7.72257769, 20.91111978,\n       31.48293838, 23.40036312, 21.55900058, 35.81271764, 21.95813617,\n       16.80308194, 33.74741036, 18.25469544, 24.63205839, 26.85074558,\n       18.72384707, 16.25179441, 18.30152887, 27.80676713, 36.14087055,\n        8.89749806, 25.13584259, 31.2649575 , 20.20066263, 18.32336357,\n       18.65618023, 40.21236529, 21.87218283, 11.61917606, 25.66732505,\n       21.99632185, 18.33886206, 36.00585858, 15.6817324 , 23.58220249,\n       23.2060937 , 24.8358472 , 21.53121444, 26.57753699, -5.78428022,\n       16.22001817, 10.50052919, 12.90655091, 13.23602111, 12.04262285,\n       16.90685467, 20.08327447, 17.97302529, 17.04901043, 35.43932687,\n       33.92318611, 16.25474322, 42.47592283, 28.20979374, 33.4821308 ,\n       23.39988149, 35.22130586, 16.33617023,  6.76547831, 21.53597955,\n       35.14057427, 26.25315704, 26.08588584, 43.83298917, 39.8248125 ,\n       23.87382109, 20.02403131, 13.8581498 ,  6.26999821, 24.83866533,\n        3.09647498, 29.62102226, 15.98698536, 11.15870773,  7.88133792,\n       25.57869232, 25.53853039, 23.92677357, 22.5460906 , 13.14512033,\n       24.97530464, 29.78443003])"
     },
     "execution_count": 20,
     "metadata": {},
     "output_type": "execute_result"
    }
   ],
   "source": [
    "# 선형회귀 모델로 예측한 값\n",
    "y_predict"
   ],
   "metadata": {
    "collapsed": false,
    "ExecuteTime": {
     "end_time": "2024-03-22T03:31:41.791850Z",
     "start_time": "2024-03-22T03:31:41.789179Z"
    }
   },
   "id": "5845312ed5b408",
   "execution_count": 20
  },
  {
   "cell_type": "code",
   "outputs": [
    {
     "name": "stdout",
     "output_type": "stream",
     "text": [
      "MSE = 25.950898465649618884754090686329\n",
      "RMSE = 5.094202436657737\n",
      "R^2(Variance Score) 0.732109300437499\n"
     ]
    }
   ],
   "source": [
    "from sklearn.metrics import r2_score\n",
    "\n",
    "# MSE(Mean Squared Error)제곱평균오차로 평가\n",
    "mse = mean_squared_error(y_test, y_predict)\n",
    "rmse = np.sqrt(mse)  # Numpy 에 있는 squreroot 함수\n",
    "\n",
    "r2 = r2_score(y_test, y_predict)\n",
    "\n",
    "print(f'MSE = {mse:.30f}')  # 거의 오차가 없음.\n",
    "print(f'RMSE = {rmse}')\n",
    "print(f'R^2(Variance Score) {r2}')"
   ],
   "metadata": {
    "collapsed": false,
    "ExecuteTime": {
     "end_time": "2024-03-22T03:31:41.795557Z",
     "start_time": "2024-03-22T03:31:41.792664Z"
    }
   },
   "id": "f33090c87101f278",
   "execution_count": 21
  },
  {
   "cell_type": "code",
   "outputs": [
    {
     "name": "stdout",
     "output_type": "stream",
     "text": [
      "Y절편값 = 38.58903780475029\n",
      "회귀계수값 = [ -0.1   0.   -0.1   2.8 -19.7   3.4   0.   -1.7   0.3  -0.   -0.8   0.\n",
      "  -0.5]\n"
     ]
    }
   ],
   "source": [
    "# y 절편값, 회귀계수값\n",
    "print(f'Y절편값 = {lr.intercept_}')\n",
    "print(f'회귀계수값 = {np.round(lr.coef_, 1)}')"
   ],
   "metadata": {
    "collapsed": false,
    "ExecuteTime": {
     "end_time": "2024-03-22T03:31:41.797923Z",
     "start_time": "2024-03-22T03:31:41.796167Z"
    }
   },
   "id": "f6839cee6e912579",
   "execution_count": 22
  },
  {
   "cell_type": "code",
   "outputs": [
    {
     "data": {
      "text/plain": "CRIM       -0.15\nZN          0.05\nINDUS      -0.05\nCHAS        2.79\nNOX       -19.66\nRM          3.38\nAGE         0.01\nDIS        -1.73\nRAD         0.31\nTAX        -0.01\nPTRATIO    -0.84\nB           0.01\nLSTAT      -0.55\ndtype: float64"
     },
     "execution_count": 23,
     "metadata": {},
     "output_type": "execute_result"
    }
   ],
   "source": [
    "pd.Series(data=np.round(lr.coef_, 2), index=X.columns)"
   ],
   "metadata": {
    "collapsed": false,
    "ExecuteTime": {
     "end_time": "2024-03-22T03:32:03.577246Z",
     "start_time": "2024-03-22T03:32:03.573568Z"
    }
   },
   "id": "54301e1cf629c6b8",
   "execution_count": 23
  },
  {
   "cell_type": "code",
   "outputs": [],
   "source": [],
   "metadata": {
    "collapsed": false
   },
   "id": "ee4c909775b32012"
  }
 ],
 "metadata": {
  "kernelspec": {
   "display_name": "Python 3",
   "language": "python",
   "name": "python3"
  },
  "language_info": {
   "codemirror_mode": {
    "name": "ipython",
    "version": 2
   },
   "file_extension": ".py",
   "mimetype": "text/x-python",
   "name": "python",
   "nbconvert_exporter": "python",
   "pygments_lexer": "ipython2",
   "version": "2.7.6"
  }
 },
 "nbformat": 4,
 "nbformat_minor": 5
}
